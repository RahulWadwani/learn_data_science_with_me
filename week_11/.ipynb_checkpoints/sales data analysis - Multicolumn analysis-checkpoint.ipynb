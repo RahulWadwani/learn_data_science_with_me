{
 "cells": [
  {
   "cell_type": "code",
   "execution_count": 1,
   "id": "ae2dd9c7",
   "metadata": {},
   "outputs": [
    {
     "data": {
      "text/html": [
       "<div>\n",
       "<style scoped>\n",
       "    .dataframe tbody tr th:only-of-type {\n",
       "        vertical-align: middle;\n",
       "    }\n",
       "\n",
       "    .dataframe tbody tr th {\n",
       "        vertical-align: top;\n",
       "    }\n",
       "\n",
       "    .dataframe thead th {\n",
       "        text-align: right;\n",
       "    }\n",
       "</style>\n",
       "<table border=\"1\" class=\"dataframe\">\n",
       "  <thead>\n",
       "    <tr style=\"text-align: right;\">\n",
       "      <th></th>\n",
       "      <th>order_id</th>\n",
       "      <th>product</th>\n",
       "      <th>quantity</th>\n",
       "      <th>price</th>\n",
       "      <th>total</th>\n",
       "      <th>date</th>\n",
       "      <th>hour</th>\n",
       "      <th>month</th>\n",
       "      <th>year</th>\n",
       "      <th>day</th>\n",
       "      <th>street</th>\n",
       "      <th>city</th>\n",
       "      <th>state</th>\n",
       "      <th>pincode</th>\n",
       "      <th>timezone</th>\n",
       "    </tr>\n",
       "  </thead>\n",
       "  <tbody>\n",
       "    <tr>\n",
       "      <th>0</th>\n",
       "      <td>236670</td>\n",
       "      <td>Wired Headphones</td>\n",
       "      <td>2</td>\n",
       "      <td>11.99</td>\n",
       "      <td>23.98</td>\n",
       "      <td>31</td>\n",
       "      <td>22</td>\n",
       "      <td>8</td>\n",
       "      <td>2019</td>\n",
       "      <td>Sat</td>\n",
       "      <td>359 Spruce St</td>\n",
       "      <td>Seattle</td>\n",
       "      <td>WA</td>\n",
       "      <td>98101</td>\n",
       "      <td>PM</td>\n",
       "    </tr>\n",
       "    <tr>\n",
       "      <th>1</th>\n",
       "      <td>236671</td>\n",
       "      <td>Bose SoundSport Headphones</td>\n",
       "      <td>1</td>\n",
       "      <td>99.99</td>\n",
       "      <td>99.99</td>\n",
       "      <td>15</td>\n",
       "      <td>15</td>\n",
       "      <td>8</td>\n",
       "      <td>2019</td>\n",
       "      <td>Thu</td>\n",
       "      <td>492 Ridge St</td>\n",
       "      <td>Dallas</td>\n",
       "      <td>TX</td>\n",
       "      <td>75001</td>\n",
       "      <td>PM</td>\n",
       "    </tr>\n",
       "    <tr>\n",
       "      <th>2</th>\n",
       "      <td>236672</td>\n",
       "      <td>iPhone</td>\n",
       "      <td>1</td>\n",
       "      <td>700.00</td>\n",
       "      <td>700.00</td>\n",
       "      <td>6</td>\n",
       "      <td>14</td>\n",
       "      <td>8</td>\n",
       "      <td>2019</td>\n",
       "      <td>Tue</td>\n",
       "      <td>149 7th St</td>\n",
       "      <td>Portland</td>\n",
       "      <td>OR</td>\n",
       "      <td>97035</td>\n",
       "      <td>PM</td>\n",
       "    </tr>\n",
       "    <tr>\n",
       "      <th>3</th>\n",
       "      <td>236673</td>\n",
       "      <td>AA Batteries (4-pack)</td>\n",
       "      <td>2</td>\n",
       "      <td>3.84</td>\n",
       "      <td>7.68</td>\n",
       "      <td>29</td>\n",
       "      <td>20</td>\n",
       "      <td>8</td>\n",
       "      <td>2019</td>\n",
       "      <td>Thu</td>\n",
       "      <td>631 2nd St</td>\n",
       "      <td>Los Angeles</td>\n",
       "      <td>CA</td>\n",
       "      <td>90001</td>\n",
       "      <td>PM</td>\n",
       "    </tr>\n",
       "    <tr>\n",
       "      <th>4</th>\n",
       "      <td>236674</td>\n",
       "      <td>AA Batteries (4-pack)</td>\n",
       "      <td>2</td>\n",
       "      <td>3.84</td>\n",
       "      <td>7.68</td>\n",
       "      <td>15</td>\n",
       "      <td>19</td>\n",
       "      <td>8</td>\n",
       "      <td>2019</td>\n",
       "      <td>Thu</td>\n",
       "      <td>736 14th St</td>\n",
       "      <td>New York City</td>\n",
       "      <td>NY</td>\n",
       "      <td>10001</td>\n",
       "      <td>PM</td>\n",
       "    </tr>\n",
       "  </tbody>\n",
       "</table>\n",
       "</div>"
      ],
      "text/plain": [
       "   order_id                     product  quantity   price   total  date  hour  \\\n",
       "0    236670            Wired Headphones         2   11.99   23.98    31    22   \n",
       "1    236671  Bose SoundSport Headphones         1   99.99   99.99    15    15   \n",
       "2    236672                      iPhone         1  700.00  700.00     6    14   \n",
       "3    236673       AA Batteries (4-pack)         2    3.84    7.68    29    20   \n",
       "4    236674       AA Batteries (4-pack)         2    3.84    7.68    15    19   \n",
       "\n",
       "   month  year  day         street           city state  pincode timezone  \n",
       "0      8  2019  Sat  359 Spruce St        Seattle    WA    98101       PM  \n",
       "1      8  2019  Thu   492 Ridge St         Dallas    TX    75001       PM  \n",
       "2      8  2019  Tue     149 7th St       Portland    OR    97035       PM  \n",
       "3      8  2019  Thu     631 2nd St    Los Angeles    CA    90001       PM  \n",
       "4      8  2019  Thu    736 14th St  New York City    NY    10001       PM  "
      ]
     },
     "execution_count": 1,
     "metadata": {},
     "output_type": "execute_result"
    }
   ],
   "source": [
    "import pandas as pd \n",
    "import matplotlib.pyplot as plt\n",
    "df = pd.read_csv('data.csv')\n",
    "df.head()"
   ]
  },
  {
   "cell_type": "markdown",
   "id": "1e00d919",
   "metadata": {},
   "source": [
    "# 1.1) total sale amount collected based on timezone (AM,PM)"
   ]
  },
  {
   "cell_type": "code",
   "execution_count": 8,
   "id": "fd67e313",
   "metadata": {},
   "outputs": [
    {
     "name": "stdout",
     "output_type": "stream",
     "text": [
      "AM 12534603 USD\n",
      "PM 21957432 USD\n"
     ]
    },
    {
     "data": {
      "image/png": "[encoded data removed]",
      "text/plain": [
       "<Figure size 432x288 with 1 Axes>"
      ]
     },
     "metadata": {},
     "output_type": "display_data"
    }
   ],
   "source": [
    "# naive approach \n",
    "x1 = int(df[df['timezone'] == 'AM']['total'].sum())\n",
    "x2 = int(df[df['timezone'] == 'PM']['total'].sum())\n",
    "print('AM',x1,'USD')\n",
    "print('PM',x2,'USD')\n",
    "plt.pie([x1,x2],labels = ['AM','PM'],explode = [0.1,0],shadow =True,autopct ='%1.2f%%')\n",
    "plt.title('Sales Distribution in Timezone')\n",
    "plt.plot()\n",
    "plt.show()"
   ]
  },
  {
   "cell_type": "markdown",
   "id": "7cc760cb",
   "metadata": {},
   "source": [
    " # 1.2) how many quantity iphones are sold so far"
   ]
  },
  {
   "cell_type": "code",
   "execution_count": 9,
   "id": "d30ff17d",
   "metadata": {},
   "outputs": [
    {
     "data": {
      "text/plain": [
       "0"
      ]
     },
     "execution_count": 9,
     "metadata": {},
     "output_type": "execute_result"
    }
   ],
   "source": [
    "df[df['product'] == 'iphone']['quantity'].sum()"
   ]
  },
  {
   "cell_type": "markdown",
   "id": "e1475b66",
   "metadata": {},
   "source": [
    "# 1.3) how much money is collected by selling iphone "
   ]
  },
  {
   "cell_type": "code",
   "execution_count": 28,
   "id": "f6c45288",
   "metadata": {},
   "outputs": [
    {
     "data": {
      "text/plain": [
       "4794300.0"
      ]
     },
     "execution_count": 28,
     "metadata": {},
     "output_type": "execute_result"
    }
   ],
   "source": [
    "df[df['product']=='iPhone']['total'].sum()"
   ]
  },
  {
   "cell_type": "code",
   "execution_count": 32,
   "id": "be31bed4",
   "metadata": {},
   "outputs": [
    {
     "name": "stdout",
     "output_type": "stream",
     "text": [
      "['AA Batteries (4-pack)', '20in Monitor', 'iPhone', 'Apple Airpods Headphones', 'Google Phone', 'Flatscreen TV', 'Vareebadd Phone', 'Lightning Charging Cable', 'ThinkPad Laptop', '27in 4K Gaming Monitor', 'LG Dryer', 'LG Washing Machine', 'USB-C Charging Cable', '27in FHD Monitor', 'Wired Headphones', '34in Ultrawide Monitor', 'AAA Batteries (4-pack)', 'Bose SoundSport Headphones', 'Macbook Pro Laptop']\n"
     ]
    }
   ],
   "source": [
    "prod = []\n",
    "for i in df['product']:\n",
    "    prod.append(i)\n",
    "prod = list(set(prod))\n",
    "print(prod)"
   ]
  },
  {
   "cell_type": "markdown",
   "id": "7525f7c9",
   "metadata": {},
   "source": [
    "# 1.4) iphone selling(quantity) ratio based on timezone"
   ]
  },
  {
   "cell_type": "code",
   "execution_count": 30,
   "id": "58f23d5c",
   "metadata": {},
   "outputs": [
    {
     "data": {
      "image/png": "[encoded data removed]",
      "text/plain": [
       "<Figure size 432x288 with 1 Axes>"
      ]
     },
     "metadata": {},
     "output_type": "display_data"
    }
   ],
   "source": [
    "df_pr = df[df['product']== 'iPhone']\n",
    "x1 =(df_pr[df_pr['timezone'] == 'AM']['quantity'].sum())\n",
    "x2 = (df_pr[df_pr['timezone'] == 'PM']['quantity'].sum())\n",
    "plt.pie([x1,x2],labels = ['AM','PM'],explode = [0.1,0],shadow =True,autopct ='%1.2f%%')\n",
    "plt.title('Sales Distribution in timezone of iphone')\n",
    "plt.plot()\n",
    "plt.show()"
   ]
  },
  {
   "cell_type": "markdown",
   "id": "2657d2fe",
   "metadata": {},
   "source": [
    "# 1.5) macbook selling quantity based on hour "
   ]
  },
  {
   "cell_type": "code",
   "execution_count": 36,
   "id": "c895ec72",
   "metadata": {},
   "outputs": [
    {
     "data": {
      "image/png": "[encoded data removed]",
      "text/plain": [
       "<Figure size 432x288 with 1 Axes>"
      ]
     },
     "metadata": {
      "needs_background": "light"
     },
     "output_type": "display_data"
    }
   ],
   "source": [
    "df_pr = df[df['product'] == 'Macbook Pro Laptop']\n",
    "df_pr.groupby('hour').sum()['quantity'].sort_values(ascending = False).plot(kind='bar')\n",
    "plt.show()"
   ]
  },
  {
   "cell_type": "markdown",
   "id": "037e568b",
   "metadata": {},
   "source": [
    "# 1.6) total collection column from each states of iphone "
   ]
  },
  {
   "cell_type": "code",
   "execution_count": 57,
   "id": "27aa7707",
   "metadata": {},
   "outputs": [
    {
     "data": {
      "image/png": "[encoded data removed]",
      "text/plain": [
       "<Figure size 432x288 with 1 Axes>"
      ]
     },
     "metadata": {
      "needs_background": "light"
     },
     "output_type": "display_data"
    }
   ],
   "source": [
    "df_pr = df[df['product']=='iPhone']\n",
    "df_pr.groupby('state').sum()['total'].sort_values(ascending = True).plot(kind='bar')\n",
    "plt.show()"
   ]
  },
  {
   "cell_type": "markdown",
   "id": "b006e163",
   "metadata": {},
   "source": [
    "#  1.7 ) total collection column from each city of iphone "
   ]
  },
  {
   "cell_type": "code",
   "execution_count": 58,
   "id": "49424099",
   "metadata": {},
   "outputs": [
    {
     "data": {
      "image/png": "[encoded data removed]",
      "text/plain": [
       "<Figure size 432x288 with 1 Axes>"
      ]
     },
     "metadata": {
      "needs_background": "light"
     },
     "output_type": "display_data"
    }
   ],
   "source": [
    "df_pr = df[df['product']=='iPhone']\n",
    "df_pr.groupby('city').sum()['total'].sort_values(ascending = True).plot(kind='bar')\n",
    "plt.show()"
   ]
  },
  {
   "cell_type": "markdown",
   "id": "5b8fc9df",
   "metadata": {},
   "source": [
    "# 1.8) total collection column from pincode of iphone "
   ]
  },
  {
   "cell_type": "code",
   "execution_count": 59,
   "id": "2e394be4",
   "metadata": {},
   "outputs": [
    {
     "data": {
      "image/png": "[encoded data removed]",
      "text/plain": [
       "<Figure size 432x288 with 1 Axes>"
      ]
     },
     "metadata": {
      "needs_background": "light"
     },
     "output_type": "display_data"
    }
   ],
   "source": [
    "df_pr = df[df['product']=='iPhone']\n",
    "df_pr.groupby('pincode').sum()['total'].sort_values(ascending = True).plot(kind='bar')\n",
    "plt.show()"
   ]
  },
  {
   "cell_type": "code",
   "execution_count": 60,
   "id": "1ac40ff1",
   "metadata": {},
   "outputs": [],
   "source": [
    "# 1.9) which product is sold most number of time "
   ]
  },
  {
   "cell_type": "code",
   "execution_count": 61,
   "id": "8eba76d8",
   "metadata": {},
   "outputs": [
    {
     "data": {
      "text/plain": [
       "product\n",
       "20in Monitor                   4129\n",
       "27in 4K Gaming Monitor         6244\n",
       "27in FHD Monitor               7550\n",
       "34in Ultrawide Monitor         6199\n",
       "AA Batteries (4-pack)         27635\n",
       "AAA Batteries (4-pack)        31017\n",
       "Apple Airpods Headphones      15661\n",
       "Bose SoundSport Headphones    13457\n",
       "Flatscreen TV                  4819\n",
       "Google Phone                   5532\n",
       "LG Dryer                        646\n",
       "LG Washing Machine              666\n",
       "Lightning Charging Cable      23217\n",
       "Macbook Pro Laptop             4728\n",
       "ThinkPad Laptop                4130\n",
       "USB-C Charging Cable          23975\n",
       "Vareebadd Phone                2068\n",
       "Wired Headphones              20557\n",
       "iPhone                         6849\n",
       "Name: quantity, dtype: int64"
      ]
     },
     "execution_count": 61,
     "metadata": {},
     "output_type": "execute_result"
    }
   ],
   "source": [
    "df.groupby('product').sum()['quantity']\n",
    "\n"
   ]
  }
 ],
 "metadata": {
  "kernelspec": {
   "display_name": "Python 3 (ipykernel)",
   "language": "python",
   "name": "python3"
  },
  "language_info": {
   "codemirror_mode": {
    "name": "ipython",
    "version": 3
   },
   "file_extension": ".py",
   "mimetype": "text/x-python",
   "name": "python",
   "nbconvert_exporter": "python",
   "pygments_lexer": "ipython3",
   "version": "3.9.6"
  }
 },
 "nbformat": 4,
 "nbformat_minor": 5
}

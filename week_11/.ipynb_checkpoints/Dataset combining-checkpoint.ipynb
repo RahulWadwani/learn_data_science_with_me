{
 "cells": [
  {
   "cell_type": "code",
   "execution_count": 1,
   "id": "fd2f8f91",
   "metadata": {},
   "outputs": [],
   "source": [
    "import pandas as pd \n",
    "import numpy as np \n",
    "import os "
   ]
  },
  {
   "cell_type": "markdown",
   "id": "80780dc9",
   "metadata": {},
   "source": [
    "# 1) approach 1 | using dataframes"
   ]
  },
  {
   "cell_type": "code",
   "execution_count": 66,
   "id": "1732cc24",
   "metadata": {},
   "outputs": [],
   "source": [
    "df = pd.DataFrame()\n",
    "\n",
    "for i in os.listdir('sales/'):\n",
    "    \n",
    "    file_path = 'sales/'+i\n",
    "    month = i.split('.')[0]\n",
    "    \n",
    "    df_ = pd.read_csv(file_path)\n",
    "    month_column = df_.shape[0] * [month]\n",
    "    df_['month'] = month_column\n",
    "    df = pd.concat([df,df_])"
   ]
  },
  {
   "cell_type": "markdown",
   "id": "6ee46791",
   "metadata": {},
   "source": [
    "# 2) approach 1|| using array"
   ]
  },
  {
   "cell_type": "code",
   "execution_count": 65,
   "id": "463eb1a3",
   "metadata": {},
   "outputs": [],
   "source": [
    "data = []\n",
    "\n",
    "for i in os.listdir('sales'):\n",
    "    \n",
    "    file_path = 'sales/' + i \n",
    "    month = i.split('.')[0]\n",
    "    \n",
    "    df_ = pd.read_csv(file_path).values\n",
    "    month_column = np.array(df_.shape[0] * [month])\n",
    "    month_column = np.reshape(month_column,(df_.shape[0],1))\n",
    "    df_ = np.hstack([df_,month_column])\n",
    "    data.append(df_)\n",
    "    \n",
    "df = np.vstack(data)\n",
    "\n",
    "\n",
    "    "
   ]
  }
 ],
 "metadata": {
  "kernelspec": {
   "display_name": "Python 3 (ipykernel)",
   "language": "python",
   "name": "python3"
  },
  "language_info": {
   "codemirror_mode": {
    "name": "ipython",
    "version": 3
   },
   "file_extension": ".py",
   "mimetype": "text/x-python",
   "name": "python",
   "nbconvert_exporter": "python",
   "pygments_lexer": "ipython3",
   "version": "3.9.6"
  }
 },
 "nbformat": 4,
 "nbformat_minor": 5
}

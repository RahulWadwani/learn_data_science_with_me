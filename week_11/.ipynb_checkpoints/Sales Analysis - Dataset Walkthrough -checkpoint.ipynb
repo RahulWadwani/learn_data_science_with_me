{
 "cells": [
  {
   "cell_type": "code",
   "execution_count": null,
   "id": "f5322f00",
   "metadata": {},
   "outputs": [],
   "source": [
    "import pandas as pd\n",
    "import numpy as np \n",
    "import datetime\n",
    "df = pd.read_csv('sales.csv')\n",
    "df.head()"
   ]
  },
  {
   "cell_type": "markdown",
   "id": "56b552c6",
   "metadata": {},
   "source": [
    "### 1.checking null values "
   ]
  },
  {
   "cell_type": "code",
   "execution_count": null,
   "id": "a848c7e9",
   "metadata": {},
   "outputs": [],
   "source": [
    "df.isnull().sum()"
   ]
  },
  {
   "cell_type": "markdown",
   "id": "a73de48b",
   "metadata": {},
   "source": [
    "### 2. Adding total billing amount columns \n",
    "#### 2.1. Removing duplicate rows with uncertain  values "
   ]
  },
  {
   "cell_type": "code",
   "execution_count": 2,
   "id": "7d9a7b74",
   "metadata": {},
   "outputs": [
    {
     "ename": "NameError",
     "evalue": "name 'df' is not defined",
     "output_type": "error",
     "traceback": [
      "\u001b[1;31m---------------------------------------------------------------------------\u001b[0m",
      "\u001b[1;31mNameError\u001b[0m                                 Traceback (most recent call last)",
      "Input \u001b[1;32mIn [2]\u001b[0m, in \u001b[0;36m<module>\u001b[1;34m\u001b[0m\n\u001b[0;32m      1\u001b[0m data \u001b[38;5;241m=\u001b[39m []\n\u001b[0;32m      2\u001b[0m c \u001b[38;5;241m=\u001b[39m \u001b[38;5;241m0\u001b[39m\n\u001b[1;32m----> 3\u001b[0m \u001b[38;5;28;01mfor\u001b[39;00m i \u001b[38;5;129;01min\u001b[39;00m \u001b[43mdf\u001b[49m\u001b[38;5;241m.\u001b[39mvalues:\n\u001b[0;32m      4\u001b[0m     \u001b[38;5;28;01mif\u001b[39;00m (i[\u001b[38;5;241m2\u001b[39m] \u001b[38;5;241m!=\u001b[39m \u001b[38;5;124m'\u001b[39m\u001b[38;5;124mQuantity ordered\u001b[39m\u001b[38;5;124m'\u001b[39m):\n\u001b[0;32m      5\u001b[0m         data\u001b[38;5;241m.\u001b[39mappend\n",
      "\u001b[1;31mNameError\u001b[0m: name 'df' is not defined"
     ]
    }
   ],
   "source": [
    "data = []\n",
    "c = 0\n",
    "for i in df.values:\n",
    "    if (i[2] != 'Quantity ordered'):\n",
    "        data.append(i)\n",
    "data = pd.DataFrame(data,columns = ('order_id','product','quantity' ,'price','date','address','month'))\n",
    "data.head()"
   ]
  },
  {
   "cell_type": "markdown",
   "id": "fedf8a03",
   "metadata": {},
   "source": [
    "#### 2.2 creating total billing amount column "
   ]
  },
  {
   "cell_type": "code",
   "execution_count": null,
   "id": "6c8c3e91",
   "metadata": {},
   "outputs": [],
   "source": [
    "total = []\n",
    "for i in data.values:\n",
    "    qn = i[2]\n",
    "    pr = i[3]\n",
    "    total.append(round(float(qn)*float(pr),2))\n",
    "data['total'] = total\n",
    "data.head()"
   ]
  },
  {
   "cell_type": "markdown",
   "id": "6120e802",
   "metadata": {},
   "source": [
    "### 3. preprocessing date\n",
    "#### 3.1 adding date and time column"
   ]
  },
  {
   "cell_type": "code",
   "execution_count": null,
   "id": "7410eb05",
   "metadata": {},
   "outputs": [],
   "source": [
    "date =[]\n",
    "time = []\n",
    "for i in data['date']:\n",
    "    date.append(i.split(' ')[0])\n",
    "    time.append(i.split(' ')[1])\n",
    "data['time'] = time_\n",
    "data['date'] = date_\n",
    "data.head()\n",
    "    "
   ]
  },
  {
   "cell_type": "markdown",
   "id": "02c7fb98",
   "metadata": {},
   "source": [
    "#### 3.2) Adding hour"
   ]
  },
  {
   "cell_type": "code",
   "execution_count": null,
   "id": "ba7de300",
   "metadata": {},
   "outputs": [],
   "source": [
    "hour = []\n",
    "for i in data['time']:\n",
    "    hour.append(int(i.split(':')[0])\n",
    "data['hour'] = hour\n",
    "data.head()\n",
    "    "
   ]
  },
  {
   "cell_type": "markdown",
   "id": "2b9993cb",
   "metadata": {},
   "source": [
    "#### 3.3) day month and year column "
   ]
  },
  {
   "cell_type": "code",
   "execution_count": null,
   "id": "0619d553",
   "metadata": {},
   "outputs": [],
   "source": [
    "date = []\n",
    "month = []\n",
    "year = []\n",
    "for i in data['date']:\n",
    "    month.append(i.split('/')[0])\n",
    "    date.append(i.split('/')[1])\n",
    "    year.append(i.split('/')[2])\n",
    "data['date_'] = date\n",
    "data['month_'] = month \n",
    "data['year_'] = year\n",
    "data.head()\n",
    "    "
   ]
  },
  {
   "cell_type": "markdown",
   "id": "aef8c337",
   "metadata": {},
   "source": [
    "#### 3.4) Adding day column (ex.mon,tues)"
   ]
  },
  {
   "cell_type": "code",
   "execution_count": null,
   "id": "4d4fbd6e",
   "metadata": {},
   "outputs": [],
   "source": [
    "day = []\n",
    "for i in data['date']:\n",
    "    month = (i.split('/')[0])\n",
    "    year = (i.split('/')[2])\n",
    "    date = (i.split('/')[1])\n",
    "    day.append(datetime.date(year,month,date).strftime('%a'))\n",
    "data['day'] = day\n",
    "data.head()"
   ]
  }
 ],
 "metadata": {
  "kernelspec": {
   "display_name": "Python 3 (ipykernel)",
   "language": "python",
   "name": "python3"
  },
  "language_info": {
   "codemirror_mode": {
    "name": "ipython",
    "version": 3
   },
   "file_extension": ".py",
   "mimetype": "text/x-python",
   "name": "python",
   "nbconvert_exporter": "python",
   "pygments_lexer": "ipython3",
   "version": "3.9.6"
  }
 },
 "nbformat": 4,
 "nbformat_minor": 5
}

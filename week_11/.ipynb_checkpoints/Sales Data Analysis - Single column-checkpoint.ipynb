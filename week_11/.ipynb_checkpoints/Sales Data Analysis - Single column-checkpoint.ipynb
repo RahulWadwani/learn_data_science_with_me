{
 "cells": [
  {
   "cell_type": "code",
   "execution_count": 4,
   "id": "86e451f5",
   "metadata": {},
   "outputs": [],
   "source": [
    "import pandas as pd \n",
    "import matplotlib.pyplot as plt"
   ]
  },
  {
   "cell_type": "code",
   "execution_count": null,
   "id": "b1044fdd",
   "metadata": {},
   "outputs": [],
   "source": [
    "df = pd.read_csv('data.csv')\n",
    "df.head()"
   ]
  },
  {
   "cell_type": "markdown",
   "id": "caa81394",
   "metadata": {},
   "source": [
    "# 1.1) Analysing on pricing on each product"
   ]
  },
  {
   "cell_type": "code",
   "execution_count": null,
   "id": "5f3667a5",
   "metadata": {},
   "outputs": [],
   "source": [
    "print('Average product price : ',int(df['price'].mean()),'USD')\n",
    "print('minimum price         : ',df['price'].min(),'USD')\n",
    "print('minimum price         : ',df['price'].max(),'USD')\n"
   ]
  },
  {
   "cell_type": "code",
   "execution_count": null,
   "id": "79660a90",
   "metadata": {},
   "outputs": [],
   "source": [
    "price =[]\n",
    "freq = []\n",
    "for i in df['price'].nunique():\n",
    "    price.append(i,len(df[df['price'] == i]))\n",
    "df_pr =pd.DataFrame(price,columns= ('price','freq'))\n",
    "pr = list(df_pr.sortvalues(by='price')['price'])\n",
    "fr = list(df_pr.sortvalues(by='price')['freq'])\n"
   ]
  },
  {
   "cell_type": "code",
   "execution_count": null,
   "id": "c28c2203",
   "metadata": {},
   "outputs": [],
   "source": [
    "pri = []\n",
    "for i in pr:\n",
    "    pri.append(str(i))\n",
    "plt.bar(pri,fr)\n",
    "fig,axs = plt.subplots(figsize = (6,4))\n",
    "axs.hist(df['price'],bins= 5)\n",
    "plt.show(\n",
    ")\n",
    "    "
   ]
  },
  {
   "cell_type": "markdown",
   "id": "91bd6e43",
   "metadata": {},
   "source": [
    "# 1.2) analysing price of each order"
   ]
  },
  {
   "cell_type": "code",
   "execution_count": null,
   "id": "b88ad130",
   "metadata": {},
   "outputs": [],
   "source": [
    "print('minimum price of the product',int(df['total'].min()))\n",
    "print('maximum price of the product',int(df['total'].max()))\n",
    "print('Average price of the product',int(df['total'].mean()))"
   ]
  },
  {
   "cell_type": "code",
   "execution_count": null,
   "id": "651f5b50",
   "metadata": {},
   "outputs": [],
   "source": [
    "price =[]\n",
    "freq = []\n",
    "for i in df['total'].nunique():\n",
    "    price.append(i,len(df[df['total'] == i]))\n",
    "df_pr =pd.DataFrame(price,columns= ('total','freq'))\n",
    "pr = list(df_pr.sortvalues(by='total')['total'])\n",
    "fr = list(df_pr.sortvalues(by='total')['freq'])\n",
    "pri = []\n",
    "for i in pr:\n",
    "    pri.append(str(i))\n",
    "plt.bar(pri,fr)\n",
    "fig,axs = plt.subplots(figsize = (6,4))\n",
    "axs.hist(df['total'],bins= 5)\n",
    "plt.show(\n",
    ")\n",
    "    "
   ]
  },
  {
   "cell_type": "code",
   "execution_count": null,
   "id": "b6aafebc",
   "metadata": {},
   "outputs": [],
   "source": [
    "df['total'].nunique()"
   ]
  },
  {
   "cell_type": "markdown",
   "id": "824665bc",
   "metadata": {},
   "source": [
    "# 1.3) analysis of quantity column"
   ]
  },
  {
   "cell_type": "code",
   "execution_count": null,
   "id": "52674888",
   "metadata": {},
   "outputs": [],
   "source": [
    "df['quantity'].min()\n",
    "df['quantity'].max()\n",
    "df['quantity'].mean()\n",
    "df['quantity'].unique()"
   ]
  },
  {
   "cell_type": "code",
   "execution_count": null,
   "id": "4dfe33af",
   "metadata": {},
   "outputs": [],
   "source": [
    "fig ,axs = plt.subplots(figsize=(6,4))\n",
    "axs.hist(df['quantity'])\n",
    "plt.show()"
   ]
  },
  {
   "cell_type": "code",
   "execution_count": null,
   "id": "1f998d79",
   "metadata": {},
   "outputs": [],
   "source": [
    "qn = []\n",
    "fr = []\n",
    "for i in df['qunatity'].unique():\n",
    "    qn.append(i)\n",
    "    fr.append(len(df[df['quantity'] == i]))\n",
    "plt.pie(fr,labels = qn,autopct ='%1.2f%%')\n",
    "plt.show()"
   ]
  },
  {
   "cell_type": "markdown",
   "id": "d5adafd6",
   "metadata": {},
   "source": [
    "# 1.4) analysis full date column"
   ]
  },
  {
   "cell_type": "code",
   "execution_count": null,
   "id": "40685e10",
   "metadata": {},
   "outputs": [],
   "source": [
    "df['full_date'].describe()"
   ]
  },
  {
   "cell_type": "code",
   "execution_count": null,
   "id": "1248a274",
   "metadata": {},
   "outputs": [],
   "source": [
    "data = []\n",
    "for i in df['full_date'].unique():\n",
    "    data.append(i, df[df['full_date'] == i])\n",
    "data = pd.DataFrame(data,columns = ['date','fr' ])\n",
    "data.sort_values(by='fr',ascending=False).head()\n"
   ]
  },
  {
   "cell_type": "markdown",
   "id": "2bf1f4c4",
   "metadata": {},
   "source": [
    "# 1.5) analysis hourly sales "
   ]
  },
  {
   "cell_type": "code",
   "execution_count": null,
   "id": "fcf78acd",
   "metadata": {},
   "outputs": [],
   "source": [
    "# based on frequency and hour \n",
    "data = []\n",
    "for i in df['hour'].unique():\n",
    "    data.append(i, df[df['hour'] == i])\n",
    "data = pd.DataFrame(data,columns = ['hour','fr' ])\n",
    "hr = list(data.sort_values(by='hour',ascending=True)['hour'])\n",
    "fr = list(data.sort_values(by='hour',ascending=True)['fr'])\n",
    "plt.bar(hr,fr)"
   ]
  },
  {
   "cell_type": "markdown",
   "id": "341a8f1e",
   "metadata": {},
   "source": [
    "# 1.6) analysis date column"
   ]
  },
  {
   "cell_type": "code",
   "execution_count": null,
   "id": "69878095",
   "metadata": {},
   "outputs": [],
   "source": [
    "# based on frequency and hour \n",
    "data = []\n",
    "for i in df['date'].unique():\n",
    "    data.append(i, df[df['date'] == i])\n",
    "data = pd.DataFrame(data,columns = ['date','fr' ])\n",
    "hr = list(data.sort_values(by='date',ascending=True)['date'])\n",
    "fr = list(data.sort_values(by='date',ascending=True)['fr'])\n",
    "plt.bar(hr,fr)"
   ]
  },
  {
   "cell_type": "code",
   "execution_count": null,
   "id": "b7b70fcd",
   "metadata": {},
   "outputs": [],
   "source": [
    "data.sort_values(by='freq',ascending = False).head()"
   ]
  },
  {
   "cell_type": "markdown",
   "id": "06f7366d",
   "metadata": {},
   "source": [
    "# 1.7) analysis month column"
   ]
  },
  {
   "cell_type": "code",
   "execution_count": null,
   "id": "7cce5f88",
   "metadata": {},
   "outputs": [],
   "source": [
    "# sorting based on month\n",
    "data = []\n",
    "for i in df['month'].unique():\n",
    "    data.append(i, df[df['month'] == i])\n",
    "data = pd.DataFrame(data,columns = ['month','fr' ])\n",
    "hr = list(data.sort_values(by='month',ascending=True)['month'])\n",
    "fr = list(data.sort_values(by='month',ascending=True)['fr'])\n",
    "plt.bar(hr,fr)"
   ]
  },
  {
   "cell_type": "code",
   "execution_count": null,
   "id": "2b951a0f",
   "metadata": {},
   "outputs": [],
   "source": [
    "data.sort_values(by='fr',ascending = False).head()"
   ]
  },
  {
   "cell_type": "code",
   "execution_count": null,
   "id": "054a3363",
   "metadata": {},
   "outputs": [],
   "source": [
    "# sorting the column based on frequency\n",
    "mn = list(data.sort_values(by='fr',ascending=True)['month'])\n",
    "fr = list(data.sort_values(by='fr',ascending=True)['fr'])\n",
    "plt.bar(mn,fr)"
   ]
  },
  {
   "cell_type": "markdown",
   "id": "9875e402",
   "metadata": {},
   "source": [
    "# 1.8) analysis year column "
   ]
  },
  {
   "cell_type": "code",
   "execution_count": null,
   "id": "8bc91ab6",
   "metadata": {},
   "outputs": [],
   "source": [
    "y1 = len(df[df['year'] == 2019])\n",
    "y2 = len(df[df['year'] == 2020])\n",
    "print('orders in 2019',y1)\n",
    "print('orders in 2020',y2)"
   ]
  },
  {
   "cell_type": "markdown",
   "id": "ee36a1d3",
   "metadata": {},
   "source": [
    "# 1.9) analysis  day column"
   ]
  },
  {
   "cell_type": "code",
   "execution_count": null,
   "id": "2e55fe1e",
   "metadata": {},
   "outputs": [],
   "source": [
    "# based on frequency and hour \n",
    "data = []\n",
    "for i in df['day'].unique():\n",
    "    data.append(i, df[df['day'] == i])\n",
    "data = pd.DataFrame(data,columns = ['day','fr' ])\n"
   ]
  },
  {
   "cell_type": "markdown",
   "id": "4bfb340a",
   "metadata": {},
   "source": [
    "# 1.10) analysis address column "
   ]
  },
  {
   "cell_type": "code",
   "execution_count": null,
   "id": "31fb2513",
   "metadata": {},
   "outputs": [],
   "source": [
    "df.groupby['address'].size().sort_values(ascending = False).head()"
   ]
  },
  {
   "cell_type": "code",
   "execution_count": null,
   "id": "8b487a5e",
   "metadata": {},
   "outputs": [],
   "source": [
    "df['address'].nunique()"
   ]
  },
  {
   "cell_type": "markdown",
   "id": "109e8658",
   "metadata": {},
   "source": [
    "# 1.11) analysis city column "
   ]
  },
  {
   "cell_type": "code",
   "execution_count": null,
   "id": "f3a835e5",
   "metadata": {},
   "outputs": [],
   "source": [
    "df['city'].nunique()"
   ]
  },
  {
   "cell_type": "code",
   "execution_count": null,
   "id": "52653563",
   "metadata": {},
   "outputs": [],
   "source": [
    "df.groupby('city').size().sort_values(ascending=False)"
   ]
  },
  {
   "cell_type": "code",
   "execution_count": null,
   "id": "7ad7ce70",
   "metadata": {},
   "outputs": [],
   "source": [
    "# based on frequency and hour \n",
    "data = []\n",
    "for i in df['city'].unique():\n",
    "    data.append(i, df[df['city'] == i])\n",
    "data = pd.DataFrame(data,columns = ['city','fr' ])\n",
    "ct = list(data.sort_values(by='fr',ascending = False)['city'])\n",
    "fr = list(data.sort_values(by='fr',ascending = False)['fr'])\n",
    "plt.bar(ct,fr)\n"
   ]
  },
  {
   "cell_type": "code",
   "execution_count": null,
   "id": "37244a01",
   "metadata": {},
   "outputs": [],
   "source": [
    "fig, axs = plt.subplots(figsize = (6,4))\n",
    "axs.bar(ct,fr)\n",
    "plt.show()"
   ]
  },
  {
   "cell_type": "code",
   "execution_count": null,
   "id": "b092b48f",
   "metadata": {},
   "outputs": [],
   "source": []
  },
  {
   "cell_type": "code",
   "execution_count": null,
   "id": "ac436ac7",
   "metadata": {},
   "outputs": [],
   "source": []
  },
  {
   "cell_type": "code",
   "execution_count": null,
   "id": "fc337b60",
   "metadata": {},
   "outputs": [],
   "source": []
  },
  {
   "cell_type": "code",
   "execution_count": null,
   "id": "af658b01",
   "metadata": {},
   "outputs": [],
   "source": []
  },
  {
   "cell_type": "code",
   "execution_count": null,
   "id": "fa147209",
   "metadata": {},
   "outputs": [],
   "source": []
  },
  {
   "cell_type": "code",
   "execution_count": null,
   "id": "852a663d",
   "metadata": {},
   "outputs": [],
   "source": []
  },
  {
   "cell_type": "code",
   "execution_count": null,
   "id": "73255cfb",
   "metadata": {},
   "outputs": [],
   "source": []
  },
  {
   "cell_type": "code",
   "execution_count": null,
   "id": "1b80b70e",
   "metadata": {},
   "outputs": [],
   "source": []
  }
 ],
 "metadata": {
  "kernelspec": {
   "display_name": "Python 3 (ipykernel)",
   "language": "python",
   "name": "python3"
  },
  "language_info": {
   "codemirror_mode": {
    "name": "ipython",
    "version": 3
   },
   "file_extension": ".py",
   "mimetype": "text/x-python",
   "name": "python",
   "nbconvert_exporter": "python",
   "pygments_lexer": "ipython3",
   "version": "3.9.6"
  }
 },
 "nbformat": 4,
 "nbformat_minor": 5
}

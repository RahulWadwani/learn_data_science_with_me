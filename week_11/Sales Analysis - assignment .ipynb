{
 "cells": [
  {
   "cell_type": "code",
   "execution_count": null,
   "id": "8d0229a2",
   "metadata": {},
   "outputs": [],
   "source": [
    "# 1.)  name and order analysis \n",
    "# 1.2) name and maximum quantity per user \n",
    "# 1.3) name and the amount \n",
    "# 1.4) create new of products.csv with additional information "
   ]
  },
  {
   "cell_type": "code",
   "execution_count": null,
   "id": "8227b57e",
   "metadata": {},
   "outputs": [],
   "source": []
  }
 ],
 "metadata": {
  "kernelspec": {
   "display_name": "Python 3 (ipykernel)",
   "language": "python",
   "name": "python3"
  },
  "language_info": {
   "codemirror_mode": {
    "name": "ipython",
    "version": 3
   },
   "file_extension": ".py",
   "mimetype": "text/x-python",
   "name": "python",
   "nbconvert_exporter": "python",
   "pygments_lexer": "ipython3",
   "version": "3.9.6"
  }
 },
 "nbformat": 4,
 "nbformat_minor": 5
}

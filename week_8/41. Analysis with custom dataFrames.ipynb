{
 "cells": [
  {
   "cell_type": "code",
   "execution_count": 1,
   "id": "02fc3bfb",
   "metadata": {},
   "outputs": [],
   "source": [
    "import numpy as np \n",
    "import pandas as pd \n"
   ]
  },
  {
   "cell_type": "code",
   "execution_count": 2,
   "id": "4ac97341",
   "metadata": {},
   "outputs": [],
   "source": [
    "df = pd.read_csv('playstore.csv') "
   ]
  },
  {
   "cell_type": "code",
   "execution_count": 3,
   "id": "cc9019c7",
   "metadata": {},
   "outputs": [
    {
     "data": {
      "text/html": [
       "<div>\n",
       "<style scoped>\n",
       "    .dataframe tbody tr th:only-of-type {\n",
       "        vertical-align: middle;\n",
       "    }\n",
       "\n",
       "    .dataframe tbody tr th {\n",
       "        vertical-align: top;\n",
       "    }\n",
       "\n",
       "    .dataframe thead th {\n",
       "        text-align: right;\n",
       "    }\n",
       "</style>\n",
       "<table border=\"1\" class=\"dataframe\">\n",
       "  <thead>\n",
       "    <tr style=\"text-align: right;\">\n",
       "      <th></th>\n",
       "      <th>app</th>\n",
       "      <th>category</th>\n",
       "      <th>rating</th>\n",
       "      <th>review</th>\n",
       "      <th>size</th>\n",
       "      <th>type</th>\n",
       "      <th>installs</th>\n",
       "      <th>price</th>\n",
       "      <th>content_rating</th>\n",
       "    </tr>\n",
       "  </thead>\n",
       "  <tbody>\n",
       "    <tr>\n",
       "      <th>0</th>\n",
       "      <td>Photo Editor &amp; Candy Camera &amp; Grid &amp; ScrapBook</td>\n",
       "      <td>ART_AND_DESIGN</td>\n",
       "      <td>4.1</td>\n",
       "      <td>159</td>\n",
       "      <td>19</td>\n",
       "      <td>Free</td>\n",
       "      <td>10000</td>\n",
       "      <td>0</td>\n",
       "      <td>Everyone</td>\n",
       "    </tr>\n",
       "    <tr>\n",
       "      <th>1</th>\n",
       "      <td>Coloring book moana</td>\n",
       "      <td>FAMILY</td>\n",
       "      <td>3.9</td>\n",
       "      <td>974</td>\n",
       "      <td>14</td>\n",
       "      <td>Free</td>\n",
       "      <td>500000</td>\n",
       "      <td>0</td>\n",
       "      <td>Everyone</td>\n",
       "    </tr>\n",
       "    <tr>\n",
       "      <th>2</th>\n",
       "      <td>U Launcher Lite – FREE Live Cool Themes, Hide ...</td>\n",
       "      <td>ART_AND_DESIGN</td>\n",
       "      <td>4.7</td>\n",
       "      <td>87510</td>\n",
       "      <td>8</td>\n",
       "      <td>Free</td>\n",
       "      <td>5000000</td>\n",
       "      <td>0</td>\n",
       "      <td>Everyone</td>\n",
       "    </tr>\n",
       "    <tr>\n",
       "      <th>3</th>\n",
       "      <td>Sketch - Draw &amp; Paint</td>\n",
       "      <td>ART_AND_DESIGN</td>\n",
       "      <td>4.5</td>\n",
       "      <td>215644</td>\n",
       "      <td>25</td>\n",
       "      <td>Free</td>\n",
       "      <td>50000000</td>\n",
       "      <td>0</td>\n",
       "      <td>Teen</td>\n",
       "    </tr>\n",
       "    <tr>\n",
       "      <th>4</th>\n",
       "      <td>Pixel Draw - Number Art Coloring Book</td>\n",
       "      <td>ART_AND_DESIGN</td>\n",
       "      <td>4.3</td>\n",
       "      <td>967</td>\n",
       "      <td>2</td>\n",
       "      <td>Free</td>\n",
       "      <td>100000</td>\n",
       "      <td>0</td>\n",
       "      <td>Everyone</td>\n",
       "    </tr>\n",
       "  </tbody>\n",
       "</table>\n",
       "</div>"
      ],
      "text/plain": [
       "                                                 app        category  rating  \\\n",
       "0     Photo Editor & Candy Camera & Grid & ScrapBook  ART_AND_DESIGN     4.1   \n",
       "1                                Coloring book moana          FAMILY     3.9   \n",
       "2  U Launcher Lite – FREE Live Cool Themes, Hide ...  ART_AND_DESIGN     4.7   \n",
       "3                              Sketch - Draw & Paint  ART_AND_DESIGN     4.5   \n",
       "4              Pixel Draw - Number Art Coloring Book  ART_AND_DESIGN     4.3   \n",
       "\n",
       "   review  size  type  installs  price content_rating  \n",
       "0     159    19  Free     10000      0       Everyone  \n",
       "1     974    14  Free    500000      0       Everyone  \n",
       "2   87510     8  Free   5000000      0       Everyone  \n",
       "3  215644    25  Free  50000000      0           Teen  \n",
       "4     967     2  Free    100000      0       Everyone  "
      ]
     },
     "execution_count": 3,
     "metadata": {},
     "output_type": "execute_result"
    }
   ],
   "source": [
    "df.head()"
   ]
  },
  {
   "cell_type": "code",
   "execution_count": 4,
   "id": "333c73e6",
   "metadata": {},
   "outputs": [],
   "source": [
    "for i in df['app']:\n",
    "    if (i=='Nan'):\n",
    "        print(i)"
   ]
  },
  {
   "cell_type": "code",
   "execution_count": 5,
   "id": "c07ab91d",
   "metadata": {},
   "outputs": [
    {
     "data": {
      "text/plain": [
       "app               0\n",
       "category          0\n",
       "rating            0\n",
       "review            0\n",
       "size              0\n",
       "type              0\n",
       "installs          0\n",
       "price             0\n",
       "content_rating    0\n",
       "dtype: int64"
      ]
     },
     "execution_count": 5,
     "metadata": {},
     "output_type": "execute_result"
    }
   ],
   "source": [
    "df.isnull().sum()"
   ]
  },
  {
   "cell_type": "code",
   "execution_count": 6,
   "id": "8e71909f",
   "metadata": {},
   "outputs": [],
   "source": [
    "# what is custom Dataframes?"
   ]
  },
  {
   "cell_type": "markdown",
   "id": "4223b55d",
   "metadata": {},
   "source": [
    "# list top 10 apps based on their reviews with category Family"
   ]
  },
  {
   "cell_type": "code",
   "execution_count": 7,
   "id": "36cd20d5",
   "metadata": {},
   "outputs": [],
   "source": [
    "lis = []\n",
    "for i in df.values:\n",
    "    if i[1] == 'FAMILY':\n",
    "        lis.append([i[0],i[7]])\n",
    "df_pr = pd.DataFrame(lis,columns=['apps','review'])\n"
   ]
  },
  {
   "cell_type": "code",
   "execution_count": 8,
   "id": "fea56725",
   "metadata": {},
   "outputs": [
    {
     "data": {
      "text/html": [
       "<div>\n",
       "<style scoped>\n",
       "    .dataframe tbody tr th:only-of-type {\n",
       "        vertical-align: middle;\n",
       "    }\n",
       "\n",
       "    .dataframe tbody tr th {\n",
       "        vertical-align: top;\n",
       "    }\n",
       "\n",
       "    .dataframe thead th {\n",
       "        text-align: right;\n",
       "    }\n",
       "</style>\n",
       "<table border=\"1\" class=\"dataframe\">\n",
       "  <thead>\n",
       "    <tr style=\"text-align: right;\">\n",
       "      <th></th>\n",
       "      <th>apps</th>\n",
       "      <th>review</th>\n",
       "    </tr>\n",
       "  </thead>\n",
       "  <tbody>\n",
       "    <tr>\n",
       "      <th>573</th>\n",
       "      <td>I Am Rich Pro</td>\n",
       "      <td>29999</td>\n",
       "    </tr>\n",
       "    <tr>\n",
       "      <th>313</th>\n",
       "      <td>most expensive app (H)</td>\n",
       "      <td>29999</td>\n",
       "    </tr>\n",
       "    <tr>\n",
       "      <th>572</th>\n",
       "      <td>I am Rich Plus</td>\n",
       "      <td>29999</td>\n",
       "    </tr>\n",
       "    <tr>\n",
       "      <th>574</th>\n",
       "      <td>I Am Rich</td>\n",
       "      <td>29249</td>\n",
       "    </tr>\n",
       "    <tr>\n",
       "      <th>884</th>\n",
       "      <td>Dr.Dice - Sic bo analyzer</td>\n",
       "      <td>3524</td>\n",
       "    </tr>\n",
       "    <tr>\n",
       "      <th>308</th>\n",
       "      <td>Norwegian For Kids &amp; Babies F</td>\n",
       "      <td>2999</td>\n",
       "    </tr>\n",
       "    <tr>\n",
       "      <th>621</th>\n",
       "      <td>AP Art History Flashcards</td>\n",
       "      <td>2249</td>\n",
       "    </tr>\n",
       "    <tr>\n",
       "      <th>1363</th>\n",
       "      <td>DRAGON QUEST VIII</td>\n",
       "      <td>1499</td>\n",
       "    </tr>\n",
       "    <tr>\n",
       "      <th>1085</th>\n",
       "      <td>USMLE Step 2 CK Flashcards</td>\n",
       "      <td>1499</td>\n",
       "    </tr>\n",
       "    <tr>\n",
       "      <th>1059</th>\n",
       "      <td>boattheory.ch Full 2018</td>\n",
       "      <td>1455</td>\n",
       "    </tr>\n",
       "  </tbody>\n",
       "</table>\n",
       "</div>"
      ],
      "text/plain": [
       "                               apps  review\n",
       "573                   I Am Rich Pro   29999\n",
       "313          most expensive app (H)   29999\n",
       "572                  I am Rich Plus   29999\n",
       "574                       I Am Rich   29249\n",
       "884       Dr.Dice - Sic bo analyzer    3524\n",
       "308   Norwegian For Kids & Babies F    2999\n",
       "621       AP Art History Flashcards    2249\n",
       "1363              DRAGON QUEST VIII    1499\n",
       "1085     USMLE Step 2 CK Flashcards    1499\n",
       "1059        boattheory.ch Full 2018    1455"
      ]
     },
     "execution_count": 8,
     "metadata": {},
     "output_type": "execute_result"
    }
   ],
   "source": [
    "df_pr.sort_values(by = 'review', ascending = False).head(10)"
   ]
  },
  {
   "cell_type": "markdown",
   "id": "075b5d83",
   "metadata": {},
   "source": [
    "# 2) list top 5 most expensive apps in art and design "
   ]
  },
  {
   "cell_type": "code",
   "execution_count": 9,
   "id": "612a6534",
   "metadata": {},
   "outputs": [],
   "source": [
    "lis = []\n",
    "for i in df.values:\n",
    "    if i[1] == 'ART_AND_DESIGN':\n",
    "        lis.append([i[0],i[3]])\n",
    "df_pr2 = pd.DataFrame(lis,columns=['apps','price'])\n"
   ]
  },
  {
   "cell_type": "code",
   "execution_count": 10,
   "id": "89d4d710",
   "metadata": {},
   "outputs": [
    {
     "data": {
      "text/html": [
       "<div>\n",
       "<style scoped>\n",
       "    .dataframe tbody tr th:only-of-type {\n",
       "        vertical-align: middle;\n",
       "    }\n",
       "\n",
       "    .dataframe tbody tr th {\n",
       "        vertical-align: top;\n",
       "    }\n",
       "\n",
       "    .dataframe thead th {\n",
       "        text-align: right;\n",
       "    }\n",
       "</style>\n",
       "<table border=\"1\" class=\"dataframe\">\n",
       "  <thead>\n",
       "    <tr style=\"text-align: right;\">\n",
       "      <th></th>\n",
       "      <th>apps</th>\n",
       "      <th>price</th>\n",
       "    </tr>\n",
       "  </thead>\n",
       "  <tbody>\n",
       "    <tr>\n",
       "      <th>38</th>\n",
       "      <td>Textgram - write on photos</td>\n",
       "      <td>295237</td>\n",
       "    </tr>\n",
       "    <tr>\n",
       "      <th>17</th>\n",
       "      <td>ibis Paint X</td>\n",
       "      <td>224399</td>\n",
       "    </tr>\n",
       "    <tr>\n",
       "      <th>2</th>\n",
       "      <td>Sketch - Draw &amp; Paint</td>\n",
       "      <td>215644</td>\n",
       "    </tr>\n",
       "    <tr>\n",
       "      <th>16</th>\n",
       "      <td>FlipaClip - Cartoon animation</td>\n",
       "      <td>194216</td>\n",
       "    </tr>\n",
       "    <tr>\n",
       "      <th>41</th>\n",
       "      <td>Canva: Poster, banner, card maker &amp; graphic de...</td>\n",
       "      <td>174531</td>\n",
       "    </tr>\n",
       "    <tr>\n",
       "      <th>1</th>\n",
       "      <td>U Launcher Lite – FREE Live Cool Themes, Hide ...</td>\n",
       "      <td>87510</td>\n",
       "    </tr>\n",
       "    <tr>\n",
       "      <th>11</th>\n",
       "      <td>Tattoo Name On My Photo Editor</td>\n",
       "      <td>44829</td>\n",
       "    </tr>\n",
       "    <tr>\n",
       "      <th>6</th>\n",
       "      <td>Infinite Painter</td>\n",
       "      <td>36815</td>\n",
       "    </tr>\n",
       "    <tr>\n",
       "      <th>33</th>\n",
       "      <td>Floor Plan Creator</td>\n",
       "      <td>36639</td>\n",
       "    </tr>\n",
       "    <tr>\n",
       "      <th>23</th>\n",
       "      <td>Colorfit - Drawing &amp; Coloring</td>\n",
       "      <td>20260</td>\n",
       "    </tr>\n",
       "  </tbody>\n",
       "</table>\n",
       "</div>"
      ],
      "text/plain": [
       "                                                 apps   price\n",
       "38                         Textgram - write on photos  295237\n",
       "17                                       ibis Paint X  224399\n",
       "2                               Sketch - Draw & Paint  215644\n",
       "16                      FlipaClip - Cartoon animation  194216\n",
       "41  Canva: Poster, banner, card maker & graphic de...  174531\n",
       "1   U Launcher Lite – FREE Live Cool Themes, Hide ...   87510\n",
       "11                     Tattoo Name On My Photo Editor   44829\n",
       "6                                    Infinite Painter   36815\n",
       "33                                 Floor Plan Creator   36639\n",
       "23                      Colorfit - Drawing & Coloring   20260"
      ]
     },
     "execution_count": 10,
     "metadata": {},
     "output_type": "execute_result"
    }
   ],
   "source": [
    "df_pr2.sort_values(by = 'price',ascending = False).head(10)"
   ]
  },
  {
   "cell_type": "markdown",
   "id": "4c844177",
   "metadata": {},
   "source": [
    "# 3) average price of an application in art and design "
   ]
  },
  {
   "cell_type": "code",
   "execution_count": 11,
   "id": "8fb5b9d9",
   "metadata": {},
   "outputs": [
    {
     "data": {
      "text/plain": [
       "23499.85"
      ]
     },
     "execution_count": 11,
     "metadata": {},
     "output_type": "execute_result"
    }
   ],
   "source": [
    "lis = []\n",
    "for i in df.values:\n",
    "    if i[1] == 'ART_AND_DESIGN':\n",
    "        lis.append([i[0],i[3]])\n",
    "df_pr = pd.DataFrame(lis,columns=['apps','price'])\n",
    "df_pr['price'].mean()\n"
   ]
  },
  {
   "cell_type": "markdown",
   "id": "4994b3e2",
   "metadata": {},
   "source": [
    "# 4) Average price of in every content rating "
   ]
  },
  {
   "cell_type": "code",
   "execution_count": 12,
   "id": "e19ae32e",
   "metadata": {},
   "outputs": [
    {
     "data": {
      "text/plain": [
       "array(['Everyone', 'Teen', 'Everyone 10+', 'Mature 17+',\n",
       "       'Adults only 18+', 'Unrated'], dtype=object)"
      ]
     },
     "execution_count": 12,
     "metadata": {},
     "output_type": "execute_result"
    }
   ],
   "source": [
    "df['content_rating'].unique()"
   ]
  },
  {
   "cell_type": "code",
   "execution_count": 13,
   "id": "ace180d6",
   "metadata": {},
   "outputs": [
    {
     "name": "stdout",
     "output_type": "stream",
     "text": [
      "Everyone : 92\n",
      "Teen : 86\n",
      "Everyone 10+ : 85\n",
      "Mature 17+ : 82\n",
      "Adults only 18+ : 82\n",
      "Unrated : 82\n"
     ]
    }
   ],
   "source": [
    "lis = []\n",
    "for name in df['content_rating'].unique():\n",
    "    for i in df.values:\n",
    "        if i[8] == name:\n",
    "            lis.append([i[0],i[7]])\n",
    "    df_pr = pd.DataFrame(lis,columns=['content_rating','price'])\n",
    "    print(name,':',int(df_pr['price'].mean()))\n"
   ]
  },
  {
   "cell_type": "markdown",
   "id": "1982ef76",
   "metadata": {},
   "source": [
    "# 5) Average price of application in each category"
   ]
  },
  {
   "cell_type": "code",
   "execution_count": 14,
   "id": "28f0d7b5",
   "metadata": {},
   "outputs": [
    {
     "name": "stdout",
     "output_type": "stream",
     "text": [
      "MAPS_AND_NAVIGATION : 15\n"
     ]
    }
   ],
   "source": [
    "for name in df['category'].unique():\n",
    "    lis = []\n",
    "    for i in df.values:\n",
    "        if i[1] == name:\n",
    "            lis.append([i[0],i[7]])\n",
    "    df_pr = pd.DataFrame(lis,columns=['category','price'])\n",
    "print(name,':',int(df_pr['price'].mean()))\n"
   ]
  },
  {
   "cell_type": "markdown",
   "id": "548dfcf7",
   "metadata": {},
   "source": [
    "# 6) sort the categories based on their average price of application"
   ]
  },
  {
   "cell_type": "code",
   "execution_count": 16,
   "id": "0b1ebb2a",
   "metadata": {},
   "outputs": [],
   "source": [
    "data = []\n",
    "for name in df['category'].unique():\n",
    "    lis = []\n",
    "    for i in df.values:\n",
    "        if i[1] == name:\n",
    "            lis.append([i[0],i[7]])\n",
    "    df_pr = pd.DataFrame(lis,columns=['category','price'])\n",
    "    data.append([name,int(df_pr['price'].mean())])\n",
    "df_pr = pd.DataFrame(data,columns = ['name','price'])"
   ]
  },
  {
   "cell_type": "code",
   "execution_count": 17,
   "id": "1ff199bc",
   "metadata": {},
   "outputs": [
    {
     "data": {
      "text/html": [
       "<div>\n",
       "<style scoped>\n",
       "    .dataframe tbody tr th:only-of-type {\n",
       "        vertical-align: middle;\n",
       "    }\n",
       "\n",
       "    .dataframe tbody tr th {\n",
       "        vertical-align: top;\n",
       "    }\n",
       "\n",
       "    .dataframe thead th {\n",
       "        text-align: right;\n",
       "    }\n",
       "</style>\n",
       "<table border=\"1\" class=\"dataframe\">\n",
       "  <thead>\n",
       "    <tr style=\"text-align: right;\">\n",
       "      <th></th>\n",
       "      <th>name</th>\n",
       "      <th>price</th>\n",
       "    </tr>\n",
       "  </thead>\n",
       "  <tbody>\n",
       "    <tr>\n",
       "      <th>13</th>\n",
       "      <td>FINANCE</td>\n",
       "      <td>630</td>\n",
       "    </tr>\n",
       "    <tr>\n",
       "      <th>19</th>\n",
       "      <td>LIFESTYLE</td>\n",
       "      <td>479</td>\n",
       "    </tr>\n",
       "    <tr>\n",
       "      <th>16</th>\n",
       "      <td>MEDICAL</td>\n",
       "      <td>186</td>\n",
       "    </tr>\n",
       "    <tr>\n",
       "      <th>12</th>\n",
       "      <td>EVENTS</td>\n",
       "      <td>128</td>\n",
       "    </tr>\n",
       "    <tr>\n",
       "      <th>1</th>\n",
       "      <td>FAMILY</td>\n",
       "      <td>94</td>\n",
       "    </tr>\n",
       "    <tr>\n",
       "      <th>28</th>\n",
       "      <td>PRODUCTIVITY</td>\n",
       "      <td>50</td>\n",
       "    </tr>\n",
       "    <tr>\n",
       "      <th>4</th>\n",
       "      <td>BOOKS_AND_REFERENCE</td>\n",
       "      <td>40</td>\n",
       "    </tr>\n",
       "    <tr>\n",
       "      <th>5</th>\n",
       "      <td>BUSINESS</td>\n",
       "      <td>31</td>\n",
       "    </tr>\n",
       "    <tr>\n",
       "      <th>25</th>\n",
       "      <td>PHOTOGRAPHY</td>\n",
       "      <td>31</td>\n",
       "    </tr>\n",
       "    <tr>\n",
       "      <th>30</th>\n",
       "      <td>WEATHER</td>\n",
       "      <td>30</td>\n",
       "    </tr>\n",
       "  </tbody>\n",
       "</table>\n",
       "</div>"
      ],
      "text/plain": [
       "                   name  price\n",
       "13              FINANCE    630\n",
       "19            LIFESTYLE    479\n",
       "16              MEDICAL    186\n",
       "12               EVENTS    128\n",
       "1                FAMILY     94\n",
       "28         PRODUCTIVITY     50\n",
       "4   BOOKS_AND_REFERENCE     40\n",
       "5              BUSINESS     31\n",
       "25          PHOTOGRAPHY     31\n",
       "30              WEATHER     30"
      ]
     },
     "execution_count": 17,
     "metadata": {},
     "output_type": "execute_result"
    }
   ],
   "source": [
    "df_pr.sort_values(by='price',ascending = False).head(10)"
   ]
  },
  {
   "cell_type": "code",
   "execution_count": 18,
   "id": "02f8d80c",
   "metadata": {},
   "outputs": [],
   "source": [
    "# 7. Ratio of free vs paid apps in each content rating "
   ]
  },
  {
   "cell_type": "code",
   "execution_count": 51,
   "id": "4185758c",
   "metadata": {},
   "outputs": [
    {
     "name": "stdout",
     "output_type": "stream",
     "text": [
      "Everyone : 91\n",
      "Teen : 94\n",
      "Everyone 10+ : 90\n",
      "Mature 17+ : 95\n",
      "Adults only 18+ : 100\n",
      "Unrated : 100\n"
     ]
    }
   ],
   "source": [
    "for name in df['content_rating'].unique():\n",
    "    f = 0\n",
    "    p = 0\n",
    "    for i in df.values:\n",
    "        if (i[8] == name):\n",
    "            if  (i[5] == 'Free'):\n",
    "                f += 1\n",
    "            else:\n",
    "                p += 1\n",
    "                \n",
    "    print(name,':',int(f/(f+p)*100))"
   ]
  },
  {
   "cell_type": "code",
   "execution_count": 19,
   "id": "19105eb5",
   "metadata": {},
   "outputs": [],
   "source": [
    "# 8. ratio of free vs paid apps in each category "
   ]
  },
  {
   "cell_type": "code",
   "execution_count": 53,
   "id": "8202efbe",
   "metadata": {},
   "outputs": [
    {
     "name": "stdout",
     "output_type": "stream",
     "text": [
      "ART_AND_DESIGN : 95\n",
      "FAMILY : 90\n",
      "AUTO_AND_VEHICLES : 96\n",
      "BEAUTY : 100\n",
      "BOOKS_AND_REFERENCE : 87\n",
      "BUSINESS : 97\n",
      "COMMUNICATION : 91\n",
      "COMICS : 100\n",
      "DATING : 97\n",
      "TOOLS : 90\n",
      "EDUCATION : 98\n",
      "ENTERTAINMENT : 97\n",
      "EVENTS : 98\n",
      "FINANCE : 95\n",
      "FOOD_AND_DRINK : 98\n",
      "HEALTH_AND_FITNESS : 94\n",
      "MEDICAL : 79\n",
      "HOUSE_AND_HOME : 100\n",
      "LIBRARIES_AND_DEMO : 98\n",
      "LIFESTYLE : 94\n",
      "GAME : 91\n",
      "SPORTS : 92\n",
      "VIDEO_PLAYERS : 97\n",
      "SOCIAL : 98\n",
      "SHOPPING : 99\n",
      "PHOTOGRAPHY : 93\n",
      "TRAVEL_AND_LOCAL : 94\n",
      "PERSONALIZATION : 78\n",
      "PRODUCTIVITY : 92\n",
      "PARENTING : 96\n",
      "WEATHER : 89\n",
      "NEWS_AND_MAGAZINES : 99\n",
      "MAPS_AND_NAVIGATION : 96\n"
     ]
    }
   ],
   "source": [
    "for cats in df['category'].unique():\n",
    "    f = 0\n",
    "    p = 0\n",
    "    for i in df.values:\n",
    "        if (i[1] == cats):\n",
    "            if  (i[5] == 'Free'):\n",
    "                f += 1\n",
    "            else:\n",
    "                p += 1\n",
    "                \n",
    "    print(cats,':',int(f/(f+p)*100))"
   ]
  },
  {
   "cell_type": "code",
   "execution_count": 20,
   "id": "90490fbf",
   "metadata": {},
   "outputs": [],
   "source": [
    "#9. top 5 categories in terms of free vs paid app ratio "
   ]
  },
  {
   "cell_type": "code",
   "execution_count": 54,
   "id": "39e3c6b8",
   "metadata": {},
   "outputs": [
    {
     "data": {
      "text/html": [
       "<div>\n",
       "<style scoped>\n",
       "    .dataframe tbody tr th:only-of-type {\n",
       "        vertical-align: middle;\n",
       "    }\n",
       "\n",
       "    .dataframe tbody tr th {\n",
       "        vertical-align: top;\n",
       "    }\n",
       "\n",
       "    .dataframe thead th {\n",
       "        text-align: right;\n",
       "    }\n",
       "</style>\n",
       "<table border=\"1\" class=\"dataframe\">\n",
       "  <thead>\n",
       "    <tr style=\"text-align: right;\">\n",
       "      <th></th>\n",
       "      <th>category</th>\n",
       "      <th>ratio</th>\n",
       "    </tr>\n",
       "  </thead>\n",
       "  <tbody>\n",
       "    <tr>\n",
       "      <th>3</th>\n",
       "      <td>BEAUTY</td>\n",
       "      <td>100</td>\n",
       "    </tr>\n",
       "    <tr>\n",
       "      <th>7</th>\n",
       "      <td>COMICS</td>\n",
       "      <td>100</td>\n",
       "    </tr>\n",
       "    <tr>\n",
       "      <th>17</th>\n",
       "      <td>HOUSE_AND_HOME</td>\n",
       "      <td>100</td>\n",
       "    </tr>\n",
       "    <tr>\n",
       "      <th>31</th>\n",
       "      <td>NEWS_AND_MAGAZINES</td>\n",
       "      <td>99</td>\n",
       "    </tr>\n",
       "    <tr>\n",
       "      <th>24</th>\n",
       "      <td>SHOPPING</td>\n",
       "      <td>99</td>\n",
       "    </tr>\n",
       "  </tbody>\n",
       "</table>\n",
       "</div>"
      ],
      "text/plain": [
       "              category  ratio\n",
       "3               BEAUTY    100\n",
       "7               COMICS    100\n",
       "17      HOUSE_AND_HOME    100\n",
       "31  NEWS_AND_MAGAZINES     99\n",
       "24            SHOPPING     99"
      ]
     },
     "execution_count": 54,
     "metadata": {},
     "output_type": "execute_result"
    }
   ],
   "source": [
    "categories = []\n",
    "for cats in df['category'].unique():\n",
    "    f = 0\n",
    "    p = 0\n",
    "    for i in df.values:\n",
    "        if (i[1] == cats):\n",
    "            if  (i[5] == 'Free'):\n",
    "                f += 1\n",
    "            else:\n",
    "                p += 1\n",
    "                \n",
    "    categories.append([cats,int(f/(f+p)*100)])\n",
    "    \n",
    "categories =pd.DataFrame(categories,columns =['category','ratio'])\n",
    "categories.sort_values(by='ratio',ascending = False).head()"
   ]
  },
  {
   "cell_type": "code",
   "execution_count": 21,
   "id": "55845794",
   "metadata": {},
   "outputs": [],
   "source": [
    "# 10. frequency of apps in each rating "
   ]
  },
  {
   "cell_type": "code",
   "execution_count": 61,
   "id": "b58eff9b",
   "metadata": {},
   "outputs": [
    {
     "name": "stdout",
     "output_type": "stream",
     "text": [
      "4.1 : 622\n",
      "3.9 : 359\n",
      "4.7 : 438\n",
      "4.5 : 849\n",
      "4.3 : 896\n",
      "4.4 : 2352\n",
      "3.8 : 287\n",
      "4.2 : 811\n",
      "4.6 : 683\n",
      "4.0 : 511\n",
      "4.8 : 220\n",
      "4.9 : 86\n",
      "3.6 : 167\n",
      "3.7 : 224\n",
      "3.2 : 62\n",
      "3.3 : 100\n",
      "3.4 : 126\n",
      "3.5 : 156\n",
      "3.1 : 69\n",
      "5.0 : 271\n",
      "3.0 : 81\n",
      "1.9 : 11\n",
      "2.5 : 20\n",
      "2.8 : 40\n",
      "2.7 : 23\n",
      "1.0 : 16\n",
      "2.9 : 45\n",
      "2.6 : 23\n",
      "2.3 : 20\n",
      "2.2 : 14\n",
      "1.7 : 8\n",
      "2.0 : 12\n",
      "1.8 : 8\n",
      "2.4 : 19\n",
      "1.6 : 4\n",
      "2.1 : 8\n",
      "1.4 : 3\n",
      "1.5 : 3\n",
      "1.2 : 1\n"
     ]
    }
   ],
   "source": [
    "for ratings in df['rating'].unique():\n",
    "    count = 0\n",
    "    for i in df.values:\n",
    "        if i[2] == ratings:\n",
    "            count += 1\n",
    "    print(ratings,':',count)"
   ]
  },
  {
   "cell_type": "code",
   "execution_count": 22,
   "id": "cb97f474",
   "metadata": {},
   "outputs": [],
   "source": [
    "# 11. frequency of apps in each rating sorted order by rating "
   ]
  },
  {
   "cell_type": "code",
   "execution_count": 72,
   "id": "f837c0de",
   "metadata": {},
   "outputs": [
    {
     "data": {
      "text/html": [
       "<div>\n",
       "<style scoped>\n",
       "    .dataframe tbody tr th:only-of-type {\n",
       "        vertical-align: middle;\n",
       "    }\n",
       "\n",
       "    .dataframe tbody tr th {\n",
       "        vertical-align: top;\n",
       "    }\n",
       "\n",
       "    .dataframe thead th {\n",
       "        text-align: right;\n",
       "    }\n",
       "</style>\n",
       "<table border=\"1\" class=\"dataframe\">\n",
       "  <thead>\n",
       "    <tr style=\"text-align: right;\">\n",
       "      <th></th>\n",
       "      <th>ratings</th>\n",
       "      <th>freq</th>\n",
       "    </tr>\n",
       "  </thead>\n",
       "  <tbody>\n",
       "    <tr>\n",
       "      <th>19</th>\n",
       "      <td>5.0</td>\n",
       "      <td>271</td>\n",
       "    </tr>\n",
       "    <tr>\n",
       "      <th>11</th>\n",
       "      <td>4.9</td>\n",
       "      <td>86</td>\n",
       "    </tr>\n",
       "    <tr>\n",
       "      <th>10</th>\n",
       "      <td>4.8</td>\n",
       "      <td>220</td>\n",
       "    </tr>\n",
       "    <tr>\n",
       "      <th>2</th>\n",
       "      <td>4.7</td>\n",
       "      <td>438</td>\n",
       "    </tr>\n",
       "    <tr>\n",
       "      <th>8</th>\n",
       "      <td>4.6</td>\n",
       "      <td>683</td>\n",
       "    </tr>\n",
       "  </tbody>\n",
       "</table>\n",
       "</div>"
      ],
      "text/plain": [
       "    ratings  freq\n",
       "19      5.0   271\n",
       "11      4.9    86\n",
       "10      4.8   220\n",
       "2       4.7   438\n",
       "8       4.6   683"
      ]
     },
     "execution_count": 72,
     "metadata": {},
     "output_type": "execute_result"
    }
   ],
   "source": [
    "rating = []\n",
    "\n",
    "for ratings in df['rating'].unique():\n",
    "    count = 0\n",
    "    for i in df.values:\n",
    "        if i[2] == ratings:\n",
    "            count += 1\n",
    "    rating.append([ratings,count])\n",
    "\n",
    "rating =pd.DataFrame(rating,columns =['ratings','freq'])\n",
    "rating.sort_values(by='ratings',ascending=False).head()"
   ]
  },
  {
   "cell_type": "code",
   "execution_count": 71,
   "id": "0346727a",
   "metadata": {},
   "outputs": [
    {
     "data": {
      "text/plain": [
       "<AxesSubplot:>"
      ]
     },
     "execution_count": 71,
     "metadata": {},
     "output_type": "execute_result"
    },
    {
     "data": {
      "image/png": "[encoded data removed]",
      "text/plain": [
       "<Figure size 432x288 with 1 Axes>"
      ]
     },
     "metadata": {
      "needs_background": "light"
     },
     "output_type": "display_data"
    }
   ],
   "source": [
    "rating.sort_values(by='ratings',ascending = True).plot(kind='bar')"
   ]
  },
  {
   "cell_type": "code",
   "execution_count": null,
   "id": "873cbebf",
   "metadata": {},
   "outputs": [],
   "source": []
  }
 ],
 "metadata": {
  "kernelspec": {
   "display_name": "Python 3 (ipykernel)",
   "language": "python",
   "name": "python3"
  },
  "language_info": {
   "codemirror_mode": {
    "name": "ipython",
    "version": 3
   },
   "file_extension": ".py",
   "mimetype": "text/x-python",
   "name": "python",
   "nbconvert_exporter": "python",
   "pygments_lexer": "ipython3",
   "version": "3.9.6"
  }
 },
 "nbformat": 4,
 "nbformat_minor": 5
}

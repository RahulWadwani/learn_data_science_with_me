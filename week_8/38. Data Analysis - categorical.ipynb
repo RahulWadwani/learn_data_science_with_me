{
 "cells": [
  {
   "cell_type": "code",
   "execution_count": 1,
   "id": "fe40c6c4",
   "metadata": {},
   "outputs": [],
   "source": [
    "import numpy as np\n",
    "import pandas as pd"
   ]
  },
  {
   "cell_type": "code",
   "execution_count": 9,
   "id": "2821b9b1",
   "metadata": {},
   "outputs": [
    {
     "data": {
      "text/html": [
       "<div>\n",
       "<style scoped>\n",
       "    .dataframe tbody tr th:only-of-type {\n",
       "        vertical-align: middle;\n",
       "    }\n",
       "\n",
       "    .dataframe tbody tr th {\n",
       "        vertical-align: top;\n",
       "    }\n",
       "\n",
       "    .dataframe thead th {\n",
       "        text-align: right;\n",
       "    }\n",
       "</style>\n",
       "<table border=\"1\" class=\"dataframe\">\n",
       "  <thead>\n",
       "    <tr style=\"text-align: right;\">\n",
       "      <th></th>\n",
       "      <th>app</th>\n",
       "      <th>category</th>\n",
       "      <th>rating</th>\n",
       "      <th>review</th>\n",
       "      <th>size</th>\n",
       "      <th>type</th>\n",
       "      <th>installs</th>\n",
       "      <th>price</th>\n",
       "      <th>content_rating</th>\n",
       "    </tr>\n",
       "  </thead>\n",
       "  <tbody>\n",
       "    <tr>\n",
       "      <th>0</th>\n",
       "      <td>Photo Editor &amp; Candy Camera &amp; Grid &amp; ScrapBook</td>\n",
       "      <td>ART_AND_DESIGN</td>\n",
       "      <td>4.1</td>\n",
       "      <td>159</td>\n",
       "      <td>19</td>\n",
       "      <td>Free</td>\n",
       "      <td>10000</td>\n",
       "      <td>0</td>\n",
       "      <td>Everyone</td>\n",
       "    </tr>\n",
       "    <tr>\n",
       "      <th>1</th>\n",
       "      <td>Coloring book moana</td>\n",
       "      <td>FAMILY</td>\n",
       "      <td>3.9</td>\n",
       "      <td>974</td>\n",
       "      <td>14</td>\n",
       "      <td>Free</td>\n",
       "      <td>500000</td>\n",
       "      <td>0</td>\n",
       "      <td>Everyone</td>\n",
       "    </tr>\n",
       "    <tr>\n",
       "      <th>2</th>\n",
       "      <td>U Launcher Lite – FREE Live Cool Themes, Hide ...</td>\n",
       "      <td>ART_AND_DESIGN</td>\n",
       "      <td>4.7</td>\n",
       "      <td>87510</td>\n",
       "      <td>8</td>\n",
       "      <td>Free</td>\n",
       "      <td>5000000</td>\n",
       "      <td>0</td>\n",
       "      <td>Everyone</td>\n",
       "    </tr>\n",
       "    <tr>\n",
       "      <th>3</th>\n",
       "      <td>Sketch - Draw &amp; Paint</td>\n",
       "      <td>ART_AND_DESIGN</td>\n",
       "      <td>4.5</td>\n",
       "      <td>215644</td>\n",
       "      <td>25</td>\n",
       "      <td>Free</td>\n",
       "      <td>50000000</td>\n",
       "      <td>0</td>\n",
       "      <td>Teen</td>\n",
       "    </tr>\n",
       "    <tr>\n",
       "      <th>4</th>\n",
       "      <td>Pixel Draw - Number Art Coloring Book</td>\n",
       "      <td>ART_AND_DESIGN</td>\n",
       "      <td>4.3</td>\n",
       "      <td>967</td>\n",
       "      <td>2</td>\n",
       "      <td>Free</td>\n",
       "      <td>100000</td>\n",
       "      <td>0</td>\n",
       "      <td>Everyone</td>\n",
       "    </tr>\n",
       "  </tbody>\n",
       "</table>\n",
       "</div>"
      ],
      "text/plain": [
       "                                                 app        category  rating  \\\n",
       "0     Photo Editor & Candy Camera & Grid & ScrapBook  ART_AND_DESIGN     4.1   \n",
       "1                                Coloring book moana          FAMILY     3.9   \n",
       "2  U Launcher Lite – FREE Live Cool Themes, Hide ...  ART_AND_DESIGN     4.7   \n",
       "3                              Sketch - Draw & Paint  ART_AND_DESIGN     4.5   \n",
       "4              Pixel Draw - Number Art Coloring Book  ART_AND_DESIGN     4.3   \n",
       "\n",
       "   review  size  type  installs  price content_rating  \n",
       "0     159    19  Free     10000      0       Everyone  \n",
       "1     974    14  Free    500000      0       Everyone  \n",
       "2   87510     8  Free   5000000      0       Everyone  \n",
       "3  215644    25  Free  50000000      0           Teen  \n",
       "4     967     2  Free    100000      0       Everyone  "
      ]
     },
     "execution_count": 9,
     "metadata": {},
     "output_type": "execute_result"
    }
   ],
   "source": [
    "df = pd.read_csv('playstore.csv')\n",
    "df.head()"
   ]
  },
  {
   "cell_type": "code",
   "execution_count": 10,
   "id": "c55418e5",
   "metadata": {},
   "outputs": [
    {
     "name": "stdout",
     "output_type": "stream",
     "text": [
      "<class 'pandas.core.frame.DataFrame'>\n",
      "RangeIndex: 9648 entries, 0 to 9647\n",
      "Data columns (total 9 columns):\n",
      " #   Column          Non-Null Count  Dtype  \n",
      "---  ------          --------------  -----  \n",
      " 0   app             9648 non-null   object \n",
      " 1   category        9648 non-null   object \n",
      " 2   rating          9648 non-null   float64\n",
      " 3   review          9648 non-null   int64  \n",
      " 4   size            9648 non-null   int64  \n",
      " 5   type            9648 non-null   object \n",
      " 6   installs        9648 non-null   int64  \n",
      " 7   price           9648 non-null   int64  \n",
      " 8   content_rating  9648 non-null   object \n",
      "dtypes: float64(1), int64(4), object(4)\n",
      "memory usage: 678.5+ KB\n"
     ]
    }
   ],
   "source": [
    "df.info()"
   ]
  },
  {
   "cell_type": "code",
   "execution_count": 11,
   "id": "ef24eea5",
   "metadata": {},
   "outputs": [
    {
     "data": {
      "text/plain": [
       "app               0\n",
       "category          0\n",
       "rating            0\n",
       "review            0\n",
       "size              0\n",
       "type              0\n",
       "installs          0\n",
       "price             0\n",
       "content_rating    0\n",
       "dtype: int64"
      ]
     },
     "execution_count": 11,
     "metadata": {},
     "output_type": "execute_result"
    }
   ],
   "source": [
    "df.isnull().sum()"
   ]
  },
  {
   "cell_type": "code",
   "execution_count": 12,
   "id": "47469861",
   "metadata": {},
   "outputs": [],
   "source": [
    "# 1) Data Analysis - Categorical (Unique)"
   ]
  },
  {
   "cell_type": "code",
   "execution_count": 13,
   "id": "9ba9fbdc",
   "metadata": {},
   "outputs": [
    {
     "data": {
      "text/html": [
       "<div>\n",
       "<style scoped>\n",
       "    .dataframe tbody tr th:only-of-type {\n",
       "        vertical-align: middle;\n",
       "    }\n",
       "\n",
       "    .dataframe tbody tr th {\n",
       "        vertical-align: top;\n",
       "    }\n",
       "\n",
       "    .dataframe thead th {\n",
       "        text-align: right;\n",
       "    }\n",
       "</style>\n",
       "<table border=\"1\" class=\"dataframe\">\n",
       "  <thead>\n",
       "    <tr style=\"text-align: right;\">\n",
       "      <th></th>\n",
       "      <th>app</th>\n",
       "      <th>category</th>\n",
       "      <th>rating</th>\n",
       "      <th>review</th>\n",
       "      <th>size</th>\n",
       "      <th>type</th>\n",
       "      <th>installs</th>\n",
       "      <th>price</th>\n",
       "      <th>content_rating</th>\n",
       "    </tr>\n",
       "  </thead>\n",
       "  <tbody>\n",
       "    <tr>\n",
       "      <th>0</th>\n",
       "      <td>Photo Editor &amp; Candy Camera &amp; Grid &amp; ScrapBook</td>\n",
       "      <td>ART_AND_DESIGN</td>\n",
       "      <td>4.1</td>\n",
       "      <td>159</td>\n",
       "      <td>19</td>\n",
       "      <td>Free</td>\n",
       "      <td>10000</td>\n",
       "      <td>0</td>\n",
       "      <td>Everyone</td>\n",
       "    </tr>\n",
       "    <tr>\n",
       "      <th>1</th>\n",
       "      <td>Coloring book moana</td>\n",
       "      <td>FAMILY</td>\n",
       "      <td>3.9</td>\n",
       "      <td>974</td>\n",
       "      <td>14</td>\n",
       "      <td>Free</td>\n",
       "      <td>500000</td>\n",
       "      <td>0</td>\n",
       "      <td>Everyone</td>\n",
       "    </tr>\n",
       "    <tr>\n",
       "      <th>2</th>\n",
       "      <td>U Launcher Lite – FREE Live Cool Themes, Hide ...</td>\n",
       "      <td>ART_AND_DESIGN</td>\n",
       "      <td>4.7</td>\n",
       "      <td>87510</td>\n",
       "      <td>8</td>\n",
       "      <td>Free</td>\n",
       "      <td>5000000</td>\n",
       "      <td>0</td>\n",
       "      <td>Everyone</td>\n",
       "    </tr>\n",
       "    <tr>\n",
       "      <th>3</th>\n",
       "      <td>Sketch - Draw &amp; Paint</td>\n",
       "      <td>ART_AND_DESIGN</td>\n",
       "      <td>4.5</td>\n",
       "      <td>215644</td>\n",
       "      <td>25</td>\n",
       "      <td>Free</td>\n",
       "      <td>50000000</td>\n",
       "      <td>0</td>\n",
       "      <td>Teen</td>\n",
       "    </tr>\n",
       "    <tr>\n",
       "      <th>4</th>\n",
       "      <td>Pixel Draw - Number Art Coloring Book</td>\n",
       "      <td>ART_AND_DESIGN</td>\n",
       "      <td>4.3</td>\n",
       "      <td>967</td>\n",
       "      <td>2</td>\n",
       "      <td>Free</td>\n",
       "      <td>100000</td>\n",
       "      <td>0</td>\n",
       "      <td>Everyone</td>\n",
       "    </tr>\n",
       "  </tbody>\n",
       "</table>\n",
       "</div>"
      ],
      "text/plain": [
       "                                                 app        category  rating  \\\n",
       "0     Photo Editor & Candy Camera & Grid & ScrapBook  ART_AND_DESIGN     4.1   \n",
       "1                                Coloring book moana          FAMILY     3.9   \n",
       "2  U Launcher Lite – FREE Live Cool Themes, Hide ...  ART_AND_DESIGN     4.7   \n",
       "3                              Sketch - Draw & Paint  ART_AND_DESIGN     4.5   \n",
       "4              Pixel Draw - Number Art Coloring Book  ART_AND_DESIGN     4.3   \n",
       "\n",
       "   review  size  type  installs  price content_rating  \n",
       "0     159    19  Free     10000      0       Everyone  \n",
       "1     974    14  Free    500000      0       Everyone  \n",
       "2   87510     8  Free   5000000      0       Everyone  \n",
       "3  215644    25  Free  50000000      0           Teen  \n",
       "4     967     2  Free    100000      0       Everyone  "
      ]
     },
     "execution_count": 13,
     "metadata": {},
     "output_type": "execute_result"
    }
   ],
   "source": [
    "df.head()"
   ]
  },
  {
   "cell_type": "code",
   "execution_count": 14,
   "id": "484116c8",
   "metadata": {},
   "outputs": [],
   "source": [
    "# 1.1) Number of Unique Categories"
   ]
  },
  {
   "cell_type": "code",
   "execution_count": 16,
   "id": "b2de0846",
   "metadata": {},
   "outputs": [
    {
     "data": {
      "text/plain": [
       "33"
      ]
     },
     "execution_count": 16,
     "metadata": {},
     "output_type": "execute_result"
    }
   ],
   "source": [
    "len(set(list(df['category'])))"
   ]
  },
  {
   "cell_type": "code",
   "execution_count": null,
   "id": "e9d8a4e9",
   "metadata": {},
   "outputs": [],
   "source": [
    "# 1.2) Name the cateogries"
   ]
  },
  {
   "cell_type": "code",
   "execution_count": 17,
   "id": "bea30db2",
   "metadata": {},
   "outputs": [
    {
     "name": "stdout",
     "output_type": "stream",
     "text": [
      "LIBRARIES_AND_DEMO\n",
      "DATING\n",
      "EDUCATION\n",
      "VIDEO_PLAYERS\n",
      "MAPS_AND_NAVIGATION\n",
      "GAME\n",
      "FAMILY\n",
      "ART_AND_DESIGN\n",
      "TOOLS\n",
      "PRODUCTIVITY\n",
      "PARENTING\n",
      "ENTERTAINMENT\n",
      "COMMUNICATION\n",
      "SPORTS\n",
      "BUSINESS\n",
      "PHOTOGRAPHY\n",
      "SOCIAL\n",
      "WEATHER\n",
      "LIFESTYLE\n",
      "BEAUTY\n",
      "FINANCE\n",
      "HEALTH_AND_FITNESS\n",
      "COMICS\n",
      "EVENTS\n",
      "FOOD_AND_DRINK\n",
      "TRAVEL_AND_LOCAL\n",
      "MEDICAL\n",
      "SHOPPING\n",
      "PERSONALIZATION\n",
      "NEWS_AND_MAGAZINES\n",
      "BOOKS_AND_REFERENCE\n",
      "AUTO_AND_VEHICLES\n",
      "HOUSE_AND_HOME\n"
     ]
    }
   ],
   "source": [
    "for i in set(list(df['category'])):\n",
    "    print(i)"
   ]
  },
  {
   "cell_type": "code",
   "execution_count": 18,
   "id": "3b566119",
   "metadata": {},
   "outputs": [],
   "source": [
    "# 1.3) Create a function to get the number of unique cateogries"
   ]
  },
  {
   "cell_type": "code",
   "execution_count": 20,
   "id": "769ab50a",
   "metadata": {},
   "outputs": [
    {
     "data": {
      "text/plain": [
       "33"
      ]
     },
     "execution_count": 20,
     "metadata": {},
     "output_type": "execute_result"
    }
   ],
   "source": [
    "def nunique(data):\n",
    "    return len(set(list(data)))\n",
    "\n",
    "nunique(df['category'])"
   ]
  },
  {
   "cell_type": "code",
   "execution_count": 21,
   "id": "e638ab3a",
   "metadata": {},
   "outputs": [],
   "source": [
    "# 1.4) Create a fucntion to get the name of all categories"
   ]
  },
  {
   "cell_type": "code",
   "execution_count": 22,
   "id": "2b470871",
   "metadata": {},
   "outputs": [
    {
     "data": {
      "text/plain": [
       "['Teen',\n",
       " 'Mature 17+',\n",
       " 'Everyone',\n",
       " 'Everyone 10+',\n",
       " 'Adults only 18+',\n",
       " 'Unrated']"
      ]
     },
     "execution_count": 22,
     "metadata": {},
     "output_type": "execute_result"
    }
   ],
   "source": [
    "def unique(data):\n",
    "    return list(set(list(data)))\n",
    "\n",
    "unique(df['content_rating'])"
   ]
  },
  {
   "cell_type": "code",
   "execution_count": 23,
   "id": "0631ec7e",
   "metadata": {},
   "outputs": [],
   "source": [
    "# 2) Analyse Classes - Frequency"
   ]
  },
  {
   "cell_type": "code",
   "execution_count": 24,
   "id": "0cb3cad0",
   "metadata": {},
   "outputs": [
    {
     "data": {
      "text/html": [
       "<div>\n",
       "<style scoped>\n",
       "    .dataframe tbody tr th:only-of-type {\n",
       "        vertical-align: middle;\n",
       "    }\n",
       "\n",
       "    .dataframe tbody tr th {\n",
       "        vertical-align: top;\n",
       "    }\n",
       "\n",
       "    .dataframe thead th {\n",
       "        text-align: right;\n",
       "    }\n",
       "</style>\n",
       "<table border=\"1\" class=\"dataframe\">\n",
       "  <thead>\n",
       "    <tr style=\"text-align: right;\">\n",
       "      <th></th>\n",
       "      <th>app</th>\n",
       "      <th>category</th>\n",
       "      <th>rating</th>\n",
       "      <th>review</th>\n",
       "      <th>size</th>\n",
       "      <th>type</th>\n",
       "      <th>installs</th>\n",
       "      <th>price</th>\n",
       "      <th>content_rating</th>\n",
       "    </tr>\n",
       "  </thead>\n",
       "  <tbody>\n",
       "    <tr>\n",
       "      <th>0</th>\n",
       "      <td>Photo Editor &amp; Candy Camera &amp; Grid &amp; ScrapBook</td>\n",
       "      <td>ART_AND_DESIGN</td>\n",
       "      <td>4.1</td>\n",
       "      <td>159</td>\n",
       "      <td>19</td>\n",
       "      <td>Free</td>\n",
       "      <td>10000</td>\n",
       "      <td>0</td>\n",
       "      <td>Everyone</td>\n",
       "    </tr>\n",
       "    <tr>\n",
       "      <th>1</th>\n",
       "      <td>Coloring book moana</td>\n",
       "      <td>FAMILY</td>\n",
       "      <td>3.9</td>\n",
       "      <td>974</td>\n",
       "      <td>14</td>\n",
       "      <td>Free</td>\n",
       "      <td>500000</td>\n",
       "      <td>0</td>\n",
       "      <td>Everyone</td>\n",
       "    </tr>\n",
       "    <tr>\n",
       "      <th>2</th>\n",
       "      <td>U Launcher Lite – FREE Live Cool Themes, Hide ...</td>\n",
       "      <td>ART_AND_DESIGN</td>\n",
       "      <td>4.7</td>\n",
       "      <td>87510</td>\n",
       "      <td>8</td>\n",
       "      <td>Free</td>\n",
       "      <td>5000000</td>\n",
       "      <td>0</td>\n",
       "      <td>Everyone</td>\n",
       "    </tr>\n",
       "    <tr>\n",
       "      <th>3</th>\n",
       "      <td>Sketch - Draw &amp; Paint</td>\n",
       "      <td>ART_AND_DESIGN</td>\n",
       "      <td>4.5</td>\n",
       "      <td>215644</td>\n",
       "      <td>25</td>\n",
       "      <td>Free</td>\n",
       "      <td>50000000</td>\n",
       "      <td>0</td>\n",
       "      <td>Teen</td>\n",
       "    </tr>\n",
       "    <tr>\n",
       "      <th>4</th>\n",
       "      <td>Pixel Draw - Number Art Coloring Book</td>\n",
       "      <td>ART_AND_DESIGN</td>\n",
       "      <td>4.3</td>\n",
       "      <td>967</td>\n",
       "      <td>2</td>\n",
       "      <td>Free</td>\n",
       "      <td>100000</td>\n",
       "      <td>0</td>\n",
       "      <td>Everyone</td>\n",
       "    </tr>\n",
       "  </tbody>\n",
       "</table>\n",
       "</div>"
      ],
      "text/plain": [
       "                                                 app        category  rating  \\\n",
       "0     Photo Editor & Candy Camera & Grid & ScrapBook  ART_AND_DESIGN     4.1   \n",
       "1                                Coloring book moana          FAMILY     3.9   \n",
       "2  U Launcher Lite – FREE Live Cool Themes, Hide ...  ART_AND_DESIGN     4.7   \n",
       "3                              Sketch - Draw & Paint  ART_AND_DESIGN     4.5   \n",
       "4              Pixel Draw - Number Art Coloring Book  ART_AND_DESIGN     4.3   \n",
       "\n",
       "   review  size  type  installs  price content_rating  \n",
       "0     159    19  Free     10000      0       Everyone  \n",
       "1     974    14  Free    500000      0       Everyone  \n",
       "2   87510     8  Free   5000000      0       Everyone  \n",
       "3  215644    25  Free  50000000      0           Teen  \n",
       "4     967     2  Free    100000      0       Everyone  "
      ]
     },
     "execution_count": 24,
     "metadata": {},
     "output_type": "execute_result"
    }
   ],
   "source": [
    "df.head()"
   ]
  },
  {
   "cell_type": "code",
   "execution_count": 25,
   "id": "35f0bb61",
   "metadata": {},
   "outputs": [],
   "source": [
    "def freq(data, class_):\n",
    "\n",
    "    c = 0\n",
    "    for i in data:\n",
    "        if (i == class_):\n",
    "            c += 1        \n",
    "    return c"
   ]
  },
  {
   "cell_type": "code",
   "execution_count": 26,
   "id": "621a0cae",
   "metadata": {},
   "outputs": [
    {
     "data": {
      "text/plain": [
       "1036"
      ]
     },
     "execution_count": 26,
     "metadata": {},
     "output_type": "execute_result"
    }
   ],
   "source": [
    "freq(df['content_rating'], 'Teen')"
   ]
  },
  {
   "cell_type": "code",
   "execution_count": 27,
   "id": "96ca811c",
   "metadata": {},
   "outputs": [
    {
     "data": {
      "text/plain": [
       "9648"
      ]
     },
     "execution_count": 27,
     "metadata": {},
     "output_type": "execute_result"
    }
   ],
   "source": [
    "nunique(df['app'])"
   ]
  },
  {
   "cell_type": "code",
   "execution_count": 28,
   "id": "94c761df",
   "metadata": {},
   "outputs": [
    {
     "data": {
      "text/plain": [
       "0"
      ]
     },
     "execution_count": 28,
     "metadata": {},
     "output_type": "execute_result"
    }
   ],
   "source": [
    "len(df) - nunique(df['app'])"
   ]
  },
  {
   "cell_type": "code",
   "execution_count": 29,
   "id": "4ceac4e6",
   "metadata": {},
   "outputs": [
    {
     "data": {
      "text/plain": [
       "count                                               9648\n",
       "unique                                              9648\n",
       "top       Photo Editor & Candy Camera & Grid & ScrapBook\n",
       "freq                                                   1\n",
       "Name: app, dtype: object"
      ]
     },
     "execution_count": 29,
     "metadata": {},
     "output_type": "execute_result"
    }
   ],
   "source": [
    "df['app'].describe()"
   ]
  },
  {
   "cell_type": "code",
   "execution_count": 30,
   "id": "70b687ca",
   "metadata": {},
   "outputs": [],
   "source": [
    "# 3) Analyse Classes - Automatic Mode"
   ]
  },
  {
   "cell_type": "code",
   "execution_count": 31,
   "id": "5249b2fd",
   "metadata": {},
   "outputs": [
    {
     "data": {
      "text/html": [
       "<div>\n",
       "<style scoped>\n",
       "    .dataframe tbody tr th:only-of-type {\n",
       "        vertical-align: middle;\n",
       "    }\n",
       "\n",
       "    .dataframe tbody tr th {\n",
       "        vertical-align: top;\n",
       "    }\n",
       "\n",
       "    .dataframe thead th {\n",
       "        text-align: right;\n",
       "    }\n",
       "</style>\n",
       "<table border=\"1\" class=\"dataframe\">\n",
       "  <thead>\n",
       "    <tr style=\"text-align: right;\">\n",
       "      <th></th>\n",
       "      <th>app</th>\n",
       "      <th>category</th>\n",
       "      <th>rating</th>\n",
       "      <th>review</th>\n",
       "      <th>size</th>\n",
       "      <th>type</th>\n",
       "      <th>installs</th>\n",
       "      <th>price</th>\n",
       "      <th>content_rating</th>\n",
       "    </tr>\n",
       "  </thead>\n",
       "  <tbody>\n",
       "    <tr>\n",
       "      <th>0</th>\n",
       "      <td>Photo Editor &amp; Candy Camera &amp; Grid &amp; ScrapBook</td>\n",
       "      <td>ART_AND_DESIGN</td>\n",
       "      <td>4.1</td>\n",
       "      <td>159</td>\n",
       "      <td>19</td>\n",
       "      <td>Free</td>\n",
       "      <td>10000</td>\n",
       "      <td>0</td>\n",
       "      <td>Everyone</td>\n",
       "    </tr>\n",
       "    <tr>\n",
       "      <th>1</th>\n",
       "      <td>Coloring book moana</td>\n",
       "      <td>FAMILY</td>\n",
       "      <td>3.9</td>\n",
       "      <td>974</td>\n",
       "      <td>14</td>\n",
       "      <td>Free</td>\n",
       "      <td>500000</td>\n",
       "      <td>0</td>\n",
       "      <td>Everyone</td>\n",
       "    </tr>\n",
       "    <tr>\n",
       "      <th>2</th>\n",
       "      <td>U Launcher Lite – FREE Live Cool Themes, Hide ...</td>\n",
       "      <td>ART_AND_DESIGN</td>\n",
       "      <td>4.7</td>\n",
       "      <td>87510</td>\n",
       "      <td>8</td>\n",
       "      <td>Free</td>\n",
       "      <td>5000000</td>\n",
       "      <td>0</td>\n",
       "      <td>Everyone</td>\n",
       "    </tr>\n",
       "    <tr>\n",
       "      <th>3</th>\n",
       "      <td>Sketch - Draw &amp; Paint</td>\n",
       "      <td>ART_AND_DESIGN</td>\n",
       "      <td>4.5</td>\n",
       "      <td>215644</td>\n",
       "      <td>25</td>\n",
       "      <td>Free</td>\n",
       "      <td>50000000</td>\n",
       "      <td>0</td>\n",
       "      <td>Teen</td>\n",
       "    </tr>\n",
       "    <tr>\n",
       "      <th>4</th>\n",
       "      <td>Pixel Draw - Number Art Coloring Book</td>\n",
       "      <td>ART_AND_DESIGN</td>\n",
       "      <td>4.3</td>\n",
       "      <td>967</td>\n",
       "      <td>2</td>\n",
       "      <td>Free</td>\n",
       "      <td>100000</td>\n",
       "      <td>0</td>\n",
       "      <td>Everyone</td>\n",
       "    </tr>\n",
       "  </tbody>\n",
       "</table>\n",
       "</div>"
      ],
      "text/plain": [
       "                                                 app        category  rating  \\\n",
       "0     Photo Editor & Candy Camera & Grid & ScrapBook  ART_AND_DESIGN     4.1   \n",
       "1                                Coloring book moana          FAMILY     3.9   \n",
       "2  U Launcher Lite – FREE Live Cool Themes, Hide ...  ART_AND_DESIGN     4.7   \n",
       "3                              Sketch - Draw & Paint  ART_AND_DESIGN     4.5   \n",
       "4              Pixel Draw - Number Art Coloring Book  ART_AND_DESIGN     4.3   \n",
       "\n",
       "   review  size  type  installs  price content_rating  \n",
       "0     159    19  Free     10000      0       Everyone  \n",
       "1     974    14  Free    500000      0       Everyone  \n",
       "2   87510     8  Free   5000000      0       Everyone  \n",
       "3  215644    25  Free  50000000      0           Teen  \n",
       "4     967     2  Free    100000      0       Everyone  "
      ]
     },
     "execution_count": 31,
     "metadata": {},
     "output_type": "execute_result"
    }
   ],
   "source": [
    "df.head()"
   ]
  },
  {
   "cell_type": "code",
   "execution_count": 32,
   "id": "8eeda576",
   "metadata": {},
   "outputs": [],
   "source": [
    "# 3.1) Naive Approach"
   ]
  },
  {
   "cell_type": "code",
   "execution_count": 34,
   "id": "e5b8e666",
   "metadata": {},
   "outputs": [
    {
     "data": {
      "text/plain": [
       "['Teen',\n",
       " 'Mature 17+',\n",
       " 'Everyone',\n",
       " 'Everyone 10+',\n",
       " 'Adults only 18+',\n",
       " 'Unrated']"
      ]
     },
     "execution_count": 34,
     "metadata": {},
     "output_type": "execute_result"
    }
   ],
   "source": [
    "unique(df['content_rating'])"
   ]
  },
  {
   "cell_type": "code",
   "execution_count": 36,
   "id": "1147ade1",
   "metadata": {},
   "outputs": [
    {
     "name": "stdout",
     "output_type": "stream",
     "text": [
      "-----------------------------------\n",
      "Everyone          :    7893\n",
      "Mature 17+        :    393\n",
      "Unrated           :    2\n",
      "Adults only 18+   :    3\n",
      "Teen              :    1036\n",
      "Everyone 10+      :    321\n",
      "-----------------------------------\n"
     ]
    }
   ],
   "source": [
    "print('-'*35)\n",
    "print(\"Everyone          :   \" , freq(df['content_rating'], 'Everyone'))\n",
    "print(\"Mature 17+        :   \" , freq(df['content_rating'], 'Mature 17+'))\n",
    "print(\"Unrated           :   \" , freq(df['content_rating'], 'Unrated'))\n",
    "print(\"Adults only 18+   :   \" , freq(df['content_rating'], 'Adults only 18+'))\n",
    "print(\"Teen              :   \" , freq(df['content_rating'], 'Teen'))\n",
    "print(\"Everyone 10+      :   \" , freq(df['content_rating'], 'Everyone 10+'))\n",
    "print('-'*35)"
   ]
  },
  {
   "cell_type": "code",
   "execution_count": 37,
   "id": "d26b4eef",
   "metadata": {},
   "outputs": [],
   "source": [
    "# 3.2 ) Optimal Approach"
   ]
  },
  {
   "cell_type": "code",
   "execution_count": 38,
   "id": "edbe9e66",
   "metadata": {},
   "outputs": [
    {
     "name": "stdout",
     "output_type": "stream",
     "text": [
      "Teen   :   1036\n",
      "Mature 17+   :   393\n",
      "Everyone   :   7893\n",
      "Everyone 10+   :   321\n",
      "Adults only 18+   :   3\n",
      "Unrated   :   2\n"
     ]
    }
   ],
   "source": [
    "for i in unique(df['content_rating']):\n",
    "    print(i, \"  :  \", freq(df['content_rating'], i))"
   ]
  },
  {
   "cell_type": "code",
   "execution_count": 39,
   "id": "96a98943",
   "metadata": {},
   "outputs": [],
   "source": [
    "# 3.3) Function to get the frequency of each class automaticaly"
   ]
  },
  {
   "cell_type": "code",
   "execution_count": 40,
   "id": "5934235b",
   "metadata": {},
   "outputs": [],
   "source": [
    "def auto_freq(df, column_name):\n",
    "    \n",
    "    dct = {}\n",
    "    for i in unique(df[column_name]):\n",
    "        dct[i] = freq(df[column_name],i)\n",
    "        \n",
    "    return dct"
   ]
  },
  {
   "cell_type": "code",
   "execution_count": 41,
   "id": "b86b91c4",
   "metadata": {},
   "outputs": [
    {
     "data": {
      "text/plain": [
       "{'Teen': 1036,\n",
       " 'Mature 17+': 393,\n",
       " 'Everyone': 7893,\n",
       " 'Everyone 10+': 321,\n",
       " 'Adults only 18+': 3,\n",
       " 'Unrated': 2}"
      ]
     },
     "execution_count": 41,
     "metadata": {},
     "output_type": "execute_result"
    }
   ],
   "source": [
    "auto_freq(df, 'content_rating')"
   ]
  },
  {
   "cell_type": "code",
   "execution_count": 42,
   "id": "9359efac",
   "metadata": {},
   "outputs": [
    {
     "data": {
      "text/plain": [
       "{'LIBRARIES_AND_DEMO': 83,\n",
       " 'DATING': 170,\n",
       " 'EDUCATION': 102,\n",
       " 'VIDEO_PLAYERS': 163,\n",
       " 'MAPS_AND_NAVIGATION': 131,\n",
       " 'GAME': 926,\n",
       " 'FAMILY': 1902,\n",
       " 'ART_AND_DESIGN': 60,\n",
       " 'TOOLS': 827,\n",
       " 'PRODUCTIVITY': 374,\n",
       " 'PARENTING': 60,\n",
       " 'ENTERTAINMENT': 79,\n",
       " 'COMMUNICATION': 316,\n",
       " 'SPORTS': 327,\n",
       " 'BUSINESS': 419,\n",
       " 'PHOTOGRAPHY': 281,\n",
       " 'SOCIAL': 239,\n",
       " 'WEATHER': 79,\n",
       " 'LIFESTYLE': 369,\n",
       " 'BEAUTY': 53,\n",
       " 'FINANCE': 345,\n",
       " 'HEALTH_AND_FITNESS': 287,\n",
       " 'COMICS': 56,\n",
       " 'EVENTS': 64,\n",
       " 'FOOD_AND_DRINK': 112,\n",
       " 'TRAVEL_AND_LOCAL': 219,\n",
       " 'MEDICAL': 396,\n",
       " 'SHOPPING': 202,\n",
       " 'PERSONALIZATION': 374,\n",
       " 'NEWS_AND_MAGAZINES': 254,\n",
       " 'BOOKS_AND_REFERENCE': 221,\n",
       " 'AUTO_AND_VEHICLES': 85,\n",
       " 'HOUSE_AND_HOME': 73}"
      ]
     },
     "execution_count": 42,
     "metadata": {},
     "output_type": "execute_result"
    }
   ],
   "source": [
    "\n",
    "auto_freq(df, 'category')"
   ]
  },
  {
   "cell_type": "code",
   "execution_count": 43,
   "id": "884e4af1",
   "metadata": {},
   "outputs": [
    {
     "data": {
      "text/plain": [
       "{'Free': 8897, 'Paid': 751}"
      ]
     },
     "execution_count": 43,
     "metadata": {},
     "output_type": "execute_result"
    }
   ],
   "source": [
    "auto_freq(df, 'type')"
   ]
  },
  {
   "cell_type": "code",
   "execution_count": 44,
   "id": "54727256",
   "metadata": {},
   "outputs": [
    {
     "data": {
      "text/html": [
       "<div>\n",
       "<style scoped>\n",
       "    .dataframe tbody tr th:only-of-type {\n",
       "        vertical-align: middle;\n",
       "    }\n",
       "\n",
       "    .dataframe tbody tr th {\n",
       "        vertical-align: top;\n",
       "    }\n",
       "\n",
       "    .dataframe thead th {\n",
       "        text-align: right;\n",
       "    }\n",
       "</style>\n",
       "<table border=\"1\" class=\"dataframe\">\n",
       "  <thead>\n",
       "    <tr style=\"text-align: right;\">\n",
       "      <th></th>\n",
       "      <th>app</th>\n",
       "      <th>category</th>\n",
       "      <th>rating</th>\n",
       "      <th>review</th>\n",
       "      <th>size</th>\n",
       "      <th>type</th>\n",
       "      <th>installs</th>\n",
       "      <th>price</th>\n",
       "      <th>content_rating</th>\n",
       "    </tr>\n",
       "  </thead>\n",
       "  <tbody>\n",
       "    <tr>\n",
       "      <th>0</th>\n",
       "      <td>Photo Editor &amp; Candy Camera &amp; Grid &amp; ScrapBook</td>\n",
       "      <td>ART_AND_DESIGN</td>\n",
       "      <td>4.1</td>\n",
       "      <td>159</td>\n",
       "      <td>19</td>\n",
       "      <td>Free</td>\n",
       "      <td>10000</td>\n",
       "      <td>0</td>\n",
       "      <td>Everyone</td>\n",
       "    </tr>\n",
       "    <tr>\n",
       "      <th>1</th>\n",
       "      <td>Coloring book moana</td>\n",
       "      <td>FAMILY</td>\n",
       "      <td>3.9</td>\n",
       "      <td>974</td>\n",
       "      <td>14</td>\n",
       "      <td>Free</td>\n",
       "      <td>500000</td>\n",
       "      <td>0</td>\n",
       "      <td>Everyone</td>\n",
       "    </tr>\n",
       "    <tr>\n",
       "      <th>2</th>\n",
       "      <td>U Launcher Lite – FREE Live Cool Themes, Hide ...</td>\n",
       "      <td>ART_AND_DESIGN</td>\n",
       "      <td>4.7</td>\n",
       "      <td>87510</td>\n",
       "      <td>8</td>\n",
       "      <td>Free</td>\n",
       "      <td>5000000</td>\n",
       "      <td>0</td>\n",
       "      <td>Everyone</td>\n",
       "    </tr>\n",
       "    <tr>\n",
       "      <th>3</th>\n",
       "      <td>Sketch - Draw &amp; Paint</td>\n",
       "      <td>ART_AND_DESIGN</td>\n",
       "      <td>4.5</td>\n",
       "      <td>215644</td>\n",
       "      <td>25</td>\n",
       "      <td>Free</td>\n",
       "      <td>50000000</td>\n",
       "      <td>0</td>\n",
       "      <td>Teen</td>\n",
       "    </tr>\n",
       "    <tr>\n",
       "      <th>4</th>\n",
       "      <td>Pixel Draw - Number Art Coloring Book</td>\n",
       "      <td>ART_AND_DESIGN</td>\n",
       "      <td>4.3</td>\n",
       "      <td>967</td>\n",
       "      <td>2</td>\n",
       "      <td>Free</td>\n",
       "      <td>100000</td>\n",
       "      <td>0</td>\n",
       "      <td>Everyone</td>\n",
       "    </tr>\n",
       "  </tbody>\n",
       "</table>\n",
       "</div>"
      ],
      "text/plain": [
       "                                                 app        category  rating  \\\n",
       "0     Photo Editor & Candy Camera & Grid & ScrapBook  ART_AND_DESIGN     4.1   \n",
       "1                                Coloring book moana          FAMILY     3.9   \n",
       "2  U Launcher Lite – FREE Live Cool Themes, Hide ...  ART_AND_DESIGN     4.7   \n",
       "3                              Sketch - Draw & Paint  ART_AND_DESIGN     4.5   \n",
       "4              Pixel Draw - Number Art Coloring Book  ART_AND_DESIGN     4.3   \n",
       "\n",
       "   review  size  type  installs  price content_rating  \n",
       "0     159    19  Free     10000      0       Everyone  \n",
       "1     974    14  Free    500000      0       Everyone  \n",
       "2   87510     8  Free   5000000      0       Everyone  \n",
       "3  215644    25  Free  50000000      0           Teen  \n",
       "4     967     2  Free    100000      0       Everyone  "
      ]
     },
     "execution_count": 44,
     "metadata": {},
     "output_type": "execute_result"
    }
   ],
   "source": [
    "df.head()"
   ]
  }
 ],
 "metadata": {
  "kernelspec": {
   "display_name": "Python 3 (ipykernel)",
   "language": "python",
   "name": "python3"
  },
  "language_info": {
   "codemirror_mode": {
    "name": "ipython",
    "version": 3
   },
   "file_extension": ".py",
   "mimetype": "text/x-python",
   "name": "python",
   "nbconvert_exporter": "python",
   "pygments_lexer": "ipython3",
   "version": "3.9.6"
  }
 },
 "nbformat": 4,
 "nbformat_minor": 5
}

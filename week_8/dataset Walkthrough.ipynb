{
 "cells": [
  {
   "cell_type": "code",
   "execution_count": 3,
   "id": "141b55e8",
   "metadata": {},
   "outputs": [],
   "source": [
    "import pandas as pd \n",
    "import numpy as np \n"
   ]
  },
  {
   "cell_type": "code",
   "execution_count": 4,
   "id": "e0b7a458",
   "metadata": {},
   "outputs": [],
   "source": [
    "#BASIC DESCRPITION OF THE DATABASE "
   ]
  },
  {
   "cell_type": "code",
   "execution_count": 5,
   "id": "b3b3ce17",
   "metadata": {},
   "outputs": [
    {
     "data": {
      "text/html": [
       "<div>\n",
       "<style scoped>\n",
       "    .dataframe tbody tr th:only-of-type {\n",
       "        vertical-align: middle;\n",
       "    }\n",
       "\n",
       "    .dataframe tbody tr th {\n",
       "        vertical-align: top;\n",
       "    }\n",
       "\n",
       "    .dataframe thead th {\n",
       "        text-align: right;\n",
       "    }\n",
       "</style>\n",
       "<table border=\"1\" class=\"dataframe\">\n",
       "  <thead>\n",
       "    <tr style=\"text-align: right;\">\n",
       "      <th></th>\n",
       "      <th>app</th>\n",
       "      <th>category</th>\n",
       "      <th>rating</th>\n",
       "      <th>review</th>\n",
       "      <th>size</th>\n",
       "      <th>type</th>\n",
       "      <th>installs</th>\n",
       "      <th>price</th>\n",
       "      <th>content_rating</th>\n",
       "    </tr>\n",
       "  </thead>\n",
       "  <tbody>\n",
       "    <tr>\n",
       "      <th>0</th>\n",
       "      <td>Photo Editor &amp; Candy Camera &amp; Grid &amp; ScrapBook</td>\n",
       "      <td>ART_AND_DESIGN</td>\n",
       "      <td>4.1</td>\n",
       "      <td>159.0</td>\n",
       "      <td>19.0</td>\n",
       "      <td>Free</td>\n",
       "      <td>10000.0</td>\n",
       "      <td>0.0</td>\n",
       "      <td>Everyone</td>\n",
       "    </tr>\n",
       "    <tr>\n",
       "      <th>1</th>\n",
       "      <td>Coloring book moana</td>\n",
       "      <td>FAMILY</td>\n",
       "      <td>3.9</td>\n",
       "      <td>974.0</td>\n",
       "      <td>14.0</td>\n",
       "      <td>Free</td>\n",
       "      <td>500000.0</td>\n",
       "      <td>0.0</td>\n",
       "      <td>Everyone</td>\n",
       "    </tr>\n",
       "    <tr>\n",
       "      <th>2</th>\n",
       "      <td>U Launcher Lite – FREE Live Cool Themes, Hide ...</td>\n",
       "      <td>ART_AND_DESIGN</td>\n",
       "      <td>4.7</td>\n",
       "      <td>87510.0</td>\n",
       "      <td>8.0</td>\n",
       "      <td>Free</td>\n",
       "      <td>5000000.0</td>\n",
       "      <td>0.0</td>\n",
       "      <td>Everyone</td>\n",
       "    </tr>\n",
       "    <tr>\n",
       "      <th>3</th>\n",
       "      <td>Sketch - Draw &amp; Paint</td>\n",
       "      <td>ART_AND_DESIGN</td>\n",
       "      <td>4.5</td>\n",
       "      <td>215644.0</td>\n",
       "      <td>25.0</td>\n",
       "      <td>Free</td>\n",
       "      <td>50000000.0</td>\n",
       "      <td>0.0</td>\n",
       "      <td>Teen</td>\n",
       "    </tr>\n",
       "    <tr>\n",
       "      <th>4</th>\n",
       "      <td>Pixel Draw - Number Art Coloring Book</td>\n",
       "      <td>ART_AND_DESIGN</td>\n",
       "      <td>4.3</td>\n",
       "      <td>967.0</td>\n",
       "      <td>2.0</td>\n",
       "      <td>Free</td>\n",
       "      <td>100000.0</td>\n",
       "      <td>0.0</td>\n",
       "      <td>Everyone</td>\n",
       "    </tr>\n",
       "  </tbody>\n",
       "</table>\n",
       "</div>"
      ],
      "text/plain": [
       "                                                 app        category  rating  \\\n",
       "0     Photo Editor & Candy Camera & Grid & ScrapBook  ART_AND_DESIGN     4.1   \n",
       "1                                Coloring book moana          FAMILY     3.9   \n",
       "2  U Launcher Lite – FREE Live Cool Themes, Hide ...  ART_AND_DESIGN     4.7   \n",
       "3                              Sketch - Draw & Paint  ART_AND_DESIGN     4.5   \n",
       "4              Pixel Draw - Number Art Coloring Book  ART_AND_DESIGN     4.3   \n",
       "\n",
       "     review  size  type    installs  price content_rating  \n",
       "0     159.0  19.0  Free     10000.0    0.0       Everyone  \n",
       "1     974.0  14.0  Free    500000.0    0.0       Everyone  \n",
       "2   87510.0   8.0  Free   5000000.0    0.0       Everyone  \n",
       "3  215644.0  25.0  Free  50000000.0    0.0           Teen  \n",
       "4     967.0   2.0  Free    100000.0    0.0       Everyone  "
      ]
     },
     "execution_count": 5,
     "metadata": {},
     "output_type": "execute_result"
    }
   ],
   "source": [
    "df = pd.read_csv('playstore.csv')\n",
    "df #gives the entire dataset \n",
    "df.head()"
   ]
  },
  {
   "cell_type": "markdown",
   "id": "ae216c65",
   "metadata": {},
   "source": [
    "# 1) Basic description of the dataset "
   ]
  },
  {
   "cell_type": "code",
   "execution_count": 5,
   "id": "ea20203a",
   "metadata": {},
   "outputs": [
    {
     "data": {
      "text/plain": [
       "(9648, 9)"
      ]
     },
     "execution_count": 5,
     "metadata": {},
     "output_type": "execute_result"
    }
   ],
   "source": [
    "df.shape #more the time on the data better will be the algorithm "
   ]
  },
  {
   "cell_type": "code",
   "execution_count": 6,
   "id": "fb117a06",
   "metadata": {},
   "outputs": [
    {
     "data": {
      "text/html": [
       "<div>\n",
       "<style scoped>\n",
       "    .dataframe tbody tr th:only-of-type {\n",
       "        vertical-align: middle;\n",
       "    }\n",
       "\n",
       "    .dataframe tbody tr th {\n",
       "        vertical-align: top;\n",
       "    }\n",
       "\n",
       "    .dataframe thead th {\n",
       "        text-align: right;\n",
       "    }\n",
       "</style>\n",
       "<table border=\"1\" class=\"dataframe\">\n",
       "  <thead>\n",
       "    <tr style=\"text-align: right;\">\n",
       "      <th></th>\n",
       "      <th>rating</th>\n",
       "      <th>review</th>\n",
       "      <th>size</th>\n",
       "      <th>installs</th>\n",
       "      <th>price</th>\n",
       "    </tr>\n",
       "  </thead>\n",
       "  <tbody>\n",
       "    <tr>\n",
       "      <th>count</th>\n",
       "      <td>9648.000000</td>\n",
       "      <td>9.648000e+03</td>\n",
       "      <td>9648.000000</td>\n",
       "      <td>9.648000e+03</td>\n",
       "      <td>9648.000000</td>\n",
       "    </tr>\n",
       "    <tr>\n",
       "      <th>mean</th>\n",
       "      <td>4.207556</td>\n",
       "      <td>2.168957e+05</td>\n",
       "      <td>18.948694</td>\n",
       "      <td>7.802970e+06</td>\n",
       "      <td>82.334473</td>\n",
       "    </tr>\n",
       "    <tr>\n",
       "      <th>std</th>\n",
       "      <td>0.500774</td>\n",
       "      <td>1.831767e+06</td>\n",
       "      <td>20.788538</td>\n",
       "      <td>5.379994e+07</td>\n",
       "      <td>1264.574840</td>\n",
       "    </tr>\n",
       "    <tr>\n",
       "      <th>min</th>\n",
       "      <td>1.000000</td>\n",
       "      <td>0.000000e+00</td>\n",
       "      <td>1.000000</td>\n",
       "      <td>0.000000e+00</td>\n",
       "      <td>0.000000</td>\n",
       "    </tr>\n",
       "    <tr>\n",
       "      <th>25%</th>\n",
       "      <td>4.000000</td>\n",
       "      <td>2.500000e+01</td>\n",
       "      <td>5.000000</td>\n",
       "      <td>1.000000e+03</td>\n",
       "      <td>0.000000</td>\n",
       "    </tr>\n",
       "    <tr>\n",
       "      <th>50%</th>\n",
       "      <td>4.400000</td>\n",
       "      <td>9.740000e+02</td>\n",
       "      <td>10.000000</td>\n",
       "      <td>1.000000e+05</td>\n",
       "      <td>0.000000</td>\n",
       "    </tr>\n",
       "    <tr>\n",
       "      <th>75%</th>\n",
       "      <td>4.500000</td>\n",
       "      <td>2.944925e+04</td>\n",
       "      <td>25.000000</td>\n",
       "      <td>1.000000e+06</td>\n",
       "      <td>0.000000</td>\n",
       "    </tr>\n",
       "    <tr>\n",
       "      <th>max</th>\n",
       "      <td>5.000000</td>\n",
       "      <td>7.812821e+07</td>\n",
       "      <td>100.000000</td>\n",
       "      <td>1.000000e+09</td>\n",
       "      <td>30000.000000</td>\n",
       "    </tr>\n",
       "  </tbody>\n",
       "</table>\n",
       "</div>"
      ],
      "text/plain": [
       "            rating        review         size      installs         price\n",
       "count  9648.000000  9.648000e+03  9648.000000  9.648000e+03   9648.000000\n",
       "mean      4.207556  2.168957e+05    18.948694  7.802970e+06     82.334473\n",
       "std       0.500774  1.831767e+06    20.788538  5.379994e+07   1264.574840\n",
       "min       1.000000  0.000000e+00     1.000000  0.000000e+00      0.000000\n",
       "25%       4.000000  2.500000e+01     5.000000  1.000000e+03      0.000000\n",
       "50%       4.400000  9.740000e+02    10.000000  1.000000e+05      0.000000\n",
       "75%       4.500000  2.944925e+04    25.000000  1.000000e+06      0.000000\n",
       "max       5.000000  7.812821e+07   100.000000  1.000000e+09  30000.000000"
      ]
     },
     "execution_count": 6,
     "metadata": {},
     "output_type": "execute_result"
    }
   ],
   "source": [
    "df.describe() # helpful in decribing the data by finding the min max and mean values present in the data "
   ]
  },
  {
   "cell_type": "code",
   "execution_count": 7,
   "id": "b6cb2b47",
   "metadata": {},
   "outputs": [
    {
     "name": "stdout",
     "output_type": "stream",
     "text": [
      "<class 'pandas.core.frame.DataFrame'>\n",
      "RangeIndex: 9648 entries, 0 to 9647\n",
      "Data columns (total 9 columns):\n",
      " #   Column          Non-Null Count  Dtype  \n",
      "---  ------          --------------  -----  \n",
      " 0   app             9648 non-null   object \n",
      " 1   category        9648 non-null   object \n",
      " 2   rating          9648 non-null   float64\n",
      " 3   review          9648 non-null   int64  \n",
      " 4   size            9648 non-null   int64  \n",
      " 5   type            9648 non-null   object \n",
      " 6   installs        9648 non-null   int64  \n",
      " 7   price           9648 non-null   int64  \n",
      " 8   content_rating  9648 non-null   object \n",
      "dtypes: float64(1), int64(4), object(4)\n",
      "memory usage: 678.5+ KB\n"
     ]
    }
   ],
   "source": [
    "df.info() # gives the basic information of the given dataset "
   ]
  },
  {
   "cell_type": "code",
   "execution_count": 8,
   "id": "89e54636",
   "metadata": {},
   "outputs": [
    {
     "data": {
      "text/plain": [
       "count                                               9648\n",
       "unique                                              9648\n",
       "top       Photo Editor & Candy Camera & Grid & ScrapBook\n",
       "freq                                                   1\n",
       "Name: app, dtype: object"
      ]
     },
     "execution_count": 8,
     "metadata": {},
     "output_type": "execute_result"
    }
   ],
   "source": [
    "df['app'].describe() #decribing a data of a particular column which is the app column `"
   ]
  },
  {
   "cell_type": "code",
   "execution_count": 9,
   "id": "5bcc49ae",
   "metadata": {},
   "outputs": [
    {
     "data": {
      "text/plain": [
       "count       9648\n",
       "unique        33\n",
       "top       FAMILY\n",
       "freq        1902\n",
       "Name: category, dtype: object"
      ]
     },
     "execution_count": 9,
     "metadata": {},
     "output_type": "execute_result"
    }
   ],
   "source": [
    "df['category'].describe() #decribing a data of a particular column which is the category column"
   ]
  },
  {
   "cell_type": "code",
   "execution_count": 10,
   "id": "e27d6b0e",
   "metadata": {},
   "outputs": [
    {
     "data": {
      "text/plain": [
       "count    9648.000000\n",
       "mean        4.207556\n",
       "std         0.500774\n",
       "min         1.000000\n",
       "25%         4.000000\n",
       "50%         4.400000\n",
       "75%         4.500000\n",
       "max         5.000000\n",
       "Name: rating, dtype: float64"
      ]
     },
     "execution_count": 10,
     "metadata": {},
     "output_type": "execute_result"
    }
   ],
   "source": [
    "df['rating'].describe() #decribing a data of a particular column which is the rating column"
   ]
  },
  {
   "cell_type": "code",
   "execution_count": 11,
   "id": "39d6a613",
   "metadata": {},
   "outputs": [
    {
     "data": {
      "text/plain": [
       "count    9.648000e+03\n",
       "mean     2.168957e+05\n",
       "std      1.831767e+06\n",
       "min      0.000000e+00\n",
       "25%      2.500000e+01\n",
       "50%      9.740000e+02\n",
       "75%      2.944925e+04\n",
       "max      7.812821e+07\n",
       "Name: review, dtype: float64"
      ]
     },
     "execution_count": 11,
     "metadata": {},
     "output_type": "execute_result"
    }
   ],
   "source": [
    "df['review'].describe() # #decribing a data of a particular column which is the reviews column"
   ]
  },
  {
   "cell_type": "code",
   "execution_count": 12,
   "id": "a2e4623f",
   "metadata": {},
   "outputs": [
    {
     "data": {
      "text/plain": [
       "count    9648.000000\n",
       "mean       18.948694\n",
       "std        20.788538\n",
       "min         1.000000\n",
       "25%         5.000000\n",
       "50%        10.000000\n",
       "75%        25.000000\n",
       "max       100.000000\n",
       "Name: size, dtype: float64"
      ]
     },
     "execution_count": 12,
     "metadata": {},
     "output_type": "execute_result"
    }
   ],
   "source": [
    "df['size'].describe() #decribing a data of a particular column which is the size column"
   ]
  },
  {
   "cell_type": "code",
   "execution_count": 13,
   "id": "56cb4a40",
   "metadata": {},
   "outputs": [
    {
     "data": {
      "text/plain": [
       "count     9648\n",
       "unique       2\n",
       "top       Free\n",
       "freq      8897\n",
       "Name: type, dtype: object"
      ]
     },
     "execution_count": 13,
     "metadata": {},
     "output_type": "execute_result"
    }
   ],
   "source": [
    "df['type'].describe() #decribing a data of a particular column which is the type column"
   ]
  },
  {
   "cell_type": "code",
   "execution_count": 14,
   "id": "6f695cf1",
   "metadata": {},
   "outputs": [
    {
     "data": {
      "text/plain": [
       "count    9.648000e+03\n",
       "mean     7.802970e+06\n",
       "std      5.379994e+07\n",
       "min      0.000000e+00\n",
       "25%      1.000000e+03\n",
       "50%      1.000000e+05\n",
       "75%      1.000000e+06\n",
       "max      1.000000e+09\n",
       "Name: installs, dtype: float64"
      ]
     },
     "execution_count": 14,
     "metadata": {},
     "output_type": "execute_result"
    }
   ],
   "source": [
    "df['installs'].describe() #decribing a data of a particular column which is the installs column"
   ]
  },
  {
   "cell_type": "code",
   "execution_count": 15,
   "id": "7e436475",
   "metadata": {},
   "outputs": [
    {
     "data": {
      "text/plain": [
       "count     9648.000000\n",
       "mean        82.334473\n",
       "std       1264.574840\n",
       "min          0.000000\n",
       "25%          0.000000\n",
       "50%          0.000000\n",
       "75%          0.000000\n",
       "max      30000.000000\n",
       "Name: price, dtype: float64"
      ]
     },
     "execution_count": 15,
     "metadata": {},
     "output_type": "execute_result"
    }
   ],
   "source": [
    "df['price'].describe() #decribing a data of a particular column which is the price column"
   ]
  },
  {
   "cell_type": "code",
   "execution_count": 16,
   "id": "3daad45f",
   "metadata": {},
   "outputs": [
    {
     "data": {
      "text/plain": [
       "count         9648\n",
       "unique           6\n",
       "top       Everyone\n",
       "freq          7893\n",
       "Name: content_rating, dtype: object"
      ]
     },
     "execution_count": 16,
     "metadata": {},
     "output_type": "execute_result"
    }
   ],
   "source": [
    "df['content_rating'].describe() #decribing a data of a particular column which is the content_rating column"
   ]
  },
  {
   "cell_type": "markdown",
   "id": "2d176dd8",
   "metadata": {},
   "source": [
    "# 2) dealing with the null values "
   ]
  },
  {
   "cell_type": "code",
   "execution_count": 18,
   "id": "0d3ac1ce",
   "metadata": {},
   "outputs": [
    {
     "data": {
      "text/plain": [
       "app               0\n",
       "category          0\n",
       "rating            0\n",
       "review            0\n",
       "size              0\n",
       "type              0\n",
       "installs          0\n",
       "price             0\n",
       "content_rating    0\n",
       "dtype: int64"
      ]
     },
     "execution_count": 18,
     "metadata": {},
     "output_type": "execute_result"
    }
   ],
   "source": [
    "df.isnull().sum()"
   ]
  },
  {
   "cell_type": "code",
   "execution_count": 24,
   "id": "a1c06da0",
   "metadata": {},
   "outputs": [
    {
     "name": "stdout",
     "output_type": "stream",
     "text": [
      "absl-py==1.0.0\n",
      "argon2-cffi==21.3.0\n",
      "argon2-cffi-bindings==21.2.0\n",
      "asttokens==2.0.5\n",
      "attrs==21.4.0\n",
      "Automat==20.2.0\n",
      "backcall==0.2.0\n",
      "beautifulsoup4==4.11.1\n",
      "bleach==5.0.0\n",
      "cachetools==5.2.0\n",
      "certifi==2021.10.8\n",
      "cffi==1.15.0\n",
      "charset-normalizer==2.0.12\n",
      "click==8.1.3\n",
      "colorama==0.4.4\n",
      "constantly==15.1.0\n",
      "cryptography==37.0.2\n",
      "cssselect==1.1.0\n",
      "cycler==0.11.0\n",
      "debugpy==1.6.0\n",
      "decorator==5.1.1\n",
      "defusedxml==0.7.1\n",
      "entrypoints==0.4\n",
      "executing==0.8.3\n",
      "fastjsonschema==2.15.3\n",
      "filelock==3.6.0\n",
      "Flask==2.2.2\n",
      "fonttools==4.33.3\n",
      "google-auth==2.10.0\n",
      "google-auth-oauthlib==0.5.2\n",
      "gspread==4.0.0\n",
      "httplib2==0.20.4\n",
      "hyperlink==21.0.0\n",
      "idna==3.3\n",
      "incremental==21.3.0\n",
      "ipykernel==6.13.0\n",
      "ipython==8.3.0\n",
      "ipython-genutils==0.2.0\n",
      "ipywidgets==7.7.0\n",
      "itemadapter==0.5.0\n",
      "itemloaders==1.0.4\n",
      "itsdangerous==2.1.2\n",
      "jedi==0.18.1\n",
      "Jinja2==3.1.2\n",
      "jmespath==1.0.0\n",
      "joblib==1.1.0\n",
      "jsonschema==4.5.1\n",
      "jupyter==1.0.0\n",
      "jupyter-client==7.3.0\n",
      "jupyter-console==6.4.3\n",
      "jupyter-core==4.10.0\n",
      "jupyterlab-pygments==0.2.2\n",
      "jupyterlab-widgets==1.1.0\n",
      "keras==2.8.0\n",
      "kiwisolver==1.4.2\n",
      "legacy==0.1.6\n",
      "lxml==4.8.0\n",
      "MarkupSafe==2.1.1\n",
      "matplotlib==3.5.2\n",
      "matplotlib-inline==0.1.3\n",
      "mediapipe==0.8.10\n",
      "mistune==0.8.4\n",
      "more-itertools==8.13.0\n",
      "MouseInfo==0.1.3\n",
      "nbclient==0.6.2\n",
      "nbconvert==6.5.0\n",
      "nbformat==5.4.0\n",
      "nest-asyncio==1.5.5\n",
      "notebook==6.4.11\n",
      "numpy==1.22.3\n",
      "oauth2client==4.1.3\n",
      "oauthlib==3.2.0\n",
      "opencv-contrib-python==4.5.5.64\n",
      "opencv-python==4.5.5.64\n",
      "packaging==21.3\n",
      "pandas==1.4.2\n",
      "pandocfilters==1.5.0\n",
      "parsel==1.6.0\n",
      "parso==0.8.3\n",
      "pi==0.1.2\n",
      "pickleshare==0.7.5\n",
      "Pillow==9.1.0\n",
      "prometheus-client==0.14.1\n",
      "prompt-toolkit==3.0.29\n",
      "Protego==0.2.1\n",
      "protobuf==3.20.1\n",
      "psutil==5.9.0\n",
      "pure-eval==0.2.2\n",
      "pyasn1==0.4.8\n",
      "pyasn1-modules==0.2.8\n",
      "PyAutoGUI==0.9.53\n",
      "pycparser==2.21\n",
      "PyDispatcher==2.0.5\n",
      "PyGetWindow==0.0.9\n",
      "Pygments==2.12.0\n",
      "PyMsgBox==1.0.9\n",
      "pyOpenSSL==22.0.0\n",
      "pyparsing==3.0.8\n",
      "pyperclip==1.8.2\n",
      "pypi==2.1\n",
      "PyRect==0.2.0\n",
      "pyrsistent==0.18.1\n",
      "PyScreeze==0.1.28\n",
      "python-dateutil==2.8.2\n",
      "pytweening==1.0.4\n",
      "pytz==2022.1\n",
      "pywhatkit==5.4\n",
      "pywin32==304\n",
      "pywinpty==2.0.5\n",
      "pyzmq==22.3.0\n",
      "qrcode==7.3.1\n",
      "qtconsole==5.3.0\n",
      "QtPy==2.1.0\n",
      "queuelib==1.6.2\n",
      "requests==2.27.1\n",
      "requests-file==1.5.1\n",
      "requests-oauthlib==1.3.1\n",
      "rsa==4.9\n",
      "scikit-learn==1.0.2\n",
      "scipy==1.8.0\n",
      "Scrapy==2.6.1\n",
      "Send2Trash==1.8.0\n",
      "service-identity==21.1.0\n",
      "six==1.16.0\n",
      "soupsieve==2.3.2.post1\n",
      "stack-data==0.2.0\n",
      "style==1.1.0\n",
      "terminado==0.13.3\n",
      "Theano==1.0.5\n",
      "threadpoolctl==3.1.0\n",
      "tinycss2==1.1.1\n",
      "tldextract==3.3.0\n",
      "torch==1.12.0\n",
      "tornado==6.1\n",
      "traitlets==5.1.1\n",
      "tweepy==4.10.0\n",
      "Twisted==22.4.0\n",
      "twisted-iocpsupport==1.0.2\n",
      "typing_extensions==4.2.0\n",
      "update==0.0.1\n",
      "urllib3==1.26.9\n",
      "w3lib==1.22.0\n",
      "wcwidth==0.2.5\n",
      "webencodings==0.5.1\n",
      "Werkzeug==2.2.2\n",
      "widgetsnbextension==3.6.0\n",
      "wikipedia==1.4.0\n",
      "zope.interface==5.4.0\n",
      "Note: you may need to restart the kernel to use updated packages.\n"
     ]
    }
   ],
   "source": [
    "pip freeze"
   ]
  },
  {
   "cell_type": "code",
   "execution_count": 26,
   "id": "06f46918",
   "metadata": {},
   "outputs": [
    {
     "name": "stdout",
     "output_type": "stream",
     "text": [
      "Collecting sklearn\n",
      "  Downloading sklearn-0.0.tar.gz (1.1 kB)\n",
      "  Preparing metadata (setup.py): started\n",
      "  Preparing metadata (setup.py): finished with status 'done'\n",
      "Requirement already satisfied: scikit-learn in c:\\users\\raju namdev gugle\\appdata\\local\\programs\\python\\python310\\lib\\site-packages (from sklearn) (1.0.2)\n",
      "Requirement already satisfied: numpy>=1.14.6 in c:\\users\\raju namdev gugle\\appdata\\local\\programs\\python\\python310\\lib\\site-packages (from scikit-learn->sklearn) (1.22.3)\n",
      "Requirement already satisfied: threadpoolctl>=2.0.0 in c:\\users\\raju namdev gugle\\appdata\\local\\programs\\python\\python310\\lib\\site-packages (from scikit-learn->sklearn) (3.1.0)\n",
      "Requirement already satisfied: joblib>=0.11 in c:\\users\\raju namdev gugle\\appdata\\local\\programs\\python\\python310\\lib\\site-packages (from scikit-learn->sklearn) (1.1.0)\n",
      "Requirement already satisfied: scipy>=1.1.0 in c:\\users\\raju namdev gugle\\appdata\\local\\programs\\python\\python310\\lib\\site-packages (from scikit-learn->sklearn) (1.8.0)\n",
      "Building wheels for collected packages: sklearn\n",
      "  Building wheel for sklearn (setup.py): started\n",
      "  Building wheel for sklearn (setup.py): finished with status 'done'\n",
      "  Created wheel for sklearn: filename=sklearn-0.0-py2.py3-none-any.whl size=1310 sha256=3e57da27fe50527eeb61630588d1e3415cce1a084b7556d42ee5d418315f93fd\n",
      "  Stored in directory: c:\\users\\raju namdev gugle\\appdata\\local\\pip\\cache\\wheels\\9b\\13\\01\\6f3a7fd641f90e1f6c8c7cded057f3394f451f340371c68f3d\n",
      "Successfully built sklearn\n",
      "Installing collected packages: sklearn\n",
      "Successfully installed sklearn-0.0\n",
      "Note: you may need to restart the kernel to use updated packages.\n"
     ]
    },
    {
     "name": "stderr",
     "output_type": "stream",
     "text": [
      "WARNING: You are using pip version 22.0.4; however, version 22.2.2 is available.\n",
      "You should consider upgrading via the 'C:\\Users\\RAJU NAMDEV GUGLE\\AppData\\Local\\Programs\\Python\\Python310\\python.exe -m pip install --upgrade pip' command.\n"
     ]
    }
   ],
   "source": [
    "pip install sklearn"
   ]
  },
  {
   "cell_type": "code",
   "execution_count": 27,
   "id": "d38426ac",
   "metadata": {},
   "outputs": [],
   "source": [
    "from sklearn.impute import SimpleImputer"
   ]
  },
  {
   "cell_type": "code",
   "execution_count": 28,
   "id": "0b951155",
   "metadata": {},
   "outputs": [],
   "source": [
    "#strategy to remove the null values from the dataset if it exist else\n",
    "imputer = SimpleImputer(missing_values =  np.nan,strategy='most_frequent')\n",
    "rating = np.reshape(df['rating'].values,())\n",
    "imputer.fit(rating) # fitting the data \n",
    "rating = imputer.transform(rating)# what is transform "
   ]
  },
  {
   "cell_type": "markdown",
   "id": "ecf3f93b",
   "metadata": {},
   "source": [
    "# 3) remove the un-neccessary columns/data"
   ]
  },
  {
   "cell_type": "code",
   "execution_count": null,
   "id": "235e0d26",
   "metadata": {},
   "outputs": [],
   "source": [
    "del df['col_name']"
   ]
  },
  {
   "cell_type": "markdown",
   "id": "cb07926d",
   "metadata": {},
   "source": [
    "# 4) analysis \n",
    "## 4.1) analyse the rating \n",
    "\n"
   ]
  },
  {
   "cell_type": "code",
   "execution_count": 40,
   "id": "eb85fef1",
   "metadata": {},
   "outputs": [],
   "source": [
    "t = 0\n",
    "for i in df['rating']:\n",
    "    t += i\n",
    "ratings = (int(t))/len(df)"
   ]
  },
  {
   "cell_type": "code",
   "execution_count": 41,
   "id": "da5e205b",
   "metadata": {},
   "outputs": [
    {
     "data": {
      "text/plain": [
       "4.21"
      ]
     },
     "execution_count": 41,
     "metadata": {},
     "output_type": "execute_result"
    }
   ],
   "source": [
    "round(ratings,2)"
   ]
  },
  {
   "cell_type": "markdown",
   "id": "70c98c8a",
   "metadata": {},
   "source": [
    "## 4.2) number of apps with rating 5"
   ]
  },
  {
   "cell_type": "code",
   "execution_count": 44,
   "id": "d058311f",
   "metadata": {},
   "outputs": [
    {
     "name": "stdout",
     "output_type": "stream",
     "text": [
      "271\n"
     ]
    }
   ],
   "source": [
    "c= 0 \n",
    "for i in df['rating']:\n",
    "    if i == 5.0:\n",
    "        c += 1\n",
    "print(c)"
   ]
  },
  {
   "cell_type": "markdown",
   "id": "00c3fdad",
   "metadata": {},
   "source": [
    "# 4.3) number of apps with rating from 4 to 4.5 "
   ]
  },
  {
   "cell_type": "code",
   "execution_count": 45,
   "id": "9b076f31",
   "metadata": {},
   "outputs": [
    {
     "name": "stdout",
     "output_type": "stream",
     "text": [
      "6041\n"
     ]
    }
   ],
   "source": [
    "c= 0\n",
    "for i in df['rating']:\n",
    "    if (i >=4 and i<=4.5):\n",
    "        c += 1\n",
    "print(c)"
   ]
  },
  {
   "cell_type": "code",
   "execution_count": 46,
   "id": "d98d81bc",
   "metadata": {},
   "outputs": [],
   "source": [
    "# 4.4) number of apps with rating in a specific range"
   ]
  },
  {
   "cell_type": "code",
   "execution_count": 47,
   "id": "e99497b3",
   "metadata": {},
   "outputs": [],
   "source": [
    "def in_range(low,high):\n",
    "    c = 0\n",
    "    for i in df['rating']:\n",
    "        if i>=low and i <= high:\n",
    "            c+=1 \n",
    "    return c"
   ]
  },
  {
   "cell_type": "code",
   "execution_count": 52,
   "id": "ac904369",
   "metadata": {},
   "outputs": [
    {
     "name": "stdout",
     "output_type": "stream",
     "text": [
      "1-1.5 23\n",
      "1.5-2 46\n",
      "2-2.5 93\n",
      "2-5.5 232\n",
      "3-3.5 594\n",
      "3.5-4 1704\n",
      "4-4.5 6041\n",
      "4.5-5 2547\n"
     ]
    }
   ],
   "source": [
    "print('1-1.5',in_range(1,1.5))\n",
    "print('1.5-2',in_range(1.5,2))\n",
    "print('2-2.5',in_range(2,2.5))\n",
    "print('2-5.5',in_range(2.5,3))\n",
    "print('3-3.5',in_range(3,3.5))\n",
    "print('3.5-4',in_range(3.5,4))\n",
    "print('4-4.5',in_range(4,4.5))\n",
    "print('4.5-5',in_range(4.5,5))\n"
   ]
  },
  {
   "cell_type": "markdown",
   "id": "45f2290e",
   "metadata": {},
   "source": [
    "# 5) Analysis - Reviews "
   ]
  },
  {
   "cell_type": "code",
   "execution_count": 56,
   "id": "88879dd0",
   "metadata": {},
   "outputs": [
    {
     "data": {
      "text/plain": [
       "0          159\n",
       "1          974\n",
       "2        87510\n",
       "3       215644\n",
       "4          967\n",
       "         ...  \n",
       "9643        38\n",
       "9644         4\n",
       "9645         3\n",
       "9646       114\n",
       "9647    398307\n",
       "Name: review, Length: 9648, dtype: int64"
      ]
     },
     "execution_count": 56,
     "metadata": {},
     "output_type": "execute_result"
    }
   ],
   "source": [
    "df['review']"
   ]
  },
  {
   "cell_type": "markdown",
   "id": "b309c745",
   "metadata": {},
   "source": [
    "# 5.1) average, maximum and minimum review "
   ]
  },
  {
   "cell_type": "code",
   "execution_count": 101,
   "id": "615489c2",
   "metadata": {},
   "outputs": [
    {
     "name": "stdout",
     "output_type": "stream",
     "text": [
      "total review :  2092609252\n",
      "average review :  216895\n",
      "maximum review :  78128208\n",
      "minimum review :  0\n"
     ]
    }
   ],
   "source": [
    "c= 0\n",
    "for i in df['review']:\n",
    "    c += i\n",
    "\n",
    "print('total review : ',c)\n",
    "print('average review : ',int(c/len(df)))     # average of reviews\n",
    "print('maximum review : ',max(df['review']))  # maximum review\n",
    "print('minimum review : ',min(df['review']))  # minimum review"
   ]
  },
  {
   "cell_type": "markdown",
   "id": "cd29e6fe",
   "metadata": {},
   "source": [
    "# 5.2) number of apps with more than average no of reviews."
   ]
  },
  {
   "cell_type": "code",
   "execution_count": 105,
   "id": "b6484177",
   "metadata": {},
   "outputs": [
    {
     "name": "stdout",
     "output_type": "stream",
     "text": [
      "146122181\n"
     ]
    }
   ],
   "source": [
    "avg = c/len(df)\n",
    "add = 0\n",
    "for j in df['review']:\n",
    "    if j <= avg:\n",
    "        add += j\n",
    "print(add)"
   ]
  },
  {
   "cell_type": "code",
   "execution_count": 100,
   "id": "07c4a076",
   "metadata": {},
   "outputs": [
    {
     "data": {
      "text/html": [
       "<div>\n",
       "<style scoped>\n",
       "    .dataframe tbody tr th:only-of-type {\n",
       "        vertical-align: middle;\n",
       "    }\n",
       "\n",
       "    .dataframe tbody tr th {\n",
       "        vertical-align: top;\n",
       "    }\n",
       "\n",
       "    .dataframe thead th {\n",
       "        text-align: right;\n",
       "    }\n",
       "</style>\n",
       "<table border=\"1\" class=\"dataframe\">\n",
       "  <thead>\n",
       "    <tr style=\"text-align: right;\">\n",
       "      <th></th>\n",
       "      <th>app</th>\n",
       "      <th>category</th>\n",
       "      <th>rating</th>\n",
       "      <th>review</th>\n",
       "      <th>size</th>\n",
       "      <th>type</th>\n",
       "      <th>installs</th>\n",
       "      <th>price</th>\n",
       "      <th>content_rating</th>\n",
       "    </tr>\n",
       "  </thead>\n",
       "  <tbody>\n",
       "    <tr>\n",
       "      <th>0</th>\n",
       "      <td>Photo Editor &amp; Candy Camera &amp; Grid &amp; ScrapBook</td>\n",
       "      <td>ART_AND_DESIGN</td>\n",
       "      <td>4.1</td>\n",
       "      <td>159</td>\n",
       "      <td>19</td>\n",
       "      <td>Free</td>\n",
       "      <td>10000</td>\n",
       "      <td>0</td>\n",
       "      <td>Everyone</td>\n",
       "    </tr>\n",
       "    <tr>\n",
       "      <th>1</th>\n",
       "      <td>Coloring book moana</td>\n",
       "      <td>FAMILY</td>\n",
       "      <td>3.9</td>\n",
       "      <td>974</td>\n",
       "      <td>14</td>\n",
       "      <td>Free</td>\n",
       "      <td>500000</td>\n",
       "      <td>0</td>\n",
       "      <td>Everyone</td>\n",
       "    </tr>\n",
       "    <tr>\n",
       "      <th>2</th>\n",
       "      <td>U Launcher Lite – FREE Live Cool Themes, Hide ...</td>\n",
       "      <td>ART_AND_DESIGN</td>\n",
       "      <td>4.7</td>\n",
       "      <td>87510</td>\n",
       "      <td>8</td>\n",
       "      <td>Free</td>\n",
       "      <td>5000000</td>\n",
       "      <td>0</td>\n",
       "      <td>Everyone</td>\n",
       "    </tr>\n",
       "    <tr>\n",
       "      <th>3</th>\n",
       "      <td>Sketch - Draw &amp; Paint</td>\n",
       "      <td>ART_AND_DESIGN</td>\n",
       "      <td>4.5</td>\n",
       "      <td>215644</td>\n",
       "      <td>25</td>\n",
       "      <td>Free</td>\n",
       "      <td>50000000</td>\n",
       "      <td>0</td>\n",
       "      <td>Teen</td>\n",
       "    </tr>\n",
       "    <tr>\n",
       "      <th>4</th>\n",
       "      <td>Pixel Draw - Number Art Coloring Book</td>\n",
       "      <td>ART_AND_DESIGN</td>\n",
       "      <td>4.3</td>\n",
       "      <td>967</td>\n",
       "      <td>2</td>\n",
       "      <td>Free</td>\n",
       "      <td>100000</td>\n",
       "      <td>0</td>\n",
       "      <td>Everyone</td>\n",
       "    </tr>\n",
       "    <tr>\n",
       "      <th>...</th>\n",
       "      <td>...</td>\n",
       "      <td>...</td>\n",
       "      <td>...</td>\n",
       "      <td>...</td>\n",
       "      <td>...</td>\n",
       "      <td>...</td>\n",
       "      <td>...</td>\n",
       "      <td>...</td>\n",
       "      <td>...</td>\n",
       "    </tr>\n",
       "    <tr>\n",
       "      <th>9643</th>\n",
       "      <td>Sya9a Maroc - FR</td>\n",
       "      <td>FAMILY</td>\n",
       "      <td>4.5</td>\n",
       "      <td>38</td>\n",
       "      <td>53</td>\n",
       "      <td>Free</td>\n",
       "      <td>5000</td>\n",
       "      <td>0</td>\n",
       "      <td>Everyone</td>\n",
       "    </tr>\n",
       "    <tr>\n",
       "      <th>9644</th>\n",
       "      <td>Fr. Mike Schmitz Audio Teachings</td>\n",
       "      <td>FAMILY</td>\n",
       "      <td>5.0</td>\n",
       "      <td>4</td>\n",
       "      <td>3</td>\n",
       "      <td>Free</td>\n",
       "      <td>100</td>\n",
       "      <td>0</td>\n",
       "      <td>Everyone</td>\n",
       "    </tr>\n",
       "    <tr>\n",
       "      <th>9645</th>\n",
       "      <td>Parkinson Exercices FR</td>\n",
       "      <td>MEDICAL</td>\n",
       "      <td>4.4</td>\n",
       "      <td>3</td>\n",
       "      <td>9</td>\n",
       "      <td>Free</td>\n",
       "      <td>1000</td>\n",
       "      <td>0</td>\n",
       "      <td>Everyone</td>\n",
       "    </tr>\n",
       "    <tr>\n",
       "      <th>9646</th>\n",
       "      <td>The SCP Foundation DB fr nn5n</td>\n",
       "      <td>BOOKS_AND_REFERENCE</td>\n",
       "      <td>4.5</td>\n",
       "      <td>114</td>\n",
       "      <td>10</td>\n",
       "      <td>Free</td>\n",
       "      <td>1000</td>\n",
       "      <td>0</td>\n",
       "      <td>Mature 17+</td>\n",
       "    </tr>\n",
       "    <tr>\n",
       "      <th>9647</th>\n",
       "      <td>iHoroscope - 2018 Daily Horoscope &amp; Astrology</td>\n",
       "      <td>LIFESTYLE</td>\n",
       "      <td>4.5</td>\n",
       "      <td>398307</td>\n",
       "      <td>19</td>\n",
       "      <td>Free</td>\n",
       "      <td>10000000</td>\n",
       "      <td>0</td>\n",
       "      <td>Everyone</td>\n",
       "    </tr>\n",
       "  </tbody>\n",
       "</table>\n",
       "<p>9648 rows × 9 columns</p>\n",
       "</div>"
      ],
      "text/plain": [
       "                                                    app             category  \\\n",
       "0        Photo Editor & Candy Camera & Grid & ScrapBook       ART_AND_DESIGN   \n",
       "1                                   Coloring book moana               FAMILY   \n",
       "2     U Launcher Lite – FREE Live Cool Themes, Hide ...       ART_AND_DESIGN   \n",
       "3                                 Sketch - Draw & Paint       ART_AND_DESIGN   \n",
       "4                 Pixel Draw - Number Art Coloring Book       ART_AND_DESIGN   \n",
       "...                                                 ...                  ...   \n",
       "9643                                   Sya9a Maroc - FR               FAMILY   \n",
       "9644                   Fr. Mike Schmitz Audio Teachings               FAMILY   \n",
       "9645                             Parkinson Exercices FR              MEDICAL   \n",
       "9646                      The SCP Foundation DB fr nn5n  BOOKS_AND_REFERENCE   \n",
       "9647      iHoroscope - 2018 Daily Horoscope & Astrology            LIFESTYLE   \n",
       "\n",
       "      rating  review  size  type  installs  price content_rating  \n",
       "0        4.1     159    19  Free     10000      0       Everyone  \n",
       "1        3.9     974    14  Free    500000      0       Everyone  \n",
       "2        4.7   87510     8  Free   5000000      0       Everyone  \n",
       "3        4.5  215644    25  Free  50000000      0           Teen  \n",
       "4        4.3     967     2  Free    100000      0       Everyone  \n",
       "...      ...     ...   ...   ...       ...    ...            ...  \n",
       "9643     4.5      38    53  Free      5000      0       Everyone  \n",
       "9644     5.0       4     3  Free       100      0       Everyone  \n",
       "9645     4.4       3     9  Free      1000      0       Everyone  \n",
       "9646     4.5     114    10  Free      1000      0     Mature 17+  \n",
       "9647     4.5  398307    19  Free  10000000      0       Everyone  \n",
       "\n",
       "[9648 rows x 9 columns]"
      ]
     },
     "execution_count": 100,
     "metadata": {},
     "output_type": "execute_result"
    }
   ],
   "source": [
    "df"
   ]
  },
  {
   "cell_type": "code",
   "execution_count": 73,
   "id": "81e7bdb5",
   "metadata": {},
   "outputs": [
    {
     "data": {
      "text/plain": [
       "86832"
      ]
     },
     "execution_count": 73,
     "metadata": {},
     "output_type": "execute_result"
    }
   ],
   "source": [
    "df.size"
   ]
  },
  {
   "cell_type": "markdown",
   "id": "ae960aac",
   "metadata": {},
   "source": [
    "# 6) analysis - size"
   ]
  },
  {
   "cell_type": "code",
   "execution_count": 86,
   "id": "4e423542",
   "metadata": {},
   "outputs": [
    {
     "data": {
      "text/html": [
       "<div>\n",
       "<style scoped>\n",
       "    .dataframe tbody tr th:only-of-type {\n",
       "        vertical-align: middle;\n",
       "    }\n",
       "\n",
       "    .dataframe tbody tr th {\n",
       "        vertical-align: top;\n",
       "    }\n",
       "\n",
       "    .dataframe thead th {\n",
       "        text-align: right;\n",
       "    }\n",
       "</style>\n",
       "<table border=\"1\" class=\"dataframe\">\n",
       "  <thead>\n",
       "    <tr style=\"text-align: right;\">\n",
       "      <th></th>\n",
       "      <th>app</th>\n",
       "      <th>category</th>\n",
       "      <th>rating</th>\n",
       "      <th>review</th>\n",
       "      <th>size</th>\n",
       "      <th>type</th>\n",
       "      <th>installs</th>\n",
       "      <th>price</th>\n",
       "      <th>content_rating</th>\n",
       "    </tr>\n",
       "  </thead>\n",
       "  <tbody>\n",
       "    <tr>\n",
       "      <th>0</th>\n",
       "      <td>Photo Editor &amp; Candy Camera &amp; Grid &amp; ScrapBook</td>\n",
       "      <td>ART_AND_DESIGN</td>\n",
       "      <td>4.1</td>\n",
       "      <td>159</td>\n",
       "      <td>19</td>\n",
       "      <td>Free</td>\n",
       "      <td>10000</td>\n",
       "      <td>0</td>\n",
       "      <td>Everyone</td>\n",
       "    </tr>\n",
       "    <tr>\n",
       "      <th>1</th>\n",
       "      <td>Coloring book moana</td>\n",
       "      <td>FAMILY</td>\n",
       "      <td>3.9</td>\n",
       "      <td>974</td>\n",
       "      <td>14</td>\n",
       "      <td>Free</td>\n",
       "      <td>500000</td>\n",
       "      <td>0</td>\n",
       "      <td>Everyone</td>\n",
       "    </tr>\n",
       "    <tr>\n",
       "      <th>2</th>\n",
       "      <td>U Launcher Lite – FREE Live Cool Themes, Hide ...</td>\n",
       "      <td>ART_AND_DESIGN</td>\n",
       "      <td>4.7</td>\n",
       "      <td>87510</td>\n",
       "      <td>8</td>\n",
       "      <td>Free</td>\n",
       "      <td>5000000</td>\n",
       "      <td>0</td>\n",
       "      <td>Everyone</td>\n",
       "    </tr>\n",
       "    <tr>\n",
       "      <th>3</th>\n",
       "      <td>Sketch - Draw &amp; Paint</td>\n",
       "      <td>ART_AND_DESIGN</td>\n",
       "      <td>4.5</td>\n",
       "      <td>215644</td>\n",
       "      <td>25</td>\n",
       "      <td>Free</td>\n",
       "      <td>50000000</td>\n",
       "      <td>0</td>\n",
       "      <td>Teen</td>\n",
       "    </tr>\n",
       "    <tr>\n",
       "      <th>4</th>\n",
       "      <td>Pixel Draw - Number Art Coloring Book</td>\n",
       "      <td>ART_AND_DESIGN</td>\n",
       "      <td>4.3</td>\n",
       "      <td>967</td>\n",
       "      <td>2</td>\n",
       "      <td>Free</td>\n",
       "      <td>100000</td>\n",
       "      <td>0</td>\n",
       "      <td>Everyone</td>\n",
       "    </tr>\n",
       "  </tbody>\n",
       "</table>\n",
       "</div>"
      ],
      "text/plain": [
       "                                                 app        category  rating  \\\n",
       "0     Photo Editor & Candy Camera & Grid & ScrapBook  ART_AND_DESIGN     4.1   \n",
       "1                                Coloring book moana          FAMILY     3.9   \n",
       "2  U Launcher Lite – FREE Live Cool Themes, Hide ...  ART_AND_DESIGN     4.7   \n",
       "3                              Sketch - Draw & Paint  ART_AND_DESIGN     4.5   \n",
       "4              Pixel Draw - Number Art Coloring Book  ART_AND_DESIGN     4.3   \n",
       "\n",
       "   review  size  type  installs  price content_rating  \n",
       "0     159    19  Free     10000      0       Everyone  \n",
       "1     974    14  Free    500000      0       Everyone  \n",
       "2   87510     8  Free   5000000      0       Everyone  \n",
       "3  215644    25  Free  50000000      0           Teen  \n",
       "4     967     2  Free    100000      0       Everyone  "
      ]
     },
     "execution_count": 86,
     "metadata": {},
     "output_type": "execute_result"
    }
   ],
   "source": [
    "df.head()"
   ]
  },
  {
   "cell_type": "code",
   "execution_count": 87,
   "id": "b0896309",
   "metadata": {},
   "outputs": [
    {
     "data": {
      "text/plain": [
       "0       19\n",
       "1       14\n",
       "2        8\n",
       "3       25\n",
       "4        2\n",
       "        ..\n",
       "9643    53\n",
       "9644     3\n",
       "9645     9\n",
       "9646    10\n",
       "9647    19\n",
       "Name: size, Length: 9648, dtype: int64"
      ]
     },
     "execution_count": 87,
     "metadata": {},
     "output_type": "execute_result"
    }
   ],
   "source": [
    "df['size']"
   ]
  },
  {
   "cell_type": "markdown",
   "id": "ba6c50ec",
   "metadata": {},
   "source": [
    "# total size , maximum , minimum and average"
   ]
  },
  {
   "cell_type": "code",
   "execution_count": 110,
   "id": "841ba40c",
   "metadata": {},
   "outputs": [
    {
     "name": "stdout",
     "output_type": "stream",
     "text": [
      "total size : 182817\n",
      "average size : 18.95\n",
      "maximum size : 100\n",
      "minimum size : 1\n"
     ]
    }
   ],
   "source": [
    "t = 0\n",
    "for i in df['size']:\n",
    "    t += i\n",
    "print('total size :',t)\n",
    "print('average size :',round(t/len(df),2))\n",
    "print('maximum size :',max(df['size']))\n",
    "print('minimum size :',min(df['size']))"
   ]
  },
  {
   "cell_type": "code",
   "execution_count": 111,
   "id": "56e41721",
   "metadata": {},
   "outputs": [
    {
     "data": {
      "text/html": [
       "<div>\n",
       "<style scoped>\n",
       "    .dataframe tbody tr th:only-of-type {\n",
       "        vertical-align: middle;\n",
       "    }\n",
       "\n",
       "    .dataframe tbody tr th {\n",
       "        vertical-align: top;\n",
       "    }\n",
       "\n",
       "    .dataframe thead th {\n",
       "        text-align: right;\n",
       "    }\n",
       "</style>\n",
       "<table border=\"1\" class=\"dataframe\">\n",
       "  <thead>\n",
       "    <tr style=\"text-align: right;\">\n",
       "      <th></th>\n",
       "      <th>app</th>\n",
       "      <th>category</th>\n",
       "      <th>rating</th>\n",
       "      <th>review</th>\n",
       "      <th>size</th>\n",
       "      <th>type</th>\n",
       "      <th>installs</th>\n",
       "      <th>price</th>\n",
       "      <th>content_rating</th>\n",
       "    </tr>\n",
       "  </thead>\n",
       "  <tbody>\n",
       "    <tr>\n",
       "      <th>0</th>\n",
       "      <td>Photo Editor &amp; Candy Camera &amp; Grid &amp; ScrapBook</td>\n",
       "      <td>ART_AND_DESIGN</td>\n",
       "      <td>4.1</td>\n",
       "      <td>159</td>\n",
       "      <td>19</td>\n",
       "      <td>Free</td>\n",
       "      <td>10000</td>\n",
       "      <td>0</td>\n",
       "      <td>Everyone</td>\n",
       "    </tr>\n",
       "    <tr>\n",
       "      <th>1</th>\n",
       "      <td>Coloring book moana</td>\n",
       "      <td>FAMILY</td>\n",
       "      <td>3.9</td>\n",
       "      <td>974</td>\n",
       "      <td>14</td>\n",
       "      <td>Free</td>\n",
       "      <td>500000</td>\n",
       "      <td>0</td>\n",
       "      <td>Everyone</td>\n",
       "    </tr>\n",
       "    <tr>\n",
       "      <th>2</th>\n",
       "      <td>U Launcher Lite – FREE Live Cool Themes, Hide ...</td>\n",
       "      <td>ART_AND_DESIGN</td>\n",
       "      <td>4.7</td>\n",
       "      <td>87510</td>\n",
       "      <td>8</td>\n",
       "      <td>Free</td>\n",
       "      <td>5000000</td>\n",
       "      <td>0</td>\n",
       "      <td>Everyone</td>\n",
       "    </tr>\n",
       "    <tr>\n",
       "      <th>3</th>\n",
       "      <td>Sketch - Draw &amp; Paint</td>\n",
       "      <td>ART_AND_DESIGN</td>\n",
       "      <td>4.5</td>\n",
       "      <td>215644</td>\n",
       "      <td>25</td>\n",
       "      <td>Free</td>\n",
       "      <td>50000000</td>\n",
       "      <td>0</td>\n",
       "      <td>Teen</td>\n",
       "    </tr>\n",
       "    <tr>\n",
       "      <th>4</th>\n",
       "      <td>Pixel Draw - Number Art Coloring Book</td>\n",
       "      <td>ART_AND_DESIGN</td>\n",
       "      <td>4.3</td>\n",
       "      <td>967</td>\n",
       "      <td>2</td>\n",
       "      <td>Free</td>\n",
       "      <td>100000</td>\n",
       "      <td>0</td>\n",
       "      <td>Everyone</td>\n",
       "    </tr>\n",
       "    <tr>\n",
       "      <th>...</th>\n",
       "      <td>...</td>\n",
       "      <td>...</td>\n",
       "      <td>...</td>\n",
       "      <td>...</td>\n",
       "      <td>...</td>\n",
       "      <td>...</td>\n",
       "      <td>...</td>\n",
       "      <td>...</td>\n",
       "      <td>...</td>\n",
       "    </tr>\n",
       "    <tr>\n",
       "      <th>9643</th>\n",
       "      <td>Sya9a Maroc - FR</td>\n",
       "      <td>FAMILY</td>\n",
       "      <td>4.5</td>\n",
       "      <td>38</td>\n",
       "      <td>53</td>\n",
       "      <td>Free</td>\n",
       "      <td>5000</td>\n",
       "      <td>0</td>\n",
       "      <td>Everyone</td>\n",
       "    </tr>\n",
       "    <tr>\n",
       "      <th>9644</th>\n",
       "      <td>Fr. Mike Schmitz Audio Teachings</td>\n",
       "      <td>FAMILY</td>\n",
       "      <td>5.0</td>\n",
       "      <td>4</td>\n",
       "      <td>3</td>\n",
       "      <td>Free</td>\n",
       "      <td>100</td>\n",
       "      <td>0</td>\n",
       "      <td>Everyone</td>\n",
       "    </tr>\n",
       "    <tr>\n",
       "      <th>9645</th>\n",
       "      <td>Parkinson Exercices FR</td>\n",
       "      <td>MEDICAL</td>\n",
       "      <td>4.4</td>\n",
       "      <td>3</td>\n",
       "      <td>9</td>\n",
       "      <td>Free</td>\n",
       "      <td>1000</td>\n",
       "      <td>0</td>\n",
       "      <td>Everyone</td>\n",
       "    </tr>\n",
       "    <tr>\n",
       "      <th>9646</th>\n",
       "      <td>The SCP Foundation DB fr nn5n</td>\n",
       "      <td>BOOKS_AND_REFERENCE</td>\n",
       "      <td>4.5</td>\n",
       "      <td>114</td>\n",
       "      <td>10</td>\n",
       "      <td>Free</td>\n",
       "      <td>1000</td>\n",
       "      <td>0</td>\n",
       "      <td>Mature 17+</td>\n",
       "    </tr>\n",
       "    <tr>\n",
       "      <th>9647</th>\n",
       "      <td>iHoroscope - 2018 Daily Horoscope &amp; Astrology</td>\n",
       "      <td>LIFESTYLE</td>\n",
       "      <td>4.5</td>\n",
       "      <td>398307</td>\n",
       "      <td>19</td>\n",
       "      <td>Free</td>\n",
       "      <td>10000000</td>\n",
       "      <td>0</td>\n",
       "      <td>Everyone</td>\n",
       "    </tr>\n",
       "  </tbody>\n",
       "</table>\n",
       "<p>9648 rows × 9 columns</p>\n",
       "</div>"
      ],
      "text/plain": [
       "                                                    app             category  \\\n",
       "0        Photo Editor & Candy Camera & Grid & ScrapBook       ART_AND_DESIGN   \n",
       "1                                   Coloring book moana               FAMILY   \n",
       "2     U Launcher Lite – FREE Live Cool Themes, Hide ...       ART_AND_DESIGN   \n",
       "3                                 Sketch - Draw & Paint       ART_AND_DESIGN   \n",
       "4                 Pixel Draw - Number Art Coloring Book       ART_AND_DESIGN   \n",
       "...                                                 ...                  ...   \n",
       "9643                                   Sya9a Maroc - FR               FAMILY   \n",
       "9644                   Fr. Mike Schmitz Audio Teachings               FAMILY   \n",
       "9645                             Parkinson Exercices FR              MEDICAL   \n",
       "9646                      The SCP Foundation DB fr nn5n  BOOKS_AND_REFERENCE   \n",
       "9647      iHoroscope - 2018 Daily Horoscope & Astrology            LIFESTYLE   \n",
       "\n",
       "      rating  review  size  type  installs  price content_rating  \n",
       "0        4.1     159    19  Free     10000      0       Everyone  \n",
       "1        3.9     974    14  Free    500000      0       Everyone  \n",
       "2        4.7   87510     8  Free   5000000      0       Everyone  \n",
       "3        4.5  215644    25  Free  50000000      0           Teen  \n",
       "4        4.3     967     2  Free    100000      0       Everyone  \n",
       "...      ...     ...   ...   ...       ...    ...            ...  \n",
       "9643     4.5      38    53  Free      5000      0       Everyone  \n",
       "9644     5.0       4     3  Free       100      0       Everyone  \n",
       "9645     4.4       3     9  Free      1000      0       Everyone  \n",
       "9646     4.5     114    10  Free      1000      0     Mature 17+  \n",
       "9647     4.5  398307    19  Free  10000000      0       Everyone  \n",
       "\n",
       "[9648 rows x 9 columns]"
      ]
     },
     "execution_count": 111,
     "metadata": {},
     "output_type": "execute_result"
    }
   ],
   "source": [
    "df"
   ]
  },
  {
   "cell_type": "markdown",
   "id": "30560ee9",
   "metadata": {},
   "source": [
    "# analysis - installs "
   ]
  },
  {
   "cell_type": "code",
   "execution_count": 113,
   "id": "93a086f1",
   "metadata": {},
   "outputs": [
    {
     "data": {
      "text/plain": [
       "0          10000\n",
       "1         500000\n",
       "2        5000000\n",
       "3       50000000\n",
       "4         100000\n",
       "          ...   \n",
       "9643        5000\n",
       "9644         100\n",
       "9645        1000\n",
       "9646        1000\n",
       "9647    10000000\n",
       "Name: installs, Length: 9648, dtype: int64"
      ]
     },
     "execution_count": 113,
     "metadata": {},
     "output_type": "execute_result"
    }
   ],
   "source": [
    "df['installs']"
   ]
  },
  {
   "cell_type": "markdown",
   "id": "7bf36eb0",
   "metadata": {},
   "source": [
    "# average , minimum , maximum"
   ]
  },
  {
   "cell_type": "code",
   "execution_count": 116,
   "id": "e4a25292",
   "metadata": {},
   "outputs": [
    {
     "name": "stdout",
     "output_type": "stream",
     "text": [
      "total size : 75283059317\n",
      "average : 7802970\n",
      "maximum : 1000000000\n",
      "minimum : 0\n"
     ]
    }
   ],
   "source": [
    "c = 0\n",
    "for i in df['installs']:\n",
    "    c +=  i\n",
    "print('total size :',c)\n",
    "print('average :',int(c/len(df)))\n",
    "print('maximum :',max(df['installs']))\n",
    "print('minimum :',min(df['installs']))"
   ]
  },
  {
   "cell_type": "markdown",
   "id": "e2c5db2e",
   "metadata": {},
   "source": [
    "8.1) types of application"
   ]
  },
  {
   "cell_type": "code",
   "execution_count": 122,
   "id": "397a3c70",
   "metadata": {},
   "outputs": [
    {
     "name": "stdout",
     "output_type": "stream",
     "text": [
      "{'Paid', 'Free'}\n"
     ]
    }
   ],
   "source": [
    "typ = []\n",
    "for i in df['type']:\n",
    "    typ.append(i)\n",
    "print(set(typ))"
   ]
  },
  {
   "cell_type": "markdown",
   "id": "14ddd2d7",
   "metadata": {},
   "source": [
    "# 8.2) number of apps in free and paid"
   ]
  },
  {
   "cell_type": "code",
   "execution_count": 126,
   "id": "3dfd1075",
   "metadata": {},
   "outputs": [
    {
     "name": "stdout",
     "output_type": "stream",
     "text": [
      "paid : 751\n",
      "free : 8897\n"
     ]
    }
   ],
   "source": [
    "free = 0\n",
    "paid = 0\n",
    "for i in df['type']:\n",
    "    if i=='Free':\n",
    "        free += 1\n",
    "    else:\n",
    "        paid += 1\n",
    "        \n",
    "print('paid :',paid)\n",
    "print('free :',free)"
   ]
  },
  {
   "cell_type": "code",
   "execution_count": 127,
   "id": "548d58cd",
   "metadata": {},
   "outputs": [],
   "source": [
    "# analysis -price"
   ]
  },
  {
   "cell_type": "code",
   "execution_count": 135,
   "id": "8c8d7d1b",
   "metadata": {},
   "outputs": [
    {
     "name": "stdout",
     "output_type": "stream",
     "text": [
      "30000\n",
      "0\n",
      "82.33447346600332\n"
     ]
    }
   ],
   "source": [
    "price = []\n",
    "t = 0\n",
    "for i in df['price']:\n",
    "    t += i\n",
    "    price.append(i)\n",
    "# print(price)\n",
    "print(max(price))\n",
    "print(min(price))\n",
    "print(t/len(df))"
   ]
  },
  {
   "cell_type": "code",
   "execution_count": 128,
   "id": "0a202e57",
   "metadata": {},
   "outputs": [
    {
     "data": {
      "text/plain": [
       "array([    0,   374,   299,   111,   224,   599,   449,   261,   149,\n",
       "         524,   749,   561,    74,   675,   411,   750,  1874,   899,\n",
       "        5999,  1274,  1124,    75,  2249,   186,   824,   112,  1499,\n",
       "        1199,  2549,  5624,  2999,   296,   336,   127,   674,   150,\n",
       "         291,  1949, 29999,  1349, 30000,   226,   132,   363,   357,\n",
       "         120,   187,   119,   486,    96,   375,  1049, 22499, 28499,\n",
       "        2849,  1424, 29249,  1492,   636,   131,  1050,  3524,  8249,\n",
       "       11624,   231,   194,   360,   147,  1455,   292,   344,  1159,\n",
       "         228,   974,   321,   195,   245,   345,  2174,   221,   217,\n",
       "       15000,  6749,   192,  2324,   270, 29624,    94,    90,    78],\n",
       "      dtype=int64)"
      ]
     },
     "execution_count": 128,
     "metadata": {},
     "output_type": "execute_result"
    }
   ],
   "source": [
    "df['price'].unique()"
   ]
  },
  {
   "cell_type": "code",
   "execution_count": 10,
   "id": "4667ae20",
   "metadata": {},
   "outputs": [],
   "source": [
    "df = df.dropna()"
   ]
  },
  {
   "cell_type": "code",
   "execution_count": 12,
   "id": "3d42f3fa",
   "metadata": {},
   "outputs": [
    {
     "data": {
      "text/plain": [
       "app               0\n",
       "category          0\n",
       "rating            0\n",
       "review            0\n",
       "size              0\n",
       "type              0\n",
       "installs          0\n",
       "price             0\n",
       "content_rating    0\n",
       "dtype: int64"
      ]
     },
     "execution_count": 12,
     "metadata": {},
     "output_type": "execute_result"
    }
   ],
   "source": [
    "df.isnull().sum()"
   ]
  },
  {
   "cell_type": "markdown",
   "id": "998d5419",
   "metadata": {},
   "source": [
    "# 1) data analysis - categorical "
   ]
  },
  {
   "cell_type": "code",
   "execution_count": 17,
   "id": "adc089d8",
   "metadata": {},
   "outputs": [
    {
     "data": {
      "text/html": [
       "<div>\n",
       "<style scoped>\n",
       "    .dataframe tbody tr th:only-of-type {\n",
       "        vertical-align: middle;\n",
       "    }\n",
       "\n",
       "    .dataframe tbody tr th {\n",
       "        vertical-align: top;\n",
       "    }\n",
       "\n",
       "    .dataframe thead th {\n",
       "        text-align: right;\n",
       "    }\n",
       "</style>\n",
       "<table border=\"1\" class=\"dataframe\">\n",
       "  <thead>\n",
       "    <tr style=\"text-align: right;\">\n",
       "      <th></th>\n",
       "      <th>app</th>\n",
       "      <th>category</th>\n",
       "      <th>rating</th>\n",
       "      <th>review</th>\n",
       "      <th>size</th>\n",
       "      <th>type</th>\n",
       "      <th>installs</th>\n",
       "      <th>price</th>\n",
       "      <th>content_rating</th>\n",
       "    </tr>\n",
       "  </thead>\n",
       "  <tbody>\n",
       "    <tr>\n",
       "      <th>0</th>\n",
       "      <td>Photo Editor &amp; Candy Camera &amp; Grid &amp; ScrapBook</td>\n",
       "      <td>ART_AND_DESIGN</td>\n",
       "      <td>4.1</td>\n",
       "      <td>159.0</td>\n",
       "      <td>19.0</td>\n",
       "      <td>Free</td>\n",
       "      <td>10000.0</td>\n",
       "      <td>0.0</td>\n",
       "      <td>Everyone</td>\n",
       "    </tr>\n",
       "    <tr>\n",
       "      <th>1</th>\n",
       "      <td>Coloring book moana</td>\n",
       "      <td>FAMILY</td>\n",
       "      <td>3.9</td>\n",
       "      <td>974.0</td>\n",
       "      <td>14.0</td>\n",
       "      <td>Free</td>\n",
       "      <td>500000.0</td>\n",
       "      <td>0.0</td>\n",
       "      <td>Everyone</td>\n",
       "    </tr>\n",
       "    <tr>\n",
       "      <th>2</th>\n",
       "      <td>U Launcher Lite – FREE Live Cool Themes, Hide ...</td>\n",
       "      <td>ART_AND_DESIGN</td>\n",
       "      <td>4.7</td>\n",
       "      <td>87510.0</td>\n",
       "      <td>8.0</td>\n",
       "      <td>Free</td>\n",
       "      <td>5000000.0</td>\n",
       "      <td>0.0</td>\n",
       "      <td>Everyone</td>\n",
       "    </tr>\n",
       "    <tr>\n",
       "      <th>3</th>\n",
       "      <td>Sketch - Draw &amp; Paint</td>\n",
       "      <td>ART_AND_DESIGN</td>\n",
       "      <td>4.5</td>\n",
       "      <td>215644.0</td>\n",
       "      <td>25.0</td>\n",
       "      <td>Free</td>\n",
       "      <td>50000000.0</td>\n",
       "      <td>0.0</td>\n",
       "      <td>Teen</td>\n",
       "    </tr>\n",
       "    <tr>\n",
       "      <th>4</th>\n",
       "      <td>Pixel Draw - Number Art Coloring Book</td>\n",
       "      <td>ART_AND_DESIGN</td>\n",
       "      <td>4.3</td>\n",
       "      <td>967.0</td>\n",
       "      <td>2.0</td>\n",
       "      <td>Free</td>\n",
       "      <td>100000.0</td>\n",
       "      <td>0.0</td>\n",
       "      <td>Everyone</td>\n",
       "    </tr>\n",
       "  </tbody>\n",
       "</table>\n",
       "</div>"
      ],
      "text/plain": [
       "                                                 app        category  rating  \\\n",
       "0     Photo Editor & Candy Camera & Grid & ScrapBook  ART_AND_DESIGN     4.1   \n",
       "1                                Coloring book moana          FAMILY     3.9   \n",
       "2  U Launcher Lite – FREE Live Cool Themes, Hide ...  ART_AND_DESIGN     4.7   \n",
       "3                              Sketch - Draw & Paint  ART_AND_DESIGN     4.5   \n",
       "4              Pixel Draw - Number Art Coloring Book  ART_AND_DESIGN     4.3   \n",
       "\n",
       "     review  size  type    installs  price content_rating  \n",
       "0     159.0  19.0  Free     10000.0    0.0       Everyone  \n",
       "1     974.0  14.0  Free    500000.0    0.0       Everyone  \n",
       "2   87510.0   8.0  Free   5000000.0    0.0       Everyone  \n",
       "3  215644.0  25.0  Free  50000000.0    0.0           Teen  \n",
       "4     967.0   2.0  Free    100000.0    0.0       Everyone  "
      ]
     },
     "execution_count": 17,
     "metadata": {},
     "output_type": "execute_result"
    }
   ],
   "source": [
    "df.head()"
   ]
  },
  {
   "cell_type": "code",
   "execution_count": 19,
   "id": "334b5473",
   "metadata": {},
   "outputs": [
    {
     "data": {
      "text/plain": [
       "33"
      ]
     },
     "execution_count": 19,
     "metadata": {},
     "output_type": "execute_result"
    }
   ],
   "source": [
    "#number of unique categories \n",
    "len(set(list(df['category'])))"
   ]
  },
  {
   "cell_type": "code",
   "execution_count": 21,
   "id": "eb255314",
   "metadata": {},
   "outputs": [
    {
     "name": "stdout",
     "output_type": "stream",
     "text": [
      "BOOKS_AND_REFERENCE\n",
      "COMICS\n",
      "COMMUNICATION\n",
      "ENTERTAINMENT\n",
      "EVENTS\n",
      "MEDICAL\n",
      "FOOD_AND_DRINK\n",
      "HOUSE_AND_HOME\n",
      "HEALTH_AND_FITNESS\n",
      "DATING\n",
      "LIFESTYLE\n",
      "GAME\n",
      "TRAVEL_AND_LOCAL\n",
      "FINANCE\n",
      "PHOTOGRAPHY\n",
      "NEWS_AND_MAGAZINES\n",
      "PARENTING\n",
      "PRODUCTIVITY\n",
      "FAMILY\n",
      "WEATHER\n",
      "SPORTS\n",
      "VIDEO_PLAYERS\n",
      "AUTO_AND_VEHICLES\n",
      "ART_AND_DESIGN\n",
      "PERSONALIZATION\n",
      "EDUCATION\n",
      "SHOPPING\n",
      "BUSINESS\n",
      "TOOLS\n",
      "BEAUTY\n",
      "MAPS_AND_NAVIGATION\n",
      "LIBRARIES_AND_DEMO\n",
      "SOCIAL\n"
     ]
    }
   ],
   "source": [
    "#1.2) name the category \n",
    "for i in set(list(df['category'])):\n",
    "    print(i)"
   ]
  },
  {
   "cell_type": "code",
   "execution_count": 43,
   "id": "a10e119e",
   "metadata": {},
   "outputs": [
    {
     "data": {
      "text/plain": [
       "6"
      ]
     },
     "execution_count": 43,
     "metadata": {},
     "output_type": "execute_result"
    }
   ],
   "source": [
    "#1.3)create a function to get the number of unique categories \n",
    "def nunique(data):\n",
    "    return len(set(list(data)))\n",
    "nunique(df['content_rating'])"
   ]
  },
  {
   "cell_type": "code",
   "execution_count": 44,
   "id": "088fbe31",
   "metadata": {
    "scrolled": true
   },
   "outputs": [
    {
     "data": {
      "text/plain": [
       "6"
      ]
     },
     "execution_count": 44,
     "metadata": {},
     "output_type": "execute_result"
    }
   ],
   "source": [
    "# create a function to get the name of all categories \n",
    "def unique(data):\n",
    "    return list(set(list(data)))\n",
    "nunique(df['content_rating'])\n"
   ]
  },
  {
   "cell_type": "code",
   "execution_count": 30,
   "id": "183b69cc",
   "metadata": {},
   "outputs": [
    {
     "data": {
      "text/html": [
       "<div>\n",
       "<style scoped>\n",
       "    .dataframe tbody tr th:only-of-type {\n",
       "        vertical-align: middle;\n",
       "    }\n",
       "\n",
       "    .dataframe tbody tr th {\n",
       "        vertical-align: top;\n",
       "    }\n",
       "\n",
       "    .dataframe thead th {\n",
       "        text-align: right;\n",
       "    }\n",
       "</style>\n",
       "<table border=\"1\" class=\"dataframe\">\n",
       "  <thead>\n",
       "    <tr style=\"text-align: right;\">\n",
       "      <th></th>\n",
       "      <th>app</th>\n",
       "      <th>category</th>\n",
       "      <th>rating</th>\n",
       "      <th>review</th>\n",
       "      <th>size</th>\n",
       "      <th>type</th>\n",
       "      <th>installs</th>\n",
       "      <th>price</th>\n",
       "      <th>content_rating</th>\n",
       "    </tr>\n",
       "  </thead>\n",
       "  <tbody>\n",
       "    <tr>\n",
       "      <th>0</th>\n",
       "      <td>Photo Editor &amp; Candy Camera &amp; Grid &amp; ScrapBook</td>\n",
       "      <td>ART_AND_DESIGN</td>\n",
       "      <td>4.1</td>\n",
       "      <td>159.0</td>\n",
       "      <td>19.0</td>\n",
       "      <td>Free</td>\n",
       "      <td>10000.0</td>\n",
       "      <td>0.0</td>\n",
       "      <td>Everyone</td>\n",
       "    </tr>\n",
       "    <tr>\n",
       "      <th>1</th>\n",
       "      <td>Coloring book moana</td>\n",
       "      <td>FAMILY</td>\n",
       "      <td>3.9</td>\n",
       "      <td>974.0</td>\n",
       "      <td>14.0</td>\n",
       "      <td>Free</td>\n",
       "      <td>500000.0</td>\n",
       "      <td>0.0</td>\n",
       "      <td>Everyone</td>\n",
       "    </tr>\n",
       "    <tr>\n",
       "      <th>2</th>\n",
       "      <td>U Launcher Lite – FREE Live Cool Themes, Hide ...</td>\n",
       "      <td>ART_AND_DESIGN</td>\n",
       "      <td>4.7</td>\n",
       "      <td>87510.0</td>\n",
       "      <td>8.0</td>\n",
       "      <td>Free</td>\n",
       "      <td>5000000.0</td>\n",
       "      <td>0.0</td>\n",
       "      <td>Everyone</td>\n",
       "    </tr>\n",
       "    <tr>\n",
       "      <th>3</th>\n",
       "      <td>Sketch - Draw &amp; Paint</td>\n",
       "      <td>ART_AND_DESIGN</td>\n",
       "      <td>4.5</td>\n",
       "      <td>215644.0</td>\n",
       "      <td>25.0</td>\n",
       "      <td>Free</td>\n",
       "      <td>50000000.0</td>\n",
       "      <td>0.0</td>\n",
       "      <td>Teen</td>\n",
       "    </tr>\n",
       "    <tr>\n",
       "      <th>4</th>\n",
       "      <td>Pixel Draw - Number Art Coloring Book</td>\n",
       "      <td>ART_AND_DESIGN</td>\n",
       "      <td>4.3</td>\n",
       "      <td>967.0</td>\n",
       "      <td>2.0</td>\n",
       "      <td>Free</td>\n",
       "      <td>100000.0</td>\n",
       "      <td>0.0</td>\n",
       "      <td>Everyone</td>\n",
       "    </tr>\n",
       "  </tbody>\n",
       "</table>\n",
       "</div>"
      ],
      "text/plain": [
       "                                                 app        category  rating  \\\n",
       "0     Photo Editor & Candy Camera & Grid & ScrapBook  ART_AND_DESIGN     4.1   \n",
       "1                                Coloring book moana          FAMILY     3.9   \n",
       "2  U Launcher Lite – FREE Live Cool Themes, Hide ...  ART_AND_DESIGN     4.7   \n",
       "3                              Sketch - Draw & Paint  ART_AND_DESIGN     4.5   \n",
       "4              Pixel Draw - Number Art Coloring Book  ART_AND_DESIGN     4.3   \n",
       "\n",
       "     review  size  type    installs  price content_rating  \n",
       "0     159.0  19.0  Free     10000.0    0.0       Everyone  \n",
       "1     974.0  14.0  Free    500000.0    0.0       Everyone  \n",
       "2   87510.0   8.0  Free   5000000.0    0.0       Everyone  \n",
       "3  215644.0  25.0  Free  50000000.0    0.0           Teen  \n",
       "4     967.0   2.0  Free    100000.0    0.0       Everyone  "
      ]
     },
     "execution_count": 30,
     "metadata": {},
     "output_type": "execute_result"
    }
   ],
   "source": [
    "#2) analyse categories - frequency\n",
    "df.head()"
   ]
  },
  {
   "cell_type": "code",
   "execution_count": 32,
   "id": "9de289e4",
   "metadata": {},
   "outputs": [],
   "source": [
    "def freq(data,class_):\n",
    "    c = 0\n",
    "    for i in df['category']:\n",
    "        if i == class_:\n",
    "            c+=1\n",
    "    return c"
   ]
  },
  {
   "cell_type": "code",
   "execution_count": 35,
   "id": "2c70dd00",
   "metadata": {},
   "outputs": [
    {
     "data": {
      "text/plain": [
       "0"
      ]
     },
     "execution_count": 35,
     "metadata": {},
     "output_type": "execute_result"
    }
   ],
   "source": [
    "freq(df['category'],'ART_AND_DESIGN')"
   ]
  },
  {
   "cell_type": "code",
   "execution_count": 47,
   "id": "ef56eb7b",
   "metadata": {},
   "outputs": [
    {
     "data": {
      "text/plain": [
       "9648"
      ]
     },
     "execution_count": 47,
     "metadata": {},
     "output_type": "execute_result"
    }
   ],
   "source": [
    "nunique(df['app'])"
   ]
  },
  {
   "cell_type": "code",
   "execution_count": 48,
   "id": "719a472b",
   "metadata": {},
   "outputs": [
    {
     "data": {
      "text/plain": [
       "0"
      ]
     },
     "execution_count": 48,
     "metadata": {},
     "output_type": "execute_result"
    }
   ],
   "source": [
    "len(df)-nunique(df['app'])"
   ]
  },
  {
   "cell_type": "code",
   "execution_count": 50,
   "id": "b4dd6805",
   "metadata": {},
   "outputs": [
    {
     "data": {
      "text/plain": [
       "array(['Photo Editor & Candy Camera & Grid & ScrapBook',\n",
       "       'Coloring book moana',\n",
       "       'U Launcher Lite – FREE Live Cool Themes, Hide Apps', ...,\n",
       "       'Parkinson Exercices FR', 'The SCP Foundation DB fr nn5n',\n",
       "       'iHoroscope - 2018 Daily Horoscope & Astrology'], dtype=object)"
      ]
     },
     "execution_count": 50,
     "metadata": {},
     "output_type": "execute_result"
    }
   ],
   "source": [
    "df['app'].unique()"
   ]
  },
  {
   "cell_type": "code",
   "execution_count": 52,
   "id": "3fcfe350",
   "metadata": {},
   "outputs": [],
   "source": [
    "# analyse classes - automatic mode"
   ]
  },
  {
   "cell_type": "code",
   "execution_count": 55,
   "id": "2fec4bc7",
   "metadata": {},
   "outputs": [
    {
     "data": {
      "text/html": [
       "<div>\n",
       "<style scoped>\n",
       "    .dataframe tbody tr th:only-of-type {\n",
       "        vertical-align: middle;\n",
       "    }\n",
       "\n",
       "    .dataframe tbody tr th {\n",
       "        vertical-align: top;\n",
       "    }\n",
       "\n",
       "    .dataframe thead th {\n",
       "        text-align: right;\n",
       "    }\n",
       "</style>\n",
       "<table border=\"1\" class=\"dataframe\">\n",
       "  <thead>\n",
       "    <tr style=\"text-align: right;\">\n",
       "      <th></th>\n",
       "      <th>app</th>\n",
       "      <th>category</th>\n",
       "      <th>rating</th>\n",
       "      <th>review</th>\n",
       "      <th>size</th>\n",
       "      <th>type</th>\n",
       "      <th>installs</th>\n",
       "      <th>price</th>\n",
       "      <th>content_rating</th>\n",
       "    </tr>\n",
       "  </thead>\n",
       "  <tbody>\n",
       "    <tr>\n",
       "      <th>0</th>\n",
       "      <td>Photo Editor &amp; Candy Camera &amp; Grid &amp; ScrapBook</td>\n",
       "      <td>ART_AND_DESIGN</td>\n",
       "      <td>4.1</td>\n",
       "      <td>159.0</td>\n",
       "      <td>19.0</td>\n",
       "      <td>Free</td>\n",
       "      <td>10000.0</td>\n",
       "      <td>0.0</td>\n",
       "      <td>Everyone</td>\n",
       "    </tr>\n",
       "    <tr>\n",
       "      <th>1</th>\n",
       "      <td>Coloring book moana</td>\n",
       "      <td>FAMILY</td>\n",
       "      <td>3.9</td>\n",
       "      <td>974.0</td>\n",
       "      <td>14.0</td>\n",
       "      <td>Free</td>\n",
       "      <td>500000.0</td>\n",
       "      <td>0.0</td>\n",
       "      <td>Everyone</td>\n",
       "    </tr>\n",
       "    <tr>\n",
       "      <th>2</th>\n",
       "      <td>U Launcher Lite – FREE Live Cool Themes, Hide ...</td>\n",
       "      <td>ART_AND_DESIGN</td>\n",
       "      <td>4.7</td>\n",
       "      <td>87510.0</td>\n",
       "      <td>8.0</td>\n",
       "      <td>Free</td>\n",
       "      <td>5000000.0</td>\n",
       "      <td>0.0</td>\n",
       "      <td>Everyone</td>\n",
       "    </tr>\n",
       "    <tr>\n",
       "      <th>3</th>\n",
       "      <td>Sketch - Draw &amp; Paint</td>\n",
       "      <td>ART_AND_DESIGN</td>\n",
       "      <td>4.5</td>\n",
       "      <td>215644.0</td>\n",
       "      <td>25.0</td>\n",
       "      <td>Free</td>\n",
       "      <td>50000000.0</td>\n",
       "      <td>0.0</td>\n",
       "      <td>Teen</td>\n",
       "    </tr>\n",
       "    <tr>\n",
       "      <th>4</th>\n",
       "      <td>Pixel Draw - Number Art Coloring Book</td>\n",
       "      <td>ART_AND_DESIGN</td>\n",
       "      <td>4.3</td>\n",
       "      <td>967.0</td>\n",
       "      <td>2.0</td>\n",
       "      <td>Free</td>\n",
       "      <td>100000.0</td>\n",
       "      <td>0.0</td>\n",
       "      <td>Everyone</td>\n",
       "    </tr>\n",
       "  </tbody>\n",
       "</table>\n",
       "</div>"
      ],
      "text/plain": [
       "                                                 app        category  rating  \\\n",
       "0     Photo Editor & Candy Camera & Grid & ScrapBook  ART_AND_DESIGN     4.1   \n",
       "1                                Coloring book moana          FAMILY     3.9   \n",
       "2  U Launcher Lite – FREE Live Cool Themes, Hide ...  ART_AND_DESIGN     4.7   \n",
       "3                              Sketch - Draw & Paint  ART_AND_DESIGN     4.5   \n",
       "4              Pixel Draw - Number Art Coloring Book  ART_AND_DESIGN     4.3   \n",
       "\n",
       "     review  size  type    installs  price content_rating  \n",
       "0     159.0  19.0  Free     10000.0    0.0       Everyone  \n",
       "1     974.0  14.0  Free    500000.0    0.0       Everyone  \n",
       "2   87510.0   8.0  Free   5000000.0    0.0       Everyone  \n",
       "3  215644.0  25.0  Free  50000000.0    0.0           Teen  \n",
       "4     967.0   2.0  Free    100000.0    0.0       Everyone  "
      ]
     },
     "execution_count": 55,
     "metadata": {},
     "output_type": "execute_result"
    }
   ],
   "source": [
    "df.head()\n"
   ]
  },
  {
   "cell_type": "code",
   "execution_count": 56,
   "id": "af880c9b",
   "metadata": {},
   "outputs": [
    {
     "data": {
      "text/plain": [
       "['Everyone',\n",
       " 'Unrated',\n",
       " 'Teen',\n",
       " 'Everyone 10+',\n",
       " 'Adults only 18+',\n",
       " 'Mature 17+']"
      ]
     },
     "execution_count": 56,
     "metadata": {},
     "output_type": "execute_result"
    }
   ],
   "source": [
    "#naive approach\n",
    "unique(df['content_rating'])"
   ]
  },
  {
   "cell_type": "code",
   "execution_count": 57,
   "id": "1fcf88ea",
   "metadata": {},
   "outputs": [
    {
     "data": {
      "text/plain": [
       "0"
      ]
     },
     "execution_count": 57,
     "metadata": {},
     "output_type": "execute_result"
    }
   ],
   "source": [
    "freq(df['content_rating'],'Everyone')\n",
    "freq(df['content_rating'],'Unrated')\n",
    "freq(df['content_rating'],'Teen')\n",
    "freq(df['content_rating'],'Everyone 10+')\n",
    "freq(df['content_rating'],'Adults only 18+')\n",
    "freq(df['content_rating'],'Mature 17+')"
   ]
  },
  {
   "cell_type": "code",
   "execution_count": 71,
   "id": "070ac782",
   "metadata": {},
   "outputs": [
    {
     "data": {
      "text/plain": [
       "['Everyone',\n",
       " 'Unrated',\n",
       " 'Teen',\n",
       " 'Everyone 10+',\n",
       " 'Adults only 18+',\n",
       " 'Mature 17+']"
      ]
     },
     "execution_count": 71,
     "metadata": {},
     "output_type": "execute_result"
    }
   ],
   "source": [
    "unique(df['content_rating'])"
   ]
  },
  {
   "cell_type": "code",
   "execution_count": 69,
   "id": "41caba05",
   "metadata": {},
   "outputs": [],
   "source": [
    "## 3.2 ) optimal approach"
   ]
  },
  {
   "cell_type": "code",
   "execution_count": 78,
   "id": "51c15f63",
   "metadata": {},
   "outputs": [
    {
     "name": "stdout",
     "output_type": "stream",
     "text": [
      "Everyone\n",
      "Unrated\n",
      "Teen\n",
      "Everyone 10+\n",
      "Adults only 18+\n",
      "Mature 17+\n"
     ]
    }
   ],
   "source": [
    "for i in unique(df['content_rating']):\n",
    "    print(i)"
   ]
  },
  {
   "cell_type": "code",
   "execution_count": 66,
   "id": "7d0c7d8f",
   "metadata": {},
   "outputs": [
    {
     "data": {
      "text/plain": [
       "0"
      ]
     },
     "execution_count": 66,
     "metadata": {},
     "output_type": "execute_result"
    }
   ],
   "source": [
    "def auto_freq(df,col_name):\n",
    "    dct = {}\n",
    "    for i in unique(df[col_name]):\n",
    "        dct[i] = freq(df[col_name],i)\n",
    "    return dct"
   ]
  },
  {
   "cell_type": "code",
   "execution_count": 67,
   "id": "f77376cf",
   "metadata": {},
   "outputs": [
    {
     "data": {
      "text/plain": [
       "0"
      ]
     },
     "execution_count": 67,
     "metadata": {},
     "output_type": "execute_result"
    }
   ],
   "source": []
  },
  {
   "cell_type": "code",
   "execution_count": null,
   "id": "76ae888f",
   "metadata": {},
   "outputs": [],
   "source": []
  }
 ],
 "metadata": {
  "kernelspec": {
   "display_name": "Python 3 (ipykernel)",
   "language": "python",
   "name": "python3"
  },
  "language_info": {
   "codemirror_mode": {
    "name": "ipython",
    "version": 3
   },
   "file_extension": ".py",
   "mimetype": "text/x-python",
   "name": "python",
   "nbconvert_exporter": "python",
   "pygments_lexer": "ipython3",
   "version": "3.9.6"
  }
 },
 "nbformat": 4,
 "nbformat_minor": 5
}

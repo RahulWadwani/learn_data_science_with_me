{
 "cells": [
  {
   "cell_type": "code",
   "execution_count": 3,
   "id": "3e0ffe22",
   "metadata": {},
   "outputs": [],
   "source": [
    "import pandas as pd \n",
    "import numpy as np \n",
    "import requests \n",
    "from bs4 import BeautifulSoup \n",
    "\n",
    "link = 'https://www.github.com/rahulwadwani'\n",
    "\n",
    "res = requests.get(link)\n",
    "soup = BeautifulSoup(res.content,'html.parser')"
   ]
  },
  {
   "cell_type": "code",
   "execution_count": 60,
   "id": "630c7637",
   "metadata": {},
   "outputs": [
    {
     "name": "stdout",
     "output_type": "stream",
     "text": [
      "None\n"
     ]
    }
   ],
   "source": [
    "name = soup.find('h1').find_all('span')[0].text.strip()\n",
    "name_id = soup.find('h1').find_all('span')[1].text.strip()\n",
    "\n",
    "# bio  = soup.find('div',class_ = '')\n",
    "\n",
    "follower   = soup.find('div',class_ = 'flex-order-1 flex-md-order-none mt-2 mt-md-0').find('div').find_all('a')[0].find('span').text\n",
    "following  = soup.find('div',class_ = 'flex-order-1 flex-md-order-none mt-2 mt-md-0').find('div').find_all('a')[1].find('span').text\n",
    "for sp in soup.find('nav',class_ = 'UnderlineNav-body width-full p-responsive js-sidenav-container-pjax').find_all('a'):\n",
    "    print(sp.fi)\n",
    "    break\n"
   ]
  },
  {
   "cell_type": "code",
   "execution_count": 29,
   "id": "8b313934",
   "metadata": {},
   "outputs": [
    {
     "data": {
      "text/plain": [
       "'RahulWadwani'"
      ]
     },
     "execution_count": 29,
     "metadata": {},
     "output_type": "execute_result"
    }
   ],
   "source": []
  },
  {
   "cell_type": "code",
   "execution_count": null,
   "id": "191506ff",
   "metadata": {},
   "outputs": [],
   "source": []
  },
  {
   "cell_type": "code",
   "execution_count": null,
   "id": "4335da30",
   "metadata": {},
   "outputs": [],
   "source": []
  },
  {
   "cell_type": "code",
   "execution_count": null,
   "id": "b55864e2",
   "metadata": {},
   "outputs": [],
   "source": []
  }
 ],
 "metadata": {
  "kernelspec": {
   "display_name": "Python 3 (ipykernel)",
   "language": "python",
   "name": "python3"
  },
  "language_info": {
   "codemirror_mode": {
    "name": "ipython",
    "version": 3
   },
   "file_extension": ".py",
   "mimetype": "text/x-python",
   "name": "python",
   "nbconvert_exporter": "python",
   "pygments_lexer": "ipython3",
   "version": "3.10.6"
  }
 },
 "nbformat": 4,
 "nbformat_minor": 5
}

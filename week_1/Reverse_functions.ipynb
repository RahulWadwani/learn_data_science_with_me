{
 "cells": [
  {
   "cell_type": "code",
   "execution_count": null,
   "id": "2b986e3c",
   "metadata": {},
   "outputs": [],
   "source": [
    "n = int(input())\n",
    "def intreverse(n):\n",
    "    ans = 0\n",
    "    while n>0:\n",
    "        d,n = n%10 , n//10\n",
    "        ans = 10* ans +d\n",
    "    return ans\n",
    "\n",
    "\n",
    "intreverse(n)\n"
   ]
  },
  {
   "cell_type": "code",
   "execution_count": null,
   "id": "67f461d3",
   "metadata": {},
   "outputs": [],
   "source": [
    "com = str(1+2j)\n",
    "a = com.split('+')[0][1]\n",
    "b = com.split('+')[1][0]\n",
    "print(a,b,com)\n",
    "print(type(a))\n",
    "print(type(b))"
   ]
  },
  {
   "cell_type": "code",
   "execution_count": 15,
   "id": "36c81d9b",
   "metadata": {},
   "outputs": [
    {
     "name": "stdout",
     "output_type": "stream",
     "text": [
      "NO\n"
     ]
    }
   ],
   "source": [
    "s1 = 'apple'\n",
    "s2 = 'notic'\n",
    "for i in s1:\n",
    "    "
   ]
  }
 ],
 "metadata": {
  "kernelspec": {
   "display_name": "Python 3 (ipykernel)",
   "language": "python",
   "name": "python3"
  },
  "language_info": {
   "codemirror_mode": {
    "name": "ipython",
    "version": 3
   },
   "file_extension": ".py",
   "mimetype": "text/x-python",
   "name": "python",
   "nbconvert_exporter": "python",
   "pygments_lexer": "ipython3",
   "version": "3.9.6"
  }
 },
 "nbformat": 4,
 "nbformat_minor": 5
}

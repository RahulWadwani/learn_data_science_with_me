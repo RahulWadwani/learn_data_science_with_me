{
 "cells": [
  {
   "cell_type": "code",
   "execution_count": 11,
   "id": "91a6cbb5",
   "metadata": {},
   "outputs": [],
   "source": [
    "a = 7\n",
    "b = 3"
   ]
  },
  {
   "cell_type": "markdown",
   "id": "7cc71dc8",
   "metadata": {},
   "source": [
    "# Addition (+)"
   ]
  },
  {
   "cell_type": "code",
   "execution_count": 12,
   "id": "8f125244",
   "metadata": {},
   "outputs": [
    {
     "data": {
      "text/plain": [
       "10"
      ]
     },
     "execution_count": 12,
     "metadata": {},
     "output_type": "execute_result"
    }
   ],
   "source": [
    "a + b"
   ]
  },
  {
   "cell_type": "markdown",
   "id": "5bacf775",
   "metadata": {},
   "source": [
    "# Substraction (-)"
   ]
  },
  {
   "cell_type": "code",
   "execution_count": 13,
   "id": "d7f3431e",
   "metadata": {},
   "outputs": [
    {
     "data": {
      "text/plain": [
       "4"
      ]
     },
     "execution_count": 13,
     "metadata": {},
     "output_type": "execute_result"
    }
   ],
   "source": [
    "a - b "
   ]
  },
  {
   "cell_type": "markdown",
   "id": "860cff52",
   "metadata": {},
   "source": [
    "# Multiplication (*)"
   ]
  },
  {
   "cell_type": "code",
   "execution_count": 14,
   "id": "dc2e5347",
   "metadata": {},
   "outputs": [
    {
     "data": {
      "text/plain": [
       "21"
      ]
     },
     "execution_count": 14,
     "metadata": {},
     "output_type": "execute_result"
    }
   ],
   "source": [
    "a * b"
   ]
  },
  {
   "cell_type": "markdown",
   "id": "86e28f48",
   "metadata": {},
   "source": [
    "# Division (/)"
   ]
  },
  {
   "cell_type": "code",
   "execution_count": 15,
   "id": "3eb1ef69",
   "metadata": {},
   "outputs": [
    {
     "data": {
      "text/plain": [
       "2.3333333333333335"
      ]
     },
     "execution_count": 15,
     "metadata": {},
     "output_type": "execute_result"
    }
   ],
   "source": [
    "a / b"
   ]
  },
  {
   "cell_type": "markdown",
   "id": "fe262b2a",
   "metadata": {},
   "source": [
    "# Floor Division (//)"
   ]
  },
  {
   "cell_type": "code",
   "execution_count": 16,
   "id": "8dcfe910",
   "metadata": {},
   "outputs": [
    {
     "data": {
      "text/plain": [
       "2"
      ]
     },
     "execution_count": 16,
     "metadata": {},
     "output_type": "execute_result"
    }
   ],
   "source": [
    "a // b"
   ]
  },
  {
   "cell_type": "markdown",
   "id": "6482f234",
   "metadata": {},
   "source": [
    "# Modulous (%)"
   ]
  },
  {
   "cell_type": "code",
   "execution_count": 17,
   "id": "55b02bff",
   "metadata": {},
   "outputs": [
    {
     "data": {
      "text/plain": [
       "1"
      ]
     },
     "execution_count": 17,
     "metadata": {},
     "output_type": "execute_result"
    }
   ],
   "source": [
    "a % b"
   ]
  },
  {
   "cell_type": "markdown",
   "id": "a546d784",
   "metadata": {},
   "source": [
    "# Power(**)"
   ]
  },
  {
   "cell_type": "code",
   "execution_count": 18,
   "id": "a0eda169",
   "metadata": {},
   "outputs": [
    {
     "data": {
      "text/plain": [
       "343"
      ]
     },
     "execution_count": 18,
     "metadata": {},
     "output_type": "execute_result"
    }
   ],
   "source": [
    "a ** b"
   ]
  }
 ],
 "metadata": {
  "kernelspec": {
   "display_name": "Python 3 (ipykernel)",
   "language": "python",
   "name": "python3"
  },
  "language_info": {
   "codemirror_mode": {
    "name": "ipython",
    "version": 3
   },
   "file_extension": ".py",
   "mimetype": "text/x-python",
   "name": "python",
   "nbconvert_exporter": "python",
   "pygments_lexer": "ipython3",
   "version": "3.9.6"
  }
 },
 "nbformat": 4,
 "nbformat_minor": 5
}

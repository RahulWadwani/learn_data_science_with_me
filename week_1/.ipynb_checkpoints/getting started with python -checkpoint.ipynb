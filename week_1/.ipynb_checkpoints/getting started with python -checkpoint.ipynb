{
 "cells": [
  {
   "cell_type": "markdown",
   "id": "6919399e",
   "metadata": {},
   "source": [
    "# basic data types "
   ]
  },
  {
   "cell_type": "markdown",
   "id": "22ee70f6",
   "metadata": {},
   "source": [
    "## 1) Integer"
   ]
  },
  {
   "cell_type": "code",
   "execution_count": 5,
   "id": "20c2f22e",
   "metadata": {},
   "outputs": [
    {
     "name": "stdout",
     "output_type": "stream",
     "text": [
      "1\n",
      "<class 'int'>\n"
     ]
    }
   ],
   "source": [
    "a = 1\n",
    "print(a)\n",
    "print(type(a))"
   ]
  },
  {
   "cell_type": "markdown",
   "id": "667e2376",
   "metadata": {},
   "source": [
    "## 2) String"
   ]
  },
  {
   "cell_type": "code",
   "execution_count": 6,
   "id": "ca49e754",
   "metadata": {},
   "outputs": [
    {
     "name": "stdout",
     "output_type": "stream",
     "text": [
      "hello\n",
      "<class 'str'>\n"
     ]
    }
   ],
   "source": [
    "s = 'hello'\n",
    "print(s)\n",
    "print(type(s))"
   ]
  },
  {
   "cell_type": "markdown",
   "id": "76966084",
   "metadata": {},
   "source": [
    "## 3) Float"
   ]
  },
  {
   "cell_type": "code",
   "execution_count": 7,
   "id": "a55ba89f",
   "metadata": {},
   "outputs": [
    {
     "name": "stdout",
     "output_type": "stream",
     "text": [
      "1.25\n",
      "<class 'float'>\n"
     ]
    }
   ],
   "source": [
    "b = 1.25\n",
    "print(b)\n",
    "print(type(b))"
   ]
  },
  {
   "cell_type": "markdown",
   "id": "5cdaff9e",
   "metadata": {},
   "source": [
    "## 4) Boolean"
   ]
  },
  {
   "cell_type": "code",
   "execution_count": 9,
   "id": "1fc56127",
   "metadata": {},
   "outputs": [
    {
     "name": "stdout",
     "output_type": "stream",
     "text": [
      "False\n",
      "<class 'bool'>\n"
     ]
    }
   ],
   "source": [
    "print(a == b)\n",
    "print(type (a == b))"
   ]
  }
 ],
 "metadata": {
  "kernelspec": {
   "display_name": "Python 3 (ipykernel)",
   "language": "python",
   "name": "python3"
  },
  "language_info": {
   "codemirror_mode": {
    "name": "ipython",
    "version": 3
   },
   "file_extension": ".py",
   "mimetype": "text/x-python",
   "name": "python",
   "nbconvert_exporter": "python",
   "pygments_lexer": "ipython3",
   "version": "3.9.6"
  }
 },
 "nbformat": 4,
 "nbformat_minor": 5
}

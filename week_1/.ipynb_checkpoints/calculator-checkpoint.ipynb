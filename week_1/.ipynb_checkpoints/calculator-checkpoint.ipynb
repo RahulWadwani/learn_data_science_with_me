{
 "cells": [
  {
   "cell_type": "code",
   "execution_count": 4,
   "id": "01870523",
   "metadata": {},
   "outputs": [],
   "source": [
    "x = 2\n",
    "y = 5\n"
   ]
  },
  {
   "cell_type": "code",
   "execution_count": 8,
   "id": "d3a0eea3",
   "metadata": {},
   "outputs": [
    {
     "name": "stdout",
     "output_type": "stream",
     "text": [
      "2   +   5  =  7\n",
      "2   -   5  =  -3\n",
      "2   *   5  =  10\n",
      "2   /   5  =  0.4\n",
      "2   //  5  =  0\n",
      "2   %   5  =  2\n",
      "2   **  5  =  32\n"
     ]
    }
   ],
   "source": [
    "print(x , '  +  ' , y , ' = ' , x + y)\n",
    "print(x , '  -  ' , y , ' = ' , x - y)\n",
    "print(x , '  *  ' , y , ' = ' , x * y)\n",
    "print(x , '  /  ' , y , ' = ' , x / y)\n",
    "print(x , '  // ' , y , ' = ' , x // y)\n",
    "print(x , '  %  ' , y , ' = ' , x % y)\n",
    "print(x , '  ** ' , y , ' = ' , x ** y)"
   ]
  }
 ],
 "metadata": {
  "kernelspec": {
   "display_name": "Python 3 (ipykernel)",
   "language": "python",
   "name": "python3"
  },
  "language_info": {
   "codemirror_mode": {
    "name": "ipython",
    "version": 3
   },
   "file_extension": ".py",
   "mimetype": "text/x-python",
   "name": "python",
   "nbconvert_exporter": "python",
   "pygments_lexer": "ipython3",
   "version": "3.9.6"
  }
 },
 "nbformat": 4,
 "nbformat_minor": 5
}

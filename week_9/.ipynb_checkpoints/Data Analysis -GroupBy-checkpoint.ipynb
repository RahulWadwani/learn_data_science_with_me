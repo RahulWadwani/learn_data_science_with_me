{
 "cells": [
  {
   "cell_type": "code",
   "execution_count": 1,
   "id": "4e485387",
   "metadata": {},
   "outputs": [],
   "source": [
    "import numpy as np \n",
    "import pandas as pd"
   ]
  },
  {
   "cell_type": "code",
   "execution_count": 2,
   "id": "4d5927bb",
   "metadata": {},
   "outputs": [],
   "source": [
    "df = pd.read_csv('playstore.csv')"
   ]
  },
  {
   "cell_type": "code",
   "execution_count": 3,
   "id": "b10cc2a7",
   "metadata": {},
   "outputs": [
    {
     "data": {
      "text/html": [
       "<div>\n",
       "<style scoped>\n",
       "    .dataframe tbody tr th:only-of-type {\n",
       "        vertical-align: middle;\n",
       "    }\n",
       "\n",
       "    .dataframe tbody tr th {\n",
       "        vertical-align: top;\n",
       "    }\n",
       "\n",
       "    .dataframe thead th {\n",
       "        text-align: right;\n",
       "    }\n",
       "</style>\n",
       "<table border=\"1\" class=\"dataframe\">\n",
       "  <thead>\n",
       "    <tr style=\"text-align: right;\">\n",
       "      <th></th>\n",
       "      <th>app</th>\n",
       "      <th>category</th>\n",
       "      <th>rating</th>\n",
       "      <th>review</th>\n",
       "      <th>size</th>\n",
       "      <th>type</th>\n",
       "      <th>installs</th>\n",
       "      <th>price</th>\n",
       "      <th>content_rating</th>\n",
       "    </tr>\n",
       "  </thead>\n",
       "  <tbody>\n",
       "    <tr>\n",
       "      <th>0</th>\n",
       "      <td>Photo Editor &amp; Candy Camera &amp; Grid &amp; ScrapBook</td>\n",
       "      <td>ART_AND_DESIGN</td>\n",
       "      <td>4.1</td>\n",
       "      <td>159.0</td>\n",
       "      <td>19.0</td>\n",
       "      <td>Free</td>\n",
       "      <td>10000.0</td>\n",
       "      <td>0.0</td>\n",
       "      <td>Everyone</td>\n",
       "    </tr>\n",
       "    <tr>\n",
       "      <th>1</th>\n",
       "      <td>Coloring book moana</td>\n",
       "      <td>FAMILY</td>\n",
       "      <td>3.9</td>\n",
       "      <td>974.0</td>\n",
       "      <td>14.0</td>\n",
       "      <td>Free</td>\n",
       "      <td>500000.0</td>\n",
       "      <td>0.0</td>\n",
       "      <td>Everyone</td>\n",
       "    </tr>\n",
       "  </tbody>\n",
       "</table>\n",
       "</div>"
      ],
      "text/plain": [
       "                                              app        category  rating  \\\n",
       "0  Photo Editor & Candy Camera & Grid & ScrapBook  ART_AND_DESIGN     4.1   \n",
       "1                             Coloring book moana          FAMILY     3.9   \n",
       "\n",
       "   review  size  type  installs  price content_rating  \n",
       "0   159.0  19.0  Free   10000.0    0.0       Everyone  \n",
       "1   974.0  14.0  Free  500000.0    0.0       Everyone  "
      ]
     },
     "execution_count": 3,
     "metadata": {},
     "output_type": "execute_result"
    }
   ],
   "source": [
    "df.head(2)"
   ]
  },
  {
   "cell_type": "code",
   "execution_count": 4,
   "id": "0f6c2fd2",
   "metadata": {},
   "outputs": [],
   "source": [
    "# groupby functions is used to when we need to deal with multiple category "
   ]
  },
  {
   "cell_type": "markdown",
   "id": "54f7651f",
   "metadata": {},
   "source": [
    "# 1) print the number of paid and free apps "
   ]
  },
  {
   "cell_type": "code",
   "execution_count": 9,
   "id": "f0ac7779",
   "metadata": {},
   "outputs": [
    {
     "data": {
      "text/plain": [
       "type\n",
       "Free    8897\n",
       "Paid     751\n",
       "dtype: int64"
      ]
     },
     "execution_count": 9,
     "metadata": {},
     "output_type": "execute_result"
    }
   ],
   "source": [
    "df.groupby('type').size()  # number of times unique number of element in the particular column has "
   ]
  },
  {
   "cell_type": "markdown",
   "id": "07e0de85",
   "metadata": {},
   "source": [
    "# 2) list number of apps in each category"
   ]
  },
  {
   "cell_type": "code",
   "execution_count": 12,
   "id": "195ea133",
   "metadata": {},
   "outputs": [
    {
     "data": {
      "text/plain": [
       "category\n",
       "ART_AND_DESIGN           60\n",
       "AUTO_AND_VEHICLES        85\n",
       "BEAUTY                   53\n",
       "BOOKS_AND_REFERENCE     221\n",
       "BUSINESS                419\n",
       "COMICS                   56\n",
       "COMMUNICATION           316\n",
       "DATING                  170\n",
       "EDUCATION               102\n",
       "ENTERTAINMENT            79\n",
       "EVENTS                   64\n",
       "FAMILY                 1902\n",
       "FINANCE                 345\n",
       "FOOD_AND_DRINK          112\n",
       "GAME                    926\n",
       "HEALTH_AND_FITNESS      287\n",
       "HOUSE_AND_HOME           73\n",
       "LIBRARIES_AND_DEMO       83\n",
       "LIFESTYLE               369\n",
       "MAPS_AND_NAVIGATION     131\n",
       "MEDICAL                 396\n",
       "NEWS_AND_MAGAZINES      254\n",
       "PARENTING                60\n",
       "PERSONALIZATION         374\n",
       "PHOTOGRAPHY             281\n",
       "PRODUCTIVITY            374\n",
       "SHOPPING                202\n",
       "SOCIAL                  239\n",
       "SPORTS                  327\n",
       "TOOLS                   827\n",
       "TRAVEL_AND_LOCAL        219\n",
       "VIDEO_PLAYERS           163\n",
       "WEATHER                  79\n",
       "dtype: int64"
      ]
     },
     "execution_count": 12,
     "metadata": {},
     "output_type": "execute_result"
    }
   ],
   "source": [
    "df.groupby('category').size()"
   ]
  },
  {
   "cell_type": "markdown",
   "id": "9532dfbd",
   "metadata": {},
   "source": [
    "# 3) top categories in terms of numbr of applications"
   ]
  },
  {
   "cell_type": "code",
   "execution_count": 13,
   "id": "2c032f43",
   "metadata": {},
   "outputs": [
    {
     "data": {
      "text/plain": [
       "category\n",
       "FAMILY      1902\n",
       "GAME         926\n",
       "TOOLS        827\n",
       "BUSINESS     419\n",
       "MEDICAL      396\n",
       "dtype: int64"
      ]
     },
     "execution_count": 13,
     "metadata": {},
     "output_type": "execute_result"
    }
   ],
   "source": [
    "df.groupby('category').size().sort_values(ascending = False).head()"
   ]
  },
  {
   "cell_type": "markdown",
   "id": "aea97559",
   "metadata": {},
   "source": [
    "# 4) Top 5 content_rating in terms of number of application"
   ]
  },
  {
   "cell_type": "code",
   "execution_count": 14,
   "id": "609c8095",
   "metadata": {},
   "outputs": [
    {
     "data": {
      "text/plain": [
       "content_rating\n",
       "Everyone           7893\n",
       "Teen               1036\n",
       "Mature 17+          393\n",
       "Everyone 10+        321\n",
       "Adults only 18+       3\n",
       "dtype: int64"
      ]
     },
     "execution_count": 14,
     "metadata": {},
     "output_type": "execute_result"
    }
   ],
   "source": [
    "df.groupby('content_rating').size().sort_values(ascending= False).head()"
   ]
  },
  {
   "cell_type": "markdown",
   "id": "3f7f3d71",
   "metadata": {},
   "source": [
    "# 5) Average Price apps in each content_rating"
   ]
  },
  {
   "cell_type": "code",
   "execution_count": 16,
   "id": "d8cf21e7",
   "metadata": {},
   "outputs": [
    {
     "data": {
      "text/html": [
       "<div>\n",
       "<style scoped>\n",
       "    .dataframe tbody tr th:only-of-type {\n",
       "        vertical-align: middle;\n",
       "    }\n",
       "\n",
       "    .dataframe tbody tr th {\n",
       "        vertical-align: top;\n",
       "    }\n",
       "\n",
       "    .dataframe thead th {\n",
       "        text-align: right;\n",
       "    }\n",
       "</style>\n",
       "<table border=\"1\" class=\"dataframe\">\n",
       "  <thead>\n",
       "    <tr style=\"text-align: right;\">\n",
       "      <th></th>\n",
       "      <th>app</th>\n",
       "      <th>category</th>\n",
       "      <th>rating</th>\n",
       "      <th>review</th>\n",
       "      <th>size</th>\n",
       "      <th>type</th>\n",
       "      <th>installs</th>\n",
       "      <th>price</th>\n",
       "      <th>content_rating</th>\n",
       "    </tr>\n",
       "  </thead>\n",
       "  <tbody>\n",
       "    <tr>\n",
       "      <th>0</th>\n",
       "      <td>Photo Editor &amp; Candy Camera &amp; Grid &amp; ScrapBook</td>\n",
       "      <td>ART_AND_DESIGN</td>\n",
       "      <td>4.1</td>\n",
       "      <td>159.0</td>\n",
       "      <td>19.0</td>\n",
       "      <td>Free</td>\n",
       "      <td>10000.0</td>\n",
       "      <td>0.0</td>\n",
       "      <td>Everyone</td>\n",
       "    </tr>\n",
       "    <tr>\n",
       "      <th>1</th>\n",
       "      <td>Coloring book moana</td>\n",
       "      <td>FAMILY</td>\n",
       "      <td>3.9</td>\n",
       "      <td>974.0</td>\n",
       "      <td>14.0</td>\n",
       "      <td>Free</td>\n",
       "      <td>500000.0</td>\n",
       "      <td>0.0</td>\n",
       "      <td>Everyone</td>\n",
       "    </tr>\n",
       "  </tbody>\n",
       "</table>\n",
       "</div>"
      ],
      "text/plain": [
       "                                              app        category  rating  \\\n",
       "0  Photo Editor & Candy Camera & Grid & ScrapBook  ART_AND_DESIGN     4.1   \n",
       "1                             Coloring book moana          FAMILY     3.9   \n",
       "\n",
       "   review  size  type  installs  price content_rating  \n",
       "0   159.0  19.0  Free   10000.0    0.0       Everyone  \n",
       "1   974.0  14.0  Free  500000.0    0.0       Everyone  "
      ]
     },
     "execution_count": 16,
     "metadata": {},
     "output_type": "execute_result"
    }
   ],
   "source": [
    "df.head(2)"
   ]
  },
  {
   "cell_type": "code",
   "execution_count": 18,
   "id": "491a1b5e",
   "metadata": {},
   "outputs": [
    {
     "data": {
      "text/plain": [
       "content_rating\n",
       "Adults only 18+     0.000000\n",
       "Everyone           92.110984\n",
       "Everyone 10+       32.616822\n",
       "Mature 17+         19.475827\n",
       "Teen               47.497104\n",
       "Unrated             0.000000\n",
       "Name: price, dtype: float64"
      ]
     },
     "execution_count": 18,
     "metadata": {},
     "output_type": "execute_result"
    }
   ],
   "source": [
    "df.groupby('content_rating')['price'].mean()"
   ]
  },
  {
   "cell_type": "markdown",
   "id": "8a5abda3",
   "metadata": {},
   "source": [
    "# 6) maximum/minimum Price apps in each content rating"
   ]
  },
  {
   "cell_type": "code",
   "execution_count": 21,
   "id": "66af1556",
   "metadata": {},
   "outputs": [
    {
     "name": "stdout",
     "output_type": "stream",
     "text": [
      "maximum price content_rating\n",
      "Adults only 18+        0.0\n",
      "Everyone           30000.0\n",
      "Everyone 10+        1499.0\n",
      "Mature 17+          2249.0\n",
      "Teen               29999.0\n",
      "Unrated                0.0\n",
      "Name: price, dtype: float64\n",
      "minimum price content_rating\n",
      "Adults only 18+    0.0\n",
      "Everyone           0.0\n",
      "Everyone 10+       0.0\n",
      "Mature 17+         0.0\n",
      "Teen               0.0\n",
      "Unrated            0.0\n",
      "Name: price, dtype: float64\n"
     ]
    }
   ],
   "source": [
    "print('maximum price',df.groupby('content_rating')['price'].max())\n",
    "print('minimum price',df.groupby('content_rating')['price'].min())"
   ]
  },
  {
   "cell_type": "markdown",
   "id": "c1340cc0",
   "metadata": {},
   "source": [
    "# 7)Average number of reviews in each category"
   ]
  },
  {
   "cell_type": "code",
   "execution_count": 33,
   "id": "216542c6",
   "metadata": {},
   "outputs": [
    {
     "data": {
      "text/plain": [
       "category\n",
       "ART_AND_DESIGN          23499.850000\n",
       "AUTO_AND_VEHICLES       13690.188235\n",
       "BEAUTY                   7476.226415\n",
       "BOOKS_AND_REFERENCE     75669.072398\n",
       "BUSINESS                23155.558473\n",
       "COMICS                  41828.553571\n",
       "COMMUNICATION          904508.914557\n",
       "DATING                  21316.705882\n",
       "EDUCATION               54741.245098\n",
       "ENTERTAINMENT          185556.772152\n",
       "EVENTS                   2515.906250\n",
       "FAMILY                 181786.452681\n",
       "FINANCE                 36703.976812\n",
       "FOOD_AND_DRINK          56482.017857\n",
       "GAME                   459221.650108\n",
       "HEALTH_AND_FITNESS      73309.456446\n",
       "HOUSE_AND_HOME          26435.465753\n",
       "LIBRARIES_AND_DEMO      10683.144578\n",
       "LIFESTYLE               32065.189702\n",
       "MAPS_AND_NAVIGATION    135268.534351\n",
       "MEDICAL                  3250.209596\n",
       "NEWS_AND_MAGAZINES      91027.149606\n",
       "PARENTING               15972.183333\n",
       "PERSONALIZATION        143133.042781\n",
       "PHOTOGRAPHY            375646.992883\n",
       "PRODUCTIVITY           148583.812834\n",
       "SHOPPING               220420.059406\n",
       "SOCIAL                 953147.962343\n",
       "SPORTS                 181672.581040\n",
       "TOOLS                  277424.084643\n",
       "TRAVEL_AND_LOCAL       122452.205479\n",
       "VIDEO_PLAYERS          413035.607362\n",
       "WEATHER                155623.367089\n",
       "Name: review, dtype: float64"
      ]
     },
     "execution_count": 33,
     "metadata": {},
     "output_type": "execute_result"
    }
   ],
   "source": [
    "df.groupby('category')['review'].mean()"
   ]
  },
  {
   "cell_type": "markdown",
   "id": "867b7cbc",
   "metadata": {},
   "source": [
    "# 8) Top 5 categories in terms of total number of reviews"
   ]
  },
  {
   "cell_type": "code",
   "execution_count": 30,
   "id": "877af7bb",
   "metadata": {},
   "outputs": [
    {
     "data": {
      "text/plain": [
       "category\n",
       "GAME             425239248.0\n",
       "FAMILY           345757833.0\n",
       "COMMUNICATION    285824817.0\n",
       "TOOLS            229429718.0\n",
       "SOCIAL           227802363.0\n",
       "Name: review, dtype: float64"
      ]
     },
     "execution_count": 30,
     "metadata": {},
     "output_type": "execute_result"
    }
   ],
   "source": [
    "df.groupby('category')['review'].sum().sort_values(ascending = False).head()"
   ]
  }
 ],
 "metadata": {
  "kernelspec": {
   "display_name": "Python 3 (ipykernel)",
   "language": "python",
   "name": "python3"
  },
  "language_info": {
   "codemirror_mode": {
    "name": "ipython",
    "version": 3
   },
   "file_extension": ".py",
   "mimetype": "text/x-python",
   "name": "python",
   "nbconvert_exporter": "python",
   "pygments_lexer": "ipython3",
   "version": "3.9.6"
  }
 },
 "nbformat": 4,
 "nbformat_minor": 5
}

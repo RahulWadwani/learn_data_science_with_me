{
 "cells": [
  {
   "cell_type": "code",
   "execution_count": 29,
   "id": "8808735d",
   "metadata": {},
   "outputs": [],
   "source": [
    "import requests\n",
    "import time \n",
    "from tqdm import tqdm \n",
    "from bs4 import BeautifulSoup \n",
    "import numpy as np\n",
    "import pandas as pd \n",
    "\n",
    "\n",
    "# web browser\n",
    "from selenium import webdriver\n",
    "from webdriver_manager.chrome import ChromeDriverManager\n"
   ]
  },
  {
   "cell_type": "code",
   "execution_count": 30,
   "id": "7ecee79c",
   "metadata": {},
   "outputs": [
    {
     "name": "stderr",
     "output_type": "stream",
     "text": [
      "C:\\Users\\Rahul\\AppData\\Local\\Temp\\ipykernel_7932\\2135747900.py:1: DeprecationWarning: executable_path has been deprecated, please pass in a Service object\n",
      "  driver = webdriver.Chrome(ChromeDriverManager().install())\n"
     ]
    }
   ],
   "source": [
    "driver = webdriver.Chrome(ChromeDriverManager().install())\n",
    "driver.get('https://www.kaggle.com/')\n",
    "link = 'https://www.kaggle.com/datasets?page=1'\n",
    "driver.get(link)"
   ]
  },
  {
   "cell_type": "code",
   "execution_count": 31,
   "id": "2c16a444",
   "metadata": {},
   "outputs": [],
   "source": [
    "html = driver.page_source\n",
    "soup = BeautifulSoup(html,'html.parser')\n"
   ]
  },
  {
   "cell_type": "code",
   "execution_count": 66,
   "id": "4807d057",
   "metadata": {},
   "outputs": [],
   "source": [
    "sp = soup.find('ul',class_= 'km-list km-list--three-line')\n",
    "data = []\n",
    "for dataset in sp.find_all('li'):\n",
    "    try:\n",
    "        link                = 'https://www.kaggle.com/' + (dataset.find('a').get('href'))\n",
    "    except:\n",
    "        link = np.nan    \n",
    "    try:\n",
    "        dataset_name    = dataset.find('a').find('div',class_ = 'sc-bczRLJ sc-fEOsli sc-ZyCDH hWgGcP gYKcfE iFGGyV').text.strip()\n",
    "    except:\n",
    "        dataset_name    = np.nan \n",
    "    try:\n",
    "        published_by    = dataset.find('a').find_all('span',class_ = 'sc-llJcti sc-iIPllB sc-hlnMnd dRaCtU piKwW LIMTL')[0].find('a').text\n",
    "    except:\n",
    "        published_by    = np.nan\n",
    "    try:\n",
    "        publisher_link  = 'https://www.kaggle.com/' + dataset.find('a').find_all('span',class_ = 'sc-llJcti sc-iIPllB sc-hlnMnd dRaCtU piKwW LIMTL')[0].find('a').get('href')[1:]\n",
    "    except:\n",
    "        publisher_link  = np.nan\n",
    "    try:\n",
    "        date_time       = dataset.find('a').find_all('span',class_ = 'sc-llJcti sc-iIPllB sc-hlnMnd dRaCtU piKwW LIMTL')[0].find('span').get('title')[:-30]\n",
    "    except:\n",
    "        date_time       = np.nan\n",
    "    try:\n",
    "        usability       = dataset.find('a').find_all('span',class_ = 'sc-llJcti sc-iIPllB sc-hlnMnd dRaCtU piKwW LIMTL')[1].find('span').text[10:]\n",
    "    except:\n",
    "        usability       = np.nan\n",
    "    try:\n",
    "        tot_files       = dataset.find('a').find_all('span',class_ = 'sc-llJcti sc-iIPllB sc-hlnMnd dRaCtU piKwW LIMTL')[1].text.split(' · ')[1]\n",
    "    except:\n",
    "        tot_files       = np.nan\n",
    "    try:        \n",
    "        size            = dataset.find('a').find_all('span',class_ = 'sc-llJcti sc-iIPllB sc-hlnMnd dRaCtU piKwW LIMTL')[1].text.split(' · ')[2]\n",
    "    except:\n",
    "        size            = np.nan\n",
    "    try:\n",
    "        upvotes         = dataset.find('div',class_ = 'sc-TRNrF fyqhST sc-ejVUYw deAZlA').find('span').text\n",
    "    except:\n",
    "        upvotes         = np.nan\n",
    "        \n",
    "        \n",
    "    try:    \n",
    "        medal = dataset.find('div',class_ ='sc-TRNrF fyqhST sc-ejVUYw deAZlA').find('span',class_ = 'sc-khBlLl byRgwG').find('span').text.strip()\n",
    "    except:\n",
    "        medal = np.nan\n",
    "    \n",
    "    \n",
    "\n",
    "    data.append([dataset_name,link,published_by,publisher_link,date_time,usability,tot_files,size,upvotes,medal])\n",
    "#     break\n"
   ]
  },
  {
   "cell_type": "code",
   "execution_count": 68,
   "id": "72bb76a3",
   "metadata": {},
   "outputs": [
    {
     "data": {
      "text/html": [
       "<div>\n",
       "<style scoped>\n",
       "    .dataframe tbody tr th:only-of-type {\n",
       "        vertical-align: middle;\n",
       "    }\n",
       "\n",
       "    .dataframe tbody tr th {\n",
       "        vertical-align: top;\n",
       "    }\n",
       "\n",
       "    .dataframe thead th {\n",
       "        text-align: right;\n",
       "    }\n",
       "</style>\n",
       "<table border=\"1\" class=\"dataframe\">\n",
       "  <thead>\n",
       "    <tr style=\"text-align: right;\">\n",
       "      <th></th>\n",
       "      <th>Dataset_name</th>\n",
       "      <th>link</th>\n",
       "      <th>published_by</th>\n",
       "      <th>publisher_link</th>\n",
       "      <th>date_time</th>\n",
       "      <th>usability</th>\n",
       "      <th>tot_files</th>\n",
       "      <th>size</th>\n",
       "      <th>upvotes</th>\n",
       "      <th>medal</th>\n",
       "    </tr>\n",
       "  </thead>\n",
       "  <tbody>\n",
       "    <tr>\n",
       "      <th>0</th>\n",
       "      <td>Hotel Reservations Dataset</td>\n",
       "      <td>https://www.kaggle.com//datasets/ahsan81/hotel...</td>\n",
       "      <td>Ahsan Raza</td>\n",
       "      <td>https://www.kaggle.com/ahsan81</td>\n",
       "      <td>Wed Jan 04 2023 18:20:31</td>\n",
       "      <td>10.0</td>\n",
       "      <td>1 File (CSV)</td>\n",
       "      <td>491 kB</td>\n",
       "      <td>192</td>\n",
       "      <td>Silver</td>\n",
       "    </tr>\n",
       "    <tr>\n",
       "      <th>1</th>\n",
       "      <td>Latest Netflix TV shows and movies</td>\n",
       "      <td>https://www.kaggle.com//datasets/senapatirajes...</td>\n",
       "      <td>Senapati Rajesh</td>\n",
       "      <td>https://www.kaggle.com/senapatirajesh</td>\n",
       "      <td>Sat Jan 14 2023 22:33:12</td>\n",
       "      <td>9.4</td>\n",
       "      <td>1 File (CSV)</td>\n",
       "      <td>1 MB</td>\n",
       "      <td>51</td>\n",
       "      <td>Bronze</td>\n",
       "    </tr>\n",
       "    <tr>\n",
       "      <th>2</th>\n",
       "      <td>Divorce Rates Data: Should You Get Married?</td>\n",
       "      <td>https://www.kaggle.com//datasets/johnny1994/di...</td>\n",
       "      <td>Johnny Shollaj</td>\n",
       "      <td>https://www.kaggle.com/johnny1994</td>\n",
       "      <td>Sun Jan 15 2023 18:19:06</td>\n",
       "      <td>8.8</td>\n",
       "      <td>1 File (other)</td>\n",
       "      <td>23 kB</td>\n",
       "      <td>32</td>\n",
       "      <td>Bronze</td>\n",
       "    </tr>\n",
       "    <tr>\n",
       "      <th>3</th>\n",
       "      <td>Spotify Top 10000 Streamed Songs</td>\n",
       "      <td>https://www.kaggle.com//datasets/rakkesharv/sp...</td>\n",
       "      <td>Rakkesh Aravind G</td>\n",
       "      <td>https://www.kaggle.com/rakkesharv</td>\n",
       "      <td>Mon Jan 02 2023 13:47:15</td>\n",
       "      <td>10.0</td>\n",
       "      <td>1 File (CSV)</td>\n",
       "      <td>287 kB</td>\n",
       "      <td>72</td>\n",
       "      <td>Bronze</td>\n",
       "    </tr>\n",
       "    <tr>\n",
       "      <th>4</th>\n",
       "      <td>Fifa World Cup 2022: Complete Dataset</td>\n",
       "      <td>https://www.kaggle.com//datasets/die9origephit...</td>\n",
       "      <td>Iron486</td>\n",
       "      <td>https://www.kaggle.com/die9origephit</td>\n",
       "      <td>Mon Dec 19 2022 04:21:11</td>\n",
       "      <td>10.0</td>\n",
       "      <td>1 File (CSV)</td>\n",
       "      <td>8 kB</td>\n",
       "      <td>227</td>\n",
       "      <td>Silver</td>\n",
       "    </tr>\n",
       "  </tbody>\n",
       "</table>\n",
       "</div>"
      ],
      "text/plain": [
       "                                  Dataset_name  \\\n",
       "0                   Hotel Reservations Dataset   \n",
       "1           Latest Netflix TV shows and movies   \n",
       "2  Divorce Rates Data: Should You Get Married?   \n",
       "3             Spotify Top 10000 Streamed Songs   \n",
       "4        Fifa World Cup 2022: Complete Dataset   \n",
       "\n",
       "                                                link       published_by  \\\n",
       "0  https://www.kaggle.com//datasets/ahsan81/hotel...         Ahsan Raza   \n",
       "1  https://www.kaggle.com//datasets/senapatirajes...    Senapati Rajesh   \n",
       "2  https://www.kaggle.com//datasets/johnny1994/di...     Johnny Shollaj   \n",
       "3  https://www.kaggle.com//datasets/rakkesharv/sp...  Rakkesh Aravind G   \n",
       "4  https://www.kaggle.com//datasets/die9origephit...            Iron486   \n",
       "\n",
       "                          publisher_link                  date_time usability  \\\n",
       "0         https://www.kaggle.com/ahsan81  Wed Jan 04 2023 18:20:31       10.0   \n",
       "1  https://www.kaggle.com/senapatirajesh  Sat Jan 14 2023 22:33:12        9.4   \n",
       "2      https://www.kaggle.com/johnny1994  Sun Jan 15 2023 18:19:06        8.8   \n",
       "3      https://www.kaggle.com/rakkesharv  Mon Jan 02 2023 13:47:15       10.0   \n",
       "4   https://www.kaggle.com/die9origephit  Mon Dec 19 2022 04:21:11       10.0   \n",
       "\n",
       "        tot_files    size upvotes   medal  \n",
       "0    1 File (CSV)  491 kB     192  Silver  \n",
       "1    1 File (CSV)    1 MB      51  Bronze  \n",
       "2  1 File (other)   23 kB      32  Bronze  \n",
       "3    1 File (CSV)  287 kB      72  Bronze  \n",
       "4    1 File (CSV)    8 kB     227  Silver  "
      ]
     },
     "execution_count": 68,
     "metadata": {},
     "output_type": "execute_result"
    }
   ],
   "source": [
    "df= pd.DataFrame(data,columns =['Dataset_name','link','published_by','publisher_link','date_time','usability','tot_files','size','upvotes','medal'])\n",
    "df.head()"
   ]
  },
  {
   "cell_type": "code",
   "execution_count": 3,
   "id": "3d312721",
   "metadata": {},
   "outputs": [
    {
     "name": "stdout",
     "output_type": "stream",
     "text": [
      "^C\n",
      "Note: you may need to restart the kernel to use updated packages.\n"
     ]
    }
   ],
   "source": [
    "pip install multiprocess"
   ]
  },
  {
   "cell_type": "code",
   "execution_count": null,
   "id": "7c6d965c",
   "metadata": {},
   "outputs": [],
   "source": []
  },
  {
   "cell_type": "code",
   "execution_count": null,
   "id": "ff4922e1",
   "metadata": {},
   "outputs": [],
   "source": []
  },
  {
   "cell_type": "code",
   "execution_count": null,
   "id": "4e554ce0",
   "metadata": {},
   "outputs": [],
   "source": []
  },
  {
   "cell_type": "code",
   "execution_count": null,
   "id": "9295ea97",
   "metadata": {},
   "outputs": [],
   "source": []
  },
  {
   "cell_type": "code",
   "execution_count": null,
   "id": "a8f4ec73",
   "metadata": {},
   "outputs": [],
   "source": []
  },
  {
   "cell_type": "code",
   "execution_count": null,
   "id": "74703e6b",
   "metadata": {},
   "outputs": [],
   "source": []
  },
  {
   "cell_type": "code",
   "execution_count": null,
   "id": "9449e1e0",
   "metadata": {},
   "outputs": [],
   "source": []
  },
  {
   "cell_type": "code",
   "execution_count": null,
   "id": "6e115b15",
   "metadata": {},
   "outputs": [],
   "source": []
  },
  {
   "cell_type": "code",
   "execution_count": null,
   "id": "88ec80bd",
   "metadata": {},
   "outputs": [],
   "source": []
  },
  {
   "cell_type": "code",
   "execution_count": null,
   "id": "f5e5b704",
   "metadata": {},
   "outputs": [],
   "source": []
  },
  {
   "cell_type": "code",
   "execution_count": null,
   "id": "b7aee2f9",
   "metadata": {},
   "outputs": [],
   "source": []
  },
  {
   "cell_type": "code",
   "execution_count": null,
   "id": "a5cb74a6",
   "metadata": {},
   "outputs": [],
   "source": []
  },
  {
   "cell_type": "code",
   "execution_count": null,
   "id": "1e3d6354",
   "metadata": {},
   "outputs": [],
   "source": []
  },
  {
   "cell_type": "code",
   "execution_count": null,
   "id": "71005398",
   "metadata": {},
   "outputs": [],
   "source": []
  },
  {
   "cell_type": "code",
   "execution_count": null,
   "id": "1f94aa7b",
   "metadata": {},
   "outputs": [],
   "source": []
  },
  {
   "cell_type": "code",
   "execution_count": null,
   "id": "ab55be87",
   "metadata": {},
   "outputs": [],
   "source": []
  },
  {
   "cell_type": "code",
   "execution_count": null,
   "id": "f698dbcc",
   "metadata": {},
   "outputs": [],
   "source": []
  },
  {
   "cell_type": "code",
   "execution_count": null,
   "id": "159819d4",
   "metadata": {},
   "outputs": [],
   "source": []
  },
  {
   "cell_type": "code",
   "execution_count": null,
   "id": "f2015c65",
   "metadata": {},
   "outputs": [],
   "source": []
  },
  {
   "cell_type": "code",
   "execution_count": null,
   "id": "3d6002b1",
   "metadata": {},
   "outputs": [],
   "source": []
  },
  {
   "cell_type": "code",
   "execution_count": null,
   "id": "e8ac9eb6",
   "metadata": {},
   "outputs": [],
   "source": []
  },
  {
   "cell_type": "code",
   "execution_count": null,
   "id": "9da9c3da",
   "metadata": {},
   "outputs": [],
   "source": []
  },
  {
   "cell_type": "code",
   "execution_count": null,
   "id": "a4ddd82b",
   "metadata": {},
   "outputs": [],
   "source": []
  },
  {
   "cell_type": "code",
   "execution_count": null,
   "id": "0f264357",
   "metadata": {},
   "outputs": [],
   "source": []
  },
  {
   "cell_type": "code",
   "execution_count": null,
   "id": "c66e2de1",
   "metadata": {},
   "outputs": [],
   "source": []
  },
  {
   "cell_type": "code",
   "execution_count": null,
   "id": "bfce8560",
   "metadata": {},
   "outputs": [],
   "source": []
  },
  {
   "cell_type": "code",
   "execution_count": null,
   "id": "92771931",
   "metadata": {},
   "outputs": [],
   "source": []
  },
  {
   "cell_type": "code",
   "execution_count": null,
   "id": "6b91dfb2",
   "metadata": {},
   "outputs": [],
   "source": []
  },
  {
   "cell_type": "code",
   "execution_count": null,
   "id": "152b3ba2",
   "metadata": {},
   "outputs": [],
   "source": []
  },
  {
   "cell_type": "code",
   "execution_count": null,
   "id": "1fc483ab",
   "metadata": {},
   "outputs": [],
   "source": []
  },
  {
   "cell_type": "code",
   "execution_count": null,
   "id": "515fcbec",
   "metadata": {},
   "outputs": [],
   "source": []
  },
  {
   "cell_type": "code",
   "execution_count": null,
   "id": "fda45c0b",
   "metadata": {},
   "outputs": [],
   "source": []
  },
  {
   "cell_type": "code",
   "execution_count": null,
   "id": "95b2f33c",
   "metadata": {},
   "outputs": [],
   "source": []
  },
  {
   "cell_type": "code",
   "execution_count": null,
   "id": "8e034e00",
   "metadata": {},
   "outputs": [],
   "source": []
  },
  {
   "cell_type": "code",
   "execution_count": null,
   "id": "d93d8a11",
   "metadata": {},
   "outputs": [],
   "source": []
  },
  {
   "cell_type": "code",
   "execution_count": null,
   "id": "6ae80a1f",
   "metadata": {},
   "outputs": [],
   "source": []
  },
  {
   "cell_type": "code",
   "execution_count": null,
   "id": "5a2b1299",
   "metadata": {},
   "outputs": [],
   "source": []
  },
  {
   "cell_type": "code",
   "execution_count": null,
   "id": "eb1df2b1",
   "metadata": {},
   "outputs": [],
   "source": []
  },
  {
   "cell_type": "code",
   "execution_count": null,
   "id": "e67ec047",
   "metadata": {},
   "outputs": [],
   "source": []
  },
  {
   "cell_type": "code",
   "execution_count": null,
   "id": "ad5c449d",
   "metadata": {},
   "outputs": [],
   "source": []
  },
  {
   "cell_type": "code",
   "execution_count": null,
   "id": "83cbd160",
   "metadata": {},
   "outputs": [],
   "source": []
  },
  {
   "cell_type": "code",
   "execution_count": null,
   "id": "4bc4b5a5",
   "metadata": {},
   "outputs": [],
   "source": []
  },
  {
   "cell_type": "code",
   "execution_count": null,
   "id": "e916a5a0",
   "metadata": {},
   "outputs": [],
   "source": []
  },
  {
   "cell_type": "code",
   "execution_count": null,
   "id": "535d999f",
   "metadata": {},
   "outputs": [],
   "source": []
  },
  {
   "cell_type": "code",
   "execution_count": null,
   "id": "37031907",
   "metadata": {},
   "outputs": [],
   "source": []
  },
  {
   "cell_type": "code",
   "execution_count": null,
   "id": "3db1bde7",
   "metadata": {},
   "outputs": [],
   "source": []
  },
  {
   "cell_type": "code",
   "execution_count": null,
   "id": "642bd21e",
   "metadata": {},
   "outputs": [],
   "source": []
  },
  {
   "cell_type": "code",
   "execution_count": null,
   "id": "57b154fc",
   "metadata": {},
   "outputs": [],
   "source": []
  }
 ],
 "metadata": {
  "kernelspec": {
   "display_name": "Python 3 (ipykernel)",
   "language": "python",
   "name": "python3"
  },
  "language_info": {
   "codemirror_mode": {
    "name": "ipython",
    "version": 3
   },
   "file_extension": ".py",
   "mimetype": "text/x-python",
   "name": "python",
   "nbconvert_exporter": "python",
   "pygments_lexer": "ipython3",
   "version": "3.9.6"
  }
 },
 "nbformat": 4,
 "nbformat_minor": 5
}

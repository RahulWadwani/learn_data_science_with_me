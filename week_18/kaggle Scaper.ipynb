{
 "cells": [
  {
   "cell_type": "code",
   "execution_count": null,
   "id": "8808735d",
   "metadata": {},
   "outputs": [],
   "source": [
    "import requests\n",
    "import time \n",
    "from tqdm import tqdm \n",
    "from bs4 import BeautifulSoup \n",
    "import numpy as np\n",
    "import pandas as pd \n",
    "\n",
    "\n",
    "# web browser\n",
    "from selenium import webdriver\n",
    "from webdriver_manager.chrome import ChromeDriverManager\n"
   ]
  },
  {
   "cell_type": "code",
   "execution_count": null,
   "id": "7ecee79c",
   "metadata": {},
   "outputs": [],
   "source": [
    "driver = webdriver.Chrome(ChromeDriverManager().install())\n",
    "driver.get('https://www.kaggle.com/')\n",
    "link = 'https://www.kaggle.com/datasets?page=1'\n",
    "driver.get(link)"
   ]
  },
  {
   "cell_type": "code",
   "execution_count": null,
   "id": "2c16a444",
   "metadata": {},
   "outputs": [],
   "source": [
    "html = driver.page_source\n",
    "soup = BeautifulSoup(html,'html.parser')\n"
   ]
  },
  {
   "cell_type": "code",
   "execution_count": null,
   "id": "4807d057",
   "metadata": {},
   "outputs": [],
   "source": [
    "sp = soup.find('ul',class_= 'km-list km-list--three-line')\n",
    "data = []\n",
    "for dataset in sp.find_all('li'):\n",
    "    try:\n",
    "        link                = 'https://www.kaggle.com/' + (dataset.find('a').get('href'))\n",
    "    except:\n",
    "        link = np.nan    \n",
    "    try:\n",
    "        dataset_name    = dataset.find('a').find('div',class_ = 'sc-bczRLJ sc-fEOsli sc-ZyCDH hWgGcP gYKcfE iFGGyV').text.strip()\n",
    "    except:\n",
    "        dataset_name    = np.nan \n",
    "    try:\n",
    "        published_by    = dataset.find('a').find_all('span',class_ = 'sc-llJcti sc-iIPllB sc-hlnMnd dRaCtU piKwW LIMTL')[0].find('a').text\n",
    "    except:\n",
    "        published_by    = np.nan\n",
    "    try:\n",
    "        publisher_link  = 'https://www.kaggle.com/' + dataset.find('a').find_all('span',class_ = 'sc-llJcti sc-iIPllB sc-hlnMnd dRaCtU piKwW LIMTL')[0].find('a').get('href')[1:]\n",
    "    except:\n",
    "        publisher_link  = np.nan\n",
    "    try:\n",
    "        date_time       = dataset.find('a').find_all('span',class_ = 'sc-llJcti sc-iIPllB sc-hlnMnd dRaCtU piKwW LIMTL')[0].find('span').get('title')[:-30]\n",
    "    except:\n",
    "        date_time       = np.nan\n",
    "    try:\n",
    "        usability       = dataset.find('a').find_all('span',class_ = 'sc-llJcti sc-iIPllB sc-hlnMnd dRaCtU piKwW LIMTL')[1].find('span').text[10:]\n",
    "    except:\n",
    "        usability       = np.nan\n",
    "    try:\n",
    "        tot_files       = dataset.find('a').find_all('span',class_ = 'sc-llJcti sc-iIPllB sc-hlnMnd dRaCtU piKwW LIMTL')[1].text.split(' · ')[1]\n",
    "    except:\n",
    "        tot_files       = np.nan\n",
    "    try:        \n",
    "        size            = dataset.find('a').find_all('span',class_ = 'sc-llJcti sc-iIPllB sc-hlnMnd dRaCtU piKwW LIMTL')[1].text.split(' · ')[2]\n",
    "    except:\n",
    "        size            = np.nan\n",
    "    try:\n",
    "        upvotes         = dataset.find('div',class_ = 'sc-TRNrF fyqhST sc-ejVUYw deAZlA').find('span').text\n",
    "    except:\n",
    "        upvotes         = np.nan\n",
    "        \n",
    "        \n",
    "    try:    \n",
    "        medal = dataset.find('div',class_ ='sc-TRNrF fyqhST sc-ejVUYw deAZlA').find('span',class_ = 'sc-khBlLl byRgwG').find('span').text.strip()\n",
    "    except:\n",
    "        medal = np.nan\n",
    "    \n",
    "    \n",
    "\n",
    "    data.append([dataset_name,link,published_by,publisher_link,date_time,usability,tot_files,size,upvotes,medal])\n",
    "#     break\n"
   ]
  },
  {
   "cell_type": "code",
   "execution_count": null,
   "id": "72bb76a3",
   "metadata": {},
   "outputs": [],
   "source": [
    "df= pd.DataFrame(data,columns =['Dataset_name','link','published_by','publisher_link','date_time','usability','tot_files','size','upvotes','medal'])\n",
    "df.head()"
   ]
  },
  {
   "cell_type": "code",
   "execution_count": 4,
   "id": "7c6d965c",
   "metadata": {},
   "outputs": [],
   "source": [
    "def add(a):\n",
    "    c = 0\n",
    "    for i in range(a):\n",
    "        for j in range(10):\n",
    "            c += i  \n",
    "    return c\n",
    "\n",
    "def multiply(a):\n",
    "    c = 0\n",
    "    for i in range(a):\n",
    "        for j in range(10):\n",
    "            c *= j  \n",
    "    return c\n",
    "\n",
    "\n"
   ]
  },
  {
   "cell_type": "code",
   "execution_count": null,
   "id": "ff4922e1",
   "metadata": {},
   "outputs": [],
   "source": []
  },
  {
   "cell_type": "code",
   "execution_count": 10,
   "id": "4e554ce0",
   "metadata": {},
   "outputs": [],
   "source": [
    "import multiprocessing\n",
    "import time \n",
    "\n",
    "p1 = multiprocessing.Process(target = add     )\n",
    "p2 = multiprocessing.Process(target = multiply)\n",
    "p1.start()\n",
    "p2.start()\n",
    "p1.get()\n",
    "p1.join()\n",
    "p2.join()"
   ]
  },
  {
   "cell_type": "code",
   "execution_count": null,
   "id": "9295ea97",
   "metadata": {},
   "outputs": [],
   "source": []
  },
  {
   "cell_type": "code",
   "execution_count": null,
   "id": "a8f4ec73",
   "metadata": {},
   "outputs": [],
   "source": []
  },
  {
   "cell_type": "code",
   "execution_count": null,
   "id": "74703e6b",
   "metadata": {},
   "outputs": [],
   "source": []
  },
  {
   "cell_type": "code",
   "execution_count": null,
   "id": "9449e1e0",
   "metadata": {},
   "outputs": [],
   "source": []
  },
  {
   "cell_type": "code",
   "execution_count": null,
   "id": "6e115b15",
   "metadata": {},
   "outputs": [],
   "source": []
  },
  {
   "cell_type": "code",
   "execution_count": null,
   "id": "88ec80bd",
   "metadata": {},
   "outputs": [],
   "source": []
  },
  {
   "cell_type": "code",
   "execution_count": null,
   "id": "f5e5b704",
   "metadata": {},
   "outputs": [],
   "source": []
  },
  {
   "cell_type": "code",
   "execution_count": null,
   "id": "b7aee2f9",
   "metadata": {},
   "outputs": [],
   "source": []
  },
  {
   "cell_type": "code",
   "execution_count": null,
   "id": "a5cb74a6",
   "metadata": {},
   "outputs": [],
   "source": []
  },
  {
   "cell_type": "code",
   "execution_count": null,
   "id": "1e3d6354",
   "metadata": {},
   "outputs": [],
   "source": []
  },
  {
   "cell_type": "code",
   "execution_count": null,
   "id": "71005398",
   "metadata": {},
   "outputs": [],
   "source": []
  },
  {
   "cell_type": "code",
   "execution_count": null,
   "id": "1f94aa7b",
   "metadata": {},
   "outputs": [],
   "source": []
  },
  {
   "cell_type": "code",
   "execution_count": null,
   "id": "ab55be87",
   "metadata": {},
   "outputs": [],
   "source": []
  },
  {
   "cell_type": "code",
   "execution_count": null,
   "id": "f698dbcc",
   "metadata": {},
   "outputs": [],
   "source": []
  },
  {
   "cell_type": "code",
   "execution_count": null,
   "id": "159819d4",
   "metadata": {},
   "outputs": [],
   "source": []
  },
  {
   "cell_type": "code",
   "execution_count": null,
   "id": "f2015c65",
   "metadata": {},
   "outputs": [],
   "source": []
  },
  {
   "cell_type": "code",
   "execution_count": null,
   "id": "3d6002b1",
   "metadata": {},
   "outputs": [],
   "source": []
  },
  {
   "cell_type": "code",
   "execution_count": null,
   "id": "e8ac9eb6",
   "metadata": {},
   "outputs": [],
   "source": []
  },
  {
   "cell_type": "code",
   "execution_count": null,
   "id": "9da9c3da",
   "metadata": {},
   "outputs": [],
   "source": []
  },
  {
   "cell_type": "code",
   "execution_count": null,
   "id": "a4ddd82b",
   "metadata": {},
   "outputs": [],
   "source": []
  },
  {
   "cell_type": "code",
   "execution_count": null,
   "id": "0f264357",
   "metadata": {},
   "outputs": [],
   "source": []
  },
  {
   "cell_type": "code",
   "execution_count": null,
   "id": "c66e2de1",
   "metadata": {},
   "outputs": [],
   "source": []
  },
  {
   "cell_type": "code",
   "execution_count": null,
   "id": "bfce8560",
   "metadata": {},
   "outputs": [],
   "source": []
  },
  {
   "cell_type": "code",
   "execution_count": null,
   "id": "92771931",
   "metadata": {},
   "outputs": [],
   "source": []
  },
  {
   "cell_type": "code",
   "execution_count": null,
   "id": "6b91dfb2",
   "metadata": {},
   "outputs": [],
   "source": []
  },
  {
   "cell_type": "code",
   "execution_count": null,
   "id": "152b3ba2",
   "metadata": {},
   "outputs": [],
   "source": []
  },
  {
   "cell_type": "code",
   "execution_count": null,
   "id": "1fc483ab",
   "metadata": {},
   "outputs": [],
   "source": []
  },
  {
   "cell_type": "code",
   "execution_count": null,
   "id": "515fcbec",
   "metadata": {},
   "outputs": [],
   "source": []
  },
  {
   "cell_type": "code",
   "execution_count": null,
   "id": "fda45c0b",
   "metadata": {},
   "outputs": [],
   "source": []
  },
  {
   "cell_type": "code",
   "execution_count": null,
   "id": "95b2f33c",
   "metadata": {},
   "outputs": [],
   "source": []
  },
  {
   "cell_type": "code",
   "execution_count": null,
   "id": "8e034e00",
   "metadata": {},
   "outputs": [],
   "source": []
  },
  {
   "cell_type": "code",
   "execution_count": null,
   "id": "d93d8a11",
   "metadata": {},
   "outputs": [],
   "source": []
  },
  {
   "cell_type": "code",
   "execution_count": null,
   "id": "6ae80a1f",
   "metadata": {},
   "outputs": [],
   "source": []
  },
  {
   "cell_type": "code",
   "execution_count": null,
   "id": "5a2b1299",
   "metadata": {},
   "outputs": [],
   "source": []
  },
  {
   "cell_type": "code",
   "execution_count": null,
   "id": "eb1df2b1",
   "metadata": {},
   "outputs": [],
   "source": []
  },
  {
   "cell_type": "code",
   "execution_count": null,
   "id": "e67ec047",
   "metadata": {},
   "outputs": [],
   "source": []
  },
  {
   "cell_type": "code",
   "execution_count": null,
   "id": "ad5c449d",
   "metadata": {},
   "outputs": [],
   "source": []
  },
  {
   "cell_type": "code",
   "execution_count": null,
   "id": "83cbd160",
   "metadata": {},
   "outputs": [],
   "source": []
  },
  {
   "cell_type": "code",
   "execution_count": null,
   "id": "4bc4b5a5",
   "metadata": {},
   "outputs": [],
   "source": []
  },
  {
   "cell_type": "code",
   "execution_count": null,
   "id": "e916a5a0",
   "metadata": {},
   "outputs": [],
   "source": []
  },
  {
   "cell_type": "code",
   "execution_count": null,
   "id": "535d999f",
   "metadata": {},
   "outputs": [],
   "source": []
  },
  {
   "cell_type": "code",
   "execution_count": null,
   "id": "37031907",
   "metadata": {},
   "outputs": [],
   "source": []
  },
  {
   "cell_type": "code",
   "execution_count": null,
   "id": "3db1bde7",
   "metadata": {},
   "outputs": [],
   "source": []
  },
  {
   "cell_type": "code",
   "execution_count": null,
   "id": "642bd21e",
   "metadata": {},
   "outputs": [],
   "source": []
  },
  {
   "cell_type": "code",
   "execution_count": null,
   "id": "57b154fc",
   "metadata": {},
   "outputs": [],
   "source": []
  }
 ],
 "metadata": {
  "kernelspec": {
   "display_name": "Python 3 (ipykernel)",
   "language": "python",
   "name": "python3"
  },
  "language_info": {
   "codemirror_mode": {
    "name": "ipython",
    "version": 3
   },
   "file_extension": ".py",
   "mimetype": "text/x-python",
   "name": "python",
   "nbconvert_exporter": "python",
   "pygments_lexer": "ipython3",
   "version": "3.10.6"
  }
 },
 "nbformat": 4,
 "nbformat_minor": 5
}

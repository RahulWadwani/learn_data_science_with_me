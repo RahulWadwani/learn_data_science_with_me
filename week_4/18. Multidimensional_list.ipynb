{
 "cells": [
  {
   "cell_type": "code",
   "execution_count": null,
   "id": "1605f95b",
   "metadata": {},
   "outputs": [],
   "source": [
    "#column 1 represents the roll number \n",
    "#column 2 represents the name of the student \n",
    "#column 3 represents the marks in english \n",
    "#column 4 represents the marks in physics \n",
    "#column 5 represents the marks in Chemistry\n",
    "#column 6 represents the marks in mathematics \n",
    "#column 7 represents the marks in computer science\n",
    "\n",
    "students = [[1,'Rahul ',85,89,95,85,88],\n",
    "            [2,'Suraj ',84,68,59,45,68],\n",
    "            [3,'Sagar ',65,75,85,55,78],\n",
    "            [4,'Subin ',66,67,83,78,65],\n",
    "            [5,'Roshan ',68,54,98,91,84]]"
   ]
  },
  {
   "cell_type": "markdown",
   "id": "5065d106",
   "metadata": {},
   "source": [
    "# Average marks"
   ]
  },
  {
   "cell_type": "code",
   "execution_count": null,
   "id": "6f621bc8",
   "metadata": {},
   "outputs": [],
   "source": [
    "#finding the average marks obtained by each student \n",
    "Roll_no = int(input(\"Enter the roll no. :-\"))\n",
    "for i in students:\n",
    "    if i[0]==Roll_no:\n",
    "        print(\"*\"*30)\n",
    "        print(\"Name      : \" , i[1])\n",
    "        print(\"Physics   : \" , i[2])\n",
    "        print(\"Chemistry : \" , i[3])\n",
    "        print(\"Maths     : \" , i[4])\n",
    "        print(\"CS        : \" , i[5])\n",
    "        print(\"English   : \" , i[6])\n",
    "        print(\"*\"*30)\n",
    "        print(\"Average   : \",sum(i[2:])/len(i[2:]))"
   ]
  },
  {
   "cell_type": "markdown",
   "id": "7b7cb11b",
   "metadata": {},
   "source": [
    "# Max marks in english"
   ]
  },
  {
   "cell_type": "code",
   "execution_count": null,
   "id": "b89442c6",
   "metadata": {},
   "outputs": [],
   "source": [
    "#maximum marks obtained in english \n",
    "eng = []\n",
    "for marks_eng in students:\n",
    "    eng.append(marks_eng[2])\n",
    "print(max(eng))\n"
   ]
  },
  {
   "cell_type": "markdown",
   "id": "ee631d4c",
   "metadata": {},
   "source": [
    "# Max marks in physics "
   ]
  },
  {
   "cell_type": "code",
   "execution_count": null,
   "id": "97329b86",
   "metadata": {},
   "outputs": [],
   "source": [
    "#maximum marks obtained in physics \n",
    "phy = []\n",
    "for marks_phy in students:\n",
    "    phy.append(marks_phy[3])\n",
    "print(max(phy))\n"
   ]
  },
  {
   "cell_type": "markdown",
   "id": "d4cbd433",
   "metadata": {},
   "source": [
    "#  Max marks in chemistry "
   ]
  },
  {
   "cell_type": "code",
   "execution_count": null,
   "id": "bf2b6650",
   "metadata": {},
   "outputs": [],
   "source": [
    "#maximum marks obtained in chemistry \n",
    "chem = []\n",
    "for marks_chem in students:\n",
    "    chem.append(marks_chem[4])\n",
    "print(max(chem))\n"
   ]
  },
  {
   "cell_type": "markdown",
   "id": "703eb363",
   "metadata": {},
   "source": [
    "# Max marks in mathematics "
   ]
  },
  {
   "cell_type": "code",
   "execution_count": null,
   "id": "b906517e",
   "metadata": {},
   "outputs": [],
   "source": [
    "#maximum marks obtained in mathematics \n",
    "mat = []\n",
    "for marks_mat in students:\n",
    "    mat.append(marks_mat[5])\n",
    "print(max(mat))\n"
   ]
  },
  {
   "cell_type": "markdown",
   "id": "4636ad2b",
   "metadata": {},
   "source": [
    "# Max marks in CS"
   ]
  },
  {
   "cell_type": "code",
   "execution_count": null,
   "id": "124aa3f9",
   "metadata": {},
   "outputs": [],
   "source": [
    "#maximum marks obtained in computer science \n",
    "cs= []\n",
    "for marks_cs in students:\n",
    "    cs.append(marks_cs[6])\n",
    "print(max(cs))\n"
   ]
  },
  {
   "cell_type": "markdown",
   "id": "b6339ac4",
   "metadata": {},
   "source": [
    "# Highest marks in English "
   ]
  },
  {
   "cell_type": "code",
   "execution_count": null,
   "id": "3de67c96",
   "metadata": {},
   "outputs": [],
   "source": [
    "#who got the highest marks in english\n",
    "print(\"----------English----------\") \n",
    "eng=[]\n",
    "for i in students:\n",
    "    eng.append(i[2])\n",
    "    maximum = max(eng)\n",
    "    if maximum == i[2]:\n",
    "        print(\"Name :\",i[1])\n",
    "        print(\"Roll_no :\",i[0])\n"
   ]
  },
  {
   "cell_type": "markdown",
   "id": "cf0a632d",
   "metadata": {},
   "source": [
    "# Highest marks in Physics"
   ]
  },
  {
   "cell_type": "code",
   "execution_count": null,
   "id": "10460b10",
   "metadata": {},
   "outputs": [],
   "source": [
    "#who got the highest marks in physics\n",
    "print(\"----------Physics----------\")\n",
    "phy = []\n",
    "for i in students:\n",
    "    phy.append(i[3])\n",
    "    maximum = max(eng)\n",
    "    if maximum == i[3]:\n",
    "        print(\"Name :\",i[1])\n",
    "        print(\"Roll_no :\",i[0])\n"
   ]
  },
  {
   "cell_type": "markdown",
   "id": "1301fd57",
   "metadata": {},
   "source": [
    "# Highest marks in Chemistry"
   ]
  },
  {
   "cell_type": "code",
   "execution_count": null,
   "id": "da74e9b1",
   "metadata": {},
   "outputs": [],
   "source": [
    "#who got the highest marks in chemistry\n",
    "print(\"----------Chemistry----------\")\n",
    "chem = []\n",
    "for i in students:\n",
    "    chem.append(i[4])\n",
    "    maximum = max(eng)\n",
    "    if maximum == i[4]:\n",
    "        print(\"Name :\",i[1])\n",
    "        print(\"Roll_no :\",i[0])\n"
   ]
  },
  {
   "cell_type": "markdown",
   "id": "142fbd43",
   "metadata": {},
   "source": [
    "# Highest marks in Mathematics "
   ]
  },
  {
   "cell_type": "code",
   "execution_count": null,
   "id": "35a5ccdd",
   "metadata": {},
   "outputs": [],
   "source": [
    "#who got the highest marks in mathematics\n",
    "print(\"----------Mathematics----------\")\n",
    "math = []\n",
    "for i in students:\n",
    "    math.append(i[5])\n",
    "    maximum = max(eng)\n",
    "    if maximum == i[5]:\n",
    "        print(\"Name :\",i[1])\n",
    "        print(\"Roll_no :\",i[0])"
   ]
  },
  {
   "cell_type": "markdown",
   "id": "518ff619",
   "metadata": {},
   "source": [
    "# Highest Marks in CS"
   ]
  },
  {
   "cell_type": "code",
   "execution_count": null,
   "id": "14c4e616",
   "metadata": {},
   "outputs": [],
   "source": [
    "#who got the highest marks in computer science\n",
    "print(\"----------Computer Science----------\")\n",
    "cs = []\n",
    "for i in students:\n",
    "    cs.append(i[6])\n",
    "    maximum = max(eng)\n",
    "    if maximum == i[6]:\n",
    "        print(\"Name :\",i[1])\n",
    "        print(\"Roll_no :\",i[0])\n"
   ]
  },
  {
   "cell_type": "markdown",
   "id": "72b096e3",
   "metadata": {},
   "source": [
    "# Topper of the class "
   ]
  },
  {
   "cell_type": "code",
   "execution_count": null,
   "id": "11be18d5",
   "metadata": {},
   "outputs": [],
   "source": [
    "#who topped in the class \n",
    "#who overall average is the highest \n",
    "averages=[]\n",
    "for i in students :\n",
    "    averages.append(sum(students[2:])/len(students[2:]))\n",
    "print(averages)"
   ]
  },
  {
   "cell_type": "markdown",
   "id": "14633e6a",
   "metadata": {},
   "source": [
    "# Subject topper and in which subject"
   ]
  },
  {
   "cell_type": "code",
   "execution_count": null,
   "id": "b5033310",
   "metadata": {},
   "outputs": [],
   "source": [
    "# which subject did he/she topped in \n",
    "roll_number1 = int(input(\"enter the roll number :\"))\n",
    "for i in students :\n",
    "    if roll_number1 == i[0]:\n",
    "        print(max(i[2:]))"
   ]
  }
 ],
 "metadata": {
  "kernelspec": {
   "display_name": "Python 3 (ipykernel)",
   "language": "python",
   "name": "python3"
  },
  "language_info": {
   "codemirror_mode": {
    "name": "ipython",
    "version": 3
   },
   "file_extension": ".py",
   "mimetype": "text/x-python",
   "name": "python",
   "nbconvert_exporter": "python",
   "pygments_lexer": "ipython3",
   "version": "3.9.6"
  }
 },
 "nbformat": 4,
 "nbformat_minor": 5
}

{
 "cells": [
  {
   "cell_type": "markdown",
   "id": "d5b5a54f",
   "metadata": {},
   "source": [
    "## 1. Lists"
   ]
  },
  {
   "cell_type": "code",
   "execution_count": null,
   "id": "58f55c6c",
   "metadata": {},
   "outputs": [],
   "source": [
    "data = [[1, 'Prakash',60,70,85,95],\n",
    "        [2, 'Ashish' ,65,77,75,93],\n",
    "        [3, 'Anshika',68,72,85,89],\n",
    "        [4, 'Ayushi' ,62,74,90,94]]"
   ]
  },
  {
   "cell_type": "code",
   "execution_count": null,
   "id": "2650393b",
   "metadata": {},
   "outputs": [],
   "source": [
    "data"
   ]
  },
  {
   "cell_type": "markdown",
   "id": "a61272d0",
   "metadata": {},
   "source": [
    "## 2. Dictionaries"
   ]
  },
  {
   "cell_type": "code",
   "execution_count": null,
   "id": "b9e1d267",
   "metadata": {},
   "outputs": [],
   "source": [
    "dct = { 1 : {'name': 'Prakash' ,'eng' : 60, 'hin' : 70,'sci' : 85,'mth' : 95},\n",
    "        2 : {'name': 'Ashish'  ,'eng' : 65, 'hin' : 77,'sci' : 75,'mth' : 93},\n",
    "        3 : {'name': 'Anshika' ,'eng' : 68, 'hin' : 72,'sci' : 85,'mth' : 89},\n",
    "        4 : {'name': 'Ayushi'  ,'eng' : 62, 'hin' : 74,'sci' : 90,'mth' : 94}}"
   ]
  },
  {
   "cell_type": "code",
   "execution_count": null,
   "id": "7034d596",
   "metadata": {},
   "outputs": [],
   "source": [
    "\n",
    "dct[1]['name']"
   ]
  },
  {
   "cell_type": "markdown",
   "id": "1f495064",
   "metadata": {},
   "source": [
    "Q1) Student Details based on their Roll No."
   ]
  },
  {
   "cell_type": "code",
   "execution_count": null,
   "id": "25ba8469",
   "metadata": {},
   "outputs": [],
   "source": [
    "roll_no = int(input('Enter the roll no. '))\n",
    "\n",
    "print('-'*20)\n",
    "print('Name     : ', dct[roll_no]['name'])\n",
    "print('Hindi    : ', dct[roll_no]['hin'])\n",
    "print('English  : ', dct[roll_no]['eng'])\n",
    "print('Math     : ', dct[roll_no]['mth'])\n",
    "print('Science  : ', dct[roll_no]['sci'])\n",
    "print('-'*20)"
   ]
  },
  {
   "cell_type": "markdown",
   "id": "a625c1c0",
   "metadata": {},
   "source": [
    "## Q2) Student Details based on their Roll No. including Average and Total Marks"
   ]
  },
  {
   "cell_type": "code",
   "execution_count": null,
   "id": "55fafefa",
   "metadata": {},
   "outputs": [],
   "source": [
    "roll_no = int(input('Enter the roll no. '))\n",
    "\n",
    "print('-'*20)\n",
    "print('Name     : ', dct[roll_no]['name'])\n",
    "print('Hindi    : ', dct[roll_no]['hin'])\n",
    "print('English  : ', dct[roll_no]['eng'])\n",
    "print('Math     : ', dct[roll_no]['mth'])\n",
    "print('Science  : ', dct[roll_no]['sci'])\n",
    "print('-'*20)\n",
    "\n",
    "scored =  dct[roll_no]['hin'] + dct[roll_no]['eng'] + dct[roll_no]['mth'] + dct[roll_no]['sci']\n",
    "\n",
    "print('Total    : ',scored)\n",
    "print('-'*20)\n",
    "print('Average  : ',(scored/400)*100)\n",
    "print('-'*20)"
   ]
  },
  {
   "cell_type": "markdown",
   "id": "82b86517",
   "metadata": {},
   "source": [
    "##  Q3) Average and Top Marks in English"
   ]
  },
  {
   "cell_type": "code",
   "execution_count": null,
   "id": "8cc3da06",
   "metadata": {},
   "outputs": [],
   "source": [
    "eng = []\n",
    "\n",
    "for key in dct.keys():\n",
    "    eng.append(dct[key]['hin'])\n",
    "    \n",
    "print(\"Maximum  : \",max(eng))\n",
    "print(\"Average  : \",sum(eng)/len(eng))"
   ]
  },
  {
   "cell_type": "markdown",
   "id": "0943a197",
   "metadata": {},
   "source": [
    "## Q4) Who has scored most marks in English"
   ]
  },
  {
   "cell_type": "code",
   "execution_count": null,
   "id": "8643c666",
   "metadata": {},
   "outputs": [],
   "source": [
    "eng = []\n",
    "\n",
    "for key in dct.keys():\n",
    "    eng.append(dct[key]['eng'])\n",
    "    \n",
    "marks = max(eng)\n",
    "\n",
    "for key in dct.keys():\n",
    "    if (dct[key]['eng'] == marks):\n",
    "          print(dct[key]['name'])"
   ]
  },
  {
   "cell_type": "markdown",
   "id": "d066eb17",
   "metadata": {},
   "source": [
    "## Q4) Who has scored most marks in Science"
   ]
  },
  {
   "cell_type": "code",
   "execution_count": null,
   "id": "ab098749",
   "metadata": {},
   "outputs": [],
   "source": [
    "eng = []\n",
    "\n",
    "for key in dct.keys():\n",
    "    eng.append(dct[key]['sci'])\n",
    "    \n",
    "marks = max(eng)\n",
    "\n",
    "for key in dct.keys():\n",
    "    if (dct[key]['sci'] == marks):\n",
    "          print(dct[key]['name'])"
   ]
  },
  {
   "cell_type": "markdown",
   "id": "3a188a1e",
   "metadata": {},
   "source": [
    "## Finding Student details based on Name"
   ]
  },
  {
   "cell_type": "code",
   "execution_count": null,
   "id": "19e7a8f2",
   "metadata": {},
   "outputs": [],
   "source": [
    "name = input('Enter the name :')\n",
    "\n",
    "for key in dct.keys():\n",
    "    if(dct[key]['name'].lower() == name.lower()):\n",
    "        \n",
    "        print('-'*20)\n",
    "        print('Roll No  : ',key)\n",
    "        print('Hindi    : ', dct[key]['hin'])\n",
    "        print('English  : ', dct[key]['eng'])\n",
    "        print('Math     : ', dct[key]['mth'])\n",
    "        print('Science  : ', dct[key]['sci'])\n",
    "        print('-'*20)"
   ]
  },
  {
   "cell_type": "code",
   "execution_count": null,
   "id": "9ba9908c",
   "metadata": {},
   "outputs": [],
   "source": []
  }
 ],
 "metadata": {
  "kernelspec": {
   "display_name": "Python 3 (ipykernel)",
   "language": "python",
   "name": "python3"
  },
  "language_info": {
   "codemirror_mode": {
    "name": "ipython",
    "version": 3
   },
   "file_extension": ".py",
   "mimetype": "text/x-python",
   "name": "python",
   "nbconvert_exporter": "python",
   "pygments_lexer": "ipython3",
   "version": "3.9.6"
  }
 },
 "nbformat": 4,
 "nbformat_minor": 5
}

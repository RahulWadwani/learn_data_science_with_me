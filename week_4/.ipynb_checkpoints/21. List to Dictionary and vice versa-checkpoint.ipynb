{
 "cells": [
  {
   "cell_type": "markdown",
   "id": "74e66a52",
   "metadata": {},
   "source": [
    "# List to Dictionary "
   ]
  },
  {
   "cell_type": "code",
   "execution_count": 1,
   "id": "2b549933",
   "metadata": {},
   "outputs": [
    {
     "name": "stdout",
     "output_type": "stream",
     "text": [
      "{1: {'Name': 'Sagar', 'Speaking': 54, 'Work_skills': 65, 'Presentation': 86, 'Motivation': 67}, 2: {'Name': 'Natalie', 'Speaking': 85, 'Work_skills': 75, 'Presentation': 57, 'Motivation': 68}, 3: {'Name': 'Disha', 'Speaking': 75, 'Work_skills': 62, 'Presentation': 63, 'Motivation': 53}, 4: {'Name': 'Amitabh', 'Speaking': 52, 'Work_skills': 53, 'Presentation': 63, 'Motivation': 65}, 5: {'Name': 'Nisha', 'Speaking': 68, 'Work_skills': 87, 'Presentation': 84, 'Motivation': 86}}\n"
     ]
    }
   ],
   "source": [
    "#write a program to convert the data from list to dictionary\n",
    "#employee employee_id and performance\n",
    "# performance is subcategorized into (speaking ability, presentation skills , work skills, motivation) points out of 100 based system   \n",
    "Employee_list = [\n",
    "                 [1,\"Sagar\",54,65,86,67],\n",
    "                 [2,\"Natalie\",85,75,57,68],\n",
    "                 [3,\"Disha\",75,62,63,53],\n",
    "                 [4,\"Amitabh\",52,53,63,65],\n",
    "                 [5,\"Nisha\",68,87,84,86]\n",
    "                 ]\n",
    "Employee_dict={}\n",
    "for i in Employee_list:\n",
    "    #initialising the dictionary and adding the key value pair in the new dictionary being formed \n",
    "    Employee_details={}\n",
    "    Employee_details[\"Name\"]         = i[1]\n",
    "    Employee_details[\"Speaking\"]     = i[2]\n",
    "    Employee_details[\"Work_skills\"]  = i[3]\n",
    "    Employee_details[\"Presentation\"] = i[4]\n",
    "    Employee_details[\"Motivation\"]   = i[5]\n",
    "    #initialising the entire Employee_details to the master dictionary that is being defined outside the loop along with the employer_id\n",
    "    Employee_dict[i[0]] = Employee_details\n",
    "#finally printing the values \n",
    "print(Employee_dict)"
   ]
  },
  {
   "cell_type": "markdown",
   "id": "43504975",
   "metadata": {},
   "source": [
    "# Dictionary to list :- dictionary is a hierarical structure "
   ]
  },
  {
   "cell_type": "code",
   "execution_count": 1,
   "id": "b9c77c9a",
   "metadata": {},
   "outputs": [
    {
     "name": "stdout",
     "output_type": "stream",
     "text": [
      "{1: {'First_name': 'Rajat', 'Last_name': 'Bhatia', 'Age': 35, 'Runs': 4005, 'Wickets': 45, 'Matches': 123}, 2: {'First_name': 'Rishab', 'Last_name': 'Pant', 'Age': 25, 'Runs': 4305, 'Wickets': 0, 'Matches': 103}, 3: {'First_name': 'KL', 'Last_name': 'Rahul', 'Age': 28, 'Runs': 4455, 'Wickets': 1, 'Matches': 113}, 4: {'First_name': 'Virat', 'Last_name': 'Kohli', 'Age': 38, 'Runs': 8005, 'Wickets': 5, 'Matches': 203}, 5: {'First_name': 'Rohit', 'Last_name': 'Sharma', 'Age': 38, 'Runs': 8015, 'Wickets': 3, 'Matches': 223}}\n"
     ]
    }
   ],
   "source": [
    "dict = {1:{'First_name':'Rajat','Last_name':'Bhatia','Age':35,'Runs':4005,'Wickets':45,'Matches':123},\n",
    "        2:{'First_name':'Rishab','Last_name':'Pant','Age':25,'Runs':4305,'Wickets':0,'Matches':103},\n",
    "        3:{'First_name':'KL','Last_name':'Rahul','Age':28,'Runs':4455,'Wickets':1,'Matches':113},\n",
    "        4:{'First_name':'Virat','Last_name':'Kohli','Age':38,'Runs':8005,'Wickets':5,'Matches':203},\n",
    "        5:{'First_name':'Rohit','Last_name':'Sharma','Age':38,'Runs':8015,'Wickets':3,'Matches':223}}\n",
    "print(dict)"
   ]
  },
  {
   "cell_type": "code",
   "execution_count": 5,
   "id": "68aa4f21",
   "metadata": {},
   "outputs": [
    {
     "name": "stdout",
     "output_type": "stream",
     "text": [
      "[[1, 'Rajat', 'Bhatia', 35, 4005, 45, 123], [2, 'Rishab', 'Pant', 25, 4305, 0, 103], [3, 'KL', 'Rahul', 28, 4455, 1, 113], [4, 'Virat', 'Kohli', 38, 8005, 5, 203], [5, 'Rohit', 'Sharma', 38, 8015, 3, 223]]\n"
     ]
    }
   ],
   "source": [
    "batsman = []\n",
    "for keys in dict.keys():\n",
    "    batsman.append([keys,dict[keys]['First_name'],dict[keys]['Last_name'],dict[keys]['Age'],dict[keys]['Runs'],dict[keys]['Wickets'],dict[keys]['Matches']])\n",
    "print(batsman)"
   ]
  },
  {
   "cell_type": "code",
   "execution_count": null,
   "id": "2f2cc8ec",
   "metadata": {},
   "outputs": [],
   "source": []
  }
 ],
 "metadata": {
  "kernelspec": {
   "display_name": "Python 3 (ipykernel)",
   "language": "python",
   "name": "python3"
  },
  "language_info": {
   "codemirror_mode": {
    "name": "ipython",
    "version": 3
   },
   "file_extension": ".py",
   "mimetype": "text/x-python",
   "name": "python",
   "nbconvert_exporter": "python",
   "pygments_lexer": "ipython3",
   "version": "3.9.6"
  }
 },
 "nbformat": 4,
 "nbformat_minor": 5
}

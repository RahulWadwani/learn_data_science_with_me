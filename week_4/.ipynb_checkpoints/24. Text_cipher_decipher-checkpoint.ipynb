{
 "cells": [
  {
   "cell_type": "markdown",
   "id": "81b8e799",
   "metadata": {},
   "source": [
    "## Text Ciphering\n",
    "### text ciphering means encoding the given message signal to crypted form or encoding information to something which is hard to understand for the middle user "
   ]
  },
  {
   "cell_type": "code",
   "execution_count": 1,
   "id": "16749286",
   "metadata": {},
   "outputs": [
    {
     "name": "stdout",
     "output_type": "stream",
     "text": [
      "Enter your secret message : chal be\n",
      "chal be\n"
     ]
    }
   ],
   "source": [
    "text = input(\"Enter your secret message : \")\n",
    "print(text)"
   ]
  },
  {
   "cell_type": "code",
   "execution_count": 2,
   "id": "07a10c4b",
   "metadata": {},
   "outputs": [
    {
     "name": "stdout",
     "output_type": "stream",
     "text": [
      "dibm!cf\n"
     ]
    }
   ],
   "source": [
    "def cipher(ch):\n",
    "    return chr(ord(ch)+1)\n",
    "enc = ''\n",
    "for i in text:\n",
    "    ch = cipher(i)\n",
    "    enc += ch\n",
    "print(enc)"
   ]
  },
  {
   "cell_type": "markdown",
   "id": "84f57253",
   "metadata": {},
   "source": [
    "# Deciphering The message - Method I"
   ]
  },
  {
   "cell_type": "code",
   "execution_count": 3,
   "id": "489d7b61",
   "metadata": {},
   "outputs": [
    {
     "name": "stdout",
     "output_type": "stream",
     "text": [
      "chal be\n"
     ]
    }
   ],
   "source": [
    "def decipher(ch):\n",
    "    return chr(ord(ch)-1)\n",
    "dec = ''\n",
    "for i in enc:\n",
    "    ch = decipher(i)\n",
    "    dec += ch\n",
    "print(dec)"
   ]
  },
  {
   "cell_type": "markdown",
   "id": "7a0159b7",
   "metadata": {},
   "source": [
    "# text ciphering in n-places"
   ]
  },
  {
   "cell_type": "code",
   "execution_count": 4,
   "id": "4bf8df7b",
   "metadata": {},
   "outputs": [
    {
     "name": "stdout",
     "output_type": "stream",
     "text": [
      "Enter the key: 5\n",
      "hmfq%gj\n"
     ]
    }
   ],
   "source": [
    "key = int(input(\"Enter the key: \"))\n",
    "def cipher(ch,key):\n",
    "    return chr(ord(ch) + key)\n",
    "enc = ''\n",
    "for i in text:\n",
    "    ch = cipher(i,key)\n",
    "    enc += ch\n",
    "print(enc)"
   ]
  },
  {
   "cell_type": "markdown",
   "id": "5ad6b67e",
   "metadata": {},
   "source": [
    "# text deciphering in n-places"
   ]
  },
  {
   "cell_type": "code",
   "execution_count": 5,
   "id": "8fdca140",
   "metadata": {},
   "outputs": [
    {
     "name": "stdout",
     "output_type": "stream",
     "text": [
      "chal be\n"
     ]
    }
   ],
   "source": [
    "def decipher(ch,key):\n",
    "    return chr(ord(ch) - key)\n",
    "dec = ''\n",
    "for i in enc:\n",
    "    dec += decipher(i,key)\n",
    "print(dec)"
   ]
  },
  {
   "cell_type": "markdown",
   "id": "efcea062",
   "metadata": {},
   "source": [
    "# Text ciphering with key-division "
   ]
  },
  {
   "cell_type": "code",
   "execution_count": 6,
   "id": "c3c09444",
   "metadata": {},
   "outputs": [
    {
     "name": "stdout",
     "output_type": "stream",
     "text": [
      "Enter the key: 6556465456\n",
      "x}v5wz\n"
     ]
    }
   ],
   "source": [
    "key = int(input(\"Enter the key: \"))\n",
    "def cipher(ch,key):\n",
    "    key = key % 65 \n",
    "    return chr(ord(ch) + key)\n",
    "enc = ''\n",
    "for i in text:\n",
    "    ch = cipher(i,key)\n",
    "    enc += ch\n",
    "print(enc)"
   ]
  },
  {
   "cell_type": "markdown",
   "id": "c0d2e8e2",
   "metadata": {},
   "source": [
    "# Text deciphering with key-division "
   ]
  },
  {
   "cell_type": "code",
   "execution_count": 7,
   "id": "f49e4bb5",
   "metadata": {},
   "outputs": [
    {
     "name": "stdout",
     "output_type": "stream",
     "text": [
      "chal be\n"
     ]
    }
   ],
   "source": [
    "def decipher(ch,key):\n",
    "    key = key % 65\n",
    "    return chr(ord(ch) - key)\n",
    "dec = ''\n",
    "for i in enc:\n",
    "    dec += decipher(i,key)\n",
    "print(dec)"
   ]
  },
  {
   "cell_type": "markdown",
   "id": "bc91a6fb",
   "metadata": {},
   "source": [
    "# Cracking algorithm (Brute-force)"
   ]
  },
  {
   "cell_type": "code",
   "execution_count": 14,
   "id": "b67ca336",
   "metadata": {},
   "outputs": [
    {
     "ename": "SyntaxError",
     "evalue": "invalid syntax (7117074.py, line 6)",
     "output_type": "error",
     "traceback": [
      "\u001b[1;36m  Input \u001b[1;32mIn [14]\u001b[1;36m\u001b[0m\n\u001b[1;33m    for word in words:\u001b[0m\n\u001b[1;37m                     ^\u001b[0m\n\u001b[1;31mSyntaxError\u001b[0m\u001b[1;31m:\u001b[0m invalid syntax\n"
     ]
    }
   ],
   "source": [
    "words= ['is','it','they','these','how','are','may']\n",
    "for num in range(-65,65,1):\n",
    "    guess = ''\n",
    "    for i in enc:\n",
    "        guess += chr(ord(i)-num\n",
    "    for word in words:\n",
    "        if word in guess:\n",
    "            print(guess)\n",
    "            break"
   ]
  },
  {
   "cell_type": "code",
   "execution_count": 44,
   "id": "876d3acf",
   "metadata": {},
   "outputs": [
    {
     "name": "stdout",
     "output_type": "stream",
     "text": [
      "545652\n"
     ]
    }
   ],
   "source": [
    "otp = 545652\n",
    "for i in range(100000,999999):\n",
    "    if i == otp:\n",
    "        print(i)"
   ]
  }
 ],
 "metadata": {
  "kernelspec": {
   "display_name": "Python 3 (ipykernel)",
   "language": "python",
   "name": "python3"
  },
  "language_info": {
   "codemirror_mode": {
    "name": "ipython",
    "version": 3
   },
   "file_extension": ".py",
   "mimetype": "text/x-python",
   "name": "python",
   "nbconvert_exporter": "python",
   "pygments_lexer": "ipython3",
   "version": "3.9.6"
  }
 },
 "nbformat": 4,
 "nbformat_minor": 5
}

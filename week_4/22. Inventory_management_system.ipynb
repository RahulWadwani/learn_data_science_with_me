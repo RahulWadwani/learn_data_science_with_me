{
 "cells": [
  {
   "cell_type": "code",
   "execution_count": 1,
   "id": "709e52c0",
   "metadata": {},
   "outputs": [
    {
     "name": "stdout",
     "output_type": "stream",
     "text": [
      "Enter the product id 451222\n",
      "Enter the product name iphone\n",
      "Enter product price 78000\n",
      "{'451222': {'prod_name': 'iphone', 'prod_price': '78000', 'availability': 0}}\n"
     ]
    }
   ],
   "source": [
    "prod_id = str(input('Enter the product id '))\n",
    "prod_name =str(input('Enter the product name '))\n",
    "prod_price = str(input('Enter product price '))\n",
    "avail = 1\n",
    "\n",
    "inventory = {}\n",
    "\n",
    "prod_details = {}\n",
    "#inputing the product name and product price \n",
    "prod_details['prod_name']    = prod_name\n",
    "prod_details['prod_price']   = prod_price\n",
    "prod_details['availability'] = avail\n",
    "\n",
    "#creating a multidimensional list \n",
    "inventory[prod_id] = prod_details\n",
    "\n",
    "print(inventory)"
   ]
  }
 ],
 "metadata": {
  "kernelspec": {
   "display_name": "Python 3 (ipykernel)",
   "language": "python",
   "name": "python3"
  },
  "language_info": {
   "codemirror_mode": {
    "name": "ipython",
    "version": 3
   },
   "file_extension": ".py",
   "mimetype": "text/x-python",
   "name": "python",
   "nbconvert_exporter": "python",
   "pygments_lexer": "ipython3",
   "version": "3.10.4"
  }
 },
 "nbformat": 4,
 "nbformat_minor": 5
}

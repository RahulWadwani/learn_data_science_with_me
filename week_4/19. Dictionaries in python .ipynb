{
 "cells": [
  {
   "cell_type": "markdown",
   "id": "475377d4",
   "metadata": {},
   "source": [
    "# lists "
   ]
  },
  {
   "cell_type": "code",
   "execution_count": null,
   "id": "0ed53b6e",
   "metadata": {},
   "outputs": [],
   "source": [
    "ch = int(input(\"Enter the month: \"))"
   ]
  },
  {
   "cell_type": "code",
   "execution_count": null,
   "id": "802fa63c",
   "metadata": {},
   "outputs": [],
   "source": [
    "if (ch == 1):\n",
    "    print('January')\n",
    "    \n",
    "if (ch == 2):\n",
    "    print('Feb')\n",
    "\n",
    "if (ch == 3):\n",
    "    print('March')"
   ]
  },
  {
   "cell_type": "code",
   "execution_count": null,
   "id": "97c08d9d",
   "metadata": {},
   "outputs": [],
   "source": [
    "month_numb = [1,2,3,4,5,6,7,8,9,10,11,12]\n",
    "month_name = ['January','February','March','April','May','June','July','August', 'September','October','November','December']\n"
   ]
  },
  {
   "cell_type": "code",
   "execution_count": null,
   "id": "6e87a6d6",
   "metadata": {},
   "outputs": [],
   "source": [
    "ch = int(input(\"Enter the month: \"))\n",
    "\n",
    "for i in range(len(month_numb)):\n",
    "    if (ch == i):\n",
    "        print(month_name[i-1])"
   ]
  },
  {
   "cell_type": "code",
   "execution_count": null,
   "id": "500c7f66",
   "metadata": {},
   "outputs": [],
   "source": [
    "ch = int(input(\"Enter the month: \"))\n",
    "\n",
    "print(month_name[ch-1])"
   ]
  },
  {
   "cell_type": "markdown",
   "id": "a3bd1892",
   "metadata": {},
   "source": [
    "# Dictionaries \n"
   ]
  },
  {
   "cell_type": "code",
   "execution_count": null,
   "id": "0bd6d8e6",
   "metadata": {},
   "outputs": [],
   "source": [
    "dct = {1 : 'January' , 2 : 'February', 3 : 'March', 4 : 'April', 5 : 'May', 6 : 'June', 7 : 'July',8:'August',9:'September',10:'October',11:'November',12:'December'}"
   ]
  },
  {
   "cell_type": "code",
   "execution_count": null,
   "id": "87966893",
   "metadata": {},
   "outputs": [],
   "source": [
    "dct"
   ]
  },
  {
   "cell_type": "code",
   "execution_count": null,
   "id": "8fb7e61b",
   "metadata": {},
   "outputs": [],
   "source": [
    "ch = int(input(\"Enter the month: \"))\n",
    "\n",
    "dct[ch]"
   ]
  },
  {
   "cell_type": "code",
   "execution_count": null,
   "id": "bfc16885",
   "metadata": {},
   "outputs": [],
   "source": [
    "dct.keys()"
   ]
  },
  {
   "cell_type": "code",
   "execution_count": null,
   "id": "09ca30ab",
   "metadata": {},
   "outputs": [],
   "source": [
    "dct.values()\n"
   ]
  },
  {
   "cell_type": "code",
   "execution_count": null,
   "id": "117d4a5f",
   "metadata": {},
   "outputs": [],
   "source": [
    "for key in dct.keys():\n",
    "    print(key , \"-|-\",dct[key])"
   ]
  },
  {
   "cell_type": "code",
   "execution_count": null,
   "id": "b1800ecd",
   "metadata": {},
   "outputs": [],
   "source": [
    "del dct[2]"
   ]
  },
  {
   "cell_type": "code",
   "execution_count": null,
   "id": "a970109f",
   "metadata": {},
   "outputs": [],
   "source": [
    "dct"
   ]
  },
  {
   "cell_type": "code",
   "execution_count": null,
   "id": "99d6cc3a",
   "metadata": {},
   "outputs": [],
   "source": [
    "dct[2] = 'February'"
   ]
  },
  {
   "cell_type": "code",
   "execution_count": null,
   "id": "536beb88",
   "metadata": {},
   "outputs": [],
   "source": [
    "dct"
   ]
  },
  {
   "cell_type": "code",
   "execution_count": null,
   "id": "162418c7",
   "metadata": {},
   "outputs": [],
   "source": [
    "dct[4]"
   ]
  },
  {
   "cell_type": "code",
   "execution_count": null,
   "id": "d4e94200",
   "metadata": {},
   "outputs": [],
   "source": [
    "data = [[1, 'Prakash',60,70,85,95],\n",
    "        [2, 'Ashish' ,65,77,75,93],\n",
    "        [3, 'Anshika',68,72,85,89],\n",
    "        [4, 'Ayushi' ,62,74,90,94]]"
   ]
  },
  {
   "cell_type": "markdown",
   "id": "74c4ead5",
   "metadata": {},
   "source": [
    "## Q1) Student Details based on their Roll No."
   ]
  },
  {
   "cell_type": "code",
   "execution_count": null,
   "id": "bd91351f",
   "metadata": {},
   "outputs": [],
   "source": []
  },
  {
   "cell_type": "markdown",
   "id": "d6db202b",
   "metadata": {},
   "source": [
    "## Q2) Student Details based on their Roll No. including Average and Total Marks"
   ]
  },
  {
   "cell_type": "code",
   "execution_count": null,
   "id": "2542fb26",
   "metadata": {},
   "outputs": [],
   "source": []
  },
  {
   "cell_type": "markdown",
   "id": "e0506c42",
   "metadata": {},
   "source": [
    "##  Q3) Average and Top Marks in English"
   ]
  },
  {
   "cell_type": "code",
   "execution_count": null,
   "id": "5f2e42e2",
   "metadata": {},
   "outputs": [],
   "source": []
  },
  {
   "cell_type": "markdown",
   "id": "6125aaae",
   "metadata": {},
   "source": [
    "## Q4) Who has scored most marks in English"
   ]
  },
  {
   "cell_type": "code",
   "execution_count": null,
   "id": "e0754487",
   "metadata": {},
   "outputs": [],
   "source": []
  },
  {
   "cell_type": "markdown",
   "id": "2da55e4c",
   "metadata": {},
   "source": [
    "## Q4) Who has scored most marks in Science"
   ]
  },
  {
   "cell_type": "code",
   "execution_count": null,
   "id": "b2a07a6b",
   "metadata": {},
   "outputs": [],
   "source": []
  },
  {
   "cell_type": "markdown",
   "id": "501e5031",
   "metadata": {},
   "source": [
    "## Finding Student details based on Name"
   ]
  },
  {
   "cell_type": "code",
   "execution_count": null,
   "id": "e33684b0",
   "metadata": {},
   "outputs": [],
   "source": []
  }
 ],
 "metadata": {
  "kernelspec": {
   "display_name": "Python 3 (ipykernel)",
   "language": "python",
   "name": "python3"
  },
  "language_info": {
   "codemirror_mode": {
    "name": "ipython",
    "version": 3
   },
   "file_extension": ".py",
   "mimetype": "text/x-python",
   "name": "python",
   "nbconvert_exporter": "python",
   "pygments_lexer": "ipython3",
   "version": "3.9.6"
  }
 },
 "nbformat": 4,
 "nbformat_minor": 5
}

{
 "cells": [
  {
   "cell_type": "markdown",
   "id": "475377d4",
   "metadata": {},
   "source": [
    "# lists "
   ]
  },
  {
   "cell_type": "code",
   "execution_count": 1,
   "id": "0ed53b6e",
   "metadata": {},
   "outputs": [
    {
     "name": "stdout",
     "output_type": "stream",
     "text": [
      "Enter the month: 1\n"
     ]
    }
   ],
   "source": [
    "ch = int(input(\"Enter the month: \"))"
   ]
  },
  {
   "cell_type": "code",
   "execution_count": 2,
   "id": "802fa63c",
   "metadata": {},
   "outputs": [
    {
     "name": "stdout",
     "output_type": "stream",
     "text": [
      "January\n"
     ]
    }
   ],
   "source": [
    "if (ch == 1):\n",
    "    print('January')\n",
    "    \n",
    "if (ch == 2):\n",
    "    print('Feb')\n",
    "\n",
    "if (ch == 3):\n",
    "    print('March')"
   ]
  },
  {
   "cell_type": "code",
   "execution_count": 3,
   "id": "97c08d9d",
   "metadata": {},
   "outputs": [],
   "source": [
    "month_numb = [1,2,3,4,5,6,7,8,9,10,11,12]\n",
    "month_name = ['January','February','March','April','May','June','July','August', 'September','October','November','December']\n"
   ]
  },
  {
   "cell_type": "code",
   "execution_count": 4,
   "id": "6e87a6d6",
   "metadata": {},
   "outputs": [
    {
     "name": "stdout",
     "output_type": "stream",
     "text": [
      "Enter the month: 12\n"
     ]
    }
   ],
   "source": [
    "ch = int(input(\"Enter the month: \"))\n",
    "\n",
    "for i in range(len(month_numb)):\n",
    "    if (ch == i):\n",
    "        print(month_name[i-1])"
   ]
  },
  {
   "cell_type": "code",
   "execution_count": 5,
   "id": "500c7f66",
   "metadata": {},
   "outputs": [
    {
     "name": "stdout",
     "output_type": "stream",
     "text": [
      "Enter the month: 12\n",
      "December\n"
     ]
    }
   ],
   "source": [
    "ch = int(input(\"Enter the month: \"))\n",
    "\n",
    "print(month_name[ch-1])"
   ]
  },
  {
   "cell_type": "markdown",
   "id": "a3bd1892",
   "metadata": {},
   "source": [
    "# Dictionaries \n"
   ]
  },
  {
   "cell_type": "code",
   "execution_count": 6,
   "id": "0bd6d8e6",
   "metadata": {},
   "outputs": [],
   "source": [
    "dct = {1 : 'January' , 2 : 'February', 3 : 'March', 4 : 'April', 5 : 'May', 6 : 'June', 7 : 'July',8:'August',9:'September',10:'October',11:'November',12:'December'}"
   ]
  },
  {
   "cell_type": "code",
   "execution_count": 7,
   "id": "87966893",
   "metadata": {},
   "outputs": [
    {
     "data": {
      "text/plain": [
       "{1: 'January',\n",
       " 2: 'February',\n",
       " 3: 'March',\n",
       " 4: 'April',\n",
       " 5: 'May',\n",
       " 6: 'June',\n",
       " 7: 'July',\n",
       " 8: 'August',\n",
       " 9: 'September',\n",
       " 10: 'October',\n",
       " 11: 'November',\n",
       " 12: 'December'}"
      ]
     },
     "execution_count": 7,
     "metadata": {},
     "output_type": "execute_result"
    }
   ],
   "source": [
    "dct"
   ]
  },
  {
   "cell_type": "code",
   "execution_count": 8,
   "id": "8fb7e61b",
   "metadata": {},
   "outputs": [
    {
     "name": "stdout",
     "output_type": "stream",
     "text": [
      "Enter the month: 2\n"
     ]
    },
    {
     "data": {
      "text/plain": [
       "'February'"
      ]
     },
     "execution_count": 8,
     "metadata": {},
     "output_type": "execute_result"
    }
   ],
   "source": [
    "ch = int(input(\"Enter the month: \"))\n",
    "\n",
    "dct[ch]"
   ]
  },
  {
   "cell_type": "code",
   "execution_count": 9,
   "id": "bfc16885",
   "metadata": {},
   "outputs": [
    {
     "data": {
      "text/plain": [
       "dict_keys([1, 2, 3, 4, 5, 6, 7, 8, 9, 10, 11, 12])"
      ]
     },
     "execution_count": 9,
     "metadata": {},
     "output_type": "execute_result"
    }
   ],
   "source": [
    "dct.keys()"
   ]
  },
  {
   "cell_type": "code",
   "execution_count": 10,
   "id": "09ca30ab",
   "metadata": {},
   "outputs": [
    {
     "data": {
      "text/plain": [
       "dict_values(['January', 'February', 'March', 'April', 'May', 'June', 'July', 'August', 'September', 'October', 'November', 'December'])"
      ]
     },
     "execution_count": 10,
     "metadata": {},
     "output_type": "execute_result"
    }
   ],
   "source": [
    "dct.values()\n"
   ]
  },
  {
   "cell_type": "code",
   "execution_count": 11,
   "id": "117d4a5f",
   "metadata": {},
   "outputs": [
    {
     "name": "stdout",
     "output_type": "stream",
     "text": [
      "1 -|- January\n",
      "2 -|- February\n",
      "3 -|- March\n",
      "4 -|- April\n",
      "5 -|- May\n",
      "6 -|- June\n",
      "7 -|- July\n",
      "8 -|- August\n",
      "9 -|- September\n",
      "10 -|- October\n",
      "11 -|- November\n",
      "12 -|- December\n"
     ]
    }
   ],
   "source": [
    "for key in dct.keys():\n",
    "    print(key , \"-|-\",dct[key])"
   ]
  },
  {
   "cell_type": "code",
   "execution_count": 12,
   "id": "b1800ecd",
   "metadata": {},
   "outputs": [],
   "source": [
    "del dct[2]"
   ]
  },
  {
   "cell_type": "code",
   "execution_count": 13,
   "id": "a970109f",
   "metadata": {},
   "outputs": [
    {
     "data": {
      "text/plain": [
       "{1: 'January',\n",
       " 3: 'March',\n",
       " 4: 'April',\n",
       " 5: 'May',\n",
       " 6: 'June',\n",
       " 7: 'July',\n",
       " 8: 'August',\n",
       " 9: 'September',\n",
       " 10: 'October',\n",
       " 11: 'November',\n",
       " 12: 'December'}"
      ]
     },
     "execution_count": 13,
     "metadata": {},
     "output_type": "execute_result"
    }
   ],
   "source": [
    "dct"
   ]
  },
  {
   "cell_type": "code",
   "execution_count": 14,
   "id": "99d6cc3a",
   "metadata": {},
   "outputs": [],
   "source": [
    "dct[2] = 'February'"
   ]
  },
  {
   "cell_type": "code",
   "execution_count": 15,
   "id": "536beb88",
   "metadata": {},
   "outputs": [
    {
     "data": {
      "text/plain": [
       "{1: 'January',\n",
       " 3: 'March',\n",
       " 4: 'April',\n",
       " 5: 'May',\n",
       " 6: 'June',\n",
       " 7: 'July',\n",
       " 8: 'August',\n",
       " 9: 'September',\n",
       " 10: 'October',\n",
       " 11: 'November',\n",
       " 12: 'December',\n",
       " 2: 'February'}"
      ]
     },
     "execution_count": 15,
     "metadata": {},
     "output_type": "execute_result"
    }
   ],
   "source": [
    "dct"
   ]
  },
  {
   "cell_type": "code",
   "execution_count": 16,
   "id": "162418c7",
   "metadata": {},
   "outputs": [
    {
     "data": {
      "text/plain": [
       "'April'"
      ]
     },
     "execution_count": 16,
     "metadata": {},
     "output_type": "execute_result"
    }
   ],
   "source": [
    "dct[4]"
   ]
  },
  {
   "cell_type": "code",
   "execution_count": 17,
   "id": "d4e94200",
   "metadata": {},
   "outputs": [],
   "source": [
    "data = [[1, 'Prakash',60,70,85,95],\n",
    "        [2, 'Ashish' ,65,77,75,93],\n",
    "        [3, 'Anshika',68,72,85,89],\n",
    "        [4, 'Ayushi' ,62,74,90,94]]"
   ]
  },
  {
   "cell_type": "markdown",
   "id": "74c4ead5",
   "metadata": {},
   "source": [
    "## Q1) Student Details based on their Roll No."
   ]
  },
  {
   "cell_type": "code",
   "execution_count": 42,
   "id": "bd91351f",
   "metadata": {},
   "outputs": [
    {
     "name": "stdout",
     "output_type": "stream",
     "text": [
      "Enter your roll number : 64\n",
      "Enter your name        : Rahul\n",
      "Enter marks of subject : 93\n",
      "Enter marks of subject : 86\n",
      "Enter marks of subject : 76\n",
      "Enter marks of subject : 86\n",
      "Enter marks of subject : 96\n"
     ]
    }
   ],
   "source": [
    "from json import loads, dumps\n",
    "student     = {}\n",
    "roll_number = int(input('Enter your roll number : '))\n",
    "details            = {}\n",
    "name               = str(input('Enter your name        : ')).strip()\n",
    "marks              = [int(input('Enter marks of subject : ')) for i in range(5)]\n",
    "details['name']    = name\n",
    "details['marks']   = marks\n",
    "details['total']   = sum(marks)\n",
    "details['average'] = sum(marks)/len(marks) \n",
    "\n",
    "student[roll_number] = details"
   ]
  },
  {
   "cell_type": "code",
   "execution_count": 43,
   "id": "ec48f25a",
   "metadata": {},
   "outputs": [],
   "source": [
    "# writing the student data in the file \n",
    "with open('student_db.txt','a') as fd:\n",
    "    fd.write(dumps(student))\n",
    "    fd.close()\n"
   ]
  },
  {
   "cell_type": "code",
   "execution_count": 45,
   "id": "6760e863",
   "metadata": {},
   "outputs": [],
   "source": [
    "with open('student_db.txt','r') as fd:\n",
    "    text = fd.read()\n",
    "    fd.close()"
   ]
  },
  {
   "cell_type": "markdown",
   "id": "d6db202b",
   "metadata": {},
   "source": [
    "## Q2) Student Details based on their Roll No. including Average and Total Marks"
   ]
  },
  {
   "cell_type": "code",
   "execution_count": 47,
   "id": "2542fb26",
   "metadata": {},
   "outputs": [
    {
     "data": {
      "text/plain": [
       "{'64': {'name': 'Joshua little',\n",
       "  'marks': [75, 85, 68, 69, 96],\n",
       "  'total': 393,\n",
       "  'average': 78.6},\n",
       " '63': {'name': 'Rahul',\n",
       "  'marks': [93, 86, 76, 86, 96],\n",
       "  'total': 437,\n",
       "  'average': 87.4}}"
      ]
     },
     "execution_count": 47,
     "metadata": {},
     "output_type": "execute_result"
    }
   ],
   "source": [
    "with open('student_db.txt','r') as fd:\n",
    "    text = fd.read()\n",
    "    fd.close()\n",
    "    \n",
    "data = loads(text)"
   ]
  },
  {
   "cell_type": "code",
   "execution_count": 58,
   "id": "f0728f84",
   "metadata": {},
   "outputs": [
    {
     "name": "stdout",
     "output_type": "stream",
     "text": [
      "Enter your roll number : 64\n",
      "{'name': 'Joshua little', 'marks': [75, 85, 68, 69, 96], 'total': 393, 'average': 78.6}\n"
     ]
    }
   ],
   "source": [
    "roll = input('Enter your roll number : ')\n",
    "for i in data.keys():\n",
    "    if roll == i:\n",
    "        print(data[i])"
   ]
  },
  {
   "cell_type": "markdown",
   "id": "e0506c42",
   "metadata": {},
   "source": [
    "##  Q3) Average and Top Marks in English"
   ]
  },
  {
   "cell_type": "code",
   "execution_count": 76,
   "id": "5f2e42e2",
   "metadata": {},
   "outputs": [
    {
     "name": "stdout",
     "output_type": "stream",
     "text": [
      "Average marks obtained :  84.0\n",
      "Top marks in English   :  93\n"
     ]
    }
   ],
   "source": [
    "# considering the list as marks obtained in ['English','Science','mathematics','Social Science','Hindi']\n",
    "\n",
    "eng = []\n",
    "for i in data.keys():\n",
    "    eng.append(data[i]['marks'][0])\n",
    "    \n",
    "    \n",
    "print('Average marks obtained : ',sum(eng)/len(eng))\n",
    "print('Top marks in English   : ',max(eng))"
   ]
  },
  {
   "cell_type": "markdown",
   "id": "6125aaae",
   "metadata": {},
   "source": [
    "## Q4) Who has scored most marks in English"
   ]
  },
  {
   "cell_type": "code",
   "execution_count": 77,
   "id": "e0754487",
   "metadata": {},
   "outputs": [
    {
     "name": "stdout",
     "output_type": "stream",
     "text": [
      "Top marks in English   :  93\n"
     ]
    }
   ],
   "source": [
    "print('Top marks in English   : ',max(eng))"
   ]
  },
  {
   "cell_type": "markdown",
   "id": "2da55e4c",
   "metadata": {},
   "source": [
    "## Q4) Who has scored most marks in Science"
   ]
  },
  {
   "cell_type": "code",
   "execution_count": 80,
   "id": "b2a07a6b",
   "metadata": {},
   "outputs": [
    {
     "name": "stdout",
     "output_type": "stream",
     "text": [
      "Most marks scored in science is : 86\n"
     ]
    }
   ],
   "source": [
    "sci = []\n",
    "for i in data.keys():\n",
    "    sci.append(data[i]['marks'][1])\n",
    "print('Most marks scored in science is :',max(sci))"
   ]
  },
  {
   "cell_type": "markdown",
   "id": "501e5031",
   "metadata": {},
   "source": [
    "## Finding Student details based on Name"
   ]
  },
  {
   "cell_type": "code",
   "execution_count": 70,
   "id": "e33684b0",
   "metadata": {},
   "outputs": [
    {
     "name": "stdout",
     "output_type": "stream",
     "text": [
      "Enter your name : rahul\n",
      "{'name': 'Rahul', 'marks': [93, 86, 76, 86, 96], 'total': 437, 'average': 87.4}\n"
     ]
    }
   ],
   "source": [
    "name = input('Enter your name : ')\n",
    "\n",
    "for i in data.keys():\n",
    "    if name.lower().strip() == (data[i]['name']).lower():\n",
    "        print(data[i])\n",
    "        \n",
    "    "
   ]
  }
 ],
 "metadata": {
  "kernelspec": {
   "display_name": "Python 3 (ipykernel)",
   "language": "python",
   "name": "python3"
  },
  "language_info": {
   "codemirror_mode": {
    "name": "ipython",
    "version": 3
   },
   "file_extension": ".py",
   "mimetype": "text/x-python",
   "name": "python",
   "nbconvert_exporter": "python",
   "pygments_lexer": "ipython3",
   "version": "3.10.6"
  }
 },
 "nbformat": 4,
 "nbformat_minor": 5
}

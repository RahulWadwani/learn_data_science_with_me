{
 "cells": [
  {
   "cell_type": "markdown",
   "id": "9e4d0ff3",
   "metadata": {},
   "source": [
    "# Password Generator "
   ]
  },
  {
   "cell_type": "code",
   "execution_count": 2,
   "id": "0d6e788f",
   "metadata": {},
   "outputs": [
    {
     "name": "stdout",
     "output_type": "stream",
     "text": [
      "Enter length of password :2\n",
      "Password is : 99\n"
     ]
    }
   ],
   "source": [
    "# random password generator\n",
    "import random\n",
    "Length = int(input(\"Enter length of password :\"))\n",
    "#for numeric values\n",
    "start = pow(10,Length-1)\n",
    "end = int('9'*Length)\n",
    "print(\"Password is :\",random.randint(start,end))"
   ]
  },
  {
   "cell_type": "markdown",
   "id": "0c2c8bda",
   "metadata": {},
   "source": [
    "# Alphabet Password"
   ]
  },
  {
   "cell_type": "code",
   "execution_count": 3,
   "id": "43885c5a",
   "metadata": {},
   "outputs": [
    {
     "name": "stdout",
     "output_type": "stream",
     "text": [
      "------------------------------\n",
      "This program automatically generates the alphabetical password in small letters\n",
      "Password is : zp\n"
     ]
    }
   ],
   "source": [
    "# for alphabet password  \n",
    "print(\"-\"*30)\n",
    "print(\"This program automatically generates the alphabetical password in small letters\")\n",
    "password=''\n",
    "for i in range (Length):\n",
    "    password += chr(random.randint(97,122))\n",
    "print(\"Password is :\",password)\n"
   ]
  },
  {
   "cell_type": "markdown",
   "id": "b5055262",
   "metadata": {},
   "source": [
    "# Capital letter password "
   ]
  },
  {
   "cell_type": "code",
   "execution_count": 4,
   "id": "7b7ef515",
   "metadata": {},
   "outputs": [
    {
     "name": "stdout",
     "output_type": "stream",
     "text": [
      "------------------------------\n",
      "This program automatically generates the capital letter password \n",
      "Password is  ND\n"
     ]
    }
   ],
   "source": [
    "# for alphabet password captial letters \n",
    "print('-'*30)\n",
    "print(\"This program automatically generates the capital letter password \")\n",
    "password1 = ''\n",
    "for i in range (Length):\n",
    "    password1 += chr(random.randint(65,90))\n",
    "print(\"Password is \",password1)"
   ]
  },
  {
   "cell_type": "markdown",
   "id": "e2955385",
   "metadata": {},
   "source": [
    "# Alphanumeric password "
   ]
  },
  {
   "cell_type": "code",
   "execution_count": 6,
   "id": "3f85fe88",
   "metadata": {},
   "outputs": [
    {
     "name": "stdout",
     "output_type": "stream",
     "text": [
      "------------------------------\n",
      "This program automatically generates the alphanumeric values \n",
      "------------------------------\n",
      "Enter a number: 8\n",
      "------------------------------\n",
      "This program automatically generates the alphanumeric values \n",
      "dqPM7B9Z\n"
     ]
    }
   ],
   "source": [
    "# for alphanumeric password \n",
    "print('-'*30)\n",
    "print(\"This program automatically generates the alphanumeric values \")\n",
    "print('-'*30)\n",
    "import random \n",
    "input1= int(input(\"Enter a number: \"))\n",
    "print('-'*30)\n",
    "print(\"This program automatically generates the alphanumeric values \")\n",
    "password2 = ''\n",
    "while len(password2) != input1:\n",
    "    ch = chr(random.randint(48,122))\n",
    "    if (ord(ch) >= 48 and ord(ch) <= 57) or (ord(ch) >= 65 and ord(ch) <= 90) or (ord(ch) >= 97 and ord(ch) <= 122):\n",
    "        password2 += ch\n",
    "print(password2)"
   ]
  }
 ],
 "metadata": {
  "kernelspec": {
   "display_name": "Python 3 (ipykernel)",
   "language": "python",
   "name": "python3"
  },
  "language_info": {
   "codemirror_mode": {
    "name": "ipython",
    "version": 3
   },
   "file_extension": ".py",
   "mimetype": "text/x-python",
   "name": "python",
   "nbconvert_exporter": "python",
   "pygments_lexer": "ipython3",
   "version": "3.9.6"
  }
 },
 "nbformat": 4,
 "nbformat_minor": 5
}

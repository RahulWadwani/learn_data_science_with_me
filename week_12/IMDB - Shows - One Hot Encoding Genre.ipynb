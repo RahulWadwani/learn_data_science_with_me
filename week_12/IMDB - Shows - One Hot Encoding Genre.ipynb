{
 "cells": [
  {
   "cell_type": "code",
   "execution_count": 6,
   "id": "01537d31",
   "metadata": {},
   "outputs": [],
   "source": [
    "import pandas as pd\n",
    "import numpy as np\n"
   ]
  },
  {
   "cell_type": "code",
   "execution_count": 7,
   "id": "5b5d7f7f",
   "metadata": {},
   "outputs": [
    {
     "data": {
      "text/html": [
       "<div>\n",
       "<style scoped>\n",
       "    .dataframe tbody tr th:only-of-type {\n",
       "        vertical-align: middle;\n",
       "    }\n",
       "\n",
       "    .dataframe tbody tr th {\n",
       "        vertical-align: top;\n",
       "    }\n",
       "\n",
       "    .dataframe thead th {\n",
       "        text-align: right;\n",
       "    }\n",
       "</style>\n",
       "<table border=\"1\" class=\"dataframe\">\n",
       "  <thead>\n",
       "    <tr style=\"text-align: right;\">\n",
       "      <th></th>\n",
       "      <th>Unnamed: 0</th>\n",
       "      <th>ID</th>\n",
       "      <th>Name</th>\n",
       "      <th>Year</th>\n",
       "      <th>Rating</th>\n",
       "      <th>Duration</th>\n",
       "      <th>Reviews</th>\n",
       "      <th>Director</th>\n",
       "      <th>Genre</th>\n",
       "      <th>Link</th>\n",
       "    </tr>\n",
       "  </thead>\n",
       "  <tbody>\n",
       "    <tr>\n",
       "      <th>0</th>\n",
       "      <td>0</td>\n",
       "      <td>tt5491994</td>\n",
       "      <td>Planet Earth II</td>\n",
       "      <td>2016</td>\n",
       "      <td>9.5</td>\n",
       "      <td>4h 58m</td>\n",
       "      <td>139</td>\n",
       "      <td>David Attenborough|Chadden Hunter|Elizabeth White</td>\n",
       "      <td>Documentary</td>\n",
       "      <td>https://www.imdb.com/title/tt5491994/</td>\n",
       "    </tr>\n",
       "    <tr>\n",
       "      <th>1</th>\n",
       "      <td>1</td>\n",
       "      <td>tt0795176</td>\n",
       "      <td>Planet Earth</td>\n",
       "      <td>2006</td>\n",
       "      <td>9.4</td>\n",
       "      <td>8h 58m</td>\n",
       "      <td>100</td>\n",
       "      <td>David Attenborough|Sigourney Weaver|Nikolay Dr...</td>\n",
       "      <td>Documentary</td>\n",
       "      <td>https://www.imdb.com/title/tt0795176/</td>\n",
       "    </tr>\n",
       "    <tr>\n",
       "      <th>2</th>\n",
       "      <td>2</td>\n",
       "      <td>tt0903747</td>\n",
       "      <td>Breaking Bad</td>\n",
       "      <td>2008</td>\n",
       "      <td>9.4</td>\n",
       "      <td>49m</td>\n",
       "      <td>4K</td>\n",
       "      <td>Bryan Cranston|Aaron Paul|Anna Gunn</td>\n",
       "      <td>Crime|Drama|Thriller</td>\n",
       "      <td>https://www.imdb.com/title/tt0903747/</td>\n",
       "    </tr>\n",
       "    <tr>\n",
       "      <th>3</th>\n",
       "      <td>3</td>\n",
       "      <td>tt0185906</td>\n",
       "      <td>Band of Brothers</td>\n",
       "      <td>2001</td>\n",
       "      <td>9.4</td>\n",
       "      <td>9h 54m</td>\n",
       "      <td>929</td>\n",
       "      <td>Scott Grimes|Damian Lewis|Ron Livingston</td>\n",
       "      <td>Drama|History|War</td>\n",
       "      <td>https://www.imdb.com/title/tt0185906/</td>\n",
       "    </tr>\n",
       "    <tr>\n",
       "      <th>4</th>\n",
       "      <td>4</td>\n",
       "      <td>tt7366338</td>\n",
       "      <td>Chernobyl</td>\n",
       "      <td>2019</td>\n",
       "      <td>9.3</td>\n",
       "      <td>5h 30m</td>\n",
       "      <td>3.3K</td>\n",
       "      <td>Jessie Buckley|Jared Harris|Stellan Skarsgård</td>\n",
       "      <td>Drama|History|Thriller</td>\n",
       "      <td>https://www.imdb.com/title/tt7366338/</td>\n",
       "    </tr>\n",
       "  </tbody>\n",
       "</table>\n",
       "</div>"
      ],
      "text/plain": [
       "   Unnamed: 0         ID              Name  Year  Rating Duration Reviews  \\\n",
       "0           0  tt5491994   Planet Earth II  2016     9.5   4h 58m     139   \n",
       "1           1  tt0795176      Planet Earth  2006     9.4   8h 58m     100   \n",
       "2           2  tt0903747      Breaking Bad  2008     9.4      49m      4K   \n",
       "3           3  tt0185906  Band of Brothers  2001     9.4   9h 54m     929   \n",
       "4           4  tt7366338         Chernobyl  2019     9.3   5h 30m    3.3K   \n",
       "\n",
       "                                            Director                   Genre  \\\n",
       "0  David Attenborough|Chadden Hunter|Elizabeth White             Documentary   \n",
       "1  David Attenborough|Sigourney Weaver|Nikolay Dr...             Documentary   \n",
       "2                Bryan Cranston|Aaron Paul|Anna Gunn    Crime|Drama|Thriller   \n",
       "3           Scott Grimes|Damian Lewis|Ron Livingston       Drama|History|War   \n",
       "4      Jessie Buckley|Jared Harris|Stellan Skarsgård  Drama|History|Thriller   \n",
       "\n",
       "                                    Link  \n",
       "0  https://www.imdb.com/title/tt5491994/  \n",
       "1  https://www.imdb.com/title/tt0795176/  \n",
       "2  https://www.imdb.com/title/tt0903747/  \n",
       "3  https://www.imdb.com/title/tt0185906/  \n",
       "4  https://www.imdb.com/title/tt7366338/  "
      ]
     },
     "execution_count": 7,
     "metadata": {},
     "output_type": "execute_result"
    }
   ],
   "source": [
    "df = pd.read_csv('https://raw.githubusercontent.com/AshishJangra27/Data-Science-Specialization/main/Week%20-12/IMDB%20-%20Most%20Popular%20Movie%20%26%20Series/Shows.csv')\n",
    "df.head()"
   ]
  },
  {
   "cell_type": "code",
   "execution_count": 8,
   "id": "ca99d301",
   "metadata": {},
   "outputs": [],
   "source": [
    "# 1.1) removing columns "
   ]
  },
  {
   "cell_type": "code",
   "execution_count": 9,
   "id": "b13be67d",
   "metadata": {},
   "outputs": [
    {
     "data": {
      "text/html": [
       "<div>\n",
       "<style scoped>\n",
       "    .dataframe tbody tr th:only-of-type {\n",
       "        vertical-align: middle;\n",
       "    }\n",
       "\n",
       "    .dataframe tbody tr th {\n",
       "        vertical-align: top;\n",
       "    }\n",
       "\n",
       "    .dataframe thead th {\n",
       "        text-align: right;\n",
       "    }\n",
       "</style>\n",
       "<table border=\"1\" class=\"dataframe\">\n",
       "  <thead>\n",
       "    <tr style=\"text-align: right;\">\n",
       "      <th></th>\n",
       "      <th>Name</th>\n",
       "      <th>Rating</th>\n",
       "      <th>Director</th>\n",
       "      <th>Genre</th>\n",
       "    </tr>\n",
       "  </thead>\n",
       "  <tbody>\n",
       "    <tr>\n",
       "      <th>0</th>\n",
       "      <td>Planet Earth II</td>\n",
       "      <td>9.5</td>\n",
       "      <td>David Attenborough|Chadden Hunter|Elizabeth White</td>\n",
       "      <td>Documentary</td>\n",
       "    </tr>\n",
       "    <tr>\n",
       "      <th>1</th>\n",
       "      <td>Planet Earth</td>\n",
       "      <td>9.4</td>\n",
       "      <td>David Attenborough|Sigourney Weaver|Nikolay Dr...</td>\n",
       "      <td>Documentary</td>\n",
       "    </tr>\n",
       "    <tr>\n",
       "      <th>2</th>\n",
       "      <td>Breaking Bad</td>\n",
       "      <td>9.4</td>\n",
       "      <td>Bryan Cranston|Aaron Paul|Anna Gunn</td>\n",
       "      <td>Crime|Drama|Thriller</td>\n",
       "    </tr>\n",
       "    <tr>\n",
       "      <th>3</th>\n",
       "      <td>Band of Brothers</td>\n",
       "      <td>9.4</td>\n",
       "      <td>Scott Grimes|Damian Lewis|Ron Livingston</td>\n",
       "      <td>Drama|History|War</td>\n",
       "    </tr>\n",
       "    <tr>\n",
       "      <th>4</th>\n",
       "      <td>Chernobyl</td>\n",
       "      <td>9.3</td>\n",
       "      <td>Jessie Buckley|Jared Harris|Stellan Skarsgård</td>\n",
       "      <td>Drama|History|Thriller</td>\n",
       "    </tr>\n",
       "  </tbody>\n",
       "</table>\n",
       "</div>"
      ],
      "text/plain": [
       "               Name  Rating  \\\n",
       "0   Planet Earth II     9.5   \n",
       "1      Planet Earth     9.4   \n",
       "2      Breaking Bad     9.4   \n",
       "3  Band of Brothers     9.4   \n",
       "4         Chernobyl     9.3   \n",
       "\n",
       "                                            Director                   Genre  \n",
       "0  David Attenborough|Chadden Hunter|Elizabeth White             Documentary  \n",
       "1  David Attenborough|Sigourney Weaver|Nikolay Dr...             Documentary  \n",
       "2                Bryan Cranston|Aaron Paul|Anna Gunn    Crime|Drama|Thriller  \n",
       "3           Scott Grimes|Damian Lewis|Ron Livingston       Drama|History|War  \n",
       "4      Jessie Buckley|Jared Harris|Stellan Skarsgård  Drama|History|Thriller  "
      ]
     },
     "execution_count": 9,
     "metadata": {},
     "output_type": "execute_result"
    }
   ],
   "source": [
    "del df['Unnamed: 0']\n",
    "del df['ID']\n",
    "del df['Year']\n",
    "del df['Duration']\n",
    "del df['Reviews']\n",
    "del df['Link']\n",
    "del df['Rating']\n",
    "df.head()"
   ]
  },
  {
   "cell_type": "code",
   "execution_count": 12,
   "id": "208d4732",
   "metadata": {},
   "outputs": [],
   "source": [
    "# 1.2) checking the null values \n"
   ]
  },
  {
   "cell_type": "code",
   "execution_count": 13,
   "id": "1b3925fa",
   "metadata": {},
   "outputs": [
    {
     "data": {
      "text/plain": [
       "Name        0\n",
       "Director    0\n",
       "Genre       0\n",
       "dtype: int64"
      ]
     },
     "execution_count": 13,
     "metadata": {},
     "output_type": "execute_result"
    }
   ],
   "source": [
    "df.isnull().sum()"
   ]
  },
  {
   "cell_type": "code",
   "execution_count": 14,
   "id": "217ec593",
   "metadata": {},
   "outputs": [],
   "source": [
    "# 1.3) Finding all the genre "
   ]
  },
  {
   "cell_type": "code",
   "execution_count": 30,
   "id": "0fcf2b2e",
   "metadata": {},
   "outputs": [],
   "source": [
    "director = []\n",
    "for i in df['Director']:\n",
    "    director += (i.split('|'))\n",
    "director = [i.strip() for i in director]\n",
    "\n",
    "director = (list(set(director)))"
   ]
  },
  {
   "cell_type": "markdown",
   "id": "b602cb6b",
   "metadata": {},
   "source": [
    "# representation \n",
    "### this is termed to be as one hot representation \n",
    "\n",
    "\n",
    "####                      'Action'       'Crime'         'Drama'\n",
    "#### 'Action'                [1,              0,                0]\n",
    "#### 'Crime'                 [0,              1,                0]\n",
    "#### 'Drama'                [0,              0,                1]\n",
    "#### 'Drama , Crime '  [0,              1,                1]\n",
    "#### 'Action, Crime '   [1,              1,                0]"
   ]
  },
  {
   "cell_type": "markdown",
   "id": "224d15a9",
   "metadata": {},
   "source": [
    "# 1.4 one hot conversion "
   ]
  },
  {
   "cell_type": "code",
   "execution_count": 32,
   "id": "b1c8afb9",
   "metadata": {},
   "outputs": [],
   "source": [
    "one_hot = []\n",
    "for i in df['Director']:\n",
    "    i = [j.strip() for j in i.split('|')]\n",
    "    enc = [0 for i in range(len(director))]\n",
    "        \n",
    "    for dire in i :\n",
    "        enc[director.index(dire)] = 1\n",
    "    one_hot.append(enc)"
   ]
  },
  {
   "cell_type": "code",
   "execution_count": 33,
   "id": "280c0beb",
   "metadata": {},
   "outputs": [
    {
     "data": {
      "text/plain": [
       "250"
      ]
     },
     "execution_count": 33,
     "metadata": {},
     "output_type": "execute_result"
    }
   ],
   "source": [
    "len(one_hot)"
   ]
  },
  {
   "cell_type": "code",
   "execution_count": 34,
   "id": "4bff1304",
   "metadata": {},
   "outputs": [],
   "source": [
    "# converting one_hot data to numpy array"
   ]
  },
  {
   "cell_type": "code",
   "execution_count": 34,
   "id": "465162d4",
   "metadata": {},
   "outputs": [
    {
     "data": {
      "text/plain": [
       "(250, 669)"
      ]
     },
     "execution_count": 34,
     "metadata": {},
     "output_type": "execute_result"
    }
   ],
   "source": [
    "one_hot = np.array(one_hot)\n",
    "one_hot.shape"
   ]
  },
  {
   "cell_type": "code",
   "execution_count": 35,
   "id": "b339238d",
   "metadata": {},
   "outputs": [],
   "source": [
    "# 1.7 adding one_hot data to dataframe"
   ]
  },
  {
   "cell_type": "code",
   "execution_count": 36,
   "id": "2a1e8a76",
   "metadata": {},
   "outputs": [
    {
     "data": {
      "text/html": [
       "<div>\n",
       "<style scoped>\n",
       "    .dataframe tbody tr th:only-of-type {\n",
       "        vertical-align: middle;\n",
       "    }\n",
       "\n",
       "    .dataframe tbody tr th {\n",
       "        vertical-align: top;\n",
       "    }\n",
       "\n",
       "    .dataframe thead th {\n",
       "        text-align: right;\n",
       "    }\n",
       "</style>\n",
       "<table border=\"1\" class=\"dataframe\">\n",
       "  <thead>\n",
       "    <tr style=\"text-align: right;\">\n",
       "      <th></th>\n",
       "      <th>Name</th>\n",
       "      <th>Director</th>\n",
       "      <th>Genre</th>\n",
       "      <th>John DiMaggio</th>\n",
       "      <th>Nicholas Braun</th>\n",
       "      <th>Sheryl Lee</th>\n",
       "      <th>Amybeth McNulty</th>\n",
       "      <th>Jerry Seinfeld</th>\n",
       "      <th>Allison Tolman</th>\n",
       "      <th>Josh Grelle</th>\n",
       "      <th>...</th>\n",
       "      <th>Yu Hayashi</th>\n",
       "      <th>Rafael Pettersson</th>\n",
       "      <th>Jessica Lange</th>\n",
       "      <th>LaKeith Stanfield</th>\n",
       "      <th>Alexander Skarsgård</th>\n",
       "      <th>Holt McCallany</th>\n",
       "      <th>Christopher McCulloch</th>\n",
       "      <th>Abhilash Thapliyal</th>\n",
       "      <th>Karoline Eichhorn</th>\n",
       "      <th>Kieran Culkin</th>\n",
       "    </tr>\n",
       "  </thead>\n",
       "  <tbody>\n",
       "    <tr>\n",
       "      <th>0</th>\n",
       "      <td>Planet Earth II</td>\n",
       "      <td>David Attenborough|Chadden Hunter|Elizabeth White</td>\n",
       "      <td>Documentary</td>\n",
       "      <td>0</td>\n",
       "      <td>0</td>\n",
       "      <td>0</td>\n",
       "      <td>0</td>\n",
       "      <td>0</td>\n",
       "      <td>0</td>\n",
       "      <td>0</td>\n",
       "      <td>...</td>\n",
       "      <td>0</td>\n",
       "      <td>0</td>\n",
       "      <td>0</td>\n",
       "      <td>0</td>\n",
       "      <td>0</td>\n",
       "      <td>0</td>\n",
       "      <td>0</td>\n",
       "      <td>0</td>\n",
       "      <td>0</td>\n",
       "      <td>0</td>\n",
       "    </tr>\n",
       "    <tr>\n",
       "      <th>1</th>\n",
       "      <td>Planet Earth</td>\n",
       "      <td>David Attenborough|Sigourney Weaver|Nikolay Dr...</td>\n",
       "      <td>Documentary</td>\n",
       "      <td>0</td>\n",
       "      <td>0</td>\n",
       "      <td>0</td>\n",
       "      <td>0</td>\n",
       "      <td>0</td>\n",
       "      <td>0</td>\n",
       "      <td>0</td>\n",
       "      <td>...</td>\n",
       "      <td>0</td>\n",
       "      <td>0</td>\n",
       "      <td>0</td>\n",
       "      <td>0</td>\n",
       "      <td>0</td>\n",
       "      <td>0</td>\n",
       "      <td>0</td>\n",
       "      <td>0</td>\n",
       "      <td>0</td>\n",
       "      <td>0</td>\n",
       "    </tr>\n",
       "    <tr>\n",
       "      <th>2</th>\n",
       "      <td>Breaking Bad</td>\n",
       "      <td>Bryan Cranston|Aaron Paul|Anna Gunn</td>\n",
       "      <td>Crime|Drama|Thriller</td>\n",
       "      <td>0</td>\n",
       "      <td>0</td>\n",
       "      <td>0</td>\n",
       "      <td>0</td>\n",
       "      <td>0</td>\n",
       "      <td>0</td>\n",
       "      <td>0</td>\n",
       "      <td>...</td>\n",
       "      <td>0</td>\n",
       "      <td>0</td>\n",
       "      <td>0</td>\n",
       "      <td>0</td>\n",
       "      <td>0</td>\n",
       "      <td>0</td>\n",
       "      <td>0</td>\n",
       "      <td>0</td>\n",
       "      <td>0</td>\n",
       "      <td>0</td>\n",
       "    </tr>\n",
       "    <tr>\n",
       "      <th>3</th>\n",
       "      <td>Band of Brothers</td>\n",
       "      <td>Scott Grimes|Damian Lewis|Ron Livingston</td>\n",
       "      <td>Drama|History|War</td>\n",
       "      <td>0</td>\n",
       "      <td>0</td>\n",
       "      <td>0</td>\n",
       "      <td>0</td>\n",
       "      <td>0</td>\n",
       "      <td>0</td>\n",
       "      <td>0</td>\n",
       "      <td>...</td>\n",
       "      <td>0</td>\n",
       "      <td>0</td>\n",
       "      <td>0</td>\n",
       "      <td>0</td>\n",
       "      <td>0</td>\n",
       "      <td>0</td>\n",
       "      <td>0</td>\n",
       "      <td>0</td>\n",
       "      <td>0</td>\n",
       "      <td>0</td>\n",
       "    </tr>\n",
       "    <tr>\n",
       "      <th>4</th>\n",
       "      <td>Chernobyl</td>\n",
       "      <td>Jessie Buckley|Jared Harris|Stellan Skarsgård</td>\n",
       "      <td>Drama|History|Thriller</td>\n",
       "      <td>0</td>\n",
       "      <td>0</td>\n",
       "      <td>0</td>\n",
       "      <td>0</td>\n",
       "      <td>0</td>\n",
       "      <td>0</td>\n",
       "      <td>0</td>\n",
       "      <td>...</td>\n",
       "      <td>0</td>\n",
       "      <td>0</td>\n",
       "      <td>0</td>\n",
       "      <td>0</td>\n",
       "      <td>0</td>\n",
       "      <td>0</td>\n",
       "      <td>0</td>\n",
       "      <td>0</td>\n",
       "      <td>0</td>\n",
       "      <td>0</td>\n",
       "    </tr>\n",
       "  </tbody>\n",
       "</table>\n",
       "<p>5 rows × 24 columns</p>\n",
       "</div>"
      ],
      "text/plain": [
       "               Name                                           Director  \\\n",
       "0   Planet Earth II  David Attenborough|Chadden Hunter|Elizabeth White   \n",
       "1      Planet Earth  David Attenborough|Sigourney Weaver|Nikolay Dr...   \n",
       "2      Breaking Bad                Bryan Cranston|Aaron Paul|Anna Gunn   \n",
       "3  Band of Brothers           Scott Grimes|Damian Lewis|Ron Livingston   \n",
       "4         Chernobyl      Jessie Buckley|Jared Harris|Stellan Skarsgård   \n",
       "\n",
       "                    Genre  John DiMaggio  Nicholas Braun  Sheryl Lee  \\\n",
       "0             Documentary              0               0           0   \n",
       "1             Documentary              0               0           0   \n",
       "2    Crime|Drama|Thriller              0               0           0   \n",
       "3       Drama|History|War              0               0           0   \n",
       "4  Drama|History|Thriller              0               0           0   \n",
       "\n",
       "   Amybeth McNulty  Jerry Seinfeld  Allison Tolman  Josh Grelle  ...  \\\n",
       "0                0               0               0            0  ...   \n",
       "1                0               0               0            0  ...   \n",
       "2                0               0               0            0  ...   \n",
       "3                0               0               0            0  ...   \n",
       "4                0               0               0            0  ...   \n",
       "\n",
       "   Yu Hayashi  Rafael Pettersson  Jessica Lange  LaKeith Stanfield  \\\n",
       "0           0                  0              0                  0   \n",
       "1           0                  0              0                  0   \n",
       "2           0                  0              0                  0   \n",
       "3           0                  0              0                  0   \n",
       "4           0                  0              0                  0   \n",
       "\n",
       "   Alexander Skarsgård  Holt McCallany  Christopher McCulloch  \\\n",
       "0                    0               0                      0   \n",
       "1                    0               0                      0   \n",
       "2                    0               0                      0   \n",
       "3                    0               0                      0   \n",
       "4                    0               0                      0   \n",
       "\n",
       "   Abhilash Thapliyal  Karoline Eichhorn  Kieran Culkin  \n",
       "0                   0                  0              0  \n",
       "1                   0                  0              0  \n",
       "2                   0                  0              0  \n",
       "3                   0                  0              0  \n",
       "4                   0                  0              0  \n",
       "\n",
       "[5 rows x 24 columns]"
      ]
     },
     "execution_count": 36,
     "metadata": {},
     "output_type": "execute_result"
    }
   ],
   "source": [
    "for i in range(21):\n",
    "    df[director[i]] = one_hot[:,i]\n",
    "df.head()"
   ]
  },
  {
   "cell_type": "markdown",
   "id": "0558f6ce",
   "metadata": {},
   "source": [
    "# Prediction "
   ]
  },
  {
   "cell_type": "markdown",
   "id": "fdbcbe93",
   "metadata": {},
   "source": [
    "##  2.1 with exact genre"
   ]
  },
  {
   "cell_type": "code",
   "execution_count": 45,
   "id": "78005a94",
   "metadata": {},
   "outputs": [],
   "source": [
    "user = df[df['Name']== 'Planet Earth'].values[0][3:]"
   ]
  },
  {
   "cell_type": "code",
   "execution_count": 46,
   "id": "4f8ef32e",
   "metadata": {},
   "outputs": [
    {
     "data": {
      "text/plain": [
       "21"
      ]
     },
     "execution_count": 46,
     "metadata": {},
     "output_type": "execute_result"
    }
   ],
   "source": [
    "len(user)"
   ]
  },
  {
   "cell_type": "code",
   "execution_count": 48,
   "id": "3ec52d58",
   "metadata": {},
   "outputs": [],
   "source": [
    "for i in df.values:\n",
    "    if (list(user - i[3:]).count(0)) == len(director):\n",
    "        print(i[0],'|',i[1])\n"
   ]
  },
  {
   "cell_type": "markdown",
   "id": "b81f9a29",
   "metadata": {},
   "source": [
    "### 2.2) with better recommendation with genre"
   ]
  },
  {
   "cell_type": "code",
   "execution_count": 49,
   "id": "21ad7147",
   "metadata": {},
   "outputs": [],
   "source": [
    "def mod(lst):\n",
    "    s = 0\n",
    "    for i in lst:\n",
    "        if i < 0:\n",
    "            s += -i \n",
    "        else:\n",
    "            s += i\n",
    "    return s\n",
    "        "
   ]
  },
  {
   "cell_type": "code",
   "execution_count": 52,
   "id": "6a5da816",
   "metadata": {},
   "outputs": [],
   "source": [
    "user = df[df['Name']== 'Planet Earth'].values[0][3:]\n",
    "\n",
    "rel =[]\n",
    "\n",
    "for i in df.values:\n",
    "    rel.append(mod(i[3:]-user))\n",
    "df['rel'] = rel\n",
    "df_ = df.sort_values(by='rel')"
   ]
  },
  {
   "cell_type": "code",
   "execution_count": 53,
   "id": "82d3a826",
   "metadata": {},
   "outputs": [],
   "source": [
    "df_.to_csv('recommendation.csv')"
   ]
  },
  {
   "cell_type": "code",
   "execution_count": null,
   "id": "d8f5ad3a",
   "metadata": {},
   "outputs": [],
   "source": []
  }
 ],
 "metadata": {
  "kernelspec": {
   "display_name": "Python 3 (ipykernel)",
   "language": "python",
   "name": "python3"
  },
  "language_info": {
   "codemirror_mode": {
    "name": "ipython",
    "version": 3
   },
   "file_extension": ".py",
   "mimetype": "text/x-python",
   "name": "python",
   "nbconvert_exporter": "python",
   "pygments_lexer": "ipython3",
   "version": "3.9.6"
  }
 },
 "nbformat": 4,
 "nbformat_minor": 5
}

{
 "cells": [
  {
   "cell_type": "code",
   "execution_count": 2,
   "id": "e6daed82",
   "metadata": {},
   "outputs": [],
   "source": [
    "import pandas as pd\n",
    "import numpy as np \n",
    "import matplotlib.pyplot as plt"
   ]
  },
  {
   "cell_type": "code",
   "execution_count": 3,
   "id": "44096c3d",
   "metadata": {},
   "outputs": [
    {
     "data": {
      "text/html": [
       "<div>\n",
       "<style scoped>\n",
       "    .dataframe tbody tr th:only-of-type {\n",
       "        vertical-align: middle;\n",
       "    }\n",
       "\n",
       "    .dataframe tbody tr th {\n",
       "        vertical-align: top;\n",
       "    }\n",
       "\n",
       "    .dataframe thead th {\n",
       "        text-align: right;\n",
       "    }\n",
       "</style>\n",
       "<table border=\"1\" class=\"dataframe\">\n",
       "  <thead>\n",
       "    <tr style=\"text-align: right;\">\n",
       "      <th></th>\n",
       "      <th>Unnamed: 0</th>\n",
       "      <th>ID</th>\n",
       "      <th>Name</th>\n",
       "      <th>Year</th>\n",
       "      <th>Rating</th>\n",
       "      <th>Duration</th>\n",
       "      <th>Reviews</th>\n",
       "      <th>Director</th>\n",
       "      <th>Genre</th>\n",
       "      <th>Link</th>\n",
       "    </tr>\n",
       "  </thead>\n",
       "  <tbody>\n",
       "    <tr>\n",
       "      <th>0</th>\n",
       "      <td>0</td>\n",
       "      <td>tt5491994</td>\n",
       "      <td>Planet Earth II</td>\n",
       "      <td>2016</td>\n",
       "      <td>9.5</td>\n",
       "      <td>4h 58m</td>\n",
       "      <td>139</td>\n",
       "      <td>David Attenborough|Chadden Hunter|Elizabeth White</td>\n",
       "      <td>Documentary</td>\n",
       "      <td>https://www.imdb.com/title/tt5491994/</td>\n",
       "    </tr>\n",
       "    <tr>\n",
       "      <th>1</th>\n",
       "      <td>1</td>\n",
       "      <td>tt0795176</td>\n",
       "      <td>Planet Earth</td>\n",
       "      <td>2006</td>\n",
       "      <td>9.4</td>\n",
       "      <td>8h 58m</td>\n",
       "      <td>100</td>\n",
       "      <td>David Attenborough|Sigourney Weaver|Nikolay Dr...</td>\n",
       "      <td>Documentary</td>\n",
       "      <td>https://www.imdb.com/title/tt0795176/</td>\n",
       "    </tr>\n",
       "    <tr>\n",
       "      <th>2</th>\n",
       "      <td>2</td>\n",
       "      <td>tt0903747</td>\n",
       "      <td>Breaking Bad</td>\n",
       "      <td>2008</td>\n",
       "      <td>9.4</td>\n",
       "      <td>49m</td>\n",
       "      <td>4K</td>\n",
       "      <td>Bryan Cranston|Aaron Paul|Anna Gunn</td>\n",
       "      <td>Crime|Drama|Thriller</td>\n",
       "      <td>https://www.imdb.com/title/tt0903747/</td>\n",
       "    </tr>\n",
       "    <tr>\n",
       "      <th>3</th>\n",
       "      <td>3</td>\n",
       "      <td>tt0185906</td>\n",
       "      <td>Band of Brothers</td>\n",
       "      <td>2001</td>\n",
       "      <td>9.4</td>\n",
       "      <td>9h 54m</td>\n",
       "      <td>929</td>\n",
       "      <td>Scott Grimes|Damian Lewis|Ron Livingston</td>\n",
       "      <td>Drama|History|War</td>\n",
       "      <td>https://www.imdb.com/title/tt0185906/</td>\n",
       "    </tr>\n",
       "    <tr>\n",
       "      <th>4</th>\n",
       "      <td>4</td>\n",
       "      <td>tt7366338</td>\n",
       "      <td>Chernobyl</td>\n",
       "      <td>2019</td>\n",
       "      <td>9.3</td>\n",
       "      <td>5h 30m</td>\n",
       "      <td>3.3K</td>\n",
       "      <td>Jessie Buckley|Jared Harris|Stellan Skarsgård</td>\n",
       "      <td>Drama|History|Thriller</td>\n",
       "      <td>https://www.imdb.com/title/tt7366338/</td>\n",
       "    </tr>\n",
       "  </tbody>\n",
       "</table>\n",
       "</div>"
      ],
      "text/plain": [
       "   Unnamed: 0         ID              Name  Year  Rating Duration Reviews  \\\n",
       "0           0  tt5491994   Planet Earth II  2016     9.5   4h 58m     139   \n",
       "1           1  tt0795176      Planet Earth  2006     9.4   8h 58m     100   \n",
       "2           2  tt0903747      Breaking Bad  2008     9.4      49m      4K   \n",
       "3           3  tt0185906  Band of Brothers  2001     9.4   9h 54m     929   \n",
       "4           4  tt7366338         Chernobyl  2019     9.3   5h 30m    3.3K   \n",
       "\n",
       "                                            Director                   Genre  \\\n",
       "0  David Attenborough|Chadden Hunter|Elizabeth White             Documentary   \n",
       "1  David Attenborough|Sigourney Weaver|Nikolay Dr...             Documentary   \n",
       "2                Bryan Cranston|Aaron Paul|Anna Gunn    Crime|Drama|Thriller   \n",
       "3           Scott Grimes|Damian Lewis|Ron Livingston       Drama|History|War   \n",
       "4      Jessie Buckley|Jared Harris|Stellan Skarsgård  Drama|History|Thriller   \n",
       "\n",
       "                                    Link  \n",
       "0  https://www.imdb.com/title/tt5491994/  \n",
       "1  https://www.imdb.com/title/tt0795176/  \n",
       "2  https://www.imdb.com/title/tt0903747/  \n",
       "3  https://www.imdb.com/title/tt0185906/  \n",
       "4  https://www.imdb.com/title/tt7366338/  "
      ]
     },
     "execution_count": 3,
     "metadata": {},
     "output_type": "execute_result"
    }
   ],
   "source": [
    "df = pd.read_csv('https://raw.githubusercontent.com/AshishJangra27/Data-Science-Specialization/main/Week%20-12/IMDB%20-%20Most%20Popular%20Movie%20%26%20Series/Shows.csv')\n",
    "df.head()"
   ]
  },
  {
   "cell_type": "markdown",
   "id": "8ddbf98f",
   "metadata": {},
   "source": [
    "### 1.1) removing unneccesary column "
   ]
  },
  {
   "cell_type": "code",
   "execution_count": 4,
   "id": "08556572",
   "metadata": {},
   "outputs": [
    {
     "data": {
      "text/html": [
       "<div>\n",
       "<style scoped>\n",
       "    .dataframe tbody tr th:only-of-type {\n",
       "        vertical-align: middle;\n",
       "    }\n",
       "\n",
       "    .dataframe tbody tr th {\n",
       "        vertical-align: top;\n",
       "    }\n",
       "\n",
       "    .dataframe thead th {\n",
       "        text-align: right;\n",
       "    }\n",
       "</style>\n",
       "<table border=\"1\" class=\"dataframe\">\n",
       "  <thead>\n",
       "    <tr style=\"text-align: right;\">\n",
       "      <th></th>\n",
       "      <th>Name</th>\n",
       "      <th>Director</th>\n",
       "      <th>Genre</th>\n",
       "    </tr>\n",
       "  </thead>\n",
       "  <tbody>\n",
       "    <tr>\n",
       "      <th>0</th>\n",
       "      <td>Planet Earth II</td>\n",
       "      <td>David Attenborough|Chadden Hunter|Elizabeth White</td>\n",
       "      <td>Documentary</td>\n",
       "    </tr>\n",
       "    <tr>\n",
       "      <th>1</th>\n",
       "      <td>Planet Earth</td>\n",
       "      <td>David Attenborough|Sigourney Weaver|Nikolay Dr...</td>\n",
       "      <td>Documentary</td>\n",
       "    </tr>\n",
       "    <tr>\n",
       "      <th>2</th>\n",
       "      <td>Breaking Bad</td>\n",
       "      <td>Bryan Cranston|Aaron Paul|Anna Gunn</td>\n",
       "      <td>Crime|Drama|Thriller</td>\n",
       "    </tr>\n",
       "    <tr>\n",
       "      <th>3</th>\n",
       "      <td>Band of Brothers</td>\n",
       "      <td>Scott Grimes|Damian Lewis|Ron Livingston</td>\n",
       "      <td>Drama|History|War</td>\n",
       "    </tr>\n",
       "    <tr>\n",
       "      <th>4</th>\n",
       "      <td>Chernobyl</td>\n",
       "      <td>Jessie Buckley|Jared Harris|Stellan Skarsgård</td>\n",
       "      <td>Drama|History|Thriller</td>\n",
       "    </tr>\n",
       "  </tbody>\n",
       "</table>\n",
       "</div>"
      ],
      "text/plain": [
       "               Name                                           Director  \\\n",
       "0   Planet Earth II  David Attenborough|Chadden Hunter|Elizabeth White   \n",
       "1      Planet Earth  David Attenborough|Sigourney Weaver|Nikolay Dr...   \n",
       "2      Breaking Bad                Bryan Cranston|Aaron Paul|Anna Gunn   \n",
       "3  Band of Brothers           Scott Grimes|Damian Lewis|Ron Livingston   \n",
       "4         Chernobyl      Jessie Buckley|Jared Harris|Stellan Skarsgård   \n",
       "\n",
       "                    Genre  \n",
       "0             Documentary  \n",
       "1             Documentary  \n",
       "2    Crime|Drama|Thriller  \n",
       "3       Drama|History|War  \n",
       "4  Drama|History|Thriller  "
      ]
     },
     "execution_count": 4,
     "metadata": {},
     "output_type": "execute_result"
    }
   ],
   "source": [
    "del df['Unnamed: 0']\n",
    "del df['ID']\n",
    "del df['Year']\n",
    "del df['Rating']\n",
    "del df['Duration']\n",
    "del df['Reviews']\n",
    "del df['Link']\n",
    "df.head()"
   ]
  },
  {
   "cell_type": "markdown",
   "id": "274c6cdc",
   "metadata": {},
   "source": [
    "### 1.2) checking the null values "
   ]
  },
  {
   "cell_type": "code",
   "execution_count": 5,
   "id": "9d99fc31",
   "metadata": {},
   "outputs": [
    {
     "data": {
      "text/plain": [
       "Name        0\n",
       "Director    0\n",
       "Genre       0\n",
       "dtype: int64"
      ]
     },
     "execution_count": 5,
     "metadata": {},
     "output_type": "execute_result"
    }
   ],
   "source": [
    "df.isnull().sum()"
   ]
  },
  {
   "cell_type": "code",
   "execution_count": 6,
   "id": "e3d809d4",
   "metadata": {},
   "outputs": [],
   "source": [
    "### 1.3) finding all genre"
   ]
  },
  {
   "cell_type": "code",
   "execution_count": 8,
   "id": "b657e44c",
   "metadata": {},
   "outputs": [
    {
     "name": "stdout",
     "output_type": "stream",
     "text": [
      "['Mystery', 'Thriller', 'Family', 'Animation', 'Short', 'Comedy', 'Talk-Show', 'Music', 'History', 'Nan', 'Fantasy', 'Crime', 'Action', 'Reality-TV', 'Horror', 'Biography', 'Romance', 'News', 'Game-Show', 'Musical', 'War', 'Sport', 'Western', 'Sci-Fi', 'Documentary', 'Adventure', 'Drama']\n"
     ]
    }
   ],
   "source": [
    "genre = []\n",
    "for i in df['Genre']:\n",
    "    genre += ([j.strip() for j in i.split('|')])\n",
    "genre = (list(set(genre)))\n",
    "print(genre)"
   ]
  },
  {
   "cell_type": "code",
   "execution_count": 42,
   "id": "38afe741",
   "metadata": {},
   "outputs": [],
   "source": [
    "### 1.4) count number of movies in each genre "
   ]
  },
  {
   "cell_type": "code",
   "execution_count": 9,
   "id": "1f6569fa",
   "metadata": {},
   "outputs": [],
   "source": [
    "data = []\n",
    "for g in genre:\n",
    "    c = 0\n",
    "    for i in df['Genre']:\n",
    "        gen = ([j.strip() for j in i.split('|')])\n",
    "        if g in gen:\n",
    "            c += 1\n",
    "    data.append([g,c])\n",
    "df_ = pd.DataFrame(data,columns = ['genre','freq'])"
   ]
  },
  {
   "cell_type": "code",
   "execution_count": 10,
   "id": "23c6589f",
   "metadata": {},
   "outputs": [
    {
     "data": {
      "text/html": [
       "<div>\n",
       "<style scoped>\n",
       "    .dataframe tbody tr th:only-of-type {\n",
       "        vertical-align: middle;\n",
       "    }\n",
       "\n",
       "    .dataframe tbody tr th {\n",
       "        vertical-align: top;\n",
       "    }\n",
       "\n",
       "    .dataframe thead th {\n",
       "        text-align: right;\n",
       "    }\n",
       "</style>\n",
       "<table border=\"1\" class=\"dataframe\">\n",
       "  <thead>\n",
       "    <tr style=\"text-align: right;\">\n",
       "      <th></th>\n",
       "      <th>genre</th>\n",
       "      <th>freq</th>\n",
       "    </tr>\n",
       "  </thead>\n",
       "  <tbody>\n",
       "    <tr>\n",
       "      <th>0</th>\n",
       "      <td>Mystery</td>\n",
       "      <td>25</td>\n",
       "    </tr>\n",
       "    <tr>\n",
       "      <th>1</th>\n",
       "      <td>Thriller</td>\n",
       "      <td>14</td>\n",
       "    </tr>\n",
       "    <tr>\n",
       "      <th>2</th>\n",
       "      <td>Family</td>\n",
       "      <td>6</td>\n",
       "    </tr>\n",
       "    <tr>\n",
       "      <th>3</th>\n",
       "      <td>Animation</td>\n",
       "      <td>48</td>\n",
       "    </tr>\n",
       "    <tr>\n",
       "      <th>4</th>\n",
       "      <td>Short</td>\n",
       "      <td>2</td>\n",
       "    </tr>\n",
       "  </tbody>\n",
       "</table>\n",
       "</div>"
      ],
      "text/plain": [
       "       genre  freq\n",
       "0    Mystery    25\n",
       "1   Thriller    14\n",
       "2     Family     6\n",
       "3  Animation    48\n",
       "4      Short     2"
      ]
     },
     "execution_count": 10,
     "metadata": {},
     "output_type": "execute_result"
    }
   ],
   "source": [
    "df_.head()"
   ]
  },
  {
   "cell_type": "code",
   "execution_count": 11,
   "id": "5c9d1065",
   "metadata": {},
   "outputs": [
    {
     "data": {
      "text/html": [
       "<div>\n",
       "<style scoped>\n",
       "    .dataframe tbody tr th:only-of-type {\n",
       "        vertical-align: middle;\n",
       "    }\n",
       "\n",
       "    .dataframe tbody tr th {\n",
       "        vertical-align: top;\n",
       "    }\n",
       "\n",
       "    .dataframe thead th {\n",
       "        text-align: right;\n",
       "    }\n",
       "</style>\n",
       "<table border=\"1\" class=\"dataframe\">\n",
       "  <thead>\n",
       "    <tr style=\"text-align: right;\">\n",
       "      <th></th>\n",
       "      <th>genre</th>\n",
       "      <th>freq</th>\n",
       "    </tr>\n",
       "  </thead>\n",
       "  <tbody>\n",
       "    <tr>\n",
       "      <th>26</th>\n",
       "      <td>Drama</td>\n",
       "      <td>123</td>\n",
       "    </tr>\n",
       "    <tr>\n",
       "      <th>5</th>\n",
       "      <td>Comedy</td>\n",
       "      <td>71</td>\n",
       "    </tr>\n",
       "    <tr>\n",
       "      <th>12</th>\n",
       "      <td>Action</td>\n",
       "      <td>55</td>\n",
       "    </tr>\n",
       "    <tr>\n",
       "      <th>11</th>\n",
       "      <td>Crime</td>\n",
       "      <td>52</td>\n",
       "    </tr>\n",
       "    <tr>\n",
       "      <th>3</th>\n",
       "      <td>Animation</td>\n",
       "      <td>48</td>\n",
       "    </tr>\n",
       "  </tbody>\n",
       "</table>\n",
       "</div>"
      ],
      "text/plain": [
       "        genre  freq\n",
       "26      Drama   123\n",
       "5      Comedy    71\n",
       "12     Action    55\n",
       "11      Crime    52\n",
       "3   Animation    48"
      ]
     },
     "execution_count": 11,
     "metadata": {},
     "output_type": "execute_result"
    }
   ],
   "source": [
    "df_.sort_values(by = 'freq',ascending = False).head()"
   ]
  },
  {
   "cell_type": "code",
   "execution_count": 12,
   "id": "a0df4d4f",
   "metadata": {},
   "outputs": [],
   "source": [
    "# 1.6) genre distribution in movies ( visualisation )"
   ]
  },
  {
   "cell_type": "code",
   "execution_count": 17,
   "id": "9d379aef",
   "metadata": {},
   "outputs": [],
   "source": [
    "x = df_.sort_values(by = 'freq',ascending = False).head(5)['genre'].values\n",
    "y = df_.sort_values(by = 'freq',ascending = False).head(5)['freq'].values"
   ]
  },
  {
   "cell_type": "code",
   "execution_count": 18,
   "id": "0aae4f57",
   "metadata": {},
   "outputs": [
    {
     "data": {
      "text/plain": [
       "array(['Drama', 'Comedy', 'Action', 'Crime', 'Animation'], dtype=object)"
      ]
     },
     "execution_count": 18,
     "metadata": {},
     "output_type": "execute_result"
    }
   ],
   "source": [
    "x"
   ]
  },
  {
   "cell_type": "code",
   "execution_count": 19,
   "id": "dde4e2b3",
   "metadata": {},
   "outputs": [
    {
     "data": {
      "text/plain": [
       "array([123,  71,  55,  52,  48], dtype=int64)"
      ]
     },
     "execution_count": 19,
     "metadata": {},
     "output_type": "execute_result"
    }
   ],
   "source": [
    "y"
   ]
  },
  {
   "cell_type": "code",
   "execution_count": 24,
   "id": "274b7ef9",
   "metadata": {},
   "outputs": [
    {
     "data": {
      "text/plain": [
       "Text(0, 0.5, 'Frequency')"
      ]
     },
     "execution_count": 24,
     "metadata": {},
     "output_type": "execute_result"
    },
    {
     "data": {
      "image/png": "[encoded data removed]",
      "text/plain": [
       "<Figure size 720x576 with 1 Axes>"
      ]
     },
     "metadata": {
      "needs_background": "light"
     },
     "output_type": "display_data"
    }
   ],
   "source": [
    "fig ,axs = plt.subplots(figsize = [10,8])\n",
    "axs.bar(x,y)\n",
    "plt.title('Movies in each Genre')\n",
    "plt.xlabel('Genre')\n",
    "plt.ylabel('Frequency')"
   ]
  },
  {
   "cell_type": "markdown",
   "id": "0422b163",
   "metadata": {},
   "source": [
    "# 2.1) finding all directors "
   ]
  },
  {
   "cell_type": "code",
   "execution_count": 43,
   "id": "9cbfdd7a",
   "metadata": {},
   "outputs": [
    {
     "data": {
      "text/html": [
       "<div>\n",
       "<style scoped>\n",
       "    .dataframe tbody tr th:only-of-type {\n",
       "        vertical-align: middle;\n",
       "    }\n",
       "\n",
       "    .dataframe tbody tr th {\n",
       "        vertical-align: top;\n",
       "    }\n",
       "\n",
       "    .dataframe thead th {\n",
       "        text-align: right;\n",
       "    }\n",
       "</style>\n",
       "<table border=\"1\" class=\"dataframe\">\n",
       "  <thead>\n",
       "    <tr style=\"text-align: right;\">\n",
       "      <th></th>\n",
       "      <th>Director</th>\n",
       "      <th>Freq</th>\n",
       "    </tr>\n",
       "  </thead>\n",
       "  <tbody>\n",
       "    <tr>\n",
       "      <th>0</th>\n",
       "      <td>Ayane Sakura</td>\n",
       "      <td>1</td>\n",
       "    </tr>\n",
       "    <tr>\n",
       "      <th>1</th>\n",
       "      <td>Jessica Hynes</td>\n",
       "      <td>1</td>\n",
       "    </tr>\n",
       "    <tr>\n",
       "      <th>2</th>\n",
       "      <td>Mona Singh</td>\n",
       "      <td>1</td>\n",
       "    </tr>\n",
       "    <tr>\n",
       "      <th>3</th>\n",
       "      <td>Donald Glover</td>\n",
       "      <td>2</td>\n",
       "    </tr>\n",
       "    <tr>\n",
       "      <th>4</th>\n",
       "      <td>Chris O'Dowd</td>\n",
       "      <td>1</td>\n",
       "    </tr>\n",
       "  </tbody>\n",
       "</table>\n",
       "</div>"
      ],
      "text/plain": [
       "        Director  Freq\n",
       "0   Ayane Sakura     1\n",
       "1  Jessica Hynes     1\n",
       "2     Mona Singh     1\n",
       "3  Donald Glover     2\n",
       "4   Chris O'Dowd     1"
      ]
     },
     "execution_count": 43,
     "metadata": {},
     "output_type": "execute_result"
    }
   ],
   "source": [
    "directors = []\n",
    "data = []\n",
    "for i in df['Director']:\n",
    "    directors += (i.split('|'))\n",
    "directors = list(set(directors))\n",
    "for director in directors:\n",
    "    c = 0\n",
    "    for d in df['Director']:\n",
    "        if director in d:\n",
    "            c += 1\n",
    "    data.append([director,c])\n",
    "\n",
    "df_ = pd.DataFrame(data,columns =['Director','Freq'])\n",
    "df_.head()\n",
    "    "
   ]
  },
  {
   "cell_type": "code",
   "execution_count": 45,
   "id": "7f25bb76",
   "metadata": {},
   "outputs": [
    {
     "data": {
      "text/html": [
       "<div>\n",
       "<style scoped>\n",
       "    .dataframe tbody tr th:only-of-type {\n",
       "        vertical-align: middle;\n",
       "    }\n",
       "\n",
       "    .dataframe tbody tr th {\n",
       "        vertical-align: top;\n",
       "    }\n",
       "\n",
       "    .dataframe thead th {\n",
       "        text-align: right;\n",
       "    }\n",
       "</style>\n",
       "<table border=\"1\" class=\"dataframe\">\n",
       "  <thead>\n",
       "    <tr style=\"text-align: right;\">\n",
       "      <th></th>\n",
       "      <th>Director</th>\n",
       "      <th>Freq</th>\n",
       "    </tr>\n",
       "  </thead>\n",
       "  <tbody>\n",
       "    <tr>\n",
       "      <th>222</th>\n",
       "      <td>David Attenborough</td>\n",
       "      <td>8</td>\n",
       "    </tr>\n",
       "    <tr>\n",
       "      <th>536</th>\n",
       "      <td>Rowan Atkinson</td>\n",
       "      <td>4</td>\n",
       "    </tr>\n",
       "    <tr>\n",
       "      <th>271</th>\n",
       "      <td>Martin Freeman</td>\n",
       "      <td>3</td>\n",
       "    </tr>\n",
       "    <tr>\n",
       "      <th>340</th>\n",
       "      <td>Kevin Conroy</td>\n",
       "      <td>3</td>\n",
       "    </tr>\n",
       "    <tr>\n",
       "      <th>317</th>\n",
       "      <td>Phil LaMarr</td>\n",
       "      <td>3</td>\n",
       "    </tr>\n",
       "    <tr>\n",
       "      <th>...</th>\n",
       "      <td>...</td>\n",
       "      <td>...</td>\n",
       "    </tr>\n",
       "    <tr>\n",
       "      <th>237</th>\n",
       "      <td>Andrew Jarecki</td>\n",
       "      <td>1</td>\n",
       "    </tr>\n",
       "    <tr>\n",
       "      <th>238</th>\n",
       "      <td>Molly Parker</td>\n",
       "      <td>1</td>\n",
       "    </tr>\n",
       "    <tr>\n",
       "      <th>239</th>\n",
       "      <td>Charley Boorman</td>\n",
       "      <td>1</td>\n",
       "    </tr>\n",
       "    <tr>\n",
       "      <th>240</th>\n",
       "      <td>Oprah Winfrey</td>\n",
       "      <td>1</td>\n",
       "    </tr>\n",
       "    <tr>\n",
       "      <th>668</th>\n",
       "      <td>Steve Carell</td>\n",
       "      <td>1</td>\n",
       "    </tr>\n",
       "  </tbody>\n",
       "</table>\n",
       "<p>669 rows × 2 columns</p>\n",
       "</div>"
      ],
      "text/plain": [
       "               Director  Freq\n",
       "222  David Attenborough     8\n",
       "536      Rowan Atkinson     4\n",
       "271      Martin Freeman     3\n",
       "340        Kevin Conroy     3\n",
       "317         Phil LaMarr     3\n",
       "..                  ...   ...\n",
       "237      Andrew Jarecki     1\n",
       "238        Molly Parker     1\n",
       "239     Charley Boorman     1\n",
       "240       Oprah Winfrey     1\n",
       "668        Steve Carell     1\n",
       "\n",
       "[669 rows x 2 columns]"
      ]
     },
     "execution_count": 45,
     "metadata": {},
     "output_type": "execute_result"
    }
   ],
   "source": [
    "df_.sort_values(by = 'Freq',ascending = False)"
   ]
  },
  {
   "cell_type": "code",
   "execution_count": 46,
   "id": "3741f0c6",
   "metadata": {},
   "outputs": [],
   "source": [
    "# 2.2) top 10 directors with most number of movies "
   ]
  },
  {
   "cell_type": "code",
   "execution_count": 47,
   "id": "dd1d19f0",
   "metadata": {},
   "outputs": [],
   "source": [
    "x = df_.sort_values(by = 'Freq',ascending = False).head(10)['Director'].values\n",
    "y = df_.sort_values(by = 'Freq',ascending = False).head(10)['Freq'].values"
   ]
  },
  {
   "cell_type": "code",
   "execution_count": 54,
   "id": "c2ff1318",
   "metadata": {},
   "outputs": [
    {
     "data": {
      "text/plain": [
       "Text(0, 0.5, 'series')"
      ]
     },
     "execution_count": 54,
     "metadata": {},
     "output_type": "execute_result"
    },
    {
     "data": {
      "image/png": "[encoded data removed]",
      "text/plain": [
       "<Figure size 1080x576 with 1 Axes>"
      ]
     },
     "metadata": {
      "needs_background": "light"
     },
     "output_type": "display_data"
    }
   ],
   "source": [
    "fig ,axs = plt.subplots(figsize = [15,8])\n",
    "axs.bar(x,y)\n",
    "plt.title('No of Series by Director ')\n",
    "plt.xlabel('Directors')\n",
    "plt.ylabel('series')"
   ]
  }
 ],
 "metadata": {
  "kernelspec": {
   "display_name": "Python 3 (ipykernel)",
   "language": "python",
   "name": "python3"
  },
  "language_info": {
   "codemirror_mode": {
    "name": "ipython",
    "version": 3
   },
   "file_extension": ".py",
   "mimetype": "text/x-python",
   "name": "python",
   "nbconvert_exporter": "python",
   "pygments_lexer": "ipython3",
   "version": "3.9.6"
  }
 },
 "nbformat": 4,
 "nbformat_minor": 5
}

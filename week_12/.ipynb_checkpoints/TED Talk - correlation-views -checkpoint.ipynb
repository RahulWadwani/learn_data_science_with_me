{
 "cells": [
  {
   "cell_type": "code",
   "execution_count": 1,
   "id": "3744be46",
   "metadata": {},
   "outputs": [],
   "source": [
    "import pandas as pd\n",
    "import matplotlib.pyplot as plt \n",
    "from tqdm import tqdm \n",
    "import numpy as np "
   ]
  },
  {
   "cell_type": "code",
   "execution_count": 15,
   "id": "763072d5",
   "metadata": {},
   "outputs": [
    {
     "data": {
      "text/html": [
       "<div>\n",
       "<style scoped>\n",
       "    .dataframe tbody tr th:only-of-type {\n",
       "        vertical-align: middle;\n",
       "    }\n",
       "\n",
       "    .dataframe tbody tr th {\n",
       "        vertical-align: top;\n",
       "    }\n",
       "\n",
       "    .dataframe thead th {\n",
       "        text-align: right;\n",
       "    }\n",
       "</style>\n",
       "<table border=\"1\" class=\"dataframe\">\n",
       "  <thead>\n",
       "    <tr style=\"text-align: right;\">\n",
       "      <th></th>\n",
       "      <th>duration</th>\n",
       "      <th>title</th>\n",
       "      <th>views</th>\n",
       "      <th>likes</th>\n",
       "      <th>comments</th>\n",
       "      <th>date</th>\n",
       "      <th>month</th>\n",
       "      <th>year</th>\n",
       "      <th>day</th>\n",
       "    </tr>\n",
       "  </thead>\n",
       "  <tbody>\n",
       "    <tr>\n",
       "      <th>0</th>\n",
       "      <td>10</td>\n",
       "      <td>The Future Will Be Shaped by Optimists | Kevin...</td>\n",
       "      <td>51273</td>\n",
       "      <td>1900</td>\n",
       "      <td>262</td>\n",
       "      <td>21</td>\n",
       "      <td>4</td>\n",
       "      <td>2022</td>\n",
       "      <td>Thu</td>\n",
       "    </tr>\n",
       "    <tr>\n",
       "      <th>1</th>\n",
       "      <td>9</td>\n",
       "      <td>An Olympic Champion’s Unwavering Advocacy for ...</td>\n",
       "      <td>25597</td>\n",
       "      <td>355</td>\n",
       "      <td>53</td>\n",
       "      <td>20</td>\n",
       "      <td>4</td>\n",
       "      <td>2022</td>\n",
       "      <td>Wed</td>\n",
       "    </tr>\n",
       "    <tr>\n",
       "      <th>2</th>\n",
       "      <td>7</td>\n",
       "      <td>The African Swamp Protecting Earth's Environme...</td>\n",
       "      <td>21430</td>\n",
       "      <td>633</td>\n",
       "      <td>40</td>\n",
       "      <td>20</td>\n",
       "      <td>4</td>\n",
       "      <td>2022</td>\n",
       "      <td>Wed</td>\n",
       "    </tr>\n",
       "    <tr>\n",
       "      <th>3</th>\n",
       "      <td>66</td>\n",
       "      <td>Elon Musk: A future worth getting excited abou...</td>\n",
       "      <td>3609893</td>\n",
       "      <td>95000</td>\n",
       "      <td>8757</td>\n",
       "      <td>18</td>\n",
       "      <td>4</td>\n",
       "      <td>2022</td>\n",
       "      <td>Mon</td>\n",
       "    </tr>\n",
       "    <tr>\n",
       "      <th>4</th>\n",
       "      <td>55</td>\n",
       "      <td>Elon Musk talks Twitter, Tesla and how his bra...</td>\n",
       "      <td>4405481</td>\n",
       "      <td>115000</td>\n",
       "      <td>10444</td>\n",
       "      <td>14</td>\n",
       "      <td>4</td>\n",
       "      <td>2022</td>\n",
       "      <td>Thu</td>\n",
       "    </tr>\n",
       "  </tbody>\n",
       "</table>\n",
       "</div>"
      ],
      "text/plain": [
       "   duration                                              title    views  \\\n",
       "0        10  The Future Will Be Shaped by Optimists | Kevin...    51273   \n",
       "1         9  An Olympic Champion’s Unwavering Advocacy for ...    25597   \n",
       "2         7  The African Swamp Protecting Earth's Environme...    21430   \n",
       "3        66  Elon Musk: A future worth getting excited abou...  3609893   \n",
       "4        55  Elon Musk talks Twitter, Tesla and how his bra...  4405481   \n",
       "\n",
       "    likes  comments  date  month  year  day  \n",
       "0    1900       262    21      4  2022  Thu  \n",
       "1     355        53    20      4  2022  Wed  \n",
       "2     633        40    20      4  2022  Wed  \n",
       "3   95000      8757    18      4  2022  Mon  \n",
       "4  115000     10444    14      4  2022  Thu  "
      ]
     },
     "execution_count": 15,
     "metadata": {},
     "output_type": "execute_result"
    }
   ],
   "source": [
    "df = pd.read_csv('https://raw.githubusercontent.com/AshishJangra27/Data-Science-Specialization/main/Week%20-12/TED%20Talk%20-%20Correlation%20from%20Scratch/TED_Preprocessed.csv')\n",
    "\n",
    "del df['video_link']\n",
    "del df['date_month_year']\n",
    "df.head()"
   ]
  },
  {
   "cell_type": "markdown",
   "id": "153332cd",
   "metadata": {},
   "source": [
    "## 1.analysis -likes\n"
   ]
  },
  {
   "cell_type": "code",
   "execution_count": 16,
   "id": "fc5098cd",
   "metadata": {},
   "outputs": [
    {
     "name": "stdout",
     "output_type": "stream",
     "text": [
      "minimum :  36\n",
      "maximum :  1600000\n",
      "average :  11027\n"
     ]
    }
   ],
   "source": [
    "print('minimum : ',(min(df['likes'])))\n",
    "print('maximum : ',(max(df['likes'])))\n",
    "print('average : ',int((df['likes']).mean()))"
   ]
  },
  {
   "cell_type": "code",
   "execution_count": 17,
   "id": "59a13b56",
   "metadata": {},
   "outputs": [
    {
     "data": {
      "image/png": "[encoded data removed]",
      "text/plain": [
       "<Figure size 720x288 with 1 Axes>"
      ]
     },
     "metadata": {
      "needs_background": "light"
     },
     "output_type": "display_data"
    }
   ],
   "source": [
    "fig ,axs = plt.subplots(figsize = (10,4))\n",
    "axs.hist(df['likes'],bins= 100)\n",
    "\n",
    "plt.title('Number of likes distribution based on views ')\n",
    "\n",
    "plt.xlabel('likes in millions')\n",
    "plt.ylabel('number of values')\n",
    "\n",
    "plt.show()\n"
   ]
  },
  {
   "cell_type": "markdown",
   "id": "0489b483",
   "metadata": {},
   "source": [
    "## 2.analysis -views\n"
   ]
  },
  {
   "cell_type": "code",
   "execution_count": 18,
   "id": "c9466e8c",
   "metadata": {},
   "outputs": [
    {
     "name": "stdout",
     "output_type": "stream",
     "text": [
      "minimum :  5699\n",
      "maximum :  47561789\n",
      "average :  576490\n"
     ]
    }
   ],
   "source": [
    "print('minimum : ',int(min(df['views'])))\n",
    "print('maximum : ',int(max(df['views'])))\n",
    "print('average : ',int((df['views']).mean()))"
   ]
  },
  {
   "cell_type": "code",
   "execution_count": 19,
   "id": "a6a7a763",
   "metadata": {},
   "outputs": [
    {
     "data": {
      "image/png": "[encoded data removed]",
      "text/plain": [
       "<Figure size 720x288 with 1 Axes>"
      ]
     },
     "metadata": {
      "needs_background": "light"
     },
     "output_type": "display_data"
    }
   ],
   "source": [
    "fig ,axs = plt.subplots(figsize = (10,4))\n",
    "axs.hist(df['views'],bins= 100)\n",
    "\n",
    "plt.title('Number of likes distribution based on views ')\n",
    "\n",
    "plt.xlabel('views in millions')\n",
    "plt.ylabel('number of values')\n",
    "\n",
    "plt.show()\n"
   ]
  },
  {
   "cell_type": "markdown",
   "id": "7889808b",
   "metadata": {},
   "source": [
    "### 3.analysis -comments\n"
   ]
  },
  {
   "cell_type": "code",
   "execution_count": 20,
   "id": "9be2e1fc",
   "metadata": {},
   "outputs": [
    {
     "name": "stdout",
     "output_type": "stream",
     "text": [
      "minimum likes  2\n",
      "maximum likes  127586\n",
      "average likes  829\n"
     ]
    }
   ],
   "source": [
    "print('minimum likes ',int(min(df['comments'])))\n",
    "print('maximum likes ',int(max(df['comments'])))\n",
    "print('average likes ',int((df['comments']).mean()))"
   ]
  },
  {
   "cell_type": "code",
   "execution_count": 21,
   "id": "f09ec4c7",
   "metadata": {},
   "outputs": [
    {
     "data": {
      "image/png": "[encoded data removed]",
      "text/plain": [
       "<Figure size 720x288 with 1 Axes>"
      ]
     },
     "metadata": {
      "needs_background": "light"
     },
     "output_type": "display_data"
    }
   ],
   "source": [
    "fig ,axs = plt.subplots(figsize = (10,4))\n",
    "axs.hist(df['comments'],bins= 1000)\n",
    "\n",
    "plt.title('Number of comments distribution based on views ')\n",
    "\n",
    "plt.xlabel('no of comments')\n",
    "plt.ylabel('number of videos')\n",
    "\n",
    "plt.show()\n"
   ]
  },
  {
   "cell_type": "markdown",
   "id": "ff28d7e2",
   "metadata": {},
   "source": [
    "### 4)  finding correlation from scratch"
   ]
  },
  {
   "cell_type": "code",
   "execution_count": 22,
   "id": "9e8ed41c",
   "metadata": {},
   "outputs": [
    {
     "data": {
      "text/html": [
       "<div>\n",
       "<style scoped>\n",
       "    .dataframe tbody tr th:only-of-type {\n",
       "        vertical-align: middle;\n",
       "    }\n",
       "\n",
       "    .dataframe tbody tr th {\n",
       "        vertical-align: top;\n",
       "    }\n",
       "\n",
       "    .dataframe thead th {\n",
       "        text-align: right;\n",
       "    }\n",
       "</style>\n",
       "<table border=\"1\" class=\"dataframe\">\n",
       "  <thead>\n",
       "    <tr style=\"text-align: right;\">\n",
       "      <th></th>\n",
       "      <th>duration</th>\n",
       "      <th>title</th>\n",
       "      <th>views</th>\n",
       "      <th>likes</th>\n",
       "      <th>comments</th>\n",
       "      <th>date</th>\n",
       "      <th>month</th>\n",
       "      <th>year</th>\n",
       "      <th>day</th>\n",
       "      <th>view_to_like</th>\n",
       "    </tr>\n",
       "  </thead>\n",
       "  <tbody>\n",
       "    <tr>\n",
       "      <th>0</th>\n",
       "      <td>10</td>\n",
       "      <td>The Future Will Be Shaped by Optimists | Kevin...</td>\n",
       "      <td>51273</td>\n",
       "      <td>1900</td>\n",
       "      <td>262</td>\n",
       "      <td>21</td>\n",
       "      <td>4</td>\n",
       "      <td>2022</td>\n",
       "      <td>Thu</td>\n",
       "      <td>0.03706</td>\n",
       "    </tr>\n",
       "    <tr>\n",
       "      <th>1</th>\n",
       "      <td>9</td>\n",
       "      <td>An Olympic Champion’s Unwavering Advocacy for ...</td>\n",
       "      <td>25597</td>\n",
       "      <td>355</td>\n",
       "      <td>53</td>\n",
       "      <td>20</td>\n",
       "      <td>4</td>\n",
       "      <td>2022</td>\n",
       "      <td>Wed</td>\n",
       "      <td>0.01387</td>\n",
       "    </tr>\n",
       "    <tr>\n",
       "      <th>2</th>\n",
       "      <td>7</td>\n",
       "      <td>The African Swamp Protecting Earth's Environme...</td>\n",
       "      <td>21430</td>\n",
       "      <td>633</td>\n",
       "      <td>40</td>\n",
       "      <td>20</td>\n",
       "      <td>4</td>\n",
       "      <td>2022</td>\n",
       "      <td>Wed</td>\n",
       "      <td>0.02954</td>\n",
       "    </tr>\n",
       "    <tr>\n",
       "      <th>3</th>\n",
       "      <td>66</td>\n",
       "      <td>Elon Musk: A future worth getting excited abou...</td>\n",
       "      <td>3609893</td>\n",
       "      <td>95000</td>\n",
       "      <td>8757</td>\n",
       "      <td>18</td>\n",
       "      <td>4</td>\n",
       "      <td>2022</td>\n",
       "      <td>Mon</td>\n",
       "      <td>0.02632</td>\n",
       "    </tr>\n",
       "    <tr>\n",
       "      <th>4</th>\n",
       "      <td>55</td>\n",
       "      <td>Elon Musk talks Twitter, Tesla and how his bra...</td>\n",
       "      <td>4405481</td>\n",
       "      <td>115000</td>\n",
       "      <td>10444</td>\n",
       "      <td>14</td>\n",
       "      <td>4</td>\n",
       "      <td>2022</td>\n",
       "      <td>Thu</td>\n",
       "      <td>0.02610</td>\n",
       "    </tr>\n",
       "  </tbody>\n",
       "</table>\n",
       "</div>"
      ],
      "text/plain": [
       "   duration                                              title    views  \\\n",
       "0        10  The Future Will Be Shaped by Optimists | Kevin...    51273   \n",
       "1         9  An Olympic Champion’s Unwavering Advocacy for ...    25597   \n",
       "2         7  The African Swamp Protecting Earth's Environme...    21430   \n",
       "3        66  Elon Musk: A future worth getting excited abou...  3609893   \n",
       "4        55  Elon Musk talks Twitter, Tesla and how his bra...  4405481   \n",
       "\n",
       "    likes  comments  date  month  year  day  view_to_like  \n",
       "0    1900       262    21      4  2022  Thu       0.03706  \n",
       "1     355        53    20      4  2022  Wed       0.01387  \n",
       "2     633        40    20      4  2022  Wed       0.02954  \n",
       "3   95000      8757    18      4  2022  Mon       0.02632  \n",
       "4  115000     10444    14      4  2022  Thu       0.02610  "
      ]
     },
     "execution_count": 22,
     "metadata": {},
     "output_type": "execute_result"
    }
   ],
   "source": [
    "factor = []\n",
    "\n",
    "for i in df.values:    \n",
    "    factor.append(round(i[3]/i[2],5))          # i[2] = Views, i[3] = likes\n",
    "    \n",
    "df['view_to_like'] = factor\n",
    "\n",
    "df.head()\n"
   ]
  },
  {
   "cell_type": "code",
   "execution_count": 23,
   "id": "08b6b381",
   "metadata": {},
   "outputs": [
    {
     "name": "stdout",
     "output_type": "stream",
     "text": [
      "minimum :  0.00042\n",
      "maximum :  0.07977\n",
      "average :  0\n"
     ]
    }
   ],
   "source": [
    "print('minimum : ',(min(df['view_to_like'])))\n",
    "print('maximum : ',(max(df['view_to_like'])))\n",
    "print('average : ',int((df['view_to_like']).mode()))"
   ]
  },
  {
   "cell_type": "markdown",
   "id": "fa103da1",
   "metadata": {},
   "source": [
    "### 5) Adding predicted likes column\n"
   ]
  },
  {
   "cell_type": "code",
   "execution_count": 24,
   "id": "cbd3a779",
   "metadata": {},
   "outputs": [
    {
     "data": {
      "text/html": [
       "<div>\n",
       "<style scoped>\n",
       "    .dataframe tbody tr th:only-of-type {\n",
       "        vertical-align: middle;\n",
       "    }\n",
       "\n",
       "    .dataframe tbody tr th {\n",
       "        vertical-align: top;\n",
       "    }\n",
       "\n",
       "    .dataframe thead th {\n",
       "        text-align: right;\n",
       "    }\n",
       "</style>\n",
       "<table border=\"1\" class=\"dataframe\">\n",
       "  <thead>\n",
       "    <tr style=\"text-align: right;\">\n",
       "      <th></th>\n",
       "      <th>duration</th>\n",
       "      <th>title</th>\n",
       "      <th>views</th>\n",
       "      <th>likes</th>\n",
       "      <th>comments</th>\n",
       "      <th>date</th>\n",
       "      <th>month</th>\n",
       "      <th>year</th>\n",
       "      <th>day</th>\n",
       "      <th>view_to_like</th>\n",
       "      <th>pred_likes</th>\n",
       "    </tr>\n",
       "  </thead>\n",
       "  <tbody>\n",
       "    <tr>\n",
       "      <th>0</th>\n",
       "      <td>10</td>\n",
       "      <td>The Future Will Be Shaped by Optimists | Kevin...</td>\n",
       "      <td>51273</td>\n",
       "      <td>1900</td>\n",
       "      <td>262</td>\n",
       "      <td>21</td>\n",
       "      <td>4</td>\n",
       "      <td>2022</td>\n",
       "      <td>Thu</td>\n",
       "      <td>0.03706</td>\n",
       "      <td>711</td>\n",
       "    </tr>\n",
       "    <tr>\n",
       "      <th>1</th>\n",
       "      <td>9</td>\n",
       "      <td>An Olympic Champion’s Unwavering Advocacy for ...</td>\n",
       "      <td>25597</td>\n",
       "      <td>355</td>\n",
       "      <td>53</td>\n",
       "      <td>20</td>\n",
       "      <td>4</td>\n",
       "      <td>2022</td>\n",
       "      <td>Wed</td>\n",
       "      <td>0.01387</td>\n",
       "      <td>355</td>\n",
       "    </tr>\n",
       "    <tr>\n",
       "      <th>2</th>\n",
       "      <td>7</td>\n",
       "      <td>The African Swamp Protecting Earth's Environme...</td>\n",
       "      <td>21430</td>\n",
       "      <td>633</td>\n",
       "      <td>40</td>\n",
       "      <td>20</td>\n",
       "      <td>4</td>\n",
       "      <td>2022</td>\n",
       "      <td>Wed</td>\n",
       "      <td>0.02954</td>\n",
       "      <td>297</td>\n",
       "    </tr>\n",
       "    <tr>\n",
       "      <th>3</th>\n",
       "      <td>66</td>\n",
       "      <td>Elon Musk: A future worth getting excited abou...</td>\n",
       "      <td>3609893</td>\n",
       "      <td>95000</td>\n",
       "      <td>8757</td>\n",
       "      <td>18</td>\n",
       "      <td>4</td>\n",
       "      <td>2022</td>\n",
       "      <td>Mon</td>\n",
       "      <td>0.02632</td>\n",
       "      <td>50105</td>\n",
       "    </tr>\n",
       "    <tr>\n",
       "      <th>4</th>\n",
       "      <td>55</td>\n",
       "      <td>Elon Musk talks Twitter, Tesla and how his bra...</td>\n",
       "      <td>4405481</td>\n",
       "      <td>115000</td>\n",
       "      <td>10444</td>\n",
       "      <td>14</td>\n",
       "      <td>4</td>\n",
       "      <td>2022</td>\n",
       "      <td>Thu</td>\n",
       "      <td>0.02610</td>\n",
       "      <td>61148</td>\n",
       "    </tr>\n",
       "  </tbody>\n",
       "</table>\n",
       "</div>"
      ],
      "text/plain": [
       "   duration                                              title    views  \\\n",
       "0        10  The Future Will Be Shaped by Optimists | Kevin...    51273   \n",
       "1         9  An Olympic Champion’s Unwavering Advocacy for ...    25597   \n",
       "2         7  The African Swamp Protecting Earth's Environme...    21430   \n",
       "3        66  Elon Musk: A future worth getting excited abou...  3609893   \n",
       "4        55  Elon Musk talks Twitter, Tesla and how his bra...  4405481   \n",
       "\n",
       "    likes  comments  date  month  year  day  view_to_like  pred_likes  \n",
       "0    1900       262    21      4  2022  Thu       0.03706         711  \n",
       "1     355        53    20      4  2022  Wed       0.01387         355  \n",
       "2     633        40    20      4  2022  Wed       0.02954         297  \n",
       "3   95000      8757    18      4  2022  Mon       0.02632       50105  \n",
       "4  115000     10444    14      4  2022  Thu       0.02610       61148  "
      ]
     },
     "execution_count": 24,
     "metadata": {},
     "output_type": "execute_result"
    }
   ],
   "source": [
    "likes = []\n",
    "\n",
    "for i in df['views']:\n",
    "    likes.append(int(i*0.01388))\n",
    "    \n",
    "df['pred_likes'] = likes\n",
    "\n",
    "df.head()"
   ]
  },
  {
   "cell_type": "markdown",
   "id": "30769903",
   "metadata": {},
   "source": [
    "# Ploting Correlation"
   ]
  },
  {
   "cell_type": "markdown",
   "id": "296a17b0",
   "metadata": {},
   "source": [
    "### 6. correlation between likes and views "
   ]
  },
  {
   "cell_type": "code",
   "execution_count": 25,
   "id": "2cca1be2",
   "metadata": {},
   "outputs": [
    {
     "data": {
      "image/png": "[encoded data removed]",
      "text/plain": [
       "<Figure size 1080x288 with 1 Axes>"
      ]
     },
     "metadata": {
      "needs_background": "light"
     },
     "output_type": "display_data"
    }
   ],
   "source": [
    "data = []\n",
    "\n",
    "for i in df.values:\n",
    "    data.append([i[2],i[3]])\n",
    "    \n",
    "df_ = pd.DataFrame(data,columns =['views','likes'])\n",
    "\n",
    "views = list(df_.sort_values(by='views')['views'])\n",
    "likes = list(df_.sort_values(by='views')['likes'])\n",
    "\n",
    "fig,axs = plt.subplots(figsize =(15,4))\n",
    "\n",
    "axs.plot(views,likes)\n",
    "\n",
    "plt.title('views to likes Distribution /Relations')\n",
    "\n",
    "plt.xlabel('no of views in millions ')\n",
    "plt.ylabel('no of likes')\n",
    "\n",
    "plt.show()"
   ]
  },
  {
   "cell_type": "code",
   "execution_count": 26,
   "id": "9ec14e26",
   "metadata": {},
   "outputs": [],
   "source": [
    "# conclusion there is a positive correlation between likes and views "
   ]
  },
  {
   "cell_type": "code",
   "execution_count": 27,
   "id": "3d8f8729",
   "metadata": {},
   "outputs": [],
   "source": [
    "# 7. correlation between views to Day"
   ]
  },
  {
   "cell_type": "code",
   "execution_count": 28,
   "id": "5455f2a4",
   "metadata": {},
   "outputs": [],
   "source": [
    "# 7.1) total views in all the video on day basis "
   ]
  },
  {
   "cell_type": "code",
   "execution_count": 29,
   "id": "2185f1a9",
   "metadata": {},
   "outputs": [
    {
     "data": {
      "text/plain": [
       "<AxesSubplot:xlabel='day'>"
      ]
     },
     "execution_count": 29,
     "metadata": {},
     "output_type": "execute_result"
    },
    {
     "data": {
      "image/png": "[encoded data removed]",
      "text/plain": [
       "<Figure size 432x288 with 1 Axes>"
      ]
     },
     "metadata": {
      "needs_background": "light"
     },
     "output_type": "display_data"
    }
   ],
   "source": [
    "df.groupby('day').sum()['views'].plot(kind='bar')"
   ]
  },
  {
   "cell_type": "code",
   "execution_count": 30,
   "id": "7e513a2a",
   "metadata": {},
   "outputs": [],
   "source": [
    "# 7.2) Total number of video uploaded on day basis "
   ]
  },
  {
   "cell_type": "code",
   "execution_count": 31,
   "id": "4506899d",
   "metadata": {},
   "outputs": [
    {
     "data": {
      "text/plain": [
       "<AxesSubplot:xlabel='day'>"
      ]
     },
     "execution_count": 31,
     "metadata": {},
     "output_type": "execute_result"
    },
    {
     "data": {
      "image/png": "[encoded data removed]",
      "text/plain": [
       "<Figure size 432x288 with 1 Axes>"
      ]
     },
     "metadata": {
      "needs_background": "light"
     },
     "output_type": "display_data"
    }
   ],
   "source": [
    "df.groupby('day').size().plot(kind='bar')\n"
   ]
  },
  {
   "cell_type": "code",
   "execution_count": 32,
   "id": "6ed53b8a",
   "metadata": {},
   "outputs": [],
   "source": [
    "# 7.3) Average Number of Views in all the video on Day Basis"
   ]
  },
  {
   "cell_type": "code",
   "execution_count": 33,
   "id": "2348a8bf",
   "metadata": {},
   "outputs": [
    {
     "data": {
      "text/plain": [
       "<AxesSubplot:xlabel='day'>"
      ]
     },
     "execution_count": 33,
     "metadata": {},
     "output_type": "execute_result"
    },
    {
     "data": {
      "image/png": "[encoded data removed]",
      "text/plain": [
       "<Figure size 432x288 with 1 Axes>"
      ]
     },
     "metadata": {
      "needs_background": "light"
     },
     "output_type": "display_data"
    }
   ],
   "source": [
    "df.groupby('day').mean()['views'].plot(kind = 'bar')"
   ]
  },
  {
   "cell_type": "markdown",
   "id": "794febe9",
   "metadata": {},
   "source": [
    "### 8) correlation between views ,likes , predicted likes "
   ]
  },
  {
   "cell_type": "code",
   "execution_count": 34,
   "id": "db9ad6c4",
   "metadata": {},
   "outputs": [
    {
     "data": {
      "image/png": "[encoded data removed]",
      "text/plain": [
       "<Figure size 1080x288 with 1 Axes>"
      ]
     },
     "metadata": {
      "needs_background": "light"
     },
     "output_type": "display_data"
    }
   ],
   "source": [
    "data = []\n",
    "\n",
    "for i in df.values:\n",
    "    data.append([i[2],i[3],i[10]])\n",
    "    \n",
    "df_ = pd.DataFrame(data,columns =['views','likes','pred_likes'])\n",
    "\n",
    "views    = list(df_.sort_values(by='views')['views'])\n",
    "likes = list(df_.sort_values(by='views')['likes'])\n",
    "likes_ = list(df_.sort_values(by='views')['pred_likes'])\n",
    "\n",
    "fig,axs = plt.subplots(figsize =(15,4))\n",
    "\n",
    "plt.plot(views,likes,label ='Actual')\n",
    "plt.plot(views,likes_,label ='Predicted')\n",
    "\n",
    "plt. legend()\n",
    "\n",
    "plt.xlabel('views of the video in 10 millions ')\n",
    "plt.ylabel('no of likes in millions')\n",
    "\n",
    "plt.show()"
   ]
  },
  {
   "cell_type": "code",
   "execution_count": 35,
   "id": "a3fc6363",
   "metadata": {},
   "outputs": [
    {
     "data": {
      "text/html": [
       "<div>\n",
       "<style scoped>\n",
       "    .dataframe tbody tr th:only-of-type {\n",
       "        vertical-align: middle;\n",
       "    }\n",
       "\n",
       "    .dataframe tbody tr th {\n",
       "        vertical-align: top;\n",
       "    }\n",
       "\n",
       "    .dataframe thead th {\n",
       "        text-align: right;\n",
       "    }\n",
       "</style>\n",
       "<table border=\"1\" class=\"dataframe\">\n",
       "  <thead>\n",
       "    <tr style=\"text-align: right;\">\n",
       "      <th></th>\n",
       "      <th>duration</th>\n",
       "      <th>title</th>\n",
       "      <th>views</th>\n",
       "      <th>likes</th>\n",
       "      <th>comments</th>\n",
       "      <th>date</th>\n",
       "      <th>month</th>\n",
       "      <th>year</th>\n",
       "      <th>day</th>\n",
       "      <th>view_to_like</th>\n",
       "      <th>pred_likes</th>\n",
       "    </tr>\n",
       "  </thead>\n",
       "  <tbody>\n",
       "    <tr>\n",
       "      <th>0</th>\n",
       "      <td>10</td>\n",
       "      <td>The Future Will Be Shaped by Optimists | Kevin...</td>\n",
       "      <td>51273</td>\n",
       "      <td>1900</td>\n",
       "      <td>262</td>\n",
       "      <td>21</td>\n",
       "      <td>4</td>\n",
       "      <td>2022</td>\n",
       "      <td>Thu</td>\n",
       "      <td>0.03706</td>\n",
       "      <td>711</td>\n",
       "    </tr>\n",
       "    <tr>\n",
       "      <th>1</th>\n",
       "      <td>9</td>\n",
       "      <td>An Olympic Champion’s Unwavering Advocacy for ...</td>\n",
       "      <td>25597</td>\n",
       "      <td>355</td>\n",
       "      <td>53</td>\n",
       "      <td>20</td>\n",
       "      <td>4</td>\n",
       "      <td>2022</td>\n",
       "      <td>Wed</td>\n",
       "      <td>0.01387</td>\n",
       "      <td>355</td>\n",
       "    </tr>\n",
       "    <tr>\n",
       "      <th>2</th>\n",
       "      <td>7</td>\n",
       "      <td>The African Swamp Protecting Earth's Environme...</td>\n",
       "      <td>21430</td>\n",
       "      <td>633</td>\n",
       "      <td>40</td>\n",
       "      <td>20</td>\n",
       "      <td>4</td>\n",
       "      <td>2022</td>\n",
       "      <td>Wed</td>\n",
       "      <td>0.02954</td>\n",
       "      <td>297</td>\n",
       "    </tr>\n",
       "    <tr>\n",
       "      <th>3</th>\n",
       "      <td>66</td>\n",
       "      <td>Elon Musk: A future worth getting excited abou...</td>\n",
       "      <td>3609893</td>\n",
       "      <td>95000</td>\n",
       "      <td>8757</td>\n",
       "      <td>18</td>\n",
       "      <td>4</td>\n",
       "      <td>2022</td>\n",
       "      <td>Mon</td>\n",
       "      <td>0.02632</td>\n",
       "      <td>50105</td>\n",
       "    </tr>\n",
       "    <tr>\n",
       "      <th>4</th>\n",
       "      <td>55</td>\n",
       "      <td>Elon Musk talks Twitter, Tesla and how his bra...</td>\n",
       "      <td>4405481</td>\n",
       "      <td>115000</td>\n",
       "      <td>10444</td>\n",
       "      <td>14</td>\n",
       "      <td>4</td>\n",
       "      <td>2022</td>\n",
       "      <td>Thu</td>\n",
       "      <td>0.02610</td>\n",
       "      <td>61148</td>\n",
       "    </tr>\n",
       "  </tbody>\n",
       "</table>\n",
       "</div>"
      ],
      "text/plain": [
       "   duration                                              title    views  \\\n",
       "0        10  The Future Will Be Shaped by Optimists | Kevin...    51273   \n",
       "1         9  An Olympic Champion’s Unwavering Advocacy for ...    25597   \n",
       "2         7  The African Swamp Protecting Earth's Environme...    21430   \n",
       "3        66  Elon Musk: A future worth getting excited abou...  3609893   \n",
       "4        55  Elon Musk talks Twitter, Tesla and how his bra...  4405481   \n",
       "\n",
       "    likes  comments  date  month  year  day  view_to_like  pred_likes  \n",
       "0    1900       262    21      4  2022  Thu       0.03706         711  \n",
       "1     355        53    20      4  2022  Wed       0.01387         355  \n",
       "2     633        40    20      4  2022  Wed       0.02954         297  \n",
       "3   95000      8757    18      4  2022  Mon       0.02632       50105  \n",
       "4  115000     10444    14      4  2022  Thu       0.02610       61148  "
      ]
     },
     "execution_count": 35,
     "metadata": {},
     "output_type": "execute_result"
    }
   ],
   "source": [
    "df.head()"
   ]
  },
  {
   "cell_type": "code",
   "execution_count": 36,
   "id": "c3738867",
   "metadata": {},
   "outputs": [],
   "source": [
    "### finding loss using MSE (mean squared error )"
   ]
  },
  {
   "cell_type": "code",
   "execution_count": 37,
   "id": "ddc97361",
   "metadata": {},
   "outputs": [],
   "source": [
    "# 9.1) finding mean- error"
   ]
  },
  {
   "cell_type": "code",
   "execution_count": 38,
   "id": "baa828b0",
   "metadata": {},
   "outputs": [
    {
     "data": {
      "text/plain": [
       "4459.131859557868"
      ]
     },
     "execution_count": 38,
     "metadata": {},
     "output_type": "execute_result"
    }
   ],
   "source": [
    "total_error = []\n",
    "for i in df.values:\n",
    "    t = (i[3]-i[10])\n",
    "    if  t >= 0:\n",
    "        total_error.append(t)\n",
    "    else:\n",
    "        total_error.append(-t)\n",
    "\n",
    "sum(total_error)/len(total_error)"
   ]
  },
  {
   "cell_type": "code",
   "execution_count": 39,
   "id": "78c662db",
   "metadata": {},
   "outputs": [],
   "source": [
    "# 9.2 finding view to like ratio "
   ]
  },
  {
   "cell_type": "code",
   "execution_count": 40,
   "id": "f77040c0",
   "metadata": {},
   "outputs": [],
   "source": [
    "views_to_likes = []\n",
    "for i in df.values:\n",
    "    views_to_likes.append(round(i[3]/i[2],5))\n",
    "df['views_to_likes'] = views_to_likes\n",
    "st = int(df['views_to_likes'].min()*100000)\n",
    "end =int(df['views_to_likes'].max()*100000)\n",
    "factors = [] \n",
    "for i in range(st,end+1):\n",
    "    factors.append(i/100000)\n"
   ]
  },
  {
   "cell_type": "code",
   "execution_count": 41,
   "id": "8c192d9e",
   "metadata": {},
   "outputs": [],
   "source": [
    "# 9.3 predicting likes for specific factor "
   ]
  },
  {
   "cell_type": "code",
   "execution_count": 42,
   "id": "22a54a8c",
   "metadata": {},
   "outputs": [],
   "source": [
    "likes_ = []\n",
    "for i in df['views']:\n",
    "    likes_.append(int(i* 0.01388))\n"
   ]
  },
  {
   "cell_type": "code",
   "execution_count": 43,
   "id": "d1af3efb",
   "metadata": {},
   "outputs": [],
   "source": [
    "# combining factor +error +ratio \n"
   ]
  },
  {
   "cell_type": "code",
   "execution_count": 44,
   "id": "869ddaa1",
   "metadata": {},
   "outputs": [
    {
     "name": "stderr",
     "output_type": "stream",
     "text": [
      "100%|█████████████████████████████████████████████████████████████████████████████| 7935/7935 [00:52<00:00, 151.55it/s]\n"
     ]
    }
   ],
   "source": [
    "likes = np.array(df['likes'])\n",
    "\n",
    "error = []\n",
    "\n",
    "for i in tqdm(range(st,end+1,1)):           # creating start and ending range for factor\n",
    "    factor = i/100000                      \n",
    "    \n",
    "    likes_ = []\n",
    "    \n",
    "    for i in df['views']:                     #predicting likes for spcific factor \n",
    "        likes_.append(int(factor*i))\n",
    "        \n",
    "    likes_ = np.array(likes_)\n",
    "\n",
    "    total_error = []                        # error for actual like to predicted like for the factor\n",
    "    \n",
    "    for i in range(len(likes)):\n",
    "        l = likes[i]-likes_[i]\n",
    "        if l>= 0:                          # finding the modulus \n",
    "            total_error.append(l)\n",
    "        else:\n",
    "            total_error.append(-l)\n",
    "    total_error = np.array(total_error)\n",
    "    \n",
    "    error.append([factor, int(total_error.mean())])        # finding error for specific factor \n",
    "error = pd.DataFrame(error,columns=['Factor','Error'])"
   ]
  },
  {
   "cell_type": "code",
   "execution_count": 45,
   "id": "56fb289e",
   "metadata": {},
   "outputs": [
    {
     "data": {
      "text/html": [
       "<div>\n",
       "<style scoped>\n",
       "    .dataframe tbody tr th:only-of-type {\n",
       "        vertical-align: middle;\n",
       "    }\n",
       "\n",
       "    .dataframe tbody tr th {\n",
       "        vertical-align: top;\n",
       "    }\n",
       "\n",
       "    .dataframe thead th {\n",
       "        text-align: right;\n",
       "    }\n",
       "</style>\n",
       "<table border=\"1\" class=\"dataframe\">\n",
       "  <thead>\n",
       "    <tr style=\"text-align: right;\">\n",
       "      <th></th>\n",
       "      <th>Factor</th>\n",
       "      <th>Error</th>\n",
       "    </tr>\n",
       "  </thead>\n",
       "  <tbody>\n",
       "    <tr>\n",
       "      <th>0</th>\n",
       "      <td>0.00042</td>\n",
       "      <td>10786</td>\n",
       "    </tr>\n",
       "    <tr>\n",
       "      <th>1</th>\n",
       "      <td>0.00043</td>\n",
       "      <td>10780</td>\n",
       "    </tr>\n",
       "    <tr>\n",
       "      <th>2</th>\n",
       "      <td>0.00044</td>\n",
       "      <td>10774</td>\n",
       "    </tr>\n",
       "    <tr>\n",
       "      <th>3</th>\n",
       "      <td>0.00045</td>\n",
       "      <td>10768</td>\n",
       "    </tr>\n",
       "    <tr>\n",
       "      <th>4</th>\n",
       "      <td>0.00046</td>\n",
       "      <td>10763</td>\n",
       "    </tr>\n",
       "  </tbody>\n",
       "</table>\n",
       "</div>"
      ],
      "text/plain": [
       "    Factor  Error\n",
       "0  0.00042  10786\n",
       "1  0.00043  10780\n",
       "2  0.00044  10774\n",
       "3  0.00045  10768\n",
       "4  0.00046  10763"
      ]
     },
     "execution_count": 45,
     "metadata": {},
     "output_type": "execute_result"
    }
   ],
   "source": [
    "error.head()"
   ]
  },
  {
   "cell_type": "code",
   "execution_count": 46,
   "id": "305050e9",
   "metadata": {},
   "outputs": [],
   "source": [
    "## finding the best factor that find the likes and views "
   ]
  },
  {
   "cell_type": "code",
   "execution_count": 47,
   "id": "41aadb21",
   "metadata": {},
   "outputs": [],
   "source": [
    "final_factor = error.sort_values(by= 'Error').head(10)['Factor'].mean()"
   ]
  },
  {
   "cell_type": "code",
   "execution_count": 48,
   "id": "9d42556a",
   "metadata": {},
   "outputs": [
    {
     "data": {
      "text/plain": [
       "0.017235"
      ]
     },
     "execution_count": 48,
     "metadata": {},
     "output_type": "execute_result"
    }
   ],
   "source": [
    "final_factor"
   ]
  },
  {
   "cell_type": "code",
   "execution_count": 49,
   "id": "be0b7c41",
   "metadata": {},
   "outputs": [
    {
     "data": {
      "text/html": [
       "<div>\n",
       "<style scoped>\n",
       "    .dataframe tbody tr th:only-of-type {\n",
       "        vertical-align: middle;\n",
       "    }\n",
       "\n",
       "    .dataframe tbody tr th {\n",
       "        vertical-align: top;\n",
       "    }\n",
       "\n",
       "    .dataframe thead th {\n",
       "        text-align: right;\n",
       "    }\n",
       "</style>\n",
       "<table border=\"1\" class=\"dataframe\">\n",
       "  <thead>\n",
       "    <tr style=\"text-align: right;\">\n",
       "      <th></th>\n",
       "      <th>duration</th>\n",
       "      <th>title</th>\n",
       "      <th>views</th>\n",
       "      <th>likes</th>\n",
       "      <th>comments</th>\n",
       "      <th>date</th>\n",
       "      <th>month</th>\n",
       "      <th>year</th>\n",
       "      <th>day</th>\n",
       "      <th>view_to_like</th>\n",
       "      <th>pred_likes</th>\n",
       "      <th>views_to_likes</th>\n",
       "    </tr>\n",
       "  </thead>\n",
       "  <tbody>\n",
       "    <tr>\n",
       "      <th>0</th>\n",
       "      <td>10</td>\n",
       "      <td>The Future Will Be Shaped by Optimists | Kevin...</td>\n",
       "      <td>51273</td>\n",
       "      <td>1900</td>\n",
       "      <td>262</td>\n",
       "      <td>21</td>\n",
       "      <td>4</td>\n",
       "      <td>2022</td>\n",
       "      <td>Thu</td>\n",
       "      <td>0.03706</td>\n",
       "      <td>883</td>\n",
       "      <td>0.03706</td>\n",
       "    </tr>\n",
       "    <tr>\n",
       "      <th>1</th>\n",
       "      <td>9</td>\n",
       "      <td>An Olympic Champion’s Unwavering Advocacy for ...</td>\n",
       "      <td>25597</td>\n",
       "      <td>355</td>\n",
       "      <td>53</td>\n",
       "      <td>20</td>\n",
       "      <td>4</td>\n",
       "      <td>2022</td>\n",
       "      <td>Wed</td>\n",
       "      <td>0.01387</td>\n",
       "      <td>441</td>\n",
       "      <td>0.01387</td>\n",
       "    </tr>\n",
       "    <tr>\n",
       "      <th>2</th>\n",
       "      <td>7</td>\n",
       "      <td>The African Swamp Protecting Earth's Environme...</td>\n",
       "      <td>21430</td>\n",
       "      <td>633</td>\n",
       "      <td>40</td>\n",
       "      <td>20</td>\n",
       "      <td>4</td>\n",
       "      <td>2022</td>\n",
       "      <td>Wed</td>\n",
       "      <td>0.02954</td>\n",
       "      <td>369</td>\n",
       "      <td>0.02954</td>\n",
       "    </tr>\n",
       "    <tr>\n",
       "      <th>3</th>\n",
       "      <td>66</td>\n",
       "      <td>Elon Musk: A future worth getting excited abou...</td>\n",
       "      <td>3609893</td>\n",
       "      <td>95000</td>\n",
       "      <td>8757</td>\n",
       "      <td>18</td>\n",
       "      <td>4</td>\n",
       "      <td>2022</td>\n",
       "      <td>Mon</td>\n",
       "      <td>0.02632</td>\n",
       "      <td>62216</td>\n",
       "      <td>0.02632</td>\n",
       "    </tr>\n",
       "    <tr>\n",
       "      <th>4</th>\n",
       "      <td>55</td>\n",
       "      <td>Elon Musk talks Twitter, Tesla and how his bra...</td>\n",
       "      <td>4405481</td>\n",
       "      <td>115000</td>\n",
       "      <td>10444</td>\n",
       "      <td>14</td>\n",
       "      <td>4</td>\n",
       "      <td>2022</td>\n",
       "      <td>Thu</td>\n",
       "      <td>0.02610</td>\n",
       "      <td>75928</td>\n",
       "      <td>0.02610</td>\n",
       "    </tr>\n",
       "  </tbody>\n",
       "</table>\n",
       "</div>"
      ],
      "text/plain": [
       "   duration                                              title    views  \\\n",
       "0        10  The Future Will Be Shaped by Optimists | Kevin...    51273   \n",
       "1         9  An Olympic Champion’s Unwavering Advocacy for ...    25597   \n",
       "2         7  The African Swamp Protecting Earth's Environme...    21430   \n",
       "3        66  Elon Musk: A future worth getting excited abou...  3609893   \n",
       "4        55  Elon Musk talks Twitter, Tesla and how his bra...  4405481   \n",
       "\n",
       "    likes  comments  date  month  year  day  view_to_like  pred_likes  \\\n",
       "0    1900       262    21      4  2022  Thu       0.03706         883   \n",
       "1     355        53    20      4  2022  Wed       0.01387         441   \n",
       "2     633        40    20      4  2022  Wed       0.02954         369   \n",
       "3   95000      8757    18      4  2022  Mon       0.02632       62216   \n",
       "4  115000     10444    14      4  2022  Thu       0.02610       75928   \n",
       "\n",
       "   views_to_likes  \n",
       "0         0.03706  \n",
       "1         0.01387  \n",
       "2         0.02954  \n",
       "3         0.02632  \n",
       "4         0.02610  "
      ]
     },
     "execution_count": 49,
     "metadata": {},
     "output_type": "execute_result"
    }
   ],
   "source": [
    "likes_ =[]\n",
    "for i in df['views']:\n",
    "    likes_.append(int(i*final_factor))\n",
    "df['pred_likes'] = likes_\n",
    "df.head()"
   ]
  },
  {
   "cell_type": "code",
   "execution_count": 50,
   "id": "8a919ae2",
   "metadata": {},
   "outputs": [],
   "source": [
    "# actual to predicted with best fit factor "
   ]
  },
  {
   "cell_type": "code",
   "execution_count": 51,
   "id": "8bcbcbb1",
   "metadata": {},
   "outputs": [
    {
     "data": {
      "image/png": "[encoded data removed]",
      "text/plain": [
       "<Figure size 1080x288 with 1 Axes>"
      ]
     },
     "metadata": {
      "needs_background": "light"
     },
     "output_type": "display_data"
    }
   ],
   "source": [
    "data = []\n",
    "for i in df.values:\n",
    "    data.append([i[2],i[3],i[10]])\n",
    "df_ = pd.DataFrame(data,columns =['views','likes','pred_likes'])\n",
    "views = list(df_.sort_values(by='views')['views'])\n",
    "likes = list(df_.sort_values(by='views')['likes'])\n",
    "likes_ = list(df_.sort_values(by='views')['pred_likes'])\n",
    "fig,axs = plt.subplots(figsize =(15,4))\n",
    "\n",
    "axs.plot(views,likes,label = 'Actual likes ')\n",
    "axs.plot(views,likes_,label = 'Predicted likes')\n",
    "\n",
    "plt.legend()\n",
    "plt.title('views to likes Distribution /Relations')\n",
    "plt.xlabel('no of views')\n",
    "plt.ylabel('no of likes')\n",
    "\n",
    "plt.show()"
   ]
  }
 ],
 "metadata": {
  "kernelspec": {
   "display_name": "Python 3 (ipykernel)",
   "language": "python",
   "name": "python3"
  },
  "language_info": {
   "codemirror_mode": {
    "name": "ipython",
    "version": 3
   },
   "file_extension": ".py",
   "mimetype": "text/x-python",
   "name": "python",
   "nbconvert_exporter": "python",
   "pygments_lexer": "ipython3",
   "version": "3.9.6"
  }
 },
 "nbformat": 4,
 "nbformat_minor": 5
}

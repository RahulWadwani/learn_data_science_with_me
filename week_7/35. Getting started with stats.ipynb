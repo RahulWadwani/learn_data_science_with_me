{
 "cells": [
  {
   "cell_type": "code",
   "execution_count": 1,
   "id": "f6e4ea43",
   "metadata": {},
   "outputs": [],
   "source": [
    "import pandas as pd \n",
    "import numpy as np \n"
   ]
  },
  {
   "cell_type": "code",
   "execution_count": 2,
   "id": "01776279",
   "metadata": {},
   "outputs": [],
   "source": [
    "df = pd.read_csv('marks.csv')"
   ]
  },
  {
   "cell_type": "code",
   "execution_count": 3,
   "id": "ef1516bf",
   "metadata": {},
   "outputs": [
    {
     "data": {
      "text/html": [
       "<div>\n",
       "<style scoped>\n",
       "    .dataframe tbody tr th:only-of-type {\n",
       "        vertical-align: middle;\n",
       "    }\n",
       "\n",
       "    .dataframe tbody tr th {\n",
       "        vertical-align: top;\n",
       "    }\n",
       "\n",
       "    .dataframe thead th {\n",
       "        text-align: right;\n",
       "    }\n",
       "</style>\n",
       "<table border=\"1\" class=\"dataframe\">\n",
       "  <thead>\n",
       "    <tr style=\"text-align: right;\">\n",
       "      <th></th>\n",
       "      <th>name</th>\n",
       "      <th>Hindi</th>\n",
       "      <th>English</th>\n",
       "      <th>maths</th>\n",
       "      <th>science</th>\n",
       "      <th>ss</th>\n",
       "      <th>Total</th>\n",
       "      <th>avg</th>\n",
       "    </tr>\n",
       "  </thead>\n",
       "  <tbody>\n",
       "    <tr>\n",
       "      <th>0</th>\n",
       "      <td>Raul</td>\n",
       "      <td>45</td>\n",
       "      <td>55</td>\n",
       "      <td>56</td>\n",
       "      <td>52</td>\n",
       "      <td>53</td>\n",
       "      <td>261</td>\n",
       "      <td>52.2</td>\n",
       "    </tr>\n",
       "    <tr>\n",
       "      <th>1</th>\n",
       "      <td>ramesh</td>\n",
       "      <td>65</td>\n",
       "      <td>85</td>\n",
       "      <td>95</td>\n",
       "      <td>63</td>\n",
       "      <td>45</td>\n",
       "      <td>353</td>\n",
       "      <td>70.6</td>\n",
       "    </tr>\n",
       "    <tr>\n",
       "      <th>2</th>\n",
       "      <td>kajol</td>\n",
       "      <td>95</td>\n",
       "      <td>6</td>\n",
       "      <td>85</td>\n",
       "      <td>63</td>\n",
       "      <td>75</td>\n",
       "      <td>324</td>\n",
       "      <td>64.8</td>\n",
       "    </tr>\n",
       "    <tr>\n",
       "      <th>3</th>\n",
       "      <td>karishma</td>\n",
       "      <td>85</td>\n",
       "      <td>75</td>\n",
       "      <td>85</td>\n",
       "      <td>95</td>\n",
       "      <td>65</td>\n",
       "      <td>405</td>\n",
       "      <td>81.0</td>\n",
       "    </tr>\n",
       "    <tr>\n",
       "      <th>4</th>\n",
       "      <td>bakshi</td>\n",
       "      <td>74</td>\n",
       "      <td>73</td>\n",
       "      <td>83</td>\n",
       "      <td>52</td>\n",
       "      <td>43</td>\n",
       "      <td>325</td>\n",
       "      <td>65.0</td>\n",
       "    </tr>\n",
       "    <tr>\n",
       "      <th>5</th>\n",
       "      <td>rashi</td>\n",
       "      <td>73</td>\n",
       "      <td>76</td>\n",
       "      <td>77</td>\n",
       "      <td>78</td>\n",
       "      <td>79</td>\n",
       "      <td>383</td>\n",
       "      <td>76.6</td>\n",
       "    </tr>\n",
       "    <tr>\n",
       "      <th>6</th>\n",
       "      <td>anand</td>\n",
       "      <td>96</td>\n",
       "      <td>91</td>\n",
       "      <td>72</td>\n",
       "      <td>73</td>\n",
       "      <td>43</td>\n",
       "      <td>375</td>\n",
       "      <td>75.0</td>\n",
       "    </tr>\n",
       "    <tr>\n",
       "      <th>7</th>\n",
       "      <td>shalin</td>\n",
       "      <td>25</td>\n",
       "      <td>35</td>\n",
       "      <td>65</td>\n",
       "      <td>45</td>\n",
       "      <td>75</td>\n",
       "      <td>245</td>\n",
       "      <td>49.0</td>\n",
       "    </tr>\n",
       "    <tr>\n",
       "      <th>8</th>\n",
       "      <td>Anonymous</td>\n",
       "      <td>63</td>\n",
       "      <td>62</td>\n",
       "      <td>69</td>\n",
       "      <td>67</td>\n",
       "      <td>68</td>\n",
       "      <td>329</td>\n",
       "      <td>65.8</td>\n",
       "    </tr>\n",
       "    <tr>\n",
       "      <th>9</th>\n",
       "      <td>tina</td>\n",
       "      <td>85</td>\n",
       "      <td>75</td>\n",
       "      <td>45</td>\n",
       "      <td>65</td>\n",
       "      <td>15</td>\n",
       "      <td>285</td>\n",
       "      <td>57.0</td>\n",
       "    </tr>\n",
       "    <tr>\n",
       "      <th>10</th>\n",
       "      <td>shi</td>\n",
       "      <td>72</td>\n",
       "      <td>85</td>\n",
       "      <td>75</td>\n",
       "      <td>88</td>\n",
       "      <td>97</td>\n",
       "      <td>417</td>\n",
       "      <td>83.4</td>\n",
       "    </tr>\n",
       "    <tr>\n",
       "      <th>11</th>\n",
       "      <td>nandi</td>\n",
       "      <td>77</td>\n",
       "      <td>66</td>\n",
       "      <td>55</td>\n",
       "      <td>44</td>\n",
       "      <td>88</td>\n",
       "      <td>330</td>\n",
       "      <td>66.0</td>\n",
       "    </tr>\n",
       "    <tr>\n",
       "      <th>12</th>\n",
       "      <td>abdul</td>\n",
       "      <td>78</td>\n",
       "      <td>74</td>\n",
       "      <td>8</td>\n",
       "      <td>5</td>\n",
       "      <td>6</td>\n",
       "      <td>171</td>\n",
       "      <td>34.2</td>\n",
       "    </tr>\n",
       "    <tr>\n",
       "      <th>13</th>\n",
       "      <td>jeeta</td>\n",
       "      <td>68</td>\n",
       "      <td>67</td>\n",
       "      <td>70</td>\n",
       "      <td>75</td>\n",
       "      <td>39</td>\n",
       "      <td>319</td>\n",
       "      <td>63.8</td>\n",
       "    </tr>\n",
       "    <tr>\n",
       "      <th>14</th>\n",
       "      <td>hardik</td>\n",
       "      <td>78</td>\n",
       "      <td>78</td>\n",
       "      <td>74</td>\n",
       "      <td>53</td>\n",
       "      <td>75</td>\n",
       "      <td>358</td>\n",
       "      <td>71.6</td>\n",
       "    </tr>\n",
       "    <tr>\n",
       "      <th>15</th>\n",
       "      <td>rashmika</td>\n",
       "      <td>78</td>\n",
       "      <td>58</td>\n",
       "      <td>68</td>\n",
       "      <td>69</td>\n",
       "      <td>95</td>\n",
       "      <td>368</td>\n",
       "      <td>73.6</td>\n",
       "    </tr>\n",
       "  </tbody>\n",
       "</table>\n",
       "</div>"
      ],
      "text/plain": [
       "         name  Hindi  English  maths  science  ss  Total   avg\n",
       "0        Raul     45       55     56       52  53    261  52.2\n",
       "1      ramesh     65       85     95       63  45    353  70.6\n",
       "2       kajol     95        6     85       63  75    324  64.8\n",
       "3    karishma     85       75     85       95  65    405  81.0\n",
       "4     bakshi      74       73     83       52  43    325  65.0\n",
       "5       rashi     73       76     77       78  79    383  76.6\n",
       "6       anand     96       91     72       73  43    375  75.0\n",
       "7      shalin     25       35     65       45  75    245  49.0\n",
       "8   Anonymous     63       62     69       67  68    329  65.8\n",
       "9        tina     85       75     45       65  15    285  57.0\n",
       "10        shi     72       85     75       88  97    417  83.4\n",
       "11      nandi     77       66     55       44  88    330  66.0\n",
       "12      abdul     78       74      8        5   6    171  34.2\n",
       "13      jeeta     68       67     70       75  39    319  63.8\n",
       "14     hardik     78       78     74       53  75    358  71.6\n",
       "15   rashmika     78       58     68       69  95    368  73.6"
      ]
     },
     "execution_count": 3,
     "metadata": {},
     "output_type": "execute_result"
    }
   ],
   "source": [
    "df"
   ]
  },
  {
   "cell_type": "code",
   "execution_count": 4,
   "id": "5dee3436",
   "metadata": {},
   "outputs": [],
   "source": [
    "data = list(df['English'])"
   ]
  },
  {
   "cell_type": "code",
   "execution_count": 5,
   "id": "a7bfd974",
   "metadata": {},
   "outputs": [
    {
     "data": {
      "text/plain": [
       "[55, 85, 6, 75, 73, 76, 91, 35, 62, 75, 85, 66, 74, 67, 78, 58]"
      ]
     },
     "execution_count": 5,
     "metadata": {},
     "output_type": "execute_result"
    }
   ],
   "source": [
    "data"
   ]
  },
  {
   "cell_type": "markdown",
   "id": "cf6c9d8c",
   "metadata": {},
   "source": [
    "# 1. Mean"
   ]
  },
  {
   "cell_type": "code",
   "execution_count": 6,
   "id": "f1dce3b7",
   "metadata": {},
   "outputs": [],
   "source": [
    "def mean(data):\n",
    "    total  = 0\n",
    "    for i in data:\n",
    "        total += i\n",
    "    return int(total/len(data))"
   ]
  },
  {
   "cell_type": "code",
   "execution_count": 7,
   "id": "9aad86d2",
   "metadata": {},
   "outputs": [
    {
     "name": "stdout",
     "output_type": "stream",
     "text": [
      "hin :  72\n",
      "eng :  66\n",
      "mat :  67\n",
      "sci :  61\n",
      "ss  :  60\n"
     ]
    }
   ],
   "source": [
    "print('hin : ',mean(list(df['Hindi'])))\n",
    "print('eng : ',mean(list(df['English'])))\n",
    "print('mat : ',mean(list(df['maths'])))\n",
    "print('sci : ',mean(list(df['science'])))\n",
    "print('ss  : ',mean(list(df['ss'])))"
   ]
  },
  {
   "cell_type": "markdown",
   "id": "bb8cab01",
   "metadata": {},
   "source": [
    "# 2.Median"
   ]
  },
  {
   "cell_type": "code",
   "execution_count": 8,
   "id": "cee68c8e",
   "metadata": {},
   "outputs": [],
   "source": [
    "def median(lst):\n",
    "    lst = list(np.sort(lst))\n",
    "    if len(lst)%2 == 0 :\n",
    "        return (lst[len(lst)//2 -1] + lst[len(lst)//2 ]/2)\n",
    "    else:\n",
    "        return lst[len(lst)//2]"
   ]
  },
  {
   "cell_type": "code",
   "execution_count": 9,
   "id": "e935115a",
   "metadata": {},
   "outputs": [
    {
     "name": "stdout",
     "output_type": "stream",
     "text": [
      "hin :  112.5\n",
      "eng :  110.0\n",
      "mat :  106.0\n",
      "sci :  95.5\n",
      "ss  :  99.0\n"
     ]
    }
   ],
   "source": [
    "print('hin : ',median(list(df['Hindi'])))\n",
    "print('eng : ',median(list(df['English'])))\n",
    "print('mat : ',median(list(df['maths'])))\n",
    "print('sci : ',median(list(df['science'])))\n",
    "print('ss  : ',median(list(df['ss'])))"
   ]
  },
  {
   "cell_type": "markdown",
   "id": "df8dbd2e",
   "metadata": {},
   "source": [
    "# 3. Mode"
   ]
  },
  {
   "cell_type": "code",
   "execution_count": 10,
   "id": "5a73d870",
   "metadata": {},
   "outputs": [],
   "source": [
    "def mode(lst):\n",
    "    freq =  []\n",
    "\n",
    "    for i in set(lst):\n",
    "        freq.append([i,lst.count(i)])\n",
    "\n",
    "    df_ne = pd.DataFrame(freq,columns= ['number','freq'])\n",
    "    mode = df_ne.sort_values(by='freq',ascending = False).head(1).values[0][0]\n",
    "    return mode"
   ]
  },
  {
   "cell_type": "code",
   "execution_count": 11,
   "id": "3e1b0836",
   "metadata": {},
   "outputs": [
    {
     "name": "stdout",
     "output_type": "stream",
     "text": [
      "hin :  78\n",
      "eng :  75\n",
      "mat :  85\n",
      "sci :  52\n",
      "ss  :  75\n"
     ]
    }
   ],
   "source": [
    "print('hin : ',mode(list(df['Hindi'])))\n",
    "print('eng : ',mode(list(df['English'])))\n",
    "print('mat : ',mode(list(df['maths'])))\n",
    "print('sci : ',mode(list(df['science'])))\n",
    "print('ss  : ',mode(list(df['ss'])))"
   ]
  }
 ],
 "metadata": {
  "kernelspec": {
   "display_name": "Python 3 (ipykernel)",
   "language": "python",
   "name": "python3"
  },
  "language_info": {
   "codemirror_mode": {
    "name": "ipython",
    "version": 3
   },
   "file_extension": ".py",
   "mimetype": "text/x-python",
   "name": "python",
   "nbconvert_exporter": "python",
   "pygments_lexer": "ipython3",
   "version": "3.9.6"
  }
 },
 "nbformat": 4,
 "nbformat_minor": 5
}

{
 "cells": [
  {
   "cell_type": "code",
   "execution_count": null,
   "id": "26983062",
   "metadata": {},
   "outputs": [],
   "source": [
    "import pandas as pd \n",
    "import json \n",
    "df = pd.read_csv('movies.csv')\n",
    "df.head()"
   ]
  },
  {
   "cell_type": "code",
   "execution_count": 2,
   "id": "cb5f633b",
   "metadata": {},
   "outputs": [],
   "source": [
    "### 1. Year Based Custom Dataset \n",
    "##### 1.1) csv based"
   ]
  },
  {
   "cell_type": "code",
   "execution_count": null,
   "id": "fbe2c9e3",
   "metadata": {},
   "outputs": [],
   "source": [
    "len(df['year'].unique())"
   ]
  },
  {
   "cell_type": "code",
   "execution_count": null,
   "id": "441c3b1a",
   "metadata": {},
   "outputs": [],
   "source": [
    "data = []\n",
    "\n",
    "for year in sorted(df['year'].unique()):\n",
    "    data.append([year,len(df[df['year'] == year]),','.join(df[df['year'] == year]['id'].values)])\n",
    "df_ = pd.DataFrame(data,columns =['year','no_of_movies','movies_ids'])   \n",
    "df_.to_csv('datasets/year.csv',index =False)\n",
    "df_.head()"
   ]
  },
  {
   "cell_type": "code",
   "execution_count": 4,
   "id": "da19b756",
   "metadata": {},
   "outputs": [],
   "source": [
    "df_.sort_values(by = 'no_of_movies').tail(10)"
   ]
  },
  {
   "cell_type": "code",
   "execution_count": 3,
   "id": "9aa0fb28",
   "metadata": {},
   "outputs": [],
   "source": [
    "##### 1.2) json Based "
   ]
  },
  {
   "cell_type": "code",
   "execution_count": null,
   "id": "fa2dd256",
   "metadata": {},
   "outputs": [],
   "source": [
    "dct = {}\n",
    "for year in sorted(df['year'].unique()):\n",
    "    dct[str(year)] = {'freq':len(df[df['year'] == year]),\n",
    "                 'movies_ids':','.join(df[df['year'] == year]['id'].values)\n",
    "                }\n",
    "dct = json.dumps(dct)\n",
    "\n",
    "\n",
    "fd = open('datasets/year.json','w')\n",
    "fd.write(dct)\n",
    "fd.close()"
   ]
  },
  {
   "cell_type": "code",
   "execution_count": 5,
   "id": "5a437678",
   "metadata": {},
   "outputs": [],
   "source": [
    "### 2.Basic movies info dataset"
   ]
  },
  {
   "cell_type": "code",
   "execution_count": null,
   "id": "977794f5",
   "metadata": {},
   "outputs": [],
   "source": [
    "# name,id, link d\n",
    "data = []\n",
    "for i in df.values[:,1:3]:\n",
    "    data.append(i[0],i[1],'https://www.imdb.com/title/'+i[0])\n",
    "df_1 = pd.DataFrame(data,columns=['id','name','links'])\n",
    "df_1.to_csv('datasets/basic_movie_info.csv',index=False)\n"
   ]
  },
  {
   "cell_type": "code",
   "execution_count": null,
   "id": "390d9cd2",
   "metadata": {},
   "outputs": [],
   "source": [
    "# do with certificate"
   ]
  },
  {
   "cell_type": "code",
   "execution_count": null,
   "id": "96ecae1e",
   "metadata": {},
   "outputs": [],
   "source": []
  },
  {
   "cell_type": "code",
   "execution_count": 6,
   "id": "f73c63e3",
   "metadata": {},
   "outputs": [],
   "source": [
    "### 3. Genre - custom dataset\n",
    "\n",
    "##### 3.1) csv based"
   ]
  },
  {
   "cell_type": "code",
   "execution_count": null,
   "id": "f519fc18",
   "metadata": {},
   "outputs": [],
   "source": [
    "genre = []\n",
    "for i in df['genre']:\n",
    "    genre += (i.split(','))\n",
    "    \n",
    "genre = list(set(genre))\n",
    "\n",
    "\n",
    "\n",
    "dct ={}\n",
    "for i in genre:\n",
    "    c = 0\n",
    "    t = {}\n",
    "    for gen in range(len(df['genre'])):\n",
    "        if i in df['genre'][gen]:\n",
    "            t[df['id'][gen]] = df['name'][gen]\n",
    "    \n",
    "    dct[i] = t    \n",
    "    \n",
    "dct = json.dumps(dct)\n",
    "\n",
    "\n",
    "fd = open('datasets/genre.json','w')\n",
    "fd.write(dct)\n",
    "fd.close()"
   ]
  },
  {
   "cell_type": "code",
   "execution_count": null,
   "id": "5d9fd7f0",
   "metadata": {},
   "outputs": [],
   "source": [
    "# work with directors"
   ]
  },
  {
   "cell_type": "code",
   "execution_count": null,
   "id": "aadceef5",
   "metadata": {},
   "outputs": [],
   "source": []
  },
  {
   "cell_type": "code",
   "execution_count": null,
   "id": "6e0f4c7d",
   "metadata": {},
   "outputs": [],
   "source": [
    "df['member_id'] = df['director_id']+ ',' +df['writer_id'] + ',' + df['cast_id']"
   ]
  },
  {
   "cell_type": "code",
   "execution_count": null,
   "id": "94d304cf",
   "metadata": {},
   "outputs": [],
   "source": [
    "# members involved"
   ]
  },
  {
   "cell_type": "code",
   "execution_count": null,
   "id": "73224cfc",
   "metadata": {},
   "outputs": [],
   "source": [
    "def make_pair(dct , id_ , name_):\n",
    "    for i in range(len(id_)):\n",
    "        dct[id_[i]]  = name_[i]\n",
    "    return dct\n",
    "\n",
    "directors_dct = {}\n",
    "cast_dct = {}\n",
    "writer_dct = {}\n",
    "\n",
    "members_dct = {}\n",
    "\n",
    "for i in df.values:\n",
    "    cast_dct        = make_pair(cast_dct      , i[9]  , i[10])           # cast id\n",
    "    directors_dct   = make_pair(directors_dct , i[11] , i[12])           # director id  \n",
    "    writer_dct      = make_pair(writer_dct    , i[13] , i[14])           # writer id \n",
    "    \n",
    "print('total writers   : ',len(writer_dct))    \n",
    "print('total directors : ',len(directors_dct))    \n",
    "print('total cast      : ',len(cast_dct))    \n",
    "\n"
   ]
  },
  {
   "cell_type": "code",
   "execution_count": null,
   "id": "138ba5b9",
   "metadata": {},
   "outputs": [],
   "source": [
    "## 4.2) making pairs of unique "
   ]
  },
  {
   "cell_type": "code",
   "execution_count": null,
   "id": "e6350b4e",
   "metadata": {},
   "outputs": [],
   "source": [
    "lst = []\n",
    "for member in df['member_id']:\n",
    "    lst.append(member.split(','))\n",
    "print(list(set(lst)))\n",
    "print(lst)\n",
    "members = list(set(lst))\n",
    "\n"
   ]
  },
  {
   "cell_type": "code",
   "execution_count": null,
   "id": "0242e86c",
   "metadata": {},
   "outputs": [],
   "source": [
    "# 4.3) making pairs of unique modules"
   ]
  },
  {
   "cell_type": "code",
   "execution_count": null,
   "id": "2c0023f8",
   "metadata": {},
   "outputs": [],
   "source": [
    "members_dct = {}\n",
    "for i in members:\n",
    "    if i in cast_dct.keys():\n",
    "        members_dct[i] = cast_dct[i]\n",
    "    elif i in directors_dct.keys():\n",
    "        members_dct[i] = directors_dct[i]\n",
    "    elif i in writer_dct.keys():\n",
    "        members_dct[i] = writer_dct[i]\n",
    "        \n",
    "    "
   ]
  },
  {
   "cell_type": "code",
   "execution_count": null,
   "id": "dc5b1811",
   "metadata": {},
   "outputs": [],
   "source": [
    "# 4.4) creating json for directors, cast and writer"
   ]
  },
  {
   "cell_type": "code",
   "execution_count": null,
   "id": "e162c760",
   "metadata": {},
   "outputs": [],
   "source": [
    "fd = open('datasets/directors.json','w')\n",
    "fd.write(directors_dct)\n",
    "fd.close()\n",
    "\n",
    "fd = open('datasets/cast.json','w')\n",
    "fd.write(cast_dct)\n",
    "fd.close()\n",
    "\n",
    "fd = open('datasets/writer.json','w')\n",
    "fd.write(writer_dct)\n",
    "fd.close()"
   ]
  },
  {
   "cell_type": "code",
   "execution_count": null,
   "id": "d63a311a",
   "metadata": {},
   "outputs": [],
   "source": [
    "# 4.5) creating csv of all members"
   ]
  },
  {
   "cell_type": "code",
   "execution_count": null,
   "id": "c6888b97",
   "metadata": {},
   "outputs": [],
   "source": [
    "data =[]\n",
    "for k in members_dct.keys():\n",
    "    data.append([k,member_dct[k]])\n",
    "pd.DataFrame(data,columns =['id','name']).to_csv('datasets/members.csv',index= False)\n",
    "    "
   ]
  },
  {
   "cell_type": "code",
   "execution_count": null,
   "id": "0a86c7f4",
   "metadata": {},
   "outputs": [],
   "source": [
    "# 4.6) creating json of all members "
   ]
  },
  {
   "cell_type": "code",
   "execution_count": null,
   "id": "1247c8bb",
   "metadata": {},
   "outputs": [],
   "source": [
    "data = {}\n",
    "for k in members_dct.keys():\n",
    "    data[k] = member_dct[k]\n",
    "\n",
    "print(len(data))  \n",
    "unique_member = dct.keys()"
   ]
  },
  {
   "cell_type": "code",
   "execution_count": 7,
   "id": "e7f7829c",
   "metadata": {},
   "outputs": [],
   "source": [
    "# 5) finding the person who has worked on most of the movies "
   ]
  },
  {
   "cell_type": "code",
   "execution_count": null,
   "id": "940a5ed3",
   "metadata": {},
   "outputs": [],
   "source": [
    "data = []\n",
    "for i in len(unique_member):\n",
    "    c = 0\n",
    "    for j in df['members_id']:\n",
    "        if (i in j.split(',')):\n",
    "            c += 1\n",
    "    data.append([i,c,dct[i]])\n",
    "    \n",
    "df_ = pd.DataFrame(data,columns =['id','freq','name']) \n",
    "df_.to_csv('datasets/person_specific_movie.csv',index = False)\n",
    "df_.sort_values(by = 'freq', ascending = False).head()\n"
   ]
  },
  {
   "cell_type": "code",
   "execution_count": null,
   "id": "93639597",
   "metadata": {},
   "outputs": [],
   "source": [
    "# finding the person who has worked on most of the movies (same movies in multiple roles)"
   ]
  },
  {
   "cell_type": "code",
   "execution_count": null,
   "id": "dad1d15f",
   "metadata": {},
   "outputs": [],
   "source": [
    "data = []\n",
    "for i in len(unique_member):\n",
    "    c = 0\n",
    "    for j in df['members_id']:\n",
    "        if (i in j.split(',')):\n",
    "            c += j.split(',').count(i)\n",
    "    data.append([i,c,dct[i]])\n",
    "    \n",
    "df_ = pd.DataFrame(data,columns =['id','freq','name']) \n",
    "df_.to_csv('datasets/person_role_movie.csv',index = False)\n",
    "df_.sort_values(by = 'freq', ascending = False).head()\n"
   ]
  },
  {
   "cell_type": "code",
   "execution_count": null,
   "id": "7553abfa",
   "metadata": {},
   "outputs": [],
   "source": [
    "# writer specific\n",
    "# cast specific\n",
    "# director specific"
   ]
  },
  {
   "cell_type": "code",
   "execution_count": 8,
   "id": "8a39c40b",
   "metadata": {},
   "outputs": [],
   "source": [
    "#7. basic members information dataset "
   ]
  },
  {
   "cell_type": "code",
   "execution_count": null,
   "id": "4c5ff02c",
   "metadata": {},
   "outputs": [],
   "source": [
    "df"
   ]
  }
 ],
 "metadata": {
  "kernelspec": {
   "display_name": "Python 3 (ipykernel)",
   "language": "python",
   "name": "python3"
  },
  "language_info": {
   "codemirror_mode": {
    "name": "ipython",
    "version": 3
   },
   "file_extension": ".py",
   "mimetype": "text/x-python",
   "name": "python",
   "nbconvert_exporter": "python",
   "pygments_lexer": "ipython3",
   "version": "3.9.6"
  }
 },
 "nbformat": 4,
 "nbformat_minor": 5
}

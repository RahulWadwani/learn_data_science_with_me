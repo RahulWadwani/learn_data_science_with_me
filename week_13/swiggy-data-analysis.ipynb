{
 "cells": [
  {
   "cell_type": "code",
   "execution_count": 1,
   "metadata": {
    "_cell_guid": "b1076dfc-b9ad-4769-8c92-a6c4dae69d19",
    "_uuid": "8f2839f25d086af736a60e9eeb907d3b93b6e0e5",
    "execution": {
     "iopub.execute_input": "2022-12-30T11:08:27.853566Z",
     "iopub.status.busy": "2022-12-30T11:08:27.852018Z",
     "iopub.status.idle": "2022-12-30T11:08:27.864469Z",
     "shell.execute_reply": "2022-12-30T11:08:27.863368Z",
     "shell.execute_reply.started": "2022-12-30T11:08:27.853487Z"
    }
   },
   "outputs": [],
   "source": [
    "import numpy as np \n",
    "import pandas as pd \n",
    "from json import loads , dumps\n",
    "\n",
    "import os\n",
    "for dirname, _, filenames in os.walk('/kaggle/input'):\n",
    "    for filename in filenames:\n",
    "        print(os.path.join(dirname, filename))"
   ]
  },
  {
   "cell_type": "markdown",
   "metadata": {},
   "source": [
    "## 1. Loading the swiggy dataset (JSON file)"
   ]
  },
  {
   "cell_type": "code",
   "execution_count": 2,
   "metadata": {
    "execution": {
     "iopub.execute_input": "2022-12-30T11:08:29.462555Z",
     "iopub.status.busy": "2022-12-30T11:08:29.461258Z",
     "iopub.status.idle": "2022-12-30T11:09:07.302292Z",
     "shell.execute_reply": "2022-12-30T11:09:07.300829Z",
     "shell.execute_reply.started": "2022-12-30T11:08:29.462489Z"
    }
   },
   "outputs": [
    {
     "ename": "FileNotFoundError",
     "evalue": "[Errno 2] No such file or directory: '/kaggle/input/swiggy-restaurants-dataset/data.json'",
     "output_type": "error",
     "traceback": [
      "\u001b[1;31m---------------------------------------------------------------------------\u001b[0m",
      "\u001b[1;31mFileNotFoundError\u001b[0m                         Traceback (most recent call last)",
      "Input \u001b[1;32mIn [2]\u001b[0m, in \u001b[0;36m<module>\u001b[1;34m\u001b[0m\n\u001b[1;32m----> 1\u001b[0m file \u001b[38;5;241m=\u001b[39m \u001b[38;5;28;43mopen\u001b[39;49m\u001b[43m(\u001b[49m\u001b[38;5;124;43m'\u001b[39;49m\u001b[38;5;124;43m/kaggle/input/swiggy-restaurants-dataset/data.json\u001b[39;49m\u001b[38;5;124;43m'\u001b[39;49m\u001b[43m,\u001b[49m\u001b[38;5;124;43m'\u001b[39;49m\u001b[38;5;124;43mr\u001b[39;49m\u001b[38;5;124;43m'\u001b[39;49m\u001b[43m)\u001b[49m\n\u001b[0;32m      2\u001b[0m data \u001b[38;5;241m=\u001b[39m file\u001b[38;5;241m.\u001b[39mread()\n\u001b[0;32m      3\u001b[0m file\u001b[38;5;241m.\u001b[39mclose()\n",
      "\u001b[1;31mFileNotFoundError\u001b[0m: [Errno 2] No such file or directory: '/kaggle/input/swiggy-restaurants-dataset/data.json'"
     ]
    }
   ],
   "source": [
    "file = open('/kaggle/input/swiggy-restaurants-dataset/data.json','r')\n",
    "data = file.read()\n",
    "file.close()\n",
    "js = json.loads(data)"
   ]
  },
  {
   "cell_type": "markdown",
   "metadata": {},
   "source": [
    "## 2. Dataset walkthrough "
   ]
  },
  {
   "cell_type": "markdown",
   "metadata": {},
   "source": [
    "#### 2.1) how many cities are present in the given dataset "
   ]
  },
  {
   "cell_type": "code",
   "execution_count": 53,
   "metadata": {
    "execution": {
     "iopub.execute_input": "2022-12-30T11:09:07.304723Z",
     "iopub.status.busy": "2022-12-30T11:09:07.304210Z",
     "iopub.status.idle": "2022-12-30T11:09:07.313307Z",
     "shell.execute_reply": "2022-12-30T11:09:07.310470Z",
     "shell.execute_reply.started": "2022-12-30T11:09:07.304683Z"
    }
   },
   "outputs": [
    {
     "name": "stdout",
     "output_type": "stream",
     "text": [
      "623\n"
     ]
    }
   ],
   "source": [
    "print(len(js.keys()))\n",
    "    "
   ]
  },
  {
   "cell_type": "markdown",
   "metadata": {},
   "source": [
    "#### 2.2) how many restaurants are present in a particular city "
   ]
  },
  {
   "cell_type": "code",
   "execution_count": 54,
   "metadata": {
    "execution": {
     "iopub.execute_input": "2022-12-30T11:09:07.315373Z",
     "iopub.status.busy": "2022-12-30T11:09:07.315033Z",
     "iopub.status.idle": "2022-12-30T11:09:07.328563Z",
     "shell.execute_reply": "2022-12-30T11:09:07.326654Z",
     "shell.execute_reply.started": "2022-12-30T11:09:07.315341Z"
    }
   },
   "outputs": [
    {
     "name": "stdout",
     "output_type": "stream",
     "text": [
      "63\n"
     ]
    }
   ],
   "source": [
    "print(len(js['Abohar']['restaurants'].keys()))"
   ]
  },
  {
   "cell_type": "markdown",
   "metadata": {},
   "source": [
    "#### 2.3) All restaurant is serving how many number of different menu products category in Abohar?"
   ]
  },
  {
   "cell_type": "code",
   "execution_count": 69,
   "metadata": {
    "execution": {
     "iopub.execute_input": "2022-12-30T11:16:05.979292Z",
     "iopub.status.busy": "2022-12-30T11:16:05.978883Z",
     "iopub.status.idle": "2022-12-30T11:16:05.988311Z",
     "shell.execute_reply": "2022-12-30T11:16:05.986228Z",
     "shell.execute_reply.started": "2022-12-30T11:16:05.979260Z"
    }
   },
   "outputs": [
    {
     "name": "stdout",
     "output_type": "stream",
     "text": [
      "AB FOODS POINT | 17\n",
      "Janta Sweet House | 21\n",
      "theka coffee desi | 29\n",
      "Singh Hut | 11\n",
      "GRILL MASTERS | 16\n",
      "Sam Uncle | 8\n",
      "shere punjab veg | 8\n",
      "Shri Balaji Vaishno Dhaba | 3\n",
      "Hinglaj Kachori Bhandhar | 2\n",
      "yummy hub | 2\n",
      "CHAWLA SAAB THE JUICE MASTER | 17\n",
      "Sethi Milk Badam | 2\n",
      "Swastik Dhaba | 7\n",
      "Jodhpuri Kachori | 1\n",
      "Bharawan Da Dhaba | 7\n",
      "Tandoori Nights | 8\n",
      "Rahul Food | 0\n",
      "Roll Express | 2\n",
      "wah ji waah veg and non veg corner | 8\n",
      "Shri Balaji fast food and Variety store | 15\n",
      "FOODY MOOD | 7\n",
      "PUNJABI TADKA | 3\n",
      "PUNJABI TADKA CHICKEN HUB | 3\n",
      "Royal Chicken | 7\n",
      "Just Baked | 10\n",
      "Picado International Food | 23\n",
      "PubG Cafe | 20\n",
      "Verma Dhaba | 4\n",
      "Fresh Food Cafe | 23\n",
      "NAVU PIZZA HOUSE | 6\n",
      "Domino's Pizza | 10\n",
      "Joker Cafe | 15\n",
      "Deepak Dhaba | 4\n",
      "FUN TIME (SHARMA DAIRY) | 3\n",
      "Pari Healthy Food | 4\n",
      "Bhatti Ki Rasoi | 2\n",
      "SETHI PUNJABI RASOI | 6\n",
      "Kurda Ram Desi Ghee Dhaba(Original & Famous) | 7\n",
      "Paratha 24x7 | 3\n",
      "NIKKU VEG THALI | 8\n",
      "PARJAPATI FAST FOOD | 1\n",
      "Ganesh Fast Food | 5\n",
      "Mitran Da dhaba | 1\n",
      "The Super Cafe | 2\n",
      "chacha sweets house | 17\n",
      "Cafe M | 2\n",
      "Frankie roll junction | 1\n",
      "G.K Dhaba | 4\n",
      "DAYA RAJ VEG VAISHNO DHABA AND  CATERS | 2\n",
      "JUICY BAR N RESTO | 21\n",
      "FresHub | 6\n",
      "The Food Factory | 9\n",
      "MUNNA PUNJABI RASOI | 8\n",
      "Grill Master By Sharda Anita Enterprises | 17\n",
      "Maruti Plaza | 9\n",
      "Nikku Chaap Cafe | 13\n",
      "DK Food Point | 1\n",
      "TUMMY CLINIK FAST FOOD CORNER | 8\n",
      "Sagar Fast Food | 9\n",
      "SUDESH FAST FOOD | 6\n",
      "Sonu Tandoori Paties | 1\n",
      "Bihari da vaishno dhaba | 5\n",
      "SHRI GANESH SWEET HOUSE | 2\n"
     ]
    }
   ],
   "source": [
    "for i in js['Abohar']['restaurants'].keys():\n",
    "    print(js['Abohar']['restaurants'][i]['name'],'|',len(js['Abohar']['restaurants'][i]['menu'].keys()))"
   ]
  },
  {
   "cell_type": "markdown",
   "metadata": {},
   "source": [
    "#### 2.4) Find the Restaurants with no Menu in Abohar?"
   ]
  },
  {
   "cell_type": "code",
   "execution_count": null,
   "metadata": {},
   "outputs": [],
   "source": [
    "for i in js['Abohar']['restaurants'].keys():\n",
    "print(len(js['Abohar']['restaurants'][i]['menu'].keys()))"
   ]
  },
  {
   "cell_type": "code",
   "execution_count": null,
   "metadata": {},
   "outputs": [],
   "source": []
  }
 ],
 "metadata": {
  "kernelspec": {
   "display_name": "Python 3 (ipykernel)",
   "language": "python",
   "name": "python3"
  },
  "language_info": {
   "codemirror_mode": {
    "name": "ipython",
    "version": 3
   },
   "file_extension": ".py",
   "mimetype": "text/x-python",
   "name": "python",
   "nbconvert_exporter": "python",
   "pygments_lexer": "ipython3",
   "version": "3.9.6"
  }
 },
 "nbformat": 4,
 "nbformat_minor": 4
}

{
 "cells": [
  {
   "cell_type": "code",
   "execution_count": 1,
   "id": "51530af6",
   "metadata": {},
   "outputs": [],
   "source": [
    "import pandas as pd \n"
   ]
  },
  {
   "cell_type": "code",
   "execution_count": 2,
   "id": "88d91902",
   "metadata": {},
   "outputs": [
    {
     "data": {
      "text/html": [
       "<div>\n",
       "<style scoped>\n",
       "    .dataframe tbody tr th:only-of-type {\n",
       "        vertical-align: middle;\n",
       "    }\n",
       "\n",
       "    .dataframe tbody tr th {\n",
       "        vertical-align: top;\n",
       "    }\n",
       "\n",
       "    .dataframe thead th {\n",
       "        text-align: right;\n",
       "    }\n",
       "</style>\n",
       "<table border=\"1\" class=\"dataframe\">\n",
       "  <thead>\n",
       "    <tr style=\"text-align: right;\">\n",
       "      <th></th>\n",
       "      <th>title</th>\n",
       "      <th>author</th>\n",
       "      <th>author_id</th>\n",
       "      <th>date_time</th>\n",
       "      <th>size</th>\n",
       "      <th>upvotes</th>\n",
       "      <th>rating</th>\n",
       "      <th>views</th>\n",
       "      <th>downloads</th>\n",
       "      <th>link</th>\n",
       "    </tr>\n",
       "  </thead>\n",
       "  <tbody>\n",
       "    <tr>\n",
       "      <th>0</th>\n",
       "      <td>Wine Quality Dataset</td>\n",
       "      <td>M Yasser H</td>\n",
       "      <td>/yasserh</td>\n",
       "      <td>Sun Jan 16 2022 00:45:11</td>\n",
       "      <td>0.0762</td>\n",
       "      <td>290</td>\n",
       "      <td>10.0</td>\n",
       "      <td>45700</td>\n",
       "      <td>7599</td>\n",
       "      <td>https://www.kaggle.com/yasserh/wine-quality-da...</td>\n",
       "    </tr>\n",
       "    <tr>\n",
       "      <th>1</th>\n",
       "      <td>Pistachio Dataset</td>\n",
       "      <td>Murat KOKLU</td>\n",
       "      <td>/mkoklu42</td>\n",
       "      <td>Sat Feb 12 2022 02:36:50</td>\n",
       "      <td>4.0000</td>\n",
       "      <td>505</td>\n",
       "      <td>7.5</td>\n",
       "      <td>1096</td>\n",
       "      <td>63</td>\n",
       "      <td>https://www.kaggle.com/mkoklu42/pistachio-dataset</td>\n",
       "    </tr>\n",
       "    <tr>\n",
       "      <th>2</th>\n",
       "      <td>Netflix subscription fee in different countries</td>\n",
       "      <td>Prasert Kanawattanachai</td>\n",
       "      <td>/prasertk</td>\n",
       "      <td>Sat Jan 15 2022 12:36:09</td>\n",
       "      <td>0.0059</td>\n",
       "      <td>174</td>\n",
       "      <td>10.0</td>\n",
       "      <td>29519</td>\n",
       "      <td>5845</td>\n",
       "      <td>https://www.kaggle.com/prasertk/netflix-subscr...</td>\n",
       "    </tr>\n",
       "    <tr>\n",
       "      <th>3</th>\n",
       "      <td>Height of Male and Female by Country 2022</td>\n",
       "      <td>Majyhain</td>\n",
       "      <td>/majyhain</td>\n",
       "      <td>Wed Feb 02 2022 06:10:19</td>\n",
       "      <td>0.0078</td>\n",
       "      <td>94</td>\n",
       "      <td>10.0</td>\n",
       "      <td>13872</td>\n",
       "      <td>3032</td>\n",
       "      <td>https://www.kaggle.com/majyhain/height-of-male...</td>\n",
       "    </tr>\n",
       "    <tr>\n",
       "      <th>4</th>\n",
       "      <td>TED Talks</td>\n",
       "      <td>Ashish Jangra</td>\n",
       "      <td>/ashishjangra27</td>\n",
       "      <td>Wed Feb 23 2022 20:46:08</td>\n",
       "      <td>0.8438</td>\n",
       "      <td>26</td>\n",
       "      <td>10.0</td>\n",
       "      <td>3468</td>\n",
       "      <td>590</td>\n",
       "      <td>https://www.kaggle.com/ashishjangra27/ted-talks</td>\n",
       "    </tr>\n",
       "  </tbody>\n",
       "</table>\n",
       "</div>"
      ],
      "text/plain": [
       "                                             title                   author  \\\n",
       "0                             Wine Quality Dataset               M Yasser H   \n",
       "1                                Pistachio Dataset              Murat KOKLU   \n",
       "2  Netflix subscription fee in different countries  Prasert Kanawattanachai   \n",
       "3        Height of Male and Female by Country 2022                 Majyhain   \n",
       "4                                        TED Talks            Ashish Jangra   \n",
       "\n",
       "         author_id                 date_time    size  upvotes  rating  views  \\\n",
       "0         /yasserh  Sun Jan 16 2022 00:45:11  0.0762      290    10.0  45700   \n",
       "1        /mkoklu42  Sat Feb 12 2022 02:36:50  4.0000      505     7.5   1096   \n",
       "2        /prasertk  Sat Jan 15 2022 12:36:09  0.0059      174    10.0  29519   \n",
       "3        /majyhain  Wed Feb 02 2022 06:10:19  0.0078       94    10.0  13872   \n",
       "4  /ashishjangra27  Wed Feb 23 2022 20:46:08  0.8438       26    10.0   3468   \n",
       "\n",
       "   downloads                                               link  \n",
       "0       7599  https://www.kaggle.com/yasserh/wine-quality-da...  \n",
       "1         63  https://www.kaggle.com/mkoklu42/pistachio-dataset  \n",
       "2       5845  https://www.kaggle.com/prasertk/netflix-subscr...  \n",
       "3       3032  https://www.kaggle.com/majyhain/height-of-male...  \n",
       "4        590    https://www.kaggle.com/ashishjangra27/ted-talks  "
      ]
     },
     "execution_count": 2,
     "metadata": {},
     "output_type": "execute_result"
    }
   ],
   "source": [
    "df = pd.read_csv('kaggle.csv')\n",
    "df.head()"
   ]
  },
  {
   "cell_type": "code",
   "execution_count": 3,
   "id": "b3ee0447",
   "metadata": {},
   "outputs": [
    {
     "data": {
      "text/plain": [
       "407552.0"
      ]
     },
     "execution_count": 3,
     "metadata": {},
     "output_type": "execute_result"
    }
   ],
   "source": [
    "max(df['size'])"
   ]
  }
 ],
 "metadata": {
  "kernelspec": {
   "display_name": "Python 3 (ipykernel)",
   "language": "python",
   "name": "python3"
  },
  "language_info": {
   "codemirror_mode": {
    "name": "ipython",
    "version": 3
   },
   "file_extension": ".py",
   "mimetype": "text/x-python",
   "name": "python",
   "nbconvert_exporter": "python",
   "pygments_lexer": "ipython3",
   "version": "3.9.6"
  }
 },
 "nbformat": 4,
 "nbformat_minor": 5
}

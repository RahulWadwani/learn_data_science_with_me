{
 "cells": [
  {
   "cell_type": "code",
   "execution_count": 143,
   "id": "45bcd042",
   "metadata": {},
   "outputs": [],
   "source": [
    "import numpy as np\n",
    "import matplotlib.pyplot as plt"
   ]
  },
  {
   "cell_type": "code",
   "execution_count": 98,
   "id": "cbeac1a2",
   "metadata": {},
   "outputs": [],
   "source": [
    "x = [1,2,3,4,5]      # Independent variable \n",
    "y = [2,4,5,4,5]      # dependent variable "
   ]
  },
  {
   "cell_type": "markdown",
   "id": "a4a977b7",
   "metadata": {},
   "source": [
    "## Displaying  hours spend in learning and marks scored "
   ]
  },
  {
   "cell_type": "code",
   "execution_count": 99,
   "id": "17e361f9",
   "metadata": {},
   "outputs": [
    {
     "name": "stdout",
     "output_type": "stream",
     "text": [
      "1 2\n",
      "2 4\n",
      "3 5\n",
      "4 4\n",
      "5 5\n"
     ]
    }
   ],
   "source": [
    "for i in range(len(x)):\n",
    "    print(x[i],y[i])"
   ]
  },
  {
   "cell_type": "markdown",
   "id": "d3380e16",
   "metadata": {},
   "source": [
    "#### 1.1. finding the average of hours spend (x_)"
   ]
  },
  {
   "cell_type": "code",
   "execution_count": 100,
   "id": "c6965824",
   "metadata": {},
   "outputs": [
    {
     "name": "stdout",
     "output_type": "stream",
     "text": [
      "3.0\n"
     ]
    }
   ],
   "source": [
    "x_ = 0\n",
    "for i in x:\n",
    "    x_ += i\n",
    "x_ = (x_/len(x))\n",
    "print(x_)\n"
   ]
  },
  {
   "cell_type": "markdown",
   "id": "5fb3c342",
   "metadata": {},
   "source": [
    "#### 1.2 finding the average of marks scored (y_)"
   ]
  },
  {
   "cell_type": "code",
   "execution_count": 101,
   "id": "ec0d6c4f",
   "metadata": {},
   "outputs": [
    {
     "name": "stdout",
     "output_type": "stream",
     "text": [
      "4.0\n"
     ]
    }
   ],
   "source": [
    "y_ = 0\n",
    "for i in y:\n",
    "    y_ += i\n",
    "y_ = (y_/len(y))\n",
    "print(y_)\n"
   ]
  },
  {
   "cell_type": "markdown",
   "id": "20420d07",
   "metadata": {},
   "source": [
    "#### 1.3 finding how diverted the hours are from the average hours "
   ]
  },
  {
   "cell_type": "code",
   "execution_count": 102,
   "id": "9a9b3906",
   "metadata": {},
   "outputs": [
    {
     "name": "stdout",
     "output_type": "stream",
     "text": [
      "[-2.0, -1.0, 0.0, 1.0, 2.0]\n"
     ]
    }
   ],
   "source": [
    "x_div = []\n",
    "for hour in x:\n",
    "    x_div.append(hour - x_)\n",
    "print(x_div)"
   ]
  },
  {
   "cell_type": "markdown",
   "id": "c85d244c",
   "metadata": {},
   "source": [
    "#### 1.4 finding how diverted the marks are from the average marks"
   ]
  },
  {
   "cell_type": "code",
   "execution_count": 103,
   "id": "bab3c56a",
   "metadata": {},
   "outputs": [
    {
     "name": "stdout",
     "output_type": "stream",
     "text": [
      "[-2.0, 0.0, 1.0, 0.0, 1.0]\n"
     ]
    }
   ],
   "source": [
    "y_div = []\n",
    "for mark in y:\n",
    "    y_div.append(mark - y_)\n",
    "print(y_div)"
   ]
  },
  {
   "cell_type": "code",
   "execution_count": 104,
   "id": "3811e8db",
   "metadata": {},
   "outputs": [],
   "source": [
    "#### 1.5 finding the square of the diverted values "
   ]
  },
  {
   "cell_type": "code",
   "execution_count": 105,
   "id": "2d4fcee4",
   "metadata": {},
   "outputs": [
    {
     "name": "stdout",
     "output_type": "stream",
     "text": [
      "[4.0, 1.0, 0.0, 1.0, 4.0]\n"
     ]
    }
   ],
   "source": [
    "x_div_sq = []\n",
    "for i in x_div:\n",
    "    x_div_sq.append(i**2)\n",
    "print(x_div_sq)"
   ]
  },
  {
   "cell_type": "code",
   "execution_count": 106,
   "id": "929a5f1f",
   "metadata": {},
   "outputs": [],
   "source": [
    "#### 1.6 finding x-x_ * y-y_"
   ]
  },
  {
   "cell_type": "code",
   "execution_count": 107,
   "id": "1b20b418",
   "metadata": {},
   "outputs": [
    {
     "name": "stdout",
     "output_type": "stream",
     "text": [
      "6.0\n"
     ]
    }
   ],
   "source": [
    "mul_x_y = []\n",
    "for i in range(len(x_div)):\n",
    "    mul_x_y.append(x_div[i] * y_div[i])\n",
    "print(sum(mul_x_y))"
   ]
  },
  {
   "cell_type": "code",
   "execution_count": 108,
   "id": "be3cd93f",
   "metadata": {},
   "outputs": [
    {
     "name": "stdout",
     "output_type": "stream",
     "text": [
      "10.0\n"
     ]
    }
   ],
   "source": [
    "print(sum(x_div_sq))"
   ]
  },
  {
   "cell_type": "code",
   "execution_count": 109,
   "id": "08a2ea10",
   "metadata": {},
   "outputs": [],
   "source": [
    "# Finding the slope"
   ]
  },
  {
   "cell_type": "code",
   "execution_count": 110,
   "id": "d478443b",
   "metadata": {},
   "outputs": [],
   "source": [
    "m = sum(mul_x_y)/sum(x_div_sq)         #  slope "
   ]
  },
  {
   "cell_type": "code",
   "execution_count": 111,
   "id": "0867b559",
   "metadata": {},
   "outputs": [
    {
     "name": "stdout",
     "output_type": "stream",
     "text": [
      "2 - 0.6 * 1 = 1.4\n",
      "4 - 0.6 * 2 = 2.8\n",
      "5 - 0.6 * 3 = 3.2\n",
      "4 - 0.6 * 4 = 1.6\n",
      "5 - 0.6 * 5 = 2.0\n"
     ]
    }
   ],
   "source": [
    "for i in range(len(x)):\n",
    "    print(y[i],'-',m,'*',x[i],'=',y[i]-(m*x[i]))"
   ]
  },
  {
   "cell_type": "code",
   "execution_count": 112,
   "id": "712254d7",
   "metadata": {},
   "outputs": [],
   "source": [
    "## intercept"
   ]
  },
  {
   "cell_type": "code",
   "execution_count": 113,
   "id": "04d879b1",
   "metadata": {},
   "outputs": [],
   "source": [
    "c = y_ - m*x_           # intercept"
   ]
  },
  {
   "cell_type": "code",
   "execution_count": 114,
   "id": "09cadc80",
   "metadata": {},
   "outputs": [],
   "source": [
    "# finding the y_predicted based on m and c "
   ]
  },
  {
   "cell_type": "code",
   "execution_count": 115,
   "id": "22e842c2",
   "metadata": {},
   "outputs": [
    {
     "name": "stdout",
     "output_type": "stream",
     "text": [
      "[2.8, 3.4, 4.0, 4.6, 5.2]\n"
     ]
    }
   ],
   "source": [
    "y_pred = []\n",
    "for i in range(len(x)):\n",
    "    y_pred.append(round(m * x[i] + c,2))\n",
    "print(y_pred)"
   ]
  },
  {
   "cell_type": "code",
   "execution_count": 116,
   "id": "58ad6e94",
   "metadata": {},
   "outputs": [],
   "source": [
    "# finding the square y_div "
   ]
  },
  {
   "cell_type": "code",
   "execution_count": 117,
   "id": "58b9d524",
   "metadata": {},
   "outputs": [
    {
     "name": "stdout",
     "output_type": "stream",
     "text": [
      "[4.0, 0.0, 1.0, 0.0, 1.0]\n"
     ]
    }
   ],
   "source": [
    "y_div_sq = []\n",
    "for i in y_div:\n",
    "    y_div_sq.append(i**2)\n",
    "print(y_div_sq)"
   ]
  },
  {
   "cell_type": "code",
   "execution_count": 118,
   "id": "69f4de35",
   "metadata": {},
   "outputs": [],
   "source": [
    "# y"
   ]
  },
  {
   "cell_type": "code",
   "execution_count": 119,
   "id": "d8b7e079",
   "metadata": {},
   "outputs": [
    {
     "name": "stdout",
     "output_type": "stream",
     "text": [
      "3 2\n",
      "3 2\n",
      "4 2\n",
      "5 2\n",
      "5 2\n"
     ]
    }
   ],
   "source": [
    "for i in x:\n",
    "    print(round(m*i+c),2)"
   ]
  },
  {
   "cell_type": "code",
   "execution_count": 120,
   "id": "82051ed2",
   "metadata": {},
   "outputs": [],
   "source": [
    "# x = Hours \n",
    "# y = marks\n",
    "# x_ =  avg hours \n",
    "# y_ = avg marks \n",
    "# x_div = x-x_\n",
    "# y_div = y-y_\n",
    "\n",
    "# x_div_sq = sq(x-x_)\n",
    "# mul_x_y  = ((x-x_) * (y-y_))\n",
    "# y_pred = predicted values of y from the equation \n",
    "# y_div_sq = sq(y-y_)\n",
    "\n",
    "# ------------------------------------------------------------------------------------------------------------------------\n",
    "# x | y | x-x_ | y-y_ | sq(x-x_) | (x-x_)*(y-y_) | sq(y-y_)  | y_pred | y_pred -y_mean | sq(y_pred - y_mean) |\n",
    "# ------------------------------------------------------------------------------------------------------------------------\n",
    "# 1 | 2 | -2   |  -2  |    4     |      4        |     4     |  2.8  |     -1.2        |      -1.44          |\n",
    "# 2 | 4 | -1   |   0  |    1     |     -1        |     0     |  3.4  |     -0.6        |      -0.36          |\n",
    "# 3 | 5 |  0   |   1  |    0     |      1        |     1     |  4.0  |      0.0        |       0.0           |\n",
    "# 4 | 4 |  1   |   0  |    1     |      1        |     0     |  4.6  |      0.6        |       0.36          |\n",
    "# 5 | 5 |  2   |   1  |    4     |      2        |     1     |  5.2  |     1.2         |       1.44          |\n",
    "# --------------------------------------------------------------------------------------------------------------------\n",
    "\n",
    "# y = mx\n",
    "\n",
    "\n",
    "#         sum([(x-x_)* (y-y_)])         6\n",
    "# m =    ------------------------  =   ---  = 0.6\n",
    "\n",
    "#          sum(sq(x-x_))                10\n",
    "\n",
    "\n",
    "\n",
    "\n",
    "#        sum(sq(y_pred - y_mean))\n",
    "# r^2 = --------------------------\n",
    "#          sum(sq(y -y_mean))"
   ]
  },
  {
   "cell_type": "code",
   "execution_count": 121,
   "id": "411a2f86",
   "metadata": {},
   "outputs": [],
   "source": [
    "### finding the error squared \n",
    "####finding the y mean and y predicted "
   ]
  },
  {
   "cell_type": "code",
   "execution_count": 122,
   "id": "f044efbe",
   "metadata": {},
   "outputs": [
    {
     "name": "stdout",
     "output_type": "stream",
     "text": [
      "[-1.2, -0.6, 0.0, 0.6, 1.2]\n"
     ]
    }
   ],
   "source": [
    "y_pred_y_mean = []\n",
    "for i in y_pred:\n",
    "    y_pred_y_mean.append(round(i-y_,2))\n",
    "print(y_pred_y_mean)"
   ]
  },
  {
   "cell_type": "code",
   "execution_count": 123,
   "id": "2cca6037",
   "metadata": {},
   "outputs": [],
   "source": [
    "#### Finding the square of y predicted and y mean"
   ]
  },
  {
   "cell_type": "code",
   "execution_count": 124,
   "id": "86f6fd75",
   "metadata": {},
   "outputs": [
    {
     "name": "stdout",
     "output_type": "stream",
     "text": [
      "[1.44, 0.36, 0.0, 0.36, 1.44]\n"
     ]
    }
   ],
   "source": [
    "y_y_sq = []\n",
    "for i in y_pred_y_mean:\n",
    "    y_y_sq.append(i**2)\n",
    "print(y_y_sq)"
   ]
  },
  {
   "cell_type": "code",
   "execution_count": 125,
   "id": "f0dfb277",
   "metadata": {},
   "outputs": [],
   "source": [
    "#### finding the r squared error "
   ]
  },
  {
   "cell_type": "code",
   "execution_count": 126,
   "id": "b3a669c2",
   "metadata": {},
   "outputs": [],
   "source": [
    "r = (round(sum(y_y_sq),2)/round(sum(y_div_sq),2))"
   ]
  },
  {
   "cell_type": "code",
   "execution_count": 127,
   "id": "31cca67e",
   "metadata": {},
   "outputs": [
    {
     "data": {
      "text/plain": [
       "0.6"
      ]
     },
     "execution_count": 127,
     "metadata": {},
     "output_type": "execute_result"
    }
   ],
   "source": [
    "r"
   ]
  },
  {
   "cell_type": "code",
   "execution_count": 128,
   "id": "382084db",
   "metadata": {},
   "outputs": [],
   "source": [
    "### finding the error using mean squared error "
   ]
  },
  {
   "cell_type": "code",
   "execution_count": 129,
   "id": "57feee92",
   "metadata": {},
   "outputs": [],
   "source": [
    "# ----------------------------------------------------------------------------------------------------------------------------------------------\n",
    "# x | y | x-x_ | y-y_ | sq(x-x_) | (x-x_)*(y-y_) | sq(y-y_)  | y_pred | y_pred -y_mean | sq(y_pred - y_mean) | y_pred - y |sq( y_pred - y)|\n",
    "# ---------------------------------------------------------------------------------------------------------------------------------------------\n",
    "# 1 | 2 | -2   |  -2  |    4     |      4        |     4     |  2.8  |     -1.2        |      -1.44          |    0.8     |              |\n",
    "# 2 | 4 | -1   |   0  |    1     |     -1        |     0     |  3.4  |     -0.6        |      -0.36          |    -0.6    |              |\n",
    "# 3 | 5 |  0   |   1  |    0     |      1        |     1     |  4.0  |      0.0        |       0.0           |    -1.0    |              |\n",
    "# 4 | 4 |  1   |   0  |    1     |      1        |     0     |  4.6  |      0.6        |       0.36          |     0.6    |              |\n",
    "# 5 | 5 |  2   |   1  |    4     |      2        |     1     |  5.2  |     1.2         |       1.44          |     0.2    |              |\n",
    "# ----------------------------------------------------------------------------------------------------------------------------------------------\n",
    "\n",
    "#   n is the number of data entries\n",
    "\n",
    "#              |  sum(sq( y_pred - y))  |\n",
    "#error = sqrt  |----------------------- |\n",
    "#              |           n-2          |"
   ]
  },
  {
   "cell_type": "code",
   "execution_count": 130,
   "id": "637afc03",
   "metadata": {},
   "outputs": [
    {
     "name": "stdout",
     "output_type": "stream",
     "text": [
      "[0.64, 0.36, 1.0, 0.36, 0.04]\n"
     ]
    }
   ],
   "source": [
    "y_y_mean_sq_diff = []\n",
    "\n",
    "for i in range(len(y)):\n",
    "    y_y_mean_sq_diff.append(round(pow(round(y_pred[i]-y[i],2),2),2))\n",
    "    \n",
    "print(y_y_mean_sq_diff)"
   ]
  },
  {
   "cell_type": "code",
   "execution_count": 131,
   "id": "e07825d0",
   "metadata": {},
   "outputs": [],
   "source": [
    "error = round(sum(y_y_mean_sq_diff) /(len(y)-2),2)"
   ]
  },
  {
   "cell_type": "code",
   "execution_count": 132,
   "id": "99431242",
   "metadata": {},
   "outputs": [],
   "source": [
    "error = round(np.sqrt(error),2)"
   ]
  },
  {
   "cell_type": "code",
   "execution_count": 133,
   "id": "8abed310",
   "metadata": {},
   "outputs": [
    {
     "data": {
      "text/plain": [
       "0.89"
      ]
     },
     "execution_count": 133,
     "metadata": {},
     "output_type": "execute_result"
    }
   ],
   "source": [
    "error "
   ]
  },
  {
   "cell_type": "code",
   "execution_count": 134,
   "id": "b494be3e",
   "metadata": {},
   "outputs": [],
   "source": [
    "# understanding using graph"
   ]
  },
  {
   "cell_type": "code",
   "execution_count": 142,
   "id": "fb49353e",
   "metadata": {},
   "outputs": [
    {
     "data": {
      "image/png": "[encoded data removed]",
      "text/plain": [
       "<Figure size 432x288 with 1 Axes>"
      ]
     },
     "metadata": {
      "needs_background": "light"
     },
     "output_type": "display_data"
    }
   ],
   "source": [
    "plt.plot(x,y,c='Green',marker='s')\n",
    "plt.plot(x,y_pred,c='orange',marker='o')\n",
    "plt.xlabel('no of hours spend')\n",
    "plt.ylabel('no of marks scored')\n",
    "plt.show()"
   ]
  },
  {
   "cell_type": "code",
   "execution_count": 182,
   "id": "066997d2",
   "metadata": {},
   "outputs": [],
   "source": [
    "def lines(x,m,c,co):\n",
    "    y = []\n",
    "    for _ in x:\n",
    "        y.append(_ * m + c)\n",
    "    return plt.plot(x,y,c = co)\n",
    "     \n",
    "    \n"
   ]
  },
  {
   "cell_type": "code",
   "execution_count": 189,
   "id": "0362d757",
   "metadata": {},
   "outputs": [
    {
     "data": {
      "image/png": "[encoded data removed]",
      "text/plain": [
       "<Figure size 432x288 with 1 Axes>"
      ]
     },
     "metadata": {
      "needs_background": "light"
     },
     "output_type": "display_data"
    }
   ],
   "source": [
    "# fun stuff making of indian flag \n",
    "\n",
    "x = [0,1,2,3,4,5,6,7,8,9,10]\n",
    "\n",
    "for i in range(-50,0,1):\n",
    "    lines(x,m=2,c=i,co='green')\n",
    "    \n",
    "for i in range(0,50,1):\n",
    "    lines(x,m=2,c=i,co='white')\n",
    "    \n",
    "for i in range(50,100,1):\n",
    "    lines(x,m=2,c=i,co='orange')\n",
    "    \n",
    "plt.title('INDIAN FLAG')\n",
    "    \n",
    "plt.show()    "
   ]
  }
 ],
 "metadata": {
  "kernelspec": {
   "display_name": "Python 3 (ipykernel)",
   "language": "python",
   "name": "python3"
  },
  "language_info": {
   "codemirror_mode": {
    "name": "ipython",
    "version": 3
   },
   "file_extension": ".py",
   "mimetype": "text/x-python",
   "name": "python",
   "nbconvert_exporter": "python",
   "pygments_lexer": "ipython3",
   "version": "3.9.6"
  }
 },
 "nbformat": 4,
 "nbformat_minor": 5
}

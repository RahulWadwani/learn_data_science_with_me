{
 "cells": [
  {
   "cell_type": "code",
   "execution_count": null,
   "id": "df43ad75",
   "metadata": {},
   "outputs": [],
   "source": [
    "# apirori from scratch : - finds the relations between entities in the data \n",
    "# type of association in the data \n"
   ]
  },
  {
   "cell_type": "code",
   "execution_count": null,
   "id": "1ae04cae",
   "metadata": {},
   "outputs": [],
   "source": [
    "import pandas as pd \n",
    "import numpy as np \n",
    "import matplotlib.pyplot as plt"
   ]
  },
  {
   "cell_type": "code",
   "execution_count": null,
   "id": "80ee382b",
   "metadata": {},
   "outputs": [],
   "source": [
    "df = pd.read_csv('https://raw.githubusercontent.com/AshishJangra27/Data-Science-Specialization/main/Week%20-12/IMDB%20-%20Most%20Popular%20Movie%20%26%20Series/Shows.csv')\n",
    "df.head()"
   ]
  },
  {
   "cell_type": "markdown",
   "id": "7c2ba300",
   "metadata": {},
   "source": [
    "##  removing unwanted column "
   ]
  },
  {
   "cell_type": "code",
   "execution_count": null,
   "id": "f7a0da77",
   "metadata": {},
   "outputs": [],
   "source": [
    "del df['Unnamed: 0']\n",
    "del df['ID']\n",
    "del df['Rating']\n",
    "del df['Duration']\n",
    "del df['Reviews']\n",
    "del df['Link']\n",
    "del df['Year']\n",
    "df.head()\n"
   ]
  },
  {
   "cell_type": "markdown",
   "id": "ba6a1b16",
   "metadata": {},
   "source": [
    "## checking the null value "
   ]
  },
  {
   "cell_type": "code",
   "execution_count": null,
   "id": "e9ea204e",
   "metadata": {},
   "outputs": [],
   "source": [
    "df = df[df['Genre'] != 'Nan']\n",
    "df.head()"
   ]
  },
  {
   "cell_type": "markdown",
   "id": "875d85a6",
   "metadata": {},
   "source": [
    "#### applying apriori on Genre\n",
    "##### finding unique Genre"
   ]
  },
  {
   "cell_type": "code",
   "execution_count": null,
   "id": "08a630ce",
   "metadata": {},
   "outputs": [],
   "source": [
    "genre = []\n",
    "for i in df['Genre']:\n",
    "    genre += (i.split('|'))\n",
    "genre = list(set(genre))\n",
    "print(genre)"
   ]
  },
  {
   "cell_type": "markdown",
   "id": "4789be01",
   "metadata": {},
   "source": [
    "# finding the occurence precentage "
   ]
  },
  {
   "cell_type": "code",
   "execution_count": null,
   "id": "a662e50f",
   "metadata": {},
   "outputs": [],
   "source": [
    "data = []\n",
    "\n",
    "for gen in genre:            # going through each unique genre\n",
    "    c = 0                    # counting the movies in specific genre\n",
    "    for i in df['Genre']:    # Going through each genre\n",
    "        if gen in i:         # checking if specific genre\n",
    "            c += 1           # incrementing the value on particular genre\n",
    "\n",
    "    data.append([gen, int(c/len(df)*100)])\n",
    "data =pd.DataFrame(data,columns = ['genre','Percentage'])\n",
    "data.head()"
   ]
  },
  {
   "cell_type": "markdown",
   "id": "0b54550c",
   "metadata": {},
   "source": [
    "### Analysing the occurence percentage"
   ]
  },
  {
   "cell_type": "code",
   "execution_count": null,
   "id": "d186f097",
   "metadata": {},
   "outputs": [],
   "source": [
    "data.sort_values('Percentage',ascending=False).head(10)"
   ]
  },
  {
   "cell_type": "markdown",
   "id": "592f9ca5",
   "metadata": {},
   "source": [
    "### apply Threshold of 20%"
   ]
  },
  {
   "cell_type": "code",
   "execution_count": null,
   "id": "ea64beb3",
   "metadata": {},
   "outputs": [],
   "source": [
    "data = data[data['Percentage'] >= 20]"
   ]
  },
  {
   "cell_type": "code",
   "execution_count": null,
   "id": "efc7a6d9",
   "metadata": {},
   "outputs": [],
   "source": [
    "data"
   ]
  },
  {
   "cell_type": "markdown",
   "id": "adcaa975",
   "metadata": {},
   "source": [
    "# finding the combinations or pairs"
   ]
  },
  {
   "cell_type": "code",
   "execution_count": null,
   "id": "b59299bc",
   "metadata": {},
   "outputs": [],
   "source": [
    "combinations = []\n",
    "shortlisted = list(data['genre'])\n",
    "for i in range(len(shortlisted)):\n",
    "    for j in range(i,len(shortlisted)):\n",
    "        if (i!=j):\n",
    "            combinations.append([shortlisted[i],shortlisted[j]])\n",
    "combinations"
   ]
  },
  {
   "cell_type": "markdown",
   "id": "ea229a7b",
   "metadata": {},
   "source": [
    "# finding the genre with specific combination of genre\n"
   ]
  },
  {
   "cell_type": "code",
   "execution_count": null,
   "id": "fcd11a3c",
   "metadata": {},
   "outputs": [],
   "source": [
    "data_combinations = [] \n",
    "for combination in combinations:\n",
    "    c = 0\n",
    "    for i in df['Genre']:\n",
    "        if (((combination[0] in i.split('|')) and (combination[1] in i.split('|')))):\n",
    "            c += 1\n",
    "    data_combinations.append([combination,int(c/len(df)*100)])\n",
    "\n",
    "data_combinations = pd.DataFrame(data_combinations,columns = ['Genre','Percentage'])\n",
    "data_combinations = data_combinations.sort_values(by = 'Percentage',ascending = False)"
   ]
  },
  {
   "cell_type": "code",
   "execution_count": null,
   "id": "98368ad4",
   "metadata": {},
   "outputs": [],
   "source": [
    "data_combinations"
   ]
  },
  {
   "cell_type": "markdown",
   "id": "07405b70",
   "metadata": {},
   "source": [
    "## applying threshold of 10% "
   ]
  },
  {
   "cell_type": "code",
   "execution_count": null,
   "id": "875e8ea4",
   "metadata": {},
   "outputs": [],
   "source": [
    "data_combinations = data_combinations[data_combinations['Percentage'] >= 10]\n",
    "data_combinations"
   ]
  },
  {
   "cell_type": "markdown",
   "id": "353bff6f",
   "metadata": {},
   "source": [
    "## printing final combinations"
   ]
  },
  {
   "cell_type": "code",
   "execution_count": null,
   "id": "1dec565b",
   "metadata": {},
   "outputs": [],
   "source": [
    "for i in data_combinations['Genre']:\n",
    "    print(','.join(i))"
   ]
  },
  {
   "cell_type": "markdown",
   "id": "b78fc4c2",
   "metadata": {},
   "source": [
    "## applying apriori on Directors"
   ]
  },
  {
   "cell_type": "code",
   "execution_count": null,
   "id": "ea42fa80",
   "metadata": {},
   "outputs": [],
   "source": [
    "def unique(df,column,sep):       # finding the unique categories\n",
    "\n",
    "    categories = []\n",
    "    for i in df[column]:\n",
    "        categories += (i.split(sep))\n",
    "    \n",
    "    return list(set(categories))\n",
    "\n",
    "\n",
    "def finding_freq_single(df,column,categories):  # finding the frequency of each category (single)  \n",
    "    for category in categories:  \n",
    "        c = 0                    \n",
    "        for i in df[column]:                  \n",
    "            if category in i:    \n",
    "                c += 1           \n",
    "        data.append([category, round(c/len(df)*100,3)])\n",
    "    return pd.DataFrame(data,columns = [column,'Percentage'])\n",
    "\n",
    "\n",
    "def apply_threshold(df,column,ascend,threshold): # finding the combina\n",
    "    df = df[df[column] >= threshold]\n",
    "    return df.sort_values(by=column,ascending = ascend )\n",
    "\n",
    "def finding_combination(df,column):            # finding combinations\n",
    "    combinations = []\n",
    "    shortlisted = list(df[column])\n",
    "    for i in range(len(shortlisted)):\n",
    "        for j in range(i,len(shortlisted)):\n",
    "            if (i!=j):\n",
    "                combinations.append([shortlisted[i],shortlisted[j]])\n",
    "    return combinations\n",
    "\n",
    "def finding_freq_double(df,column,combinations,sep):  # finding the frequency of each categories\n",
    "    data_combinations = [] \n",
    "    for combination in combinations:\n",
    "        c = 0\n",
    "        for i in df[column]:\n",
    "            if (((combination[0] in i.split(sep)) and (combination[1] in i.split(sep)))):\n",
    "                c += 1\n",
    "        data_combinations.append([combination,round((c/len(df)*100),2)])\n",
    "\n",
    "    data_combinations = pd.DataFrame(data_combinations,columns = [column,'Percentage'])\n",
    "    data_combinations = data_combinations.sort_values(by = 'Percentage',ascending = False)\n",
    "    return data_combinations\n"
   ]
  },
  {
   "cell_type": "markdown",
   "id": "b12c4837",
   "metadata": {},
   "source": [
    "# applying apriori with single functions"
   ]
  },
  {
   "cell_type": "code",
   "execution_count": null,
   "id": "28974213",
   "metadata": {},
   "outputs": [],
   "source": [
    "def apriori(df, column, sep, thres, asc, count):                             # appyling apriori algorithm\n",
    "    directors = unique(df,column,sep)                                        # finding the unique values \n",
    "    categories_data = finding_freq_single(df,column,categories)\n",
    "    categories_data = apply_threshold(categories_data,'Percentage',asc,thres)\n",
    "    combinations = finding_combination(categories_data,column)\n",
    "    return finding_freq_double(df,column,combinations,sep).head(count)"
   ]
  },
  {
   "cell_type": "code",
   "execution_count": null,
   "id": "2fc39869",
   "metadata": {},
   "outputs": [],
   "source": [
    "apiori(df,'Director','|',0.5,)"
   ]
  },
  {
   "cell_type": "code",
   "execution_count": null,
   "id": "431e59c5",
   "metadata": {},
   "outputs": [],
   "source": []
  },
  {
   "cell_type": "code",
   "execution_count": null,
   "id": "55aac073",
   "metadata": {},
   "outputs": [],
   "source": []
  },
  {
   "cell_type": "code",
   "execution_count": null,
   "id": "5318c837",
   "metadata": {},
   "outputs": [],
   "source": []
  },
  {
   "cell_type": "code",
   "execution_count": null,
   "id": "8c1d84e7",
   "metadata": {},
   "outputs": [],
   "source": []
  },
  {
   "cell_type": "code",
   "execution_count": null,
   "id": "57ca8cdb",
   "metadata": {},
   "outputs": [],
   "source": []
  },
  {
   "cell_type": "code",
   "execution_count": null,
   "id": "81a625c3",
   "metadata": {},
   "outputs": [],
   "source": []
  },
  {
   "cell_type": "code",
   "execution_count": null,
   "id": "77f9633f",
   "metadata": {},
   "outputs": [],
   "source": []
  },
  {
   "cell_type": "code",
   "execution_count": null,
   "id": "ba3012ff",
   "metadata": {},
   "outputs": [],
   "source": []
  },
  {
   "cell_type": "code",
   "execution_count": null,
   "id": "c26cf492",
   "metadata": {},
   "outputs": [],
   "source": []
  },
  {
   "cell_type": "code",
   "execution_count": null,
   "id": "36c1d233",
   "metadata": {},
   "outputs": [],
   "source": []
  },
  {
   "cell_type": "code",
   "execution_count": null,
   "id": "3fc1620f",
   "metadata": {},
   "outputs": [],
   "source": []
  },
  {
   "cell_type": "code",
   "execution_count": null,
   "id": "975908d0",
   "metadata": {},
   "outputs": [],
   "source": []
  },
  {
   "cell_type": "code",
   "execution_count": null,
   "id": "9a60f022",
   "metadata": {},
   "outputs": [],
   "source": []
  },
  {
   "cell_type": "code",
   "execution_count": null,
   "id": "d0cad56a",
   "metadata": {},
   "outputs": [],
   "source": []
  },
  {
   "cell_type": "code",
   "execution_count": null,
   "id": "b6105fee",
   "metadata": {},
   "outputs": [],
   "source": []
  },
  {
   "cell_type": "code",
   "execution_count": null,
   "id": "03a6f36b",
   "metadata": {},
   "outputs": [],
   "source": []
  },
  {
   "cell_type": "code",
   "execution_count": null,
   "id": "b0c0e5ed",
   "metadata": {},
   "outputs": [],
   "source": []
  },
  {
   "cell_type": "code",
   "execution_count": null,
   "id": "447366b5",
   "metadata": {},
   "outputs": [],
   "source": []
  },
  {
   "cell_type": "code",
   "execution_count": null,
   "id": "90cb90d5",
   "metadata": {},
   "outputs": [],
   "source": []
  },
  {
   "cell_type": "code",
   "execution_count": null,
   "id": "c641a855",
   "metadata": {},
   "outputs": [],
   "source": []
  },
  {
   "cell_type": "code",
   "execution_count": null,
   "id": "534b2725",
   "metadata": {},
   "outputs": [],
   "source": []
  },
  {
   "cell_type": "code",
   "execution_count": null,
   "id": "9be5c3e5",
   "metadata": {},
   "outputs": [],
   "source": []
  },
  {
   "cell_type": "code",
   "execution_count": null,
   "id": "940c9911",
   "metadata": {},
   "outputs": [],
   "source": []
  },
  {
   "cell_type": "code",
   "execution_count": null,
   "id": "3aa185bc",
   "metadata": {},
   "outputs": [],
   "source": []
  },
  {
   "cell_type": "code",
   "execution_count": null,
   "id": "9ea20929",
   "metadata": {},
   "outputs": [],
   "source": []
  },
  {
   "cell_type": "code",
   "execution_count": null,
   "id": "2538f9e4",
   "metadata": {},
   "outputs": [],
   "source": []
  },
  {
   "cell_type": "code",
   "execution_count": null,
   "id": "eb7e8316",
   "metadata": {},
   "outputs": [],
   "source": []
  },
  {
   "cell_type": "code",
   "execution_count": null,
   "id": "01513647",
   "metadata": {},
   "outputs": [],
   "source": []
  },
  {
   "cell_type": "code",
   "execution_count": null,
   "id": "8827fcfc",
   "metadata": {},
   "outputs": [],
   "source": []
  },
  {
   "cell_type": "code",
   "execution_count": null,
   "id": "9c973056",
   "metadata": {},
   "outputs": [],
   "source": []
  },
  {
   "cell_type": "code",
   "execution_count": null,
   "id": "53b63c9e",
   "metadata": {},
   "outputs": [],
   "source": []
  },
  {
   "cell_type": "code",
   "execution_count": null,
   "id": "531ef6a3",
   "metadata": {},
   "outputs": [],
   "source": []
  },
  {
   "cell_type": "code",
   "execution_count": null,
   "id": "560d0221",
   "metadata": {},
   "outputs": [],
   "source": []
  },
  {
   "cell_type": "code",
   "execution_count": null,
   "id": "1aed3402",
   "metadata": {},
   "outputs": [],
   "source": []
  },
  {
   "cell_type": "code",
   "execution_count": null,
   "id": "6a84aedf",
   "metadata": {},
   "outputs": [],
   "source": []
  },
  {
   "cell_type": "code",
   "execution_count": null,
   "id": "514c38de",
   "metadata": {},
   "outputs": [],
   "source": []
  },
  {
   "cell_type": "code",
   "execution_count": null,
   "id": "12e93cb6",
   "metadata": {},
   "outputs": [],
   "source": []
  },
  {
   "cell_type": "code",
   "execution_count": null,
   "id": "9d51a9b3",
   "metadata": {},
   "outputs": [],
   "source": []
  },
  {
   "cell_type": "code",
   "execution_count": null,
   "id": "6cb4c372",
   "metadata": {},
   "outputs": [],
   "source": []
  },
  {
   "cell_type": "code",
   "execution_count": null,
   "id": "9677d945",
   "metadata": {},
   "outputs": [],
   "source": []
  },
  {
   "cell_type": "code",
   "execution_count": null,
   "id": "3b655a0e",
   "metadata": {},
   "outputs": [],
   "source": []
  },
  {
   "cell_type": "code",
   "execution_count": null,
   "id": "3020b4de",
   "metadata": {},
   "outputs": [],
   "source": []
  },
  {
   "cell_type": "code",
   "execution_count": null,
   "id": "8dfffd22",
   "metadata": {},
   "outputs": [],
   "source": []
  },
  {
   "cell_type": "code",
   "execution_count": null,
   "id": "5a4f7595",
   "metadata": {},
   "outputs": [],
   "source": []
  },
  {
   "cell_type": "code",
   "execution_count": null,
   "id": "4b0af813",
   "metadata": {},
   "outputs": [],
   "source": []
  },
  {
   "cell_type": "code",
   "execution_count": null,
   "id": "8955bb2c",
   "metadata": {},
   "outputs": [],
   "source": []
  },
  {
   "cell_type": "code",
   "execution_count": null,
   "id": "d9b5c483",
   "metadata": {},
   "outputs": [],
   "source": []
  },
  {
   "cell_type": "code",
   "execution_count": null,
   "id": "9bad7df0",
   "metadata": {},
   "outputs": [],
   "source": []
  },
  {
   "cell_type": "code",
   "execution_count": null,
   "id": "cdac558b",
   "metadata": {},
   "outputs": [],
   "source": []
  },
  {
   "cell_type": "code",
   "execution_count": null,
   "id": "b245cdad",
   "metadata": {},
   "outputs": [],
   "source": []
  },
  {
   "cell_type": "code",
   "execution_count": null,
   "id": "9964e254",
   "metadata": {},
   "outputs": [],
   "source": []
  },
  {
   "cell_type": "code",
   "execution_count": null,
   "id": "47c44f66",
   "metadata": {},
   "outputs": [],
   "source": []
  },
  {
   "cell_type": "code",
   "execution_count": null,
   "id": "bd8b9cc3",
   "metadata": {},
   "outputs": [],
   "source": []
  },
  {
   "cell_type": "code",
   "execution_count": null,
   "id": "4d035c15",
   "metadata": {},
   "outputs": [],
   "source": []
  },
  {
   "cell_type": "code",
   "execution_count": null,
   "id": "14536385",
   "metadata": {},
   "outputs": [],
   "source": []
  },
  {
   "cell_type": "code",
   "execution_count": null,
   "id": "2ed1675e",
   "metadata": {},
   "outputs": [],
   "source": []
  },
  {
   "cell_type": "code",
   "execution_count": null,
   "id": "787aee92",
   "metadata": {},
   "outputs": [],
   "source": []
  },
  {
   "cell_type": "code",
   "execution_count": null,
   "id": "03aab138",
   "metadata": {},
   "outputs": [],
   "source": []
  },
  {
   "cell_type": "code",
   "execution_count": null,
   "id": "da4f4812",
   "metadata": {},
   "outputs": [],
   "source": []
  },
  {
   "cell_type": "code",
   "execution_count": null,
   "id": "4621944a",
   "metadata": {},
   "outputs": [],
   "source": []
  },
  {
   "cell_type": "code",
   "execution_count": null,
   "id": "480569be",
   "metadata": {},
   "outputs": [],
   "source": []
  },
  {
   "cell_type": "code",
   "execution_count": null,
   "id": "dcd72b24",
   "metadata": {},
   "outputs": [],
   "source": []
  }
 ],
 "metadata": {
  "kernelspec": {
   "display_name": "Python 3 (ipykernel)",
   "language": "python",
   "name": "python3"
  },
  "language_info": {
   "codemirror_mode": {
    "name": "ipython",
    "version": 3
   },
   "file_extension": ".py",
   "mimetype": "text/x-python",
   "name": "python",
   "nbconvert_exporter": "python",
   "pygments_lexer": "ipython3",
   "version": "3.9.6"
  }
 },
 "nbformat": 4,
 "nbformat_minor": 5
}

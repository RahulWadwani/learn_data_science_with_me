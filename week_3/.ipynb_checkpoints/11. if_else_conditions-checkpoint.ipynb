{
 "cells": [
  {
   "cell_type": "code",
   "execution_count": null,
   "id": "1c791eb2",
   "metadata": {},
   "outputs": [],
   "source": [
    "# 1. Checking Voting Eligibility"
   ]
  },
  {
   "cell_type": "code",
   "execution_count": null,
   "id": "4039826b",
   "metadata": {},
   "outputs": [],
   "source": [
    "age = 18\n",
    "\n",
    "if(age >= 18):\n",
    "    print('You can vote!')\n",
    "else:\n",
    "    print(\"You can't vote!\")"
   ]
  },
  {
   "cell_type": "code",
   "execution_count": null,
   "id": "00752e44",
   "metadata": {},
   "outputs": [],
   "source": [
    "# 2. Odd/Even"
   ]
  },
  {
   "cell_type": "code",
   "execution_count": null,
   "id": "bd226815",
   "metadata": {},
   "outputs": [],
   "source": [
    "num = 20\n",
    "\n",
    "if(num%2 == 0):\n",
    "    print(\"Even\")\n",
    "else:\n",
    "    print(\"ODD\")"
   ]
  },
  {
   "cell_type": "code",
   "execution_count": null,
   "id": "d8038d99",
   "metadata": {},
   "outputs": [],
   "source": [
    "#3. Age is in range 18-25"
   ]
  },
  {
   "cell_type": "code",
   "execution_count": null,
   "id": "bd494eac",
   "metadata": {},
   "outputs": [],
   "source": [
    "age = int(input(\"Enter a number: \"))\n",
    "\n",
    "if ((age >= 18) and (age <= 25)):\n",
    "    print('Age is in the given range!')\n",
    "else:\n",
    "    print('Age is not in the given range!')"
   ]
  },
  {
   "cell_type": "code",
   "execution_count": null,
   "id": "3f58be16",
   "metadata": {},
   "outputs": [],
   "source": [
    "# 4. Grading system based on marks "
   ]
  },
  {
   "cell_type": "code",
   "execution_count": null,
   "id": "ff4e4097",
   "metadata": {},
   "outputs": [],
   "source": [
    "marks = int(input(\"Enter your marks: \"))\n",
    "\n",
    "if (marks > 95):\n",
    "    print(\"A+\")\n",
    "if (marks >= 90 and marks <= 95):\n",
    "    print(\"A\")\n",
    "if (marks >= 80 and marks <= 89):\n",
    "    print(\"B+\")\n",
    "if (marks >= 70 and marks <= 79):\n",
    "    print(\"B\")\n",
    "if (marks >= 60 and marks <= 69):\n",
    "    print(\"C\")\n",
    "if (marks >= 50 and marks <= 59):\n",
    "    print(\"D\")\n",
    "if (marks < 50):\n",
    "    print(\"F\")"
   ]
  },
  {
   "cell_type": "code",
   "execution_count": null,
   "id": "7e0265c0",
   "metadata": {},
   "outputs": [],
   "source": []
  },
  {
   "cell_type": "code",
   "execution_count": null,
   "id": "5b7b8c27",
   "metadata": {},
   "outputs": [],
   "source": []
  }
 ],
 "metadata": {
  "kernelspec": {
   "display_name": "Python 3 (ipykernel)",
   "language": "python",
   "name": "python3"
  },
  "language_info": {
   "codemirror_mode": {
    "name": "ipython",
    "version": 3
   },
   "file_extension": ".py",
   "mimetype": "text/x-python",
   "name": "python",
   "nbconvert_exporter": "python",
   "pygments_lexer": "ipython3",
   "version": "3.9.6"
  }
 },
 "nbformat": 4,
 "nbformat_minor": 5
}

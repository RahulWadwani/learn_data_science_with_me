{
 "cells": [
  {
   "cell_type": "code",
   "execution_count": 1,
   "id": "941ff31e",
   "metadata": {},
   "outputs": [
    {
     "name": "stdout",
     "output_type": "stream",
     "text": [
      "--------------\n",
      "( 2 , 2 , 2 )\n",
      "( 2 , 2 , 4 )\n",
      "( 2 , 2 , 6 )\n",
      "( 2 , 4 , 2 )\n",
      "( 2 , 4 , 4 )\n",
      "( 2 , 4 , 6 )\n",
      "( 2 , 6 , 2 )\n",
      "( 2 , 6 , 4 )\n",
      "( 2 , 6 , 6 )\n",
      "--------------\n",
      "--------------\n",
      "( 4 , 2 , 2 )\n",
      "( 4 , 2 , 4 )\n",
      "( 4 , 2 , 6 )\n",
      "( 4 , 4 , 2 )\n",
      "( 4 , 4 , 4 )\n",
      "( 4 , 4 , 6 )\n",
      "( 4 , 6 , 2 )\n",
      "( 4 , 6 , 4 )\n",
      "( 4 , 6 , 6 )\n",
      "--------------\n",
      "--------------\n",
      "( 6 , 2 , 2 )\n",
      "( 6 , 2 , 4 )\n",
      "( 6 , 2 , 6 )\n",
      "( 6 , 4 , 2 )\n",
      "( 6 , 4 , 4 )\n",
      "( 6 , 4 , 6 )\n",
      "( 6 , 6 , 2 )\n",
      "( 6 , 6 , 4 )\n",
      "( 6 , 6 , 6 )\n",
      "--------------\n",
      "27\n"
     ]
    }
   ],
   "source": [
    "# (1,1) ... (1,6)\n",
    "# (2,1) ... (2,6)\n",
    "# (3,1) ... (3,6)\n",
    "# (4,1) ... (4,6)\n",
    "# (5,1) ... (5,6)\n",
    "# (6,1) ... (6,6)\n",
    "\n",
    "c = 0\n",
    "\n",
    "for dice_1 in range(1,7):\n",
    "    if (dice_1%2 == 0):    \n",
    "        for dice_2 in range(1,7):\n",
    "            if (dice_2%2 == 0): \n",
    "                for dice_3 in range(1,7):\n",
    "                    if (dice_3%2 == 0): \n",
    "                        print('(',dice_1,',',dice_2,',',dice_3,')')\n",
    "                        c = c + 1\n",
    "    print(\"--------------\")\n",
    "    \n",
    "print(c)"
   ]
  },
  {
   "cell_type": "code",
   "execution_count": null,
   "id": "3d6671c1",
   "metadata": {},
   "outputs": [],
   "source": [
    "# while loops "
   ]
  },
  {
   "cell_type": "code",
   "execution_count": 4,
   "id": "516a5497",
   "metadata": {},
   "outputs": [
    {
     "name": "stdout",
     "output_type": "stream",
     "text": [
      "85948438\n"
     ]
    }
   ],
   "source": [
    "\n",
    "password = 85948438\n",
    "\n",
    "guess = 0\n",
    "\n",
    "while(guess != password):\n",
    "    guess += 1\n",
    "    \n",
    "print(guess)"
   ]
  },
  {
   "cell_type": "code",
   "execution_count": 5,
   "id": "f1333761",
   "metadata": {},
   "outputs": [
    {
     "name": "stdout",
     "output_type": "stream",
     "text": [
      "85948438\n",
      "85948438\n"
     ]
    }
   ],
   "source": [
    "password = 85948438\n",
    "\n",
    "for i in range(9999999999):\n",
    "    if(password == i):\n",
    "        print(i)\n",
    "        break\n",
    "    \n",
    "print(guess)"
   ]
  },
  {
   "cell_type": "code",
   "execution_count": 6,
   "id": "1caadb3c",
   "metadata": {},
   "outputs": [
    {
     "name": "stdout",
     "output_type": "stream",
     "text": [
      "79345\n"
     ]
    }
   ],
   "source": [
    "password = 79345\n",
    "\n",
    "guess = 0\n",
    "\n",
    "while (guess < password):\n",
    "    guess += 1\n",
    "    \n",
    "print(guess)"
   ]
  },
  {
   "cell_type": "code",
   "execution_count": null,
   "id": "52c245f3",
   "metadata": {},
   "outputs": [],
   "source": []
  },
  {
   "cell_type": "code",
   "execution_count": null,
   "id": "fc63cb50",
   "metadata": {},
   "outputs": [],
   "source": []
  }
 ],
 "metadata": {
  "kernelspec": {
   "display_name": "Python 3 (ipykernel)",
   "language": "python",
   "name": "python3"
  },
  "language_info": {
   "codemirror_mode": {
    "name": "ipython",
    "version": 3
   },
   "file_extension": ".py",
   "mimetype": "text/x-python",
   "name": "python",
   "nbconvert_exporter": "python",
   "pygments_lexer": "ipython3",
   "version": "3.9.6"
  }
 },
 "nbformat": 4,
 "nbformat_minor": 5
}

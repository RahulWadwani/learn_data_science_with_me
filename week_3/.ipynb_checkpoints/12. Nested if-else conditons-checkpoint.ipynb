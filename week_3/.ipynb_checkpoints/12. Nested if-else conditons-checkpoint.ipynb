{
 "cells": [
  {
   "cell_type": "code",
   "execution_count": null,
   "id": "7488fdf2",
   "metadata": {},
   "outputs": [],
   "source": [
    "num = int(input(\"Enter a number: \"))\n",
    "\n",
    "if (num%5 == 0 and num%7 == 0):\n",
    "    if (num >= 500 and num <= 700):   \n",
    "        print('Divisible')\n",
    "    else:\n",
    "        print('Not Divisible')\n",
    "else:\n",
    "    print('Not Divisible')"
   ]
  },
  {
   "cell_type": "code",
   "execution_count": null,
   "id": "a8e3d87f",
   "metadata": {},
   "outputs": [],
   "source": [
    "num = int(input(\"Enter a number: \"))\n",
    "\n",
    "if (num >= 500):\n",
    "    if (num <= 700):\n",
    "        if (num%5 == 0):\n",
    "            if (num%7 == 0):\n",
    "                print('Divisible')\n",
    "            else:\n",
    "                print('Not Divisible')\n",
    "        else:\n",
    "            print('Not Divisible')\n",
    "    else:\n",
    "        print('Not Divisible')\n",
    "else:\n",
    "    print('Not Divisible')"
   ]
  },
  {
   "cell_type": "code",
   "execution_count": null,
   "id": "596bbf68",
   "metadata": {},
   "outputs": [],
   "source": [
    "num = int(input(\"Enter a number: \"))\n",
    "\n",
    "if ((num%5 == 0) and (num%7 == 0) and (num >= 500) and (num <= 700)):\n",
    "    print('Divisible')\n",
    "else:\n",
    "    print('Not Divisible')"
   ]
  }
 ],
 "metadata": {
  "kernelspec": {
   "display_name": "Python 3 (ipykernel)",
   "language": "python",
   "name": "python3"
  },
  "language_info": {
   "codemirror_mode": {
    "name": "ipython",
    "version": 3
   },
   "file_extension": ".py",
   "mimetype": "text/x-python",
   "name": "python",
   "nbconvert_exporter": "python",
   "pygments_lexer": "ipython3",
   "version": "3.9.6"
  }
 },
 "nbformat": 4,
 "nbformat_minor": 5
}

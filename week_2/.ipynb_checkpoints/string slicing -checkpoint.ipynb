{
 "cells": [
  {
   "cell_type": "code",
   "execution_count": 1,
   "id": "637cf038",
   "metadata": {},
   "outputs": [],
   "source": [
    "name = 'Rahul Wadwani'"
   ]
  },
  {
   "cell_type": "code",
   "execution_count": 2,
   "id": "07173511",
   "metadata": {},
   "outputs": [
    {
     "data": {
      "text/plain": [
       "'Rahul Wadwani'"
      ]
     },
     "execution_count": 2,
     "metadata": {},
     "output_type": "execute_result"
    }
   ],
   "source": [
    "name "
   ]
  },
  {
   "cell_type": "code",
   "execution_count": 4,
   "id": "c91d7777",
   "metadata": {},
   "outputs": [
    {
     "data": {
      "text/plain": [
       "'Rahul'"
      ]
     },
     "execution_count": 4,
     "metadata": {},
     "output_type": "execute_result"
    }
   ],
   "source": [
    "name [0:5]"
   ]
  },
  {
   "cell_type": "code",
   "execution_count": 6,
   "id": "e4eaeab6",
   "metadata": {},
   "outputs": [
    {
     "data": {
      "text/plain": [
       "'Rahu'"
      ]
     },
     "execution_count": 6,
     "metadata": {},
     "output_type": "execute_result"
    }
   ],
   "source": [
    "name[0:4]"
   ]
  },
  {
   "cell_type": "code",
   "execution_count": 7,
   "id": "bdf5e38f",
   "metadata": {},
   "outputs": [
    {
     "data": {
      "text/plain": [
       "'Rahul W'"
      ]
     },
     "execution_count": 7,
     "metadata": {},
     "output_type": "execute_result"
    }
   ],
   "source": [
    "name[0:7]"
   ]
  },
  {
   "cell_type": "code",
   "execution_count": 8,
   "id": "0078c6bf",
   "metadata": {},
   "outputs": [
    {
     "data": {
      "text/plain": [
       "'Rahul '"
      ]
     },
     "execution_count": 8,
     "metadata": {},
     "output_type": "execute_result"
    }
   ],
   "source": [
    "name[:6]"
   ]
  },
  {
   "cell_type": "code",
   "execution_count": 9,
   "id": "28d0ad49",
   "metadata": {},
   "outputs": [
    {
     "data": {
      "text/plain": [
       "'Rahul Wadwani'"
      ]
     },
     "execution_count": 9,
     "metadata": {},
     "output_type": "execute_result"
    }
   ],
   "source": [
    "name[:]"
   ]
  },
  {
   "cell_type": "code",
   "execution_count": 10,
   "id": "9a92602b",
   "metadata": {},
   "outputs": [
    {
     "data": {
      "text/plain": [
       "'hul '"
      ]
     },
     "execution_count": 10,
     "metadata": {},
     "output_type": "execute_result"
    }
   ],
   "source": [
    "name[2:6]"
   ]
  },
  {
   "cell_type": "code",
   "execution_count": 11,
   "id": "0d182313",
   "metadata": {},
   "outputs": [
    {
     "data": {
      "text/plain": [
       "'R'"
      ]
     },
     "execution_count": 11,
     "metadata": {},
     "output_type": "execute_result"
    }
   ],
   "source": [
    "name[:1]"
   ]
  },
  {
   "cell_type": "code",
   "execution_count": 12,
   "id": "91fade89",
   "metadata": {},
   "outputs": [
    {
     "data": {
      "text/plain": [
       "'Rahul Wadwan'"
      ]
     },
     "execution_count": 12,
     "metadata": {},
     "output_type": "execute_result"
    }
   ],
   "source": [
    "name[:-1]"
   ]
  },
  {
   "cell_type": "code",
   "execution_count": 13,
   "id": "4f4a769c",
   "metadata": {},
   "outputs": [
    {
     "data": {
      "text/plain": [
       "'ahul Wadwan'"
      ]
     },
     "execution_count": 13,
     "metadata": {},
     "output_type": "execute_result"
    }
   ],
   "source": [
    "name[1:-1]\n"
   ]
  },
  {
   "cell_type": "code",
   "execution_count": 14,
   "id": "4c613591",
   "metadata": {},
   "outputs": [
    {
     "data": {
      "text/plain": [
       "'hul Wadwa'"
      ]
     },
     "execution_count": 14,
     "metadata": {},
     "output_type": "execute_result"
    }
   ],
   "source": [
    "name[2:-2]"
   ]
  },
  {
   "cell_type": "code",
   "execution_count": 17,
   "id": "6f10490f",
   "metadata": {},
   "outputs": [
    {
     "data": {
      "text/plain": [
       "'Rahul wadwani'"
      ]
     },
     "execution_count": 17,
     "metadata": {},
     "output_type": "execute_result"
    }
   ],
   "source": [
    "name.capitalize()"
   ]
  },
  {
   "cell_type": "code",
   "execution_count": 18,
   "id": "2707ca8c",
   "metadata": {},
   "outputs": [
    {
     "data": {
      "text/plain": [
       "'RAHUL WADWANI'"
      ]
     },
     "execution_count": 18,
     "metadata": {},
     "output_type": "execute_result"
    }
   ],
   "source": [
    "name.upper()"
   ]
  },
  {
   "cell_type": "code",
   "execution_count": 19,
   "id": "54225282",
   "metadata": {},
   "outputs": [
    {
     "data": {
      "text/plain": [
       "'rahul wadwani'"
      ]
     },
     "execution_count": 19,
     "metadata": {},
     "output_type": "execute_result"
    }
   ],
   "source": [
    "name.lower()"
   ]
  },
  {
   "cell_type": "code",
   "execution_count": 20,
   "id": "faa685b6",
   "metadata": {},
   "outputs": [
    {
     "data": {
      "text/plain": [
       "3"
      ]
     },
     "execution_count": 20,
     "metadata": {},
     "output_type": "execute_result"
    }
   ],
   "source": [
    "name.count('a')"
   ]
  },
  {
   "cell_type": "code",
   "execution_count": 21,
   "id": "b4ac03a0",
   "metadata": {},
   "outputs": [
    {
     "data": {
      "text/plain": [
       "'rahul wadwani'"
      ]
     },
     "execution_count": 21,
     "metadata": {},
     "output_type": "execute_result"
    }
   ],
   "source": [
    "'          rahul wadwani        '.strip()"
   ]
  },
  {
   "cell_type": "code",
   "execution_count": 22,
   "id": "f6ed3025",
   "metadata": {},
   "outputs": [
    {
     "data": {
      "text/plain": [
       "'Rahul Wadwani'"
      ]
     },
     "execution_count": 22,
     "metadata": {},
     "output_type": "execute_result"
    }
   ],
   "source": [
    "name.title()"
   ]
  }
 ],
 "metadata": {
  "kernelspec": {
   "display_name": "Python 3 (ipykernel)",
   "language": "python",
   "name": "python3"
  },
  "language_info": {
   "codemirror_mode": {
    "name": "ipython",
    "version": 3
   },
   "file_extension": ".py",
   "mimetype": "text/x-python",
   "name": "python",
   "nbconvert_exporter": "python",
   "pygments_lexer": "ipython3",
   "version": "3.9.6"
  }
 },
 "nbformat": 4,
 "nbformat_minor": 5
}

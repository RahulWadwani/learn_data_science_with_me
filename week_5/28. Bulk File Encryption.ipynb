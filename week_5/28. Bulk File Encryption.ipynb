{
 "cells": [
  {
   "cell_type": "code",
   "execution_count": 2,
   "id": "8301cc0e",
   "metadata": {},
   "outputs": [],
   "source": [
    "# 1. Creating Bulk Files"
   ]
  },
  {
   "cell_type": "code",
   "execution_count": 3,
   "id": "e653f5b3",
   "metadata": {},
   "outputs": [],
   "source": [
    "for i in range(1,101):\n",
    "    \n",
    "    name = 'file/file_' + str(i) + '.txt'\n",
    "    \n",
    "    fd = open(name,'w')\n",
    "    fd.write('This is file_' + str(i))\n",
    "    fd.close()"
   ]
  },
  {
   "cell_type": "code",
   "execution_count": 4,
   "id": "7f899a61",
   "metadata": {},
   "outputs": [],
   "source": [
    "# 2. Reading data form a file"
   ]
  },
  {
   "cell_type": "code",
   "execution_count": 5,
   "id": "6557764b",
   "metadata": {},
   "outputs": [
    {
     "name": "stdout",
     "output_type": "stream",
     "text": [
      "This is file_1\n"
     ]
    }
   ],
   "source": [
    "fd = open('file/file_1.txt','r')\n",
    "\n",
    "print(fd.read())\n",
    "\n",
    "fd.close()"
   ]
  },
  {
   "cell_type": "code",
   "execution_count": 7,
   "id": "01257bff",
   "metadata": {},
   "outputs": [],
   "source": [
    "# 3. Text Encryption"
   ]
  },
  {
   "cell_type": "code",
   "execution_count": 8,
   "id": "33ca5f06",
   "metadata": {},
   "outputs": [],
   "source": [
    "def encryption(txt):\n",
    "    \n",
    "    t = ''   \n",
    "    for i in txt:\n",
    "        t += chr(ord(i) + 3)\n",
    "    return t"
   ]
  },
  {
   "cell_type": "code",
   "execution_count": 9,
   "id": "cf16e78e",
   "metadata": {},
   "outputs": [],
   "source": [
    "# 4. Reading and Encrypting data from bulk files"
   ]
  },
  {
   "cell_type": "code",
   "execution_count": 10,
   "id": "8611627d",
   "metadata": {},
   "outputs": [],
   "source": [
    "for i in range(1,101):\n",
    "    name = 'file/file_' + str(i) + '.txt'\n",
    "    \n",
    "    fd = open(name, 'r')\n",
    "    text = fd.read()\n",
    "    fd.close()\n",
    "    encryption(text)"
   ]
  },
  {
   "cell_type": "code",
   "execution_count": 11,
   "id": "4db044fa",
   "metadata": {},
   "outputs": [],
   "source": [
    "# 5. Writing Encrypted data in text-files"
   ]
  },
  {
   "cell_type": "code",
   "execution_count": 12,
   "id": "edd66191",
   "metadata": {},
   "outputs": [],
   "source": [
    "for i in range(1,101):\n",
    "    \n",
    "    name = 'file/file_' + str(i) + '.txt'\n",
    "    \n",
    "    fd = open(name, 'r')\n",
    "    text = fd.read()\n",
    "    fd.close()\n",
    "    \n",
    "    fd = open(name,'w')\n",
    "    fd.write(encryption(text))\n",
    "    fd.close()"
   ]
  },
  {
   "cell_type": "code",
   "execution_count": 13,
   "id": "6045fdfb",
   "metadata": {},
   "outputs": [],
   "source": [
    "# 6. Text Decryption"
   ]
  },
  {
   "cell_type": "code",
   "execution_count": 14,
   "id": "74038f5c",
   "metadata": {},
   "outputs": [],
   "source": [
    "def decryption(txt):\n",
    "    \n",
    "    t = ''   \n",
    "    for i in txt:\n",
    "        t += chr(ord(i) - 3)\n",
    "    return t"
   ]
  },
  {
   "cell_type": "code",
   "execution_count": 15,
   "id": "506515ae",
   "metadata": {},
   "outputs": [],
   "source": [
    "# 7. Decrypting the data in text-files"
   ]
  },
  {
   "cell_type": "code",
   "execution_count": 16,
   "id": "83bbaf45",
   "metadata": {},
   "outputs": [],
   "source": [
    "for i in range(1,101):\n",
    "    \n",
    "    name = 'file/file_' + str(i) + '.txt'\n",
    "    \n",
    "    fd = open(name, 'r')\n",
    "    text = fd.read()\n",
    "    fd.close()\n",
    "    \n",
    "    fd = open(name, 'w')\n",
    "    fd.write(decryption(text))\n",
    "    fd.close()"
   ]
  }
 ],
 "metadata": {
  "kernelspec": {
   "display_name": "Python 3 (ipykernel)",
   "language": "python",
   "name": "python3"
  },
  "language_info": {
   "codemirror_mode": {
    "name": "ipython",
    "version": 3
   },
   "file_extension": ".py",
   "mimetype": "text/x-python",
   "name": "python",
   "nbconvert_exporter": "python",
   "pygments_lexer": "ipython3",
   "version": "3.9.6"
  }
 },
 "nbformat": 4,
 "nbformat_minor": 5
}

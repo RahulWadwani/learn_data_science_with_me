{
 "cells": [
  {
   "cell_type": "code",
   "execution_count": 101,
   "id": "49a43272",
   "metadata": {},
   "outputs": [
    {
     "name": "stdout",
     "output_type": "stream",
     "text": [
      "45\n",
      "2\n"
     ]
    }
   ],
   "source": [
    "def count_bits(x):\n",
    "    n = 0 \n",
    "    while x:\n",
    "        n += x & 1\n",
    "        x >>= 1\n",
    "    return n\n",
    "x = int(input()) \n",
    "print(count_bits(n))"
   ]
  },
  {
   "cell_type": "code",
   "execution_count": 134,
   "id": "8ef0436b",
   "metadata": {},
   "outputs": [
    {
     "name": "stdout",
     "output_type": "stream",
     "text": [
      "16\n",
      "1\n"
     ]
    }
   ],
   "source": [
    "def parity(x):\n",
    "    r = 0 \n",
    "    while x:\n",
    "        r ^= x & 1\n",
    "        x >>= 1\n",
    "    return r\n",
    "x = int(input())\n",
    "print(parity(x))"
   ]
  },
  {
   "cell_type": "code",
   "execution_count": 93,
   "id": "cf3bf55d",
   "metadata": {},
   "outputs": [],
   "source": []
  },
  {
   "cell_type": "code",
   "execution_count": 94,
   "id": "35b57f32",
   "metadata": {},
   "outputs": [
    {
     "data": {
      "text/plain": [
       "True"
      ]
     },
     "execution_count": 94,
     "metadata": {},
     "output_type": "execute_result"
    }
   ],
   "source": []
  }
 ],
 "metadata": {
  "kernelspec": {
   "display_name": "Python 3 (ipykernel)",
   "language": "python",
   "name": "python3"
  },
  "language_info": {
   "codemirror_mode": {
    "name": "ipython",
    "version": 3
   },
   "file_extension": ".py",
   "mimetype": "text/x-python",
   "name": "python",
   "nbconvert_exporter": "python",
   "pygments_lexer": "ipython3",
   "version": "3.9.6"
  }
 },
 "nbformat": 4,
 "nbformat_minor": 5
}

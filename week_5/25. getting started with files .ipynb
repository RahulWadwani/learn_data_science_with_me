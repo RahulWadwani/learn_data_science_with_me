{
 "cells": [
  {
   "cell_type": "markdown",
   "id": "951a335c",
   "metadata": {},
   "source": [
    "# 1. Creating a Text-file"
   ]
  },
  {
   "cell_type": "code",
   "execution_count": 1,
   "id": "4d761d80",
   "metadata": {},
   "outputs": [],
   "source": [
    "fd = open('file.txt','w')\n",
    "fd.close()"
   ]
  },
  {
   "cell_type": "markdown",
   "id": "0e32258f",
   "metadata": {},
   "source": [
    "# 2. Data Writing on File (write mode)"
   ]
  },
  {
   "cell_type": "code",
   "execution_count": 2,
   "id": "bb090dfe",
   "metadata": {},
   "outputs": [],
   "source": [
    "fd = open('file.txt','w')\n",
    "\n",
    "fd.write('Hi')\n",
    "\n",
    "fd.close()"
   ]
  },
  {
   "cell_type": "markdown",
   "id": "8d942373",
   "metadata": {},
   "source": [
    "# 3. Data Writing on File (append mode)"
   ]
  },
  {
   "cell_type": "code",
   "execution_count": 3,
   "id": "cc7eed14",
   "metadata": {},
   "outputs": [],
   "source": [
    "fd = open('file.txt','a')\n",
    "\n",
    "fd.write('How are you?')\n",
    "\n",
    "fd.close()"
   ]
  },
  {
   "cell_type": "markdown",
   "id": "04d7578c",
   "metadata": {},
   "source": [
    "# 4. Write data in next line"
   ]
  },
  {
   "cell_type": "code",
   "execution_count": 4,
   "id": "d0032dbc",
   "metadata": {},
   "outputs": [],
   "source": [
    "fd = open('file.txt','a')\n",
    "\n",
    "fd.write('How are you?')\n",
    "fd.write('\\n')\n",
    "\n",
    "fd.close()"
   ]
  },
  {
   "cell_type": "markdown",
   "id": "2c3c7b6f",
   "metadata": {},
   "source": [
    "# 5. Personal Details in a file"
   ]
  },
  {
   "cell_type": "code",
   "execution_count": 5,
   "id": "5d769c8a",
   "metadata": {},
   "outputs": [
    {
     "name": "stdout",
     "output_type": "stream",
     "text": [
      "Enter your name: Rahul Wadwani\n",
      "Enter your mail: rahulwadwani786@gmail.com\n",
      "Enter your phone: 1654231321\n",
      "Enter your age: 22\n"
     ]
    }
   ],
   "source": [
    "name  = str(input('Enter your name: '))\n",
    "email = str(input('Enter your mail: '))\n",
    "phone = int(input('Enter your phone: '))\n",
    "age   = int(input('Enter your age: '))\n",
    "\n",
    "\n",
    "fd = open(name.split(' ')[0] + '.txt','w')\n",
    "\n",
    "fd.write(name)\n",
    "fd.write('\\n')\n",
    "fd.write(email)\n",
    "fd.write('\\n')\n",
    "fd.write(str(phone))\n",
    "fd.write('\\n')\n",
    "fd.write(str(age))\n",
    "\n",
    "fd.close()"
   ]
  }
 ],
 "metadata": {
  "kernelspec": {
   "display_name": "Python 3 (ipykernel)",
   "language": "python",
   "name": "python3"
  },
  "language_info": {
   "codemirror_mode": {
    "name": "ipython",
    "version": 3
   },
   "file_extension": ".py",
   "mimetype": "text/x-python",
   "name": "python",
   "nbconvert_exporter": "python",
   "pygments_lexer": "ipython3",
   "version": "3.9.6"
  }
 },
 "nbformat": 4,
 "nbformat_minor": 5
}

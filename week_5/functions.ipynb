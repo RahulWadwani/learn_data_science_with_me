{
 "cells": [
  {
   "cell_type": "markdown",
   "id": "c03bb577",
   "metadata": {},
   "source": [
    "# 1. Capitalize function"
   ]
  },
  {
   "cell_type": "code",
   "execution_count": 18,
   "id": "95f7b6a8",
   "metadata": {},
   "outputs": [
    {
     "name": "stdout",
     "output_type": "stream",
     "text": [
      "Input a String: Jennifer aniston is a great actress\n"
     ]
    },
    {
     "data": {
      "text/plain": [
       "'Jennifer aniston is a great actress'"
      ]
     },
     "execution_count": 18,
     "metadata": {},
     "output_type": "execute_result"
    }
   ],
   "source": [
    "txt = str(input(\"Input a String: \"))\n",
    "txt.capitalize()"
   ]
  },
  {
   "cell_type": "code",
   "execution_count": 19,
   "id": "ac8d6af2",
   "metadata": {},
   "outputs": [],
   "source": [
    "def capitalize_(txt):\n",
    "    t = ''\n",
    "    if (ord(txt[0]) >= 97 and ord(txt[0]) <= 122):     #\n",
    "        t = chr(ord(txt[0]) - 32)\n",
    "    else:\n",
    "        t = txt[0]\n",
    "        \n",
    "    for i in txt[1:]:\n",
    "        if (ord(i) >= 65 and ord(i) <= 90):\n",
    "            t += chr(ord(i) + 32)\n",
    "        else:\n",
    "            t += i\n",
    "    return t"
   ]
  },
  {
   "cell_type": "code",
   "execution_count": 20,
   "id": "3b4342f0",
   "metadata": {},
   "outputs": [
    {
     "data": {
      "text/plain": [
       "'Jennifer aniston is a great actress'"
      ]
     },
     "execution_count": 20,
     "metadata": {},
     "output_type": "execute_result"
    }
   ],
   "source": [
    "capitalize_(txt)"
   ]
  },
  {
   "cell_type": "markdown",
   "id": "37f5493b",
   "metadata": {},
   "source": [
    "# 2. Lower function"
   ]
  },
  {
   "cell_type": "code",
   "execution_count": 21,
   "id": "8099a7c9",
   "metadata": {},
   "outputs": [
    {
     "data": {
      "text/plain": [
       "'jennifer aniston is a great actress'"
      ]
     },
     "execution_count": 21,
     "metadata": {},
     "output_type": "execute_result"
    }
   ],
   "source": [
    "txt.lower()"
   ]
  },
  {
   "cell_type": "code",
   "execution_count": 22,
   "id": "1c2ccf7b",
   "metadata": {},
   "outputs": [],
   "source": [
    "def lower_(txt):\n",
    "    t = ''\n",
    "    for i in txt:\n",
    "        if (ord(i) >= 65 and ord(i) <= 90):\n",
    "            t += chr(ord(i)+32)\n",
    "        else:\n",
    "            t += i\n",
    "    return t"
   ]
  },
  {
   "cell_type": "code",
   "execution_count": 23,
   "id": "b57b70cb",
   "metadata": {},
   "outputs": [
    {
     "data": {
      "text/plain": [
       "'jennifer aniston is a great actress'"
      ]
     },
     "execution_count": 23,
     "metadata": {},
     "output_type": "execute_result"
    }
   ],
   "source": [
    "lower_(txt)"
   ]
  },
  {
   "cell_type": "markdown",
   "id": "535d6bc0",
   "metadata": {},
   "source": [
    "# 3. Upper functions"
   ]
  },
  {
   "cell_type": "code",
   "execution_count": 24,
   "id": "e2e32c5e",
   "metadata": {},
   "outputs": [
    {
     "data": {
      "text/plain": [
       "'JENNIFER ANISTON IS A GREAT ACTRESS'"
      ]
     },
     "execution_count": 24,
     "metadata": {},
     "output_type": "execute_result"
    }
   ],
   "source": [
    "txt.upper()"
   ]
  },
  {
   "cell_type": "code",
   "execution_count": 25,
   "id": "1053728d",
   "metadata": {},
   "outputs": [],
   "source": [
    "def upper_(txt):\n",
    "    t = ''\n",
    "    for i in txt:\n",
    "        if (ord(i) >= 97 and ord(i) <= 122):\n",
    "            t += chr(ord(i)-32)\n",
    "        else:\n",
    "            t += i\n",
    "    return t"
   ]
  },
  {
   "cell_type": "code",
   "execution_count": 26,
   "id": "9cb2b907",
   "metadata": {},
   "outputs": [
    {
     "data": {
      "text/plain": [
       "'JENNIFER ANISTON IS A GREAT ACTRESS'"
      ]
     },
     "execution_count": 26,
     "metadata": {},
     "output_type": "execute_result"
    }
   ],
   "source": [
    "upper_(txt)"
   ]
  },
  {
   "cell_type": "markdown",
   "id": "3b444bf0",
   "metadata": {},
   "source": [
    "# 3. isdigit functions"
   ]
  },
  {
   "cell_type": "code",
   "execution_count": 27,
   "id": "423af799",
   "metadata": {},
   "outputs": [
    {
     "data": {
      "text/plain": [
       "False"
      ]
     },
     "execution_count": 27,
     "metadata": {},
     "output_type": "execute_result"
    }
   ],
   "source": [
    "txt.isdigit()"
   ]
  },
  {
   "cell_type": "code",
   "execution_count": 32,
   "id": "b91555ae",
   "metadata": {},
   "outputs": [],
   "source": [
    "def isdigit_(ch):\n",
    "    for i in ch:\n",
    "        if (ord(i) >= 48) and (ord(i) <=57):\n",
    "            return True\n",
    "        else:\n",
    "            return False"
   ]
  },
  {
   "cell_type": "code",
   "execution_count": 33,
   "id": "2aa3b199",
   "metadata": {},
   "outputs": [
    {
     "data": {
      "text/plain": [
       "False"
      ]
     },
     "execution_count": 33,
     "metadata": {},
     "output_type": "execute_result"
    }
   ],
   "source": [
    "isdigit_(txt)"
   ]
  },
  {
   "cell_type": "markdown",
   "id": "bfc622f5",
   "metadata": {},
   "source": [
    "# isalnum functions"
   ]
  },
  {
   "cell_type": "code",
   "execution_count": 34,
   "id": "d796bc56",
   "metadata": {},
   "outputs": [
    {
     "data": {
      "text/plain": [
       "False"
      ]
     },
     "execution_count": 34,
     "metadata": {},
     "output_type": "execute_result"
    }
   ],
   "source": [
    "txt.isalnum()"
   ]
  },
  {
   "cell_type": "code",
   "execution_count": 35,
   "id": "bbae6ac7",
   "metadata": {},
   "outputs": [],
   "source": [
    "def isalnum_(ch):\n",
    "    if (ord(ch) >= 97 and ord(ch) <= 122) or (ord(ch) >= 65 and ord(ch) <= 90) or (ord(ch) >= 48 and ord(ch)<=57):\n",
    "        return True\n",
    "    else:\n",
    "        return False\n"
   ]
  },
  {
   "cell_type": "code",
   "execution_count": 36,
   "id": "c9139e4c",
   "metadata": {},
   "outputs": [
    {
     "data": {
      "text/plain": [
       "False"
      ]
     },
     "execution_count": 36,
     "metadata": {},
     "output_type": "execute_result"
    }
   ],
   "source": [
    "isalnum_('@')"
   ]
  },
  {
   "cell_type": "markdown",
   "id": "513c36ba",
   "metadata": {},
   "source": [
    "# Title function"
   ]
  },
  {
   "cell_type": "code",
   "execution_count": 37,
   "id": "3a021e1c",
   "metadata": {},
   "outputs": [
    {
     "data": {
      "text/plain": [
       "'Jennifer Aniston Is A Great Actress'"
      ]
     },
     "execution_count": 37,
     "metadata": {},
     "output_type": "execute_result"
    }
   ],
   "source": [
    "txt.title()"
   ]
  },
  {
   "cell_type": "code",
   "execution_count": 38,
   "id": "71d8fb6e",
   "metadata": {},
   "outputs": [],
   "source": [
    "def title_(ch):\n",
    "    t = ''\n",
    "    for word in ch.split(' '):\n",
    "        if (len(word) == 1):\n",
    "            t += upper_(word) + ' '\n",
    "        else:\n",
    "            t += upper_(word[0]) + word[1:] + ' '\n",
    "    return t[:-1]\n"
   ]
  },
  {
   "cell_type": "code",
   "execution_count": 39,
   "id": "bbf2d14e",
   "metadata": {},
   "outputs": [
    {
     "data": {
      "text/plain": [
       "'Jennifer Aniston Is A Great Actress'"
      ]
     },
     "execution_count": 39,
     "metadata": {},
     "output_type": "execute_result"
    }
   ],
   "source": [
    "title_('Jennifer aniston is a great actress')"
   ]
  }
 ],
 "metadata": {
  "kernelspec": {
   "display_name": "Python 3 (ipykernel)",
   "language": "python",
   "name": "python3"
  },
  "language_info": {
   "codemirror_mode": {
    "name": "ipython",
    "version": 3
   },
   "file_extension": ".py",
   "mimetype": "text/x-python",
   "name": "python",
   "nbconvert_exporter": "python",
   "pygments_lexer": "ipython3",
   "version": "3.9.6"
  }
 },
 "nbformat": 4,
 "nbformat_minor": 5
}

{
 "cells": [
  {
   "cell_type": "markdown",
   "id": "111e75c3",
   "metadata": {},
   "source": [
    "# Phonebook "
   ]
  },
  {
   "cell_type": "markdown",
   "id": "6afb7ced",
   "metadata": {},
   "source": [
    "## Checking the phone number "
   ]
  },
  {
   "cell_type": "code",
   "execution_count": 1,
   "id": "28396149",
   "metadata": {},
   "outputs": [],
   "source": [
    "def check_phone(phone):\n",
    "    phone = str(phone)\n",
    "    c = 0\n",
    "    for i in phone:\n",
    "        if ord(str(i))>=48 and ord(str(i))<=57:    #checking whether character is present or not \n",
    "            c += 1\n",
    "    if (c == 10 and len(phone) == 10):            #each character should be of length 10 \n",
    "        return True \n",
    "    else:\n",
    "        return False"
   ]
  },
  {
   "cell_type": "markdown",
   "id": "fa52d222",
   "metadata": {},
   "source": [
    "## Checking the email "
   ]
  },
  {
   "cell_type": "code",
   "execution_count": 2,
   "id": "ca6e80c9",
   "metadata": {},
   "outputs": [],
   "source": [
    "def check_email(email):\n",
    "    valid = False\n",
    "    if len(email.split('@')) == 2:                             # to check whether @ is present or not \n",
    "        if (len(email.split('@')[0]) != 0):                    # to check the username is present or not \n",
    "            if (len(email.split('@')[1].split('.')) == 2):     # to check whether . is present or not \n",
    "                temp = email.split('@')[1].split('.')\n",
    "                if (len(temp[0]) >= 1 and len(temp[1]) >= 1):  # to check post and prefix is present or not \n",
    "                    valid = True\n",
    "    return valid "
   ]
  },
  {
   "cell_type": "markdown",
   "id": "1c3aacfa",
   "metadata": {},
   "source": [
    "## Adding user to a file  "
   ]
  },
  {
   "cell_type": "code",
   "execution_count": 3,
   "id": "768f253f",
   "metadata": {},
   "outputs": [],
   "source": [
    "#inputing the values from the user \n",
    "def add_user():\n",
    "    name  = str(input(\"Enter your name :\"))\n",
    "    email = str(input(\"Enter your email :\"))\n",
    "    phone = str(input(\"Enter your phone number :\"))\n",
    "    if (check_phone(phone)==True) and (check_email(email) == True):\n",
    "        fd = open('phonebook.txt','a')\n",
    "        fd.write(name)\n",
    "        fd.write(' , ')\n",
    "        fd.write(email)\n",
    "        fd.write(' , ')\n",
    "        fd.write(phone)\n",
    "        fd.write('\\n')\n",
    "        fd.close()\n",
    "        print('-'*30)\n",
    "        print('Data Saved')\n",
    "        print('-'*30)\n",
    "    else :\n",
    "        print(\"Please, Enter valid details \")\n",
    "        print(\"Program Terminated\")\n",
    "        print('-'*30)"
   ]
  },
  {
   "cell_type": "code",
   "execution_count": 4,
   "id": "f8245264",
   "metadata": {},
   "outputs": [
    {
     "name": "stdout",
     "output_type": "stream",
     "text": [
      "------------------------------\n",
      "Data Saved\n",
      "------------------------------\n"
     ]
    }
   ],
   "source": [
    "add_user()"
   ]
  },
  {
   "cell_type": "markdown",
   "id": "18571570",
   "metadata": {},
   "source": [
    "# Reading Data from Phonebook"
   ]
  },
  {
   "cell_type": "code",
   "execution_count": 5,
   "id": "f2b7ab2f",
   "metadata": {},
   "outputs": [
    {
     "name": "stdout",
     "output_type": "stream",
     "text": [
      "rahul  \n",
      "ramesh \n",
      "Rajesh \n",
      "Virat  \n",
      "Dinesh  \n",
      "Ishan  \n",
      "aditi \n"
     ]
    }
   ],
   "source": [
    "#\n",
    "fd = open('phonebook.txt','r')\n",
    "text = fd.read()\n",
    "fd.close()\n",
    "\n",
    "users = text.split('\\n')[:-1]\n",
    "for user in users:\n",
    "    print(user.split(',')[0])"
   ]
  },
  {
   "cell_type": "code",
   "execution_count": 6,
   "id": "b31c91f8",
   "metadata": {},
   "outputs": [
    {
     "data": {
      "text/plain": [
       "'rahul  , rahulwadwani@gmail.com , 9638527410\\nramesh , ramesh@gmail.com , 9874563210\\nRajesh , rajesh@gmail.com , 7894561230\\nVirat  , viratkohli@gmail.com , 8779456123\\nDinesh  , dinesh@gmail.com , 9887456321\\nIshan  , Kishan@gmail.com , 8997456123\\naditi , aditi@gmail.com , 8102045127\\n'"
      ]
     },
     "execution_count": 6,
     "metadata": {},
     "output_type": "execute_result"
    }
   ],
   "source": [
    "text   #raw format "
   ]
  },
  {
   "cell_type": "code",
   "execution_count": 7,
   "id": "d13f0c69",
   "metadata": {},
   "outputs": [
    {
     "name": "stdout",
     "output_type": "stream",
     "text": [
      "rahul  , rahulwadwani@gmail.com , 9638527410\n",
      "ramesh , ramesh@gmail.com , 9874563210\n",
      "Rajesh , rajesh@gmail.com , 7894561230\n",
      "Virat  , viratkohli@gmail.com , 8779456123\n",
      "Dinesh  , dinesh@gmail.com , 9887456321\n",
      "Ishan  , Kishan@gmail.com , 8997456123\n",
      "aditi , aditi@gmail.com , 8102045127\n",
      "\n"
     ]
    }
   ],
   "source": [
    "print(text) "
   ]
  },
  {
   "cell_type": "markdown",
   "id": "1d14e303",
   "metadata": {},
   "source": [
    "## Searching based the Full_name "
   ]
  },
  {
   "cell_type": "code",
   "execution_count": 8,
   "id": "debee0d3",
   "metadata": {},
   "outputs": [],
   "source": [
    "def search_name(n):\n",
    "    for user in users:\n",
    "        name = user.split(',')[0]\n",
    "        email = user.split(',')[1]\n",
    "        phone = user.split(',')[2]\n",
    "        print(name,n)\n",
    "        print(name.lower() == n.lower())\n",
    "        if (name.lower() == n.lower()):\n",
    "            print('-'*20)\n",
    "            print('Name  : ',name)\n",
    "            print('Email : ',email)\n",
    "            print('Phone : ',phone)\n",
    "            print('-'*20)"
   ]
  },
  {
   "cell_type": "code",
   "execution_count": 9,
   "id": "603a3bf9",
   "metadata": {},
   "outputs": [
    {
     "name": "stdout",
     "output_type": "stream",
     "text": [
      "rahul   aditi\n",
      "False\n",
      "ramesh  aditi\n",
      "False\n",
      "Rajesh  aditi\n",
      "False\n",
      "Virat   aditi\n",
      "False\n",
      "Dinesh   aditi\n",
      "False\n",
      "Ishan   aditi\n",
      "False\n",
      "aditi  aditi\n",
      "False\n"
     ]
    }
   ],
   "source": [
    "n = str(input(\"Enter name you are searching for :\"))\n",
    "search_name(n)"
   ]
  },
  {
   "cell_type": "markdown",
   "id": "004c2731",
   "metadata": {},
   "source": [
    "##  Searching based on mail id "
   ]
  },
  {
   "cell_type": "code",
   "execution_count": 10,
   "id": "d834df05",
   "metadata": {},
   "outputs": [],
   "source": [
    "def search_mail(m):\n",
    "    for user in users:\n",
    "        name = user.split(',')[0]\n",
    "        email = user.split(',')[1]\n",
    "        phone = user.split(',')[2]\n",
    "        print(email,m)\n",
    "        print(email.lower())\n",
    "        print(m.lower())\n",
    "        print(email.lower() == m.lower())\n",
    "        if  (email.lower() == m.lower() ):\n",
    "            print('-'*20)\n",
    "            print('Name  : ',name)\n",
    "            print('Email : ',email)\n",
    "            print('Phone : ',phone)\n",
    "            print('-'*20)"
   ]
  },
  {
   "cell_type": "code",
   "execution_count": 11,
   "id": "1696cf0c",
   "metadata": {},
   "outputs": [
    {
     "name": "stdout",
     "output_type": "stream",
     "text": [
      " rahulwadwani@gmail.com  \n",
      " rahulwadwani@gmail.com \n",
      "\n",
      "False\n",
      " ramesh@gmail.com  \n",
      " ramesh@gmail.com \n",
      "\n",
      "False\n",
      " rajesh@gmail.com  \n",
      " rajesh@gmail.com \n",
      "\n",
      "False\n",
      " viratkohli@gmail.com  \n",
      " viratkohli@gmail.com \n",
      "\n",
      "False\n",
      " dinesh@gmail.com  \n",
      " dinesh@gmail.com \n",
      "\n",
      "False\n",
      " Kishan@gmail.com  \n",
      " kishan@gmail.com \n",
      "\n",
      "False\n",
      " aditi@gmail.com  \n",
      " aditi@gmail.com \n",
      "\n",
      "False\n",
      "None\n"
     ]
    }
   ],
   "source": [
    "m = input()\n",
    "print(search_mail(m))"
   ]
  },
  {
   "cell_type": "markdown",
   "id": "f6ccd458",
   "metadata": {},
   "source": [
    "## Searching based on insufficient information (Name)"
   ]
  },
  {
   "cell_type": "code",
   "execution_count": 12,
   "id": "af9766e0",
   "metadata": {},
   "outputs": [
    {
     "name": "stdout",
     "output_type": "stream",
     "text": [
      "--------------------\n",
      "Name  :  aditi \n",
      "Email :   aditi@gmail.com \n",
      "Phone :   8102045127\n",
      "--------------------\n"
     ]
    }
   ],
   "source": [
    "n = str(input(\"Enter name : \"))\n",
    "for user in users:\n",
    "    name = user.split(',')[0]\n",
    "    email = user.split(',')[1]\n",
    "    phone = user.split(',')[2]\n",
    "    if  (n.lower() in name.lower()):\n",
    "        print('-'*20)\n",
    "        print('Name  : ',name)\n",
    "        print('Email : ',email)\n",
    "        print('Phone : ',phone)\n",
    "        print('-'*20)"
   ]
  },
  {
   "cell_type": "markdown",
   "id": "b763e924",
   "metadata": {},
   "source": [
    "## Searching based on insufficient information (phone)"
   ]
  },
  {
   "cell_type": "code",
   "execution_count": 13,
   "id": "0e0330d5",
   "metadata": {},
   "outputs": [
    {
     "name": "stdout",
     "output_type": "stream",
     "text": [
      "--------------------\n",
      "Name  :  ramesh \n",
      "Email :   ramesh@gmail.com \n",
      "Phone :   9874563210\n",
      "--------------------\n",
      "--------------------\n",
      "Name  :  Dinesh  \n",
      "Email :   dinesh@gmail.com \n",
      "Phone :   9887456321\n",
      "--------------------\n"
     ]
    }
   ],
   "source": [
    "c = int(input(\"Enter name : \"))\n",
    "for user in users:\n",
    "    name = user.split(',')[0]\n",
    "    email = user.split(',')[1]\n",
    "    phone = user.split(',')[2]\n",
    "    if  (str(c) in phone):\n",
    "        print('-'*20)\n",
    "        print('Name  : ',name)\n",
    "        print('Email : ',email)\n",
    "        print('Phone : ',phone)\n",
    "        print('-'*20)"
   ]
  },
  {
   "cell_type": "code",
   "execution_count": null,
   "id": "723c095a",
   "metadata": {},
   "outputs": [],
   "source": []
  }
 ],
 "metadata": {
  "kernelspec": {
   "display_name": "Python 3 (ipykernel)",
   "language": "python",
   "name": "python3"
  },
  "language_info": {
   "codemirror_mode": {
    "name": "ipython",
    "version": 3
   },
   "file_extension": ".py",
   "mimetype": "text/x-python",
   "name": "python",
   "nbconvert_exporter": "python",
   "pygments_lexer": "ipython3",
   "version": "3.9.6"
  },
  "vscode": {
   "interpreter": {
    "hash": "1c4eeb78d5e1dc6cb6e62b5bd20620b702dce5b8b8ded6688ef7aad2e1c0d17c"
   }
  }
 },
 "nbformat": 4,
 "nbformat_minor": 5
}

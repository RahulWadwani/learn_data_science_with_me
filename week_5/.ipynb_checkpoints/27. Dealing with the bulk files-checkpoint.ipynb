{
 "cells": [
  {
   "cell_type": "code",
   "execution_count": 1,
   "id": "b3fa57b2",
   "metadata": {},
   "outputs": [],
   "source": [
    "# 1. Creating Bulk Files"
   ]
  },
  {
   "cell_type": "code",
   "execution_count": 5,
   "id": "19476bc7",
   "metadata": {},
   "outputs": [],
   "source": [
    "for i in range(1,101):\n",
    "    \n",
    "    name = 'file/file_' + str(i) + '.txt'\n",
    "    \n",
    "    fd = open(name,'w')\n",
    "    fd.write('This is file_' + str(i))\n",
    "    fd.close()"
   ]
  },
  {
   "cell_type": "code",
   "execution_count": null,
   "id": "694dd561",
   "metadata": {},
   "outputs": [],
   "source": [
    "# 2. Reading data from a file"
   ]
  },
  {
   "cell_type": "code",
   "execution_count": 6,
   "id": "cf6fdfc1",
   "metadata": {},
   "outputs": [
    {
     "name": "stdout",
     "output_type": "stream",
     "text": [
      "This is file_10\n"
     ]
    }
   ],
   "source": [
    "fd = open('file/file_10.txt','r')\n",
    "\n",
    "print(fd.read())\n",
    "\n",
    "fd.close()"
   ]
  },
  {
   "cell_type": "code",
   "execution_count": 7,
   "id": "ed9b583f",
   "metadata": {},
   "outputs": [],
   "source": [
    "# 3. Reading data from bulk files - Using FileNames Loop"
   ]
  },
  {
   "cell_type": "code",
   "execution_count": 8,
   "id": "44c85da2",
   "metadata": {},
   "outputs": [],
   "source": [
    "data = []\n",
    "\n",
    "for i in range(1,101):\n",
    "    \n",
    "    name = 'file/file_' + str(i) +'.txt'\n",
    "    \n",
    "    fd = open(name, 'r')\n",
    "    data.append([name,fd.read()])\n",
    "    fd.close()"
   ]
  },
  {
   "cell_type": "code",
   "execution_count": 9,
   "id": "c71bd524",
   "metadata": {},
   "outputs": [],
   "source": [
    "# 4. Reading data from bulk files - Using OS"
   ]
  },
  {
   "cell_type": "code",
   "execution_count": 10,
   "id": "59f8e32d",
   "metadata": {},
   "outputs": [],
   "source": [
    "import os\n",
    "\n",
    "data = []\n",
    "\n",
    "files = os.listdir('file')\n",
    "\n",
    "for file in files:\n",
    "    name = 'file/' + file  \n",
    "    fd = open(name , 'r')\n",
    "    data.append([name, fd.read()])\n",
    "    fd.close()"
   ]
  },
  {
   "cell_type": "code",
   "execution_count": 11,
   "id": "94ab63fd",
   "metadata": {},
   "outputs": [],
   "source": [
    "# 5. Writing data of all files in Single File - (Writing Directly in TextFile)"
   ]
  },
  {
   "cell_type": "code",
   "execution_count": 12,
   "id": "43873487",
   "metadata": {},
   "outputs": [],
   "source": [
    "fd_ = open('main.txt','a')\n",
    "\n",
    "for i in range(1,101):\n",
    "    \n",
    "    name = 'file/file_' + str(i) +'.txt'\n",
    "    \n",
    "    fd = open(name, 'r')\n",
    "    fd_.write(fd.read())\n",
    "    fd_.write('\\n')\n",
    "    fd.close()\n",
    "    \n",
    "fd_.close()"
   ]
  },
  {
   "cell_type": "code",
   "execution_count": 15,
   "id": "34578561",
   "metadata": {},
   "outputs": [],
   "source": [
    "# 6. Writing data of all files in Single File - (Writing through String)"
   ]
  },
  {
   "cell_type": "code",
   "execution_count": 16,
   "id": "08596b2e",
   "metadata": {},
   "outputs": [],
   "source": [
    "text = ''\n",
    "\n",
    "for i in range(1,101):\n",
    "    \n",
    "    name = 'file/file_' + str(i) +'.txt'\n",
    "    \n",
    "    fd = open(name, 'r')\n",
    "    text += fd.read()\n",
    "    text += '\\n'\n",
    "    fd.close()"
   ]
  },
  {
   "cell_type": "code",
   "execution_count": 17,
   "id": "6388ddd9",
   "metadata": {},
   "outputs": [],
   "source": [
    "fd = open('main.txt','w')\n",
    "\n",
    "fd.write(text)\n",
    "\n",
    "fd.close()"
   ]
  }
 ],
 "metadata": {
  "kernelspec": {
   "display_name": "Python 3 (ipykernel)",
   "language": "python",
   "name": "python3"
  },
  "language_info": {
   "codemirror_mode": {
    "name": "ipython",
    "version": 3
   },
   "file_extension": ".py",
   "mimetype": "text/x-python",
   "name": "python",
   "nbconvert_exporter": "python",
   "pygments_lexer": "ipython3",
   "version": "3.9.6"
  }
 },
 "nbformat": 4,
 "nbformat_minor": 5
}

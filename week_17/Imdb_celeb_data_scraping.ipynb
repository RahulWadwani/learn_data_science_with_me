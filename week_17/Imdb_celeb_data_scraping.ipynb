{
 "cells": [
  {
   "cell_type": "code",
   "execution_count": null,
   "id": "f7db4464",
   "metadata": {},
   "outputs": [],
   "source": [
    "import requests\n",
    "from bs4 import BeautifulSoup\n",
    "import pandas as pd\n",
    "import numpy as np \n",
    "from tqdm import tqdm "
   ]
  },
  {
   "cell_type": "code",
   "execution_count": null,
   "id": "7f53023c",
   "metadata": {},
   "outputs": [
    {
     "name": "stderr",
     "output_type": "stream",
     "text": [
      " 41%|███████████████████████████████▍                                             | 817/2000 [43:43<1:18:53,  4.00s/it]"
     ]
    }
   ],
   "source": [
    "data = []\n",
    "link = 'https://www.imdb.com/search/name/?match_all=true'\n",
    "for links in tqdm(range(500)):\n",
    "    soup = BeautifulSoup(requests.get(link).content,'html.parser')\n",
    "    for celeb in soup.find('div',class_ = 'lister-list').find_all('div',class_ = 'lister-item mode-detail'):\n",
    "        id_              = (celeb.find('a').get('href').split('/')[-1].strip())\n",
    "        celeb_name       = (celeb.find('h3').find('a').text.strip())\n",
    "    try:\n",
    "        known_for_id   = (celeb.find('p').find('a').get('href').split('/')[-2])\n",
    "    except:\n",
    "        known_for_id   = np.nan\n",
    "    try:\n",
    "        known_for      = (celeb.find('p').find('a').text.strip())\n",
    "    except:\n",
    "        known_for      = np.nan\n",
    "    try:\n",
    "        profession     = (str(celeb.find('p',class_ = 'text-muted text-small').text).split('|')[0].strip())\n",
    "    except:\n",
    "        profession     = np.nan\n",
    "    data.append([id_,celeb_name,known_for_id,known_for,profession])\n",
    "\n",
    "\n",
    "    link = ('https://www.imdb.com'+(soup.find('a',class_ = 'lister-page-next next-page').get('href')))\n",
    "        \n",
    "\n",
    "\n",
    "df = pd.DataFrame(data,columns = ['id_','celeb_name','known_for_id','known_for','profession'])\n",
    "df.to_csv('celebs.csv',index = False)"
   ]
  },
  {
   "cell_type": "code",
   "execution_count": null,
   "id": "75a401c6",
   "metadata": {},
   "outputs": [],
   "source": []
  }
 ],
 "metadata": {
  "kernelspec": {
   "display_name": "Python 3 (ipykernel)",
   "language": "python",
   "name": "python3"
  },
  "language_info": {
   "codemirror_mode": {
    "name": "ipython",
    "version": 3
   },
   "file_extension": ".py",
   "mimetype": "text/x-python",
   "name": "python",
   "nbconvert_exporter": "python",
   "pygments_lexer": "ipython3",
   "version": "3.9.6"
  }
 },
 "nbformat": 4,
 "nbformat_minor": 5
}

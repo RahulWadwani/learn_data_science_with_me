{
 "cells": [
  {
   "cell_type": "markdown",
   "id": "0f06358b",
   "metadata": {},
   "source": [
    "## 1)Introduction to numpy "
   ]
  },
  {
   "cell_type": "code",
   "execution_count": 1,
   "id": "3a52284b",
   "metadata": {},
   "outputs": [
    {
     "data": {
      "text/plain": [
       "0.21384191585136092"
      ]
     },
     "execution_count": 1,
     "metadata": {},
     "output_type": "execute_result"
    }
   ],
   "source": [
    "import numpy as np "
   ]
  },
  {
   "cell_type": "code",
   "execution_count": 24,
   "id": "871dd710",
   "metadata": {},
   "outputs": [
    {
     "data": {
      "text/plain": [
       "0.8152786445781908"
      ]
     },
     "execution_count": 24,
     "metadata": {},
     "output_type": "execute_result"
    }
   ],
   "source": [
    "#use of random.random() functions in numpy \n",
    "np.random.random()"
   ]
  },
  {
   "cell_type": "code",
   "execution_count": 58,
   "id": "4187e8ac",
   "metadata": {},
   "outputs": [
    {
     "name": "stdout",
     "output_type": "stream",
     "text": [
      "Tails\n"
     ]
    }
   ],
   "source": [
    "# coin toss game\n",
    "# np.random.random() can be considered as a probablity function ranging from 0 to 1 \n",
    "if np.random.random() > 0.5:\n",
    "    print('Heads')\n",
    "else:\n",
    "    print('Tails')\n",
    "    "
   ]
  },
  {
   "cell_type": "code",
   "execution_count": 59,
   "id": "54097c26",
   "metadata": {},
   "outputs": [
    {
     "data": {
      "text/plain": [
       "array([1, 2, 3, 4])"
      ]
     },
     "execution_count": 59,
     "metadata": {},
     "output_type": "execute_result"
    }
   ],
   "source": [
    "# np.arange(start,stop,step) gives ndarray with range lying between the starting and the ending points with certain steps\n",
    "np.arange(1,5,1)"
   ]
  },
  {
   "cell_type": "code",
   "execution_count": 61,
   "id": "ac6df169",
   "metadata": {},
   "outputs": [
    {
     "data": {
      "text/plain": [
       "array([1. , 3.5, 6. ])"
      ]
     },
     "execution_count": 61,
     "metadata": {},
     "output_type": "execute_result"
    }
   ],
   "source": [
    "# np.linspace(start,stop,division) gives ndarray with float values ranging between the start and the stop values \n",
    "np.linspace(1,6,3)"
   ]
  },
  {
   "cell_type": "markdown",
   "id": "f2c926df",
   "metadata": {},
   "source": [
    "# 2) Numpy Reshaping"
   ]
  },
  {
   "cell_type": "code",
   "execution_count": 65,
   "id": "df12f9cc",
   "metadata": {},
   "outputs": [],
   "source": [
    "arr1= np.array([[1,2],[3,4],[5,6]])"
   ]
  },
  {
   "cell_type": "code",
   "execution_count": 67,
   "id": "c863bd94",
   "metadata": {},
   "outputs": [
    {
     "data": {
      "text/plain": [
       "6"
      ]
     },
     "execution_count": 67,
     "metadata": {},
     "output_type": "execute_result"
    }
   ],
   "source": [
    "#arr1.size gives the size of the array or we can also say that it gives us the total elements present in the given array \n",
    "arr1.size"
   ]
  },
  {
   "cell_type": "code",
   "execution_count": 70,
   "id": "acb82000",
   "metadata": {},
   "outputs": [
    {
     "data": {
      "text/plain": [
       "(3, 2)"
      ]
     },
     "execution_count": 70,
     "metadata": {},
     "output_type": "execute_result"
    }
   ],
   "source": [
    "#arr1.shape() give the dimension of the matrix in the form of MXN\n",
    "arr1.shape"
   ]
  },
  {
   "cell_type": "code",
   "execution_count": 73,
   "id": "66ed2edf",
   "metadata": {},
   "outputs": [
    {
     "data": {
      "text/plain": [
       "array([[1, 2, 3],\n",
       "       [4, 5, 6]])"
      ]
     },
     "execution_count": 73,
     "metadata": {},
     "output_type": "execute_result"
    }
   ],
   "source": [
    "#arr1.reshape((M,N)) gives the reshaped dimension of a given array provided the total elements should satisfy \n",
    "arr1.reshape((2,3))"
   ]
  },
  {
   "cell_type": "markdown",
   "id": "2b5a4de9",
   "metadata": {},
   "source": [
    "# 3) numpy flattening "
   ]
  },
  {
   "cell_type": "code",
   "execution_count": 75,
   "id": "896a74f9",
   "metadata": {},
   "outputs": [
    {
     "data": {
      "text/plain": [
       "array([[0.26996182, 0.91938506, 0.34193021, 0.89186158, 0.83277914],\n",
       "       [0.8143943 , 0.76188894, 0.24782286, 0.31722004, 0.61200847],\n",
       "       [0.95134748, 0.79498393, 0.30445703, 0.22892355, 0.77123794],\n",
       "       [0.97405359, 0.37493412, 0.40716164, 0.3020178 , 0.94521865],\n",
       "       [0.96375689, 0.48504343, 0.28337912, 0.95989488, 0.44904853]])"
      ]
     },
     "execution_count": 75,
     "metadata": {},
     "output_type": "execute_result"
    }
   ],
   "source": [
    "arr = np.random.random((5,5))\n",
    "arr"
   ]
  },
  {
   "cell_type": "code",
   "execution_count": 76,
   "id": "967b6916",
   "metadata": {},
   "outputs": [
    {
     "data": {
      "text/plain": [
       "array([0.26996182, 0.91938506, 0.34193021, 0.89186158, 0.83277914,\n",
       "       0.8143943 , 0.76188894, 0.24782286, 0.31722004, 0.61200847,\n",
       "       0.95134748, 0.79498393, 0.30445703, 0.22892355, 0.77123794,\n",
       "       0.97405359, 0.37493412, 0.40716164, 0.3020178 , 0.94521865,\n",
       "       0.96375689, 0.48504343, 0.28337912, 0.95989488, 0.44904853])"
      ]
     },
     "execution_count": 76,
     "metadata": {},
     "output_type": "execute_result"
    }
   ],
   "source": [
    "# arr.flatten() combines any MXN matrix to single unit \n",
    "arr.flatten()"
   ]
  },
  {
   "cell_type": "markdown",
   "id": "cdbd4b9b",
   "metadata": {},
   "source": [
    "## 4)Numpy arrays to list and vice versa"
   ]
  },
  {
   "cell_type": "code",
   "execution_count": 77,
   "id": "accd7a0a",
   "metadata": {},
   "outputs": [
    {
     "data": {
      "text/plain": [
       "array([1, 2, 3, 4, 5, 6])"
      ]
     },
     "execution_count": 77,
     "metadata": {},
     "output_type": "execute_result"
    }
   ],
   "source": [
    "list1 = [1,2,3,4,5,6]\n",
    "#converting to ndarray \n",
    "np.array(list1)"
   ]
  },
  {
   "cell_type": "code",
   "execution_count": 78,
   "id": "770bed8c",
   "metadata": {},
   "outputs": [
    {
     "name": "stdout",
     "output_type": "stream",
     "text": [
      "[array([0.37378146, 0.09818758, 0.32930499, 0.90877267, 0.53966733]), array([0.69536876, 0.90601721, 0.57763469, 0.97105771, 0.49225491]), array([0.76796256, 0.00277303, 0.5555182 , 0.96229885, 0.94408148]), array([0.46277791, 0.15397287, 0.03737467, 0.60963633, 0.33361714]), array([0.80293871, 0.28994437, 0.07444264, 0.91944724, 0.71921044])]\n"
     ]
    }
   ],
   "source": [
    "arr = np.random.random((5,5))\n",
    "list2 = list(arr)\n",
    "print(list2)"
   ]
  },
  {
   "cell_type": "markdown",
   "id": "af19647b",
   "metadata": {},
   "source": [
    "## 5) Numpy operations"
   ]
  },
  {
   "cell_type": "code",
   "execution_count": 80,
   "id": "0b777afd",
   "metadata": {},
   "outputs": [],
   "source": [
    "arr1= np.array([1,2,3,4,5,6])"
   ]
  },
  {
   "cell_type": "code",
   "execution_count": 81,
   "id": "e4cff416",
   "metadata": {},
   "outputs": [
    {
     "data": {
      "text/plain": [
       "array([2, 3, 4, 5, 6, 7])"
      ]
     },
     "execution_count": 81,
     "metadata": {},
     "output_type": "execute_result"
    }
   ],
   "source": [
    "arr1 + 1"
   ]
  },
  {
   "cell_type": "code",
   "execution_count": 82,
   "id": "dbaaafde",
   "metadata": {},
   "outputs": [
    {
     "data": {
      "text/plain": [
       "array([0, 1, 2, 3, 4, 5])"
      ]
     },
     "execution_count": 82,
     "metadata": {},
     "output_type": "execute_result"
    }
   ],
   "source": [
    "arr1 - 1"
   ]
  },
  {
   "cell_type": "code",
   "execution_count": 83,
   "id": "f63fc842",
   "metadata": {},
   "outputs": [
    {
     "data": {
      "text/plain": [
       "array([ 2,  4,  6,  8, 10, 12])"
      ]
     },
     "execution_count": 83,
     "metadata": {},
     "output_type": "execute_result"
    }
   ],
   "source": [
    "arr1 * 2"
   ]
  },
  {
   "cell_type": "code",
   "execution_count": 85,
   "id": "2a98c67c",
   "metadata": {},
   "outputs": [
    {
     "data": {
      "text/plain": [
       "array([0.5, 1. , 1.5, 2. , 2.5, 3. ])"
      ]
     },
     "execution_count": 85,
     "metadata": {},
     "output_type": "execute_result"
    }
   ],
   "source": [
    "arr1 /2"
   ]
  },
  {
   "cell_type": "code",
   "execution_count": 86,
   "id": "428f09bb",
   "metadata": {},
   "outputs": [
    {
     "data": {
      "text/plain": [
       "array([1, 0, 1, 0, 1, 0], dtype=int32)"
      ]
     },
     "execution_count": 86,
     "metadata": {},
     "output_type": "execute_result"
    }
   ],
   "source": [
    "arr1 % 2"
   ]
  },
  {
   "cell_type": "code",
   "execution_count": 88,
   "id": "7e535749",
   "metadata": {},
   "outputs": [
    {
     "data": {
      "text/plain": [
       "array([ 1,  4,  9, 16, 25, 36])"
      ]
     },
     "execution_count": 88,
     "metadata": {},
     "output_type": "execute_result"
    }
   ],
   "source": [
    "arr1 ** 2"
   ]
  },
  {
   "cell_type": "code",
   "execution_count": 90,
   "id": "f5032fb9",
   "metadata": {},
   "outputs": [
    {
     "data": {
      "text/plain": [
       "3.5"
      ]
     },
     "execution_count": 90,
     "metadata": {},
     "output_type": "execute_result"
    }
   ],
   "source": [
    "arr1.mean()"
   ]
  },
  {
   "cell_type": "code",
   "execution_count": 93,
   "id": "db48e3e7",
   "metadata": {},
   "outputs": [
    {
     "data": {
      "text/plain": [
       "3.5"
      ]
     },
     "execution_count": 93,
     "metadata": {},
     "output_type": "execute_result"
    }
   ],
   "source": [
    "np.median(arr1)"
   ]
  },
  {
   "cell_type": "code",
   "execution_count": 95,
   "id": "e28ccacd",
   "metadata": {},
   "outputs": [
    {
     "data": {
      "text/plain": [
       "1"
      ]
     },
     "execution_count": 95,
     "metadata": {},
     "output_type": "execute_result"
    }
   ],
   "source": [
    "arr1.min()"
   ]
  },
  {
   "cell_type": "code",
   "execution_count": 98,
   "id": "78ab6696",
   "metadata": {},
   "outputs": [
    {
     "data": {
      "text/plain": [
       "6"
      ]
     },
     "execution_count": 98,
     "metadata": {},
     "output_type": "execute_result"
    }
   ],
   "source": [
    "arr1.max()"
   ]
  },
  {
   "cell_type": "code",
   "execution_count": 102,
   "id": "01c16dda",
   "metadata": {},
   "outputs": [
    {
     "data": {
      "text/plain": [
       "78"
      ]
     },
     "execution_count": 102,
     "metadata": {},
     "output_type": "execute_result"
    }
   ],
   "source": [
    "arr1.sum()"
   ]
  },
  {
   "cell_type": "markdown",
   "id": "90dbe9e3",
   "metadata": {},
   "source": [
    "# 6) operations on arrays"
   ]
  },
  {
   "cell_type": "code",
   "execution_count": 122,
   "id": "aa85434c",
   "metadata": {},
   "outputs": [],
   "source": [
    "arr1 = np.array([[1,2,3],[4,5,6]])\n",
    "arr2 = np.array([[7,8,9],[10,11,12]])\n",
    "arr3 = np.array([[7,8],[9,10],[11,12]])"
   ]
  },
  {
   "cell_type": "code",
   "execution_count": 106,
   "id": "8b00a66a",
   "metadata": {},
   "outputs": [
    {
     "data": {
      "text/plain": [
       "array([[ 8, 10, 12],\n",
       "       [14, 16, 18]])"
      ]
     },
     "execution_count": 106,
     "metadata": {},
     "output_type": "execute_result"
    }
   ],
   "source": [
    "arr1 + arr2 "
   ]
  },
  {
   "cell_type": "code",
   "execution_count": 118,
   "id": "33ea153b",
   "metadata": {},
   "outputs": [
    {
     "data": {
      "text/plain": [
       "array([[-6, -6, -6],\n",
       "       [-6, -6, -6]])"
      ]
     },
     "execution_count": 118,
     "metadata": {},
     "output_type": "execute_result"
    }
   ],
   "source": [
    "arr1 - arr2"
   ]
  },
  {
   "cell_type": "code",
   "execution_count": 119,
   "id": "a3096aea",
   "metadata": {},
   "outputs": [
    {
     "data": {
      "text/plain": [
       "array([[ 7, 16, 27],\n",
       "       [40, 55, 72]])"
      ]
     },
     "execution_count": 119,
     "metadata": {},
     "output_type": "execute_result"
    }
   ],
   "source": [
    "arr1 * arr2 "
   ]
  },
  {
   "cell_type": "code",
   "execution_count": 129,
   "id": "8062d1be",
   "metadata": {},
   "outputs": [
    {
     "name": "stdout",
     "output_type": "stream",
     "text": [
      "[[ 58  64]\n",
      " [139 154]]\n",
      "[[-6 12 -6]\n",
      " [-6 12 -6]]\n"
     ]
    }
   ],
   "source": [
    "# dot product of two matrix \n",
    "print(arr1.dot(arr3))\n",
    "# cross product of two matrix \n",
    "print(np.cross(arr1,arr2))"
   ]
  },
  {
   "cell_type": "code",
   "execution_count": 110,
   "id": "3a985f86",
   "metadata": {},
   "outputs": [
    {
     "data": {
      "text/plain": [
       "6"
      ]
     },
     "execution_count": 110,
     "metadata": {},
     "output_type": "execute_result"
    }
   ],
   "source": [
    "arr1.max()"
   ]
  },
  {
   "cell_type": "code",
   "execution_count": 113,
   "id": "6154ff9b",
   "metadata": {},
   "outputs": [
    {
     "data": {
      "text/plain": [
       "array([4, 5, 6])"
      ]
     },
     "execution_count": 113,
     "metadata": {},
     "output_type": "execute_result"
    }
   ],
   "source": [
    "arr1.max(axis = 0)"
   ]
  },
  {
   "cell_type": "code",
   "execution_count": 114,
   "id": "d48966a4",
   "metadata": {},
   "outputs": [
    {
     "data": {
      "text/plain": [
       "array([1, 4])"
      ]
     },
     "execution_count": 114,
     "metadata": {},
     "output_type": "execute_result"
    }
   ],
   "source": [
    "arr1.min(axis = 1)"
   ]
  },
  {
   "cell_type": "code",
   "execution_count": 108,
   "id": "ecaeaae4",
   "metadata": {},
   "outputs": [
    {
     "data": {
      "text/plain": [
       "21"
      ]
     },
     "execution_count": 108,
     "metadata": {},
     "output_type": "execute_result"
    }
   ],
   "source": [
    "arr1.sum()"
   ]
  },
  {
   "cell_type": "code",
   "execution_count": 116,
   "id": "fb09ff11",
   "metadata": {},
   "outputs": [
    {
     "data": {
      "text/plain": [
       "array([5, 7, 9])"
      ]
     },
     "execution_count": 116,
     "metadata": {},
     "output_type": "execute_result"
    }
   ],
   "source": [
    "arr1.sum(axis = 0 )"
   ]
  },
  {
   "cell_type": "code",
   "execution_count": 130,
   "id": "9200f140",
   "metadata": {},
   "outputs": [
    {
     "data": {
      "text/plain": [
       "array([ 6, 15])"
      ]
     },
     "execution_count": 130,
     "metadata": {},
     "output_type": "execute_result"
    }
   ],
   "source": [
    "arr1.sum(axis = 1)"
   ]
  },
  {
   "cell_type": "markdown",
   "id": "0b452a5c",
   "metadata": {},
   "source": [
    "# array slicing and sorting "
   ]
  },
  {
   "cell_type": "code",
   "execution_count": 139,
   "id": "e08870c1",
   "metadata": {},
   "outputs": [
    {
     "data": {
      "text/plain": [
       "1"
      ]
     },
     "execution_count": 139,
     "metadata": {},
     "output_type": "execute_result"
    }
   ],
   "source": [
    "arr1[0][0]# for 2-d array size "
   ]
  },
  {
   "cell_type": "code",
   "execution_count": 144,
   "id": "5a0261d6",
   "metadata": {},
   "outputs": [
    {
     "data": {
      "text/plain": [
       "array([[1, 2, 3]])"
      ]
     },
     "execution_count": 144,
     "metadata": {},
     "output_type": "execute_result"
    }
   ],
   "source": [
    "arr1[:1]"
   ]
  },
  {
   "cell_type": "code",
   "execution_count": 153,
   "id": "8a299898",
   "metadata": {},
   "outputs": [
    {
     "data": {
      "text/plain": [
       "1"
      ]
     },
     "execution_count": 153,
     "metadata": {},
     "output_type": "execute_result"
    }
   ],
   "source": [
    "new_arr = np.array([1,2,3,4,5,6,9,8,7])\n",
    "new_arr[0] #slicing for array size 1-d"
   ]
  },
  {
   "cell_type": "code",
   "execution_count": 149,
   "id": "3e82d2c8",
   "metadata": {},
   "outputs": [
    {
     "data": {
      "text/plain": [
       "array([1, 2, 3])"
      ]
     },
     "execution_count": 149,
     "metadata": {},
     "output_type": "execute_result"
    }
   ],
   "source": [
    "new_arr[:3]"
   ]
  },
  {
   "cell_type": "code",
   "execution_count": 150,
   "id": "2bac59d0",
   "metadata": {},
   "outputs": [
    {
     "data": {
      "text/plain": [
       "array([2, 3, 4, 5, 6])"
      ]
     },
     "execution_count": 150,
     "metadata": {},
     "output_type": "execute_result"
    }
   ],
   "source": [
    "new_arr[1:]"
   ]
  },
  {
   "cell_type": "code",
   "execution_count": 152,
   "id": "e51ef906",
   "metadata": {},
   "outputs": [
    {
     "data": {
      "text/plain": [
       "array([2, 3, 4, 5])"
      ]
     },
     "execution_count": 152,
     "metadata": {},
     "output_type": "execute_result"
    }
   ],
   "source": [
    "new_arr[1:-1]"
   ]
  },
  {
   "cell_type": "code",
   "execution_count": 156,
   "id": "b1f7b1fc",
   "metadata": {},
   "outputs": [
    {
     "data": {
      "text/plain": [
       "array([1, 2, 3, 4, 5, 6, 7, 8, 9])"
      ]
     },
     "execution_count": 156,
     "metadata": {},
     "output_type": "execute_result"
    }
   ],
   "source": [
    "np.sort(new_arr,kind='mergesort')"
   ]
  },
  {
   "cell_type": "code",
   "execution_count": 158,
   "id": "06dfd6f6",
   "metadata": {},
   "outputs": [
    {
     "data": {
      "text/plain": [
       "array([1, 2, 3, 4, 5, 6, 7, 8, 9])"
      ]
     },
     "execution_count": 158,
     "metadata": {},
     "output_type": "execute_result"
    }
   ],
   "source": [
    "np.sort(new_arr,kind='quicksort')"
   ]
  },
  {
   "cell_type": "code",
   "execution_count": 160,
   "id": "6761b4c8",
   "metadata": {},
   "outputs": [
    {
     "data": {
      "text/plain": [
       "array([[1, 2, 3],\n",
       "       [4, 5, 6]])"
      ]
     },
     "execution_count": 160,
     "metadata": {},
     "output_type": "execute_result"
    }
   ],
   "source": [
    "np.sort(arr1,axis=0)"
   ]
  },
  {
   "cell_type": "code",
   "execution_count": 162,
   "id": "8440f7e9",
   "metadata": {},
   "outputs": [
    {
     "data": {
      "text/plain": [
       "array([[1, 2, 3],\n",
       "       [4, 5, 6]])"
      ]
     },
     "execution_count": 162,
     "metadata": {},
     "output_type": "execute_result"
    }
   ],
   "source": [
    "np.sort(arr1,axis=1)"
   ]
  },
  {
   "cell_type": "markdown",
   "id": "b0ceeb7f",
   "metadata": {},
   "source": [
    "# numpy merging "
   ]
  },
  {
   "cell_type": "code",
   "execution_count": 174,
   "id": "547e5522",
   "metadata": {},
   "outputs": [],
   "source": [
    "#horizontal stacking and vertical stacking \n",
    "h_stack = np.hstack((arr1,arr2))"
   ]
  },
  {
   "cell_type": "code",
   "execution_count": 175,
   "id": "6a2ef5ea",
   "metadata": {},
   "outputs": [],
   "source": [
    "v_stack = np.vstack((arr1,arr2))"
   ]
  },
  {
   "cell_type": "code",
   "execution_count": 170,
   "id": "e41514e8",
   "metadata": {},
   "outputs": [
    {
     "data": {
      "text/plain": [
       "array([[ 1,  2,  3],\n",
       "       [ 4,  5,  6],\n",
       "       [ 7,  8,  9],\n",
       "       [10, 11, 12]])"
      ]
     },
     "execution_count": 170,
     "metadata": {},
     "output_type": "execute_result"
    }
   ],
   "source": [
    "np.concatenate((arr1,arr2))"
   ]
  },
  {
   "cell_type": "code",
   "execution_count": 172,
   "id": "1f99da0a",
   "metadata": {},
   "outputs": [
    {
     "data": {
      "text/plain": [
       "array([[ 1,  2,  3,  7,  8,  9],\n",
       "       [ 4,  5,  6, 10, 11, 12]])"
      ]
     },
     "execution_count": 172,
     "metadata": {},
     "output_type": "execute_result"
    }
   ],
   "source": [
    "np.concatenate((arr1,arr2),axis = 1)      #same as horizontal stacking"
   ]
  },
  {
   "cell_type": "code",
   "execution_count": 173,
   "id": "084e72db",
   "metadata": {},
   "outputs": [
    {
     "data": {
      "text/plain": [
       "array([[ 1,  2,  3],\n",
       "       [ 4,  5,  6],\n",
       "       [ 7,  8,  9],\n",
       "       [10, 11, 12]])"
      ]
     },
     "execution_count": 173,
     "metadata": {},
     "output_type": "execute_result"
    }
   ],
   "source": [
    "np.concatenate((arr1,arr2),axis = 0)     #same as vertical stacking "
   ]
  },
  {
   "cell_type": "markdown",
   "id": "31bdb854",
   "metadata": {},
   "source": [
    "# numpy spliting "
   ]
  },
  {
   "cell_type": "code",
   "execution_count": 179,
   "id": "997d0fe9",
   "metadata": {},
   "outputs": [
    {
     "data": {
      "text/plain": [
       "[array([[1, 2, 3],\n",
       "        [4, 5, 6]]),\n",
       " array([[ 7,  8,  9],\n",
       "        [10, 11, 12]])]"
      ]
     },
     "execution_count": 179,
     "metadata": {},
     "output_type": "execute_result"
    }
   ],
   "source": [
    "#horizontal spliting using hsplit function present in numpy in built library \n",
    "# format np.hsplit(array, division)\n",
    "np.hsplit(h_stack,2)                       #horizontal spliting"
   ]
  },
  {
   "cell_type": "code",
   "execution_count": 181,
   "id": "43f4e9a2",
   "metadata": {},
   "outputs": [
    {
     "data": {
      "text/plain": [
       "[array([[1, 2, 3],\n",
       "        [4, 5, 6]]),\n",
       " array([[ 7,  8,  9],\n",
       "        [10, 11, 12]])]"
      ]
     },
     "execution_count": 181,
     "metadata": {},
     "output_type": "execute_result"
    }
   ],
   "source": [
    "np.vsplit(v_stack,2)                    #vertical spliting "
   ]
  },
  {
   "cell_type": "code",
   "execution_count": 188,
   "id": "858a8779",
   "metadata": {},
   "outputs": [
    {
     "data": {
      "text/plain": [
       "[array([[ 1,  2,  3],\n",
       "        [ 4,  5,  6],\n",
       "        [ 7,  8,  9],\n",
       "        [10, 11, 12]])]"
      ]
     },
     "execution_count": 188,
     "metadata": {},
     "output_type": "execute_result"
    }
   ],
   "source": [
    "np.hsplit(v_stack,1)"
   ]
  },
  {
   "cell_type": "code",
   "execution_count": 191,
   "id": "28579a44",
   "metadata": {},
   "outputs": [
    {
     "data": {
      "text/plain": [
       "[array([[1, 2, 3, 7, 8, 9]]), array([[ 4,  5,  6, 10, 11, 12]])]"
      ]
     },
     "execution_count": 191,
     "metadata": {},
     "output_type": "execute_result"
    }
   ],
   "source": [
    "np.vsplit(h_stack,2) "
   ]
  },
  {
   "cell_type": "markdown",
   "id": "8ace45a1",
   "metadata": {},
   "source": [
    "# advantages of numpy than list "
   ]
  },
  {
   "cell_type": "code",
   "execution_count": 195,
   "id": "dbf8e835",
   "metadata": {},
   "outputs": [
    {
     "name": "stdout",
     "output_type": "stream",
     "text": [
      "53\n",
      "45\n",
      "87\n",
      "18\n",
      "Eligible:  4\n"
     ]
    }
   ],
   "source": [
    "ages = [53,45,87,12,10,11,18]\n",
    "#voters eligibility criteria \n",
    "c = 0\n",
    "for i in ages:\n",
    "    if i >=18:\n",
    "        print(i)\n",
    "        c += 1\n",
    "print('Eligible: ',c)"
   ]
  },
  {
   "cell_type": "code",
   "execution_count": 200,
   "id": "db3fdea6",
   "metadata": {},
   "outputs": [
    {
     "data": {
      "text/plain": [
       "array([53, 45, 87, 18])"
      ]
     },
     "execution_count": 200,
     "metadata": {},
     "output_type": "execute_result"
    }
   ],
   "source": [
    "# how many people in the given list are eligible  to vote \n",
    "arr = np.array(ages)\n",
    "arr[np.array(ages)>=18]"
   ]
  },
  {
   "cell_type": "code",
   "execution_count": 201,
   "id": "db9c91a2",
   "metadata": {},
   "outputs": [
    {
     "data": {
      "text/plain": [
       "4"
      ]
     },
     "execution_count": 201,
     "metadata": {},
     "output_type": "execute_result"
    }
   ],
   "source": [
    "# count of people in given list \n",
    "len(arr[np.array(ages)>=18])"
   ]
  },
  {
   "cell_type": "code",
   "execution_count": 205,
   "id": "e4c68cc1",
   "metadata": {},
   "outputs": [
    {
     "name": "stdout",
     "output_type": "stream",
     "text": [
      "3\n",
      "[12 10 18]\n"
     ]
    }
   ],
   "source": [
    "# even aged people\n",
    "print(len(arr[np.array(ages)%2 == 0]))\n",
    "print(arr[np.array(ages)%2 == 0])"
   ]
  }
 ],
 "metadata": {
  "kernelspec": {
   "display_name": "Python 3 (ipykernel)",
   "language": "python",
   "name": "python3"
  },
  "language_info": {
   "codemirror_mode": {
    "name": "ipython",
    "version": 3
   },
   "file_extension": ".py",
   "mimetype": "text/x-python",
   "name": "python",
   "nbconvert_exporter": "python",
   "pygments_lexer": "ipython3",
   "version": "3.10.4"
  }
 },
 "nbformat": 4,
 "nbformat_minor": 5
}

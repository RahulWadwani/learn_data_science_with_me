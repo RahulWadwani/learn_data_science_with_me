{
 "cells": [
  {
   "cell_type": "raw",
   "id": "4e4d2085",
   "metadata": {},
   "source": [
    "# what is json ?\n",
    "# it is dictionary kind of format used to store the data , nosql database "
   ]
  },
  {
   "cell_type": "markdown",
   "id": "4857906c",
   "metadata": {},
   "source": [
    "# 1. Adding student details "
   ]
  },
  {
   "cell_type": "code",
   "execution_count": 1,
   "id": "fb2e620b",
   "metadata": {},
   "outputs": [],
   "source": [
    "import time \n",
    "import numpy as np \n",
    "data ={}"
   ]
  },
  {
   "cell_type": "code",
   "execution_count": 2,
   "id": "29dfeec5",
   "metadata": {},
   "outputs": [
    {
     "name": "stdout",
     "output_type": "stream",
     "text": [
      "Enter your registration no. :1311\n",
      "name          : Rohini\n",
      "mail_ID       : rohini@gmail.com\n",
      "phone         : 9877554466\n",
      "section       : b\n"
     ]
    }
   ],
   "source": [
    "reg_no = str(input('Enter your registration no. :'))\n",
    "name      = str(input('name          : '))\n",
    "email     = str(input('mail_ID       : '))\n",
    "phone     = str(input('phone         : '))\n",
    "section   = str(input('section       : '))\n",
    "\n",
    "stud_dict = {}\n",
    "stud_dict['name']    = name\n",
    "stud_dict['email']   = email\n",
    "stud_dict['phone']   = phone\n",
    "stud_dict['section'] = section\n",
    "\n",
    "data[reg_no] = stud_dict"
   ]
  },
  {
   "cell_type": "code",
   "execution_count": 3,
   "id": "a5d82391",
   "metadata": {},
   "outputs": [
    {
     "data": {
      "text/plain": [
       "{'1311': {'name': 'Rohini',\n",
       "  'email': 'rohini@gmail.com',\n",
       "  'phone': '9877554466',\n",
       "  'section': 'b'}}"
      ]
     },
     "execution_count": 3,
     "metadata": {},
     "output_type": "execute_result"
    }
   ],
   "source": [
    "data"
   ]
  },
  {
   "cell_type": "code",
   "execution_count": 4,
   "id": "b22af13f",
   "metadata": {},
   "outputs": [],
   "source": [
    "# data will get vanished once i restart the kernel program or the progrom \n",
    "# so inorder to save the data we save need save the data in ROM\n",
    "# files or json method are two method through which we can save the data\n"
   ]
  },
  {
   "cell_type": "markdown",
   "id": "8a9f2232",
   "metadata": {},
   "source": [
    "## Saving student details in JSON file "
   ]
  },
  {
   "cell_type": "code",
   "execution_count": 5,
   "id": "f19782ea",
   "metadata": {},
   "outputs": [],
   "source": [
    "from json import loads,dumps"
   ]
  },
  {
   "cell_type": "code",
   "execution_count": 6,
   "id": "24c0c88a",
   "metadata": {},
   "outputs": [
    {
     "data": {
      "text/plain": [
       "dict"
      ]
     },
     "execution_count": 6,
     "metadata": {},
     "output_type": "execute_result"
    }
   ],
   "source": [
    "type(data)"
   ]
  },
  {
   "cell_type": "code",
   "execution_count": 7,
   "id": "005d4b63",
   "metadata": {},
   "outputs": [],
   "source": [
    "txt = dumps(data)                        # dump method to dump the data into string format "
   ]
  },
  {
   "cell_type": "code",
   "execution_count": 8,
   "id": "7f515784",
   "metadata": {},
   "outputs": [
    {
     "data": {
      "text/plain": [
       "str"
      ]
     },
     "execution_count": 8,
     "metadata": {},
     "output_type": "execute_result"
    }
   ],
   "source": [
    "type(txt)"
   ]
  },
  {
   "cell_type": "code",
   "execution_count": 9,
   "id": "14e80719",
   "metadata": {},
   "outputs": [],
   "source": [
    "fd = open('data.json','w')\n",
    "fd.write(txt)\n",
    "fd.close()"
   ]
  },
  {
   "cell_type": "code",
   "execution_count": null,
   "id": "816e2a7c",
   "metadata": {},
   "outputs": [],
   "source": []
  },
  {
   "cell_type": "markdown",
   "id": "a3ccfc77",
   "metadata": {},
   "source": [
    "## Loading the data from JSON"
   ]
  },
  {
   "cell_type": "code",
   "execution_count": 10,
   "id": "167e3101",
   "metadata": {},
   "outputs": [],
   "source": [
    "fd = open('data.json','r')\n",
    "text = fd.read()\n",
    "fd.close()"
   ]
  },
  {
   "cell_type": "code",
   "execution_count": 11,
   "id": "a53e678d",
   "metadata": {},
   "outputs": [],
   "source": [
    "data = loads(text)\n",
    "# by passing the data to the loads we get dictionary as the output \n",
    "#since the output we get is a dictionary \n",
    "#here by default we get the key of each element as in a string format "
   ]
  },
  {
   "cell_type": "code",
   "execution_count": 12,
   "id": "a997bd8c",
   "metadata": {},
   "outputs": [
    {
     "data": {
      "text/plain": [
       "{'1311': {'name': 'Rohini',\n",
       "  'email': 'rohini@gmail.com',\n",
       "  'phone': '9877554466',\n",
       "  'section': 'b'}}"
      ]
     },
     "execution_count": 12,
     "metadata": {},
     "output_type": "execute_result"
    }
   ],
   "source": [
    "data"
   ]
  },
  {
   "cell_type": "markdown",
   "id": "5a0ef7cc",
   "metadata": {},
   "source": [
    "# Adding user details in JSON directly "
   ]
  },
  {
   "cell_type": "code",
   "execution_count": 13,
   "id": "ae148c23",
   "metadata": {},
   "outputs": [
    {
     "name": "stdout",
     "output_type": "stream",
     "text": [
      "Enter your registration no. :param\n",
      "name          : fas\n",
      "mail_ID       : asdf\n",
      "phone         : asdf\n",
      "section       : asdf\n"
     ]
    }
   ],
   "source": [
    "fd = open('data.json','r')\n",
    "text = fd.read()\n",
    "fd.close()\n",
    "\n",
    "data = loads(text)\n",
    "\n",
    "\n",
    "reg_no = str(input('Enter your registration no. :'))\n",
    "name      = str(input('name          : '))\n",
    "email     = str(input('mail_ID       : '))\n",
    "phone     = str(input('phone         : '))\n",
    "section   = str(input('section       : '))\n",
    "\n",
    "stud_dict = {}\n",
    "stud_dict['name']    = name\n",
    "stud_dict['email']   = email\n",
    "stud_dict['phone']   = phone\n",
    "stud_dict['section'] = section\n",
    "\n",
    "data[reg_no] = stud_dict\n",
    "\n",
    "\n",
    "txt = dumps(data)\n",
    "\n",
    "fd = open('data.json','w')\n",
    "fd.write(txt)\n",
    "fd.close()\n"
   ]
  },
  {
   "cell_type": "code",
   "execution_count": 20,
   "id": "61771d4d",
   "metadata": {},
   "outputs": [
    {
     "data": {
      "text/plain": [
       "{'4512220': {'name': 'param',\n",
       "  'email': 'param@gmail.com',\n",
       "  'phone': '987451214',\n",
       "  'section': 'k122'},\n",
       " '4512221': {'name': 'yogesh',\n",
       "  'email': 'yogesh@gmail.com',\n",
       "  'phone': '7845123690',\n",
       "  'section': 'k122'},\n",
       " '4512222': {'name': 'sameer',\n",
       "  'email': 'sameer@gmail.com',\n",
       "  'phone': '9874521360',\n",
       "  'section': 'k122'},\n",
       " '4512223': {'name': 'Rutu',\n",
       "  'email': 'rutu@gmail.com',\n",
       "  'phone': '9845761230',\n",
       "  'section': 'k122'},\n",
       " '4512224': {'name': 'rohit',\n",
       "  'email': 'rohit@gmail.com',\n",
       "  'phone': '9635241780',\n",
       "  'section': 'k122'}}"
      ]
     },
     "execution_count": 20,
     "metadata": {},
     "output_type": "execute_result"
    }
   ],
   "source": [
    "data\n"
   ]
  },
  {
   "cell_type": "markdown",
   "id": "7adc6001",
   "metadata": {},
   "source": [
    "# Get user details based on reg_no"
   ]
  },
  {
   "cell_type": "code",
   "execution_count": 21,
   "id": "0044c79f",
   "metadata": {},
   "outputs": [
    {
     "name": "stdout",
     "output_type": "stream",
     "text": [
      "Enter the registration no: 4512224\n",
      "name    :  rohit\n",
      "Email   :  rohit@gmail.com\n",
      "Phone   :  9635241780\n",
      "Section :  k122\n"
     ]
    }
   ],
   "source": [
    "fd =open('data.json','r')\n",
    "txt = fd.read()\n",
    "fd.close()\n",
    "\n",
    "data = loads(txt)\n",
    "\n",
    "user_reg =str(input('Enter the registration no: '))\n",
    "\n",
    "print('name    : ',data[user_reg]['name'])\n",
    "print('Email   : ',data[user_reg]['email'])\n",
    "print('Phone   : ',data[user_reg]['phone'])\n",
    "print('Section : ',data[user_reg]['section'])"
   ]
  },
  {
   "cell_type": "markdown",
   "id": "2ac6f002",
   "metadata": {},
   "source": [
    "# # Get user details based on name"
   ]
  },
  {
   "cell_type": "code",
   "execution_count": 23,
   "id": "582c220b",
   "metadata": {},
   "outputs": [
    {
     "name": "stdout",
     "output_type": "stream",
     "text": [
      "Enter your name : param\n",
      "Registration no  :  4512220\n",
      "name             :  param\n",
      "email            :  param@gmail.com\n",
      "phone            :  987451214\n",
      "section          :  k122\n"
     ]
    }
   ],
   "source": [
    "fd =open('data.json','r')\n",
    "txt = fd.read()\n",
    "fd.close()\n",
    "\n",
    "data = loads(txt)\n",
    "\n",
    "\n",
    "name = str(input('Enter your name : '))\n",
    "\n",
    "for key in data.keys():\n",
    "    if name.lower() in data[key]['name'].lower():\n",
    "        print('Registration no  : ',key)\n",
    "        print('name             : ',data[key]['name'])\n",
    "        print('email            : ',data[key]['email'])\n",
    "        print('phone            : ',data[key]['phone'])\n",
    "        print('section          : ',data[key]['section'])\n",
    "        \n"
   ]
  },
  {
   "cell_type": "markdown",
   "id": "59c030f8",
   "metadata": {},
   "source": [
    "# Saving search history in textfile"
   ]
  },
  {
   "cell_type": "code",
   "execution_count": 25,
   "id": "8c18624e",
   "metadata": {},
   "outputs": [
    {
     "name": "stdout",
     "output_type": "stream",
     "text": [
      "Enter your name : rohit\n",
      "Registration no  :  4512224\n",
      "name             :  rohit\n",
      "email            :  rohit@gmail.com\n",
      "phone            :  9635241780\n",
      "section          :  k122\n"
     ]
    }
   ],
   "source": [
    "fd =open('data.json','r')\n",
    "txt = fd.read()\n",
    "fd.close()\n",
    "\n",
    "data = loads(txt)\n",
    "\n",
    "\n",
    "name = str(input('Enter your name : '))\n",
    "\n",
    "for key in data.keys():\n",
    "    if name.lower() in data[key]['name'].lower():\n",
    "        print('Registration no  : ',key)\n",
    "        print('name             : ',data[key]['name'])\n",
    "        print('email            : ',data[key]['email'])\n",
    "        print('phone            : ',data[key]['phone'])\n",
    "        print('section          : ',data[key]['section'])\n",
    "    \n",
    "log = [name,time.ctime()] # you can also add frequency "
   ]
  },
  {
   "cell_type": "code",
   "execution_count": 26,
   "id": "06cae7ab",
   "metadata": {},
   "outputs": [],
   "source": [
    "arr = np.array(log)\n",
    "np.save('histroy.npy',arr)"
   ]
  },
  {
   "cell_type": "code",
   "execution_count": 27,
   "id": "6c2f0d9c",
   "metadata": {},
   "outputs": [
    {
     "data": {
      "text/plain": [
       "array(['rohit', 'Mon Aug  8 17:17:58 2022'], dtype='<U24')"
      ]
     },
     "execution_count": 27,
     "metadata": {},
     "output_type": "execute_result"
    }
   ],
   "source": [
    "np.load('histroy.npy')"
   ]
  },
  {
   "cell_type": "markdown",
   "id": "073b6178",
   "metadata": {},
   "source": [
    "# using history dictionary "
   ]
  },
  {
   "cell_type": "code",
   "execution_count": 28,
   "id": "04304b5d",
   "metadata": {},
   "outputs": [],
   "source": [
    "history = {}"
   ]
  },
  {
   "cell_type": "code",
   "execution_count": 43,
   "id": "ca2de86c",
   "metadata": {},
   "outputs": [
    {
     "ename": "KeyboardInterrupt",
     "evalue": "Interrupted by user",
     "output_type": "error",
     "traceback": [
      "\u001b[1;31m---------------------------------------------------------------------------\u001b[0m",
      "\u001b[1;31mKeyboardInterrupt\u001b[0m                         Traceback (most recent call last)",
      "Input \u001b[1;32mIn [43]\u001b[0m, in \u001b[0;36m<cell line: 8>\u001b[1;34m()\u001b[0m\n\u001b[0;32m      3\u001b[0m fd\u001b[38;5;241m.\u001b[39mclose()\n\u001b[0;32m      5\u001b[0m data \u001b[38;5;241m=\u001b[39m loads(txt)\n\u001b[1;32m----> 8\u001b[0m name \u001b[38;5;241m=\u001b[39m \u001b[38;5;28mstr\u001b[39m(\u001b[38;5;28;43minput\u001b[39;49m\u001b[43m(\u001b[49m\u001b[38;5;124;43m'\u001b[39;49m\u001b[38;5;124;43mEnter your name : \u001b[39;49m\u001b[38;5;124;43m'\u001b[39;49m\u001b[43m)\u001b[49m)\n\u001b[0;32m     10\u001b[0m \u001b[38;5;28;01mfor\u001b[39;00m key \u001b[38;5;129;01min\u001b[39;00m data\u001b[38;5;241m.\u001b[39mkeys():\n\u001b[0;32m     11\u001b[0m     \u001b[38;5;28;01mif\u001b[39;00m name\u001b[38;5;241m.\u001b[39mlower() \u001b[38;5;129;01min\u001b[39;00m data[key][\u001b[38;5;124m'\u001b[39m\u001b[38;5;124mname\u001b[39m\u001b[38;5;124m'\u001b[39m]\u001b[38;5;241m.\u001b[39mlower():\n",
      "File \u001b[1;32m~\\AppData\\Local\\Programs\\Python\\Python310\\lib\\site-packages\\ipykernel\\kernelbase.py:1161\u001b[0m, in \u001b[0;36mKernel.raw_input\u001b[1;34m(self, prompt)\u001b[0m\n\u001b[0;32m   1157\u001b[0m \u001b[38;5;28;01mif\u001b[39;00m \u001b[38;5;129;01mnot\u001b[39;00m \u001b[38;5;28mself\u001b[39m\u001b[38;5;241m.\u001b[39m_allow_stdin:\n\u001b[0;32m   1158\u001b[0m     \u001b[38;5;28;01mraise\u001b[39;00m StdinNotImplementedError(\n\u001b[0;32m   1159\u001b[0m         \u001b[38;5;124m\"\u001b[39m\u001b[38;5;124mraw_input was called, but this frontend does not support input requests.\u001b[39m\u001b[38;5;124m\"\u001b[39m\n\u001b[0;32m   1160\u001b[0m     )\n\u001b[1;32m-> 1161\u001b[0m \u001b[38;5;28;01mreturn\u001b[39;00m \u001b[38;5;28;43mself\u001b[39;49m\u001b[38;5;241;43m.\u001b[39;49m\u001b[43m_input_request\u001b[49m\u001b[43m(\u001b[49m\n\u001b[0;32m   1162\u001b[0m \u001b[43m    \u001b[49m\u001b[38;5;28;43mstr\u001b[39;49m\u001b[43m(\u001b[49m\u001b[43mprompt\u001b[49m\u001b[43m)\u001b[49m\u001b[43m,\u001b[49m\n\u001b[0;32m   1163\u001b[0m \u001b[43m    \u001b[49m\u001b[38;5;28;43mself\u001b[39;49m\u001b[38;5;241;43m.\u001b[39;49m\u001b[43m_parent_ident\u001b[49m\u001b[43m[\u001b[49m\u001b[38;5;124;43m\"\u001b[39;49m\u001b[38;5;124;43mshell\u001b[39;49m\u001b[38;5;124;43m\"\u001b[39;49m\u001b[43m]\u001b[49m\u001b[43m,\u001b[49m\n\u001b[0;32m   1164\u001b[0m \u001b[43m    \u001b[49m\u001b[38;5;28;43mself\u001b[39;49m\u001b[38;5;241;43m.\u001b[39;49m\u001b[43mget_parent\u001b[49m\u001b[43m(\u001b[49m\u001b[38;5;124;43m\"\u001b[39;49m\u001b[38;5;124;43mshell\u001b[39;49m\u001b[38;5;124;43m\"\u001b[39;49m\u001b[43m)\u001b[49m\u001b[43m,\u001b[49m\n\u001b[0;32m   1165\u001b[0m \u001b[43m    \u001b[49m\u001b[43mpassword\u001b[49m\u001b[38;5;241;43m=\u001b[39;49m\u001b[38;5;28;43;01mFalse\u001b[39;49;00m\u001b[43m,\u001b[49m\n\u001b[0;32m   1166\u001b[0m \u001b[43m\u001b[49m\u001b[43m)\u001b[49m\n",
      "File \u001b[1;32m~\\AppData\\Local\\Programs\\Python\\Python310\\lib\\site-packages\\ipykernel\\kernelbase.py:1205\u001b[0m, in \u001b[0;36mKernel._input_request\u001b[1;34m(self, prompt, ident, parent, password)\u001b[0m\n\u001b[0;32m   1202\u001b[0m             \u001b[38;5;28;01mbreak\u001b[39;00m\n\u001b[0;32m   1203\u001b[0m \u001b[38;5;28;01mexcept\u001b[39;00m \u001b[38;5;167;01mKeyboardInterrupt\u001b[39;00m:\n\u001b[0;32m   1204\u001b[0m     \u001b[38;5;66;03m# re-raise KeyboardInterrupt, to truncate traceback\u001b[39;00m\n\u001b[1;32m-> 1205\u001b[0m     \u001b[38;5;28;01mraise\u001b[39;00m \u001b[38;5;167;01mKeyboardInterrupt\u001b[39;00m(\u001b[38;5;124m\"\u001b[39m\u001b[38;5;124mInterrupted by user\u001b[39m\u001b[38;5;124m\"\u001b[39m) \u001b[38;5;28;01mfrom\u001b[39;00m \u001b[38;5;28mNone\u001b[39m\n\u001b[0;32m   1206\u001b[0m \u001b[38;5;28;01mexcept\u001b[39;00m \u001b[38;5;167;01mException\u001b[39;00m:\n\u001b[0;32m   1207\u001b[0m     \u001b[38;5;28mself\u001b[39m\u001b[38;5;241m.\u001b[39mlog\u001b[38;5;241m.\u001b[39mwarning(\u001b[38;5;124m\"\u001b[39m\u001b[38;5;124mInvalid Message:\u001b[39m\u001b[38;5;124m\"\u001b[39m, exc_info\u001b[38;5;241m=\u001b[39m\u001b[38;5;28;01mTrue\u001b[39;00m)\n",
      "\u001b[1;31mKeyboardInterrupt\u001b[0m: Interrupted by user"
     ]
    }
   ],
   "source": [
    "fd =open('data.json','r')\n",
    "txt = fd.read()\n",
    "fd.close()\n",
    "\n",
    "data = loads(txt)\n",
    "\n",
    "\n",
    "name = str(input('Enter your name : '))\n",
    "\n",
    "for key in data.keys():\n",
    "    if name.lower() in data[key]['name'].lower():\n",
    "        print('Registration no  : ',key)\n",
    "        print('name             : ',data[key]['name'])\n",
    "        print('email            : ',data[key]['email'])\n",
    "        print('phone            : ',data[key]['phone'])\n",
    "        print('section          : ',data[key]['section'])\n",
    "if name in history.keys():\n",
    "    history[name]['frequency'] += 1\n",
    "    history[name]['time'] = time.ctime()\n",
    "else:    \n",
    "    log = {}\n",
    "    log['time'] = time.ctime()\n",
    "    log['frequency'] = 1\n",
    "\n",
    "history[name] = log"
   ]
  },
  {
   "cell_type": "code",
   "execution_count": 42,
   "id": "a7bd5d2a",
   "metadata": {},
   "outputs": [
    {
     "data": {
      "text/plain": [
       "{'ashish': {'time': 'Mon Aug  8 17:25:06 2022', 'frequency': 4},\n",
       " 'ashis': {'time': 'Mon Aug  8 17:24:21 2022', 'frequency': 1},\n",
       " 'rohit': {'time': 'Mon Aug  8 17:25:06 2022', 'frequency': 4}}"
      ]
     },
     "execution_count": 42,
     "metadata": {},
     "output_type": "execute_result"
    }
   ],
   "source": [
    "history"
   ]
  },
  {
   "cell_type": "code",
   "execution_count": 44,
   "id": "236b07cd",
   "metadata": {},
   "outputs": [],
   "source": [
    "txt = dumps(history)\n",
    "fd = open('history.json','w')\n",
    "fd.write(txt)\n",
    "fd.close()"
   ]
  },
  {
   "cell_type": "code",
   "execution_count": null,
   "id": "fc0d30a4",
   "metadata": {},
   "outputs": [],
   "source": [
    "#more addition to the projects teachers heirarchy ,rms , sending the request , giving the request "
   ]
  }
 ],
 "metadata": {
  "kernelspec": {
   "display_name": "Python 3 (ipykernel)",
   "language": "python",
   "name": "python3"
  },
  "language_info": {
   "codemirror_mode": {
    "name": "ipython",
    "version": 3
   },
   "file_extension": ".py",
   "mimetype": "text/x-python",
   "name": "python",
   "nbconvert_exporter": "python",
   "pygments_lexer": "ipython3",
   "version": "3.9.6"
  }
 },
 "nbformat": 4,
 "nbformat_minor": 5
}

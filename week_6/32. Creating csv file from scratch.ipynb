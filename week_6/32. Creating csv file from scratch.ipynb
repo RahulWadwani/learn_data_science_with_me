{
 "cells": [
  {
   "cell_type": "markdown",
   "id": "f42a3e23",
   "metadata": {},
   "source": [
    "# Introduction to CSV file (comma seperated values )"
   ]
  },
  {
   "cell_type": "code",
   "execution_count": 4,
   "id": "399b39d3",
   "metadata": {},
   "outputs": [
    {
     "name": "stdout",
     "output_type": "stream",
     "text": [
      "Enter your name   : Manish\n",
      "English           : 75\n",
      "Hindi             : 65\n",
      "Maths             : 85\n",
      "Science           : 45\n",
      "Social Science    : 55\n"
     ]
    }
   ],
   "source": [
    "name  = str(input('Enter your name   : '))\n",
    "eng   = str(input('English           : '))\n",
    "hin   = str(input('Hindi             : '))\n",
    "maths = str(input('Maths             : '))\n",
    "sci   = str(input('Science           : '))\n",
    "ss    = str(input('Social Science    : '))\n",
    "data = name+ ',' + eng + ',' + hin + ',' + maths + ',' + sci + ',' + ss + '\\n'\n",
    "fd = open('data.txt','a')\n",
    "fd.write(data)\n",
    "fd.close()"
   ]
  },
  {
   "cell_type": "code",
   "execution_count": 5,
   "id": "27726856",
   "metadata": {},
   "outputs": [
    {
     "data": {
      "text/plain": [
       "'Manish,75,65,85,45,55\\n'"
      ]
     },
     "execution_count": 5,
     "metadata": {},
     "output_type": "execute_result"
    }
   ],
   "source": [
    "data"
   ]
  },
  {
   "cell_type": "markdown",
   "id": "9f37b4d6",
   "metadata": {},
   "source": [
    "# 1) Converting the text file to csv file   "
   ]
  },
  {
   "cell_type": "markdown",
   "id": "00c3d1a8",
   "metadata": {},
   "source": [
    "## 1.1) Using copy command "
   ]
  },
  {
   "cell_type": "code",
   "execution_count": 10,
   "id": "ee3adeb6",
   "metadata": {},
   "outputs": [
    {
     "name": "stdout",
     "output_type": "stream",
     "text": [
      "        1 file(s) copied.\n"
     ]
    }
   ],
   "source": [
    "!copy data.txt data.csv"
   ]
  },
  {
   "cell_type": "markdown",
   "id": "72e2a8a1",
   "metadata": {},
   "source": [
    "## 1.2) Using OS library"
   ]
  },
  {
   "cell_type": "code",
   "execution_count": 12,
   "id": "77c549d6",
   "metadata": {},
   "outputs": [],
   "source": [
    "import os \n",
    "os.rename('data.txt','data1.csv')"
   ]
  },
  {
   "cell_type": "markdown",
   "id": "d7524e46",
   "metadata": {},
   "source": [
    "# 2) Creating the CSV file directly "
   ]
  },
  {
   "cell_type": "code",
   "execution_count": 13,
   "id": "5e1cfee5",
   "metadata": {},
   "outputs": [
    {
     "name": "stdout",
     "output_type": "stream",
     "text": [
      "Enter your name   : Rajesh\n",
      "English           : 45\n",
      "Hindi             : 87\n",
      "Maths             : 74\n",
      "Science           : 76\n",
      "Social Science    : 71\n"
     ]
    }
   ],
   "source": [
    "name  = str(input('Enter your name   : '))\n",
    "eng   = str(input('English           : '))\n",
    "hin   = str(input('Hindi             : '))\n",
    "maths = str(input('Maths             : '))\n",
    "sci   = str(input('Science           : '))\n",
    "ss    = str(input('Social Science    : '))\n",
    "data = name+ ',' + eng + ',' + hin + ',' + maths + ',' + sci + ',' + ss + '\\n'\n",
    "fd = open('data.csv','a')\n",
    "fd.write(data)\n",
    "fd.close()"
   ]
  }
 ],
 "metadata": {
  "kernelspec": {
   "display_name": "Python 3 (ipykernel)",
   "language": "python",
   "name": "python3"
  },
  "language_info": {
   "codemirror_mode": {
    "name": "ipython",
    "version": 3
   },
   "file_extension": ".py",
   "mimetype": "text/x-python",
   "name": "python",
   "nbconvert_exporter": "python",
   "pygments_lexer": "ipython3",
   "version": "3.9.6"
  }
 },
 "nbformat": 4,
 "nbformat_minor": 5
}

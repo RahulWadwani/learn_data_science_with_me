{
 "cells": [
  {
   "cell_type": "code",
   "execution_count": 1,
   "id": "faf8e7c8",
   "metadata": {},
   "outputs": [
    {
     "data": {
      "text/html": [
       "<div>\n",
       "<style scoped>\n",
       "    .dataframe tbody tr th:only-of-type {\n",
       "        vertical-align: middle;\n",
       "    }\n",
       "\n",
       "    .dataframe tbody tr th {\n",
       "        vertical-align: top;\n",
       "    }\n",
       "\n",
       "    .dataframe thead th {\n",
       "        text-align: right;\n",
       "    }\n",
       "</style>\n",
       "<table border=\"1\" class=\"dataframe\">\n",
       "  <thead>\n",
       "    <tr style=\"text-align: right;\">\n",
       "      <th></th>\n",
       "      <th>prod_name</th>\n",
       "      <th>brand_name</th>\n",
       "      <th>marked_price</th>\n",
       "      <th>discounted_price</th>\n",
       "      <th>rating</th>\n",
       "      <th>rating_count</th>\n",
       "      <th>size</th>\n",
       "      <th>product_link</th>\n",
       "      <th>img_link</th>\n",
       "    </tr>\n",
       "  </thead>\n",
       "  <tbody>\n",
       "    <tr>\n",
       "      <th>0</th>\n",
       "      <td>Slim Fit Casual Shirt</td>\n",
       "      <td>WROGN</td>\n",
       "      <td>2399.0</td>\n",
       "      <td>1439.0</td>\n",
       "      <td>4.2</td>\n",
       "      <td>54.0</td>\n",
       "      <td>39</td>\n",
       "      <td>https://www.myntra.com/shirts/wrogn/wrogn-men-...</td>\n",
       "      <td>https://assets.myntassets.com/dpr_2,q_60,w_210...</td>\n",
       "    </tr>\n",
       "    <tr>\n",
       "      <th>1</th>\n",
       "      <td>Women Skinny Fit High-Rise Jeans</td>\n",
       "      <td>Kraus Jeans</td>\n",
       "      <td>1995.0</td>\n",
       "      <td>1795.0</td>\n",
       "      <td>4.4</td>\n",
       "      <td>6.0</td>\n",
       "      <td>28</td>\n",
       "      <td>https://www.myntra.com/jeans/kraus-jeans/kraus...</td>\n",
       "      <td>https://assets.myntassets.com/dpr_2,q_60,w_210...</td>\n",
       "    </tr>\n",
       "    <tr>\n",
       "      <th>2</th>\n",
       "      <td>Men Handcrafted Sandals</td>\n",
       "      <td>House of Pataudi</td>\n",
       "      <td>2499.0</td>\n",
       "      <td>1199.0</td>\n",
       "      <td>4.1</td>\n",
       "      <td>5.0</td>\n",
       "      <td>UK8</td>\n",
       "      <td>https://www.myntra.com/sandals/house-of-pataud...</td>\n",
       "      <td>https://assets.myntassets.com/dpr_2,q_60,w_210...</td>\n",
       "    </tr>\n",
       "    <tr>\n",
       "      <th>3</th>\n",
       "      <td>Hyaluron Shampoo-180ml</td>\n",
       "      <td>LOreal</td>\n",
       "      <td>209.0</td>\n",
       "      <td>177.0</td>\n",
       "      <td>4.5</td>\n",
       "      <td>2.2</td>\n",
       "      <td>150-180 ML</td>\n",
       "      <td>https://www.myntra.com/shampoo-and-conditioner...</td>\n",
       "      <td>https://assets.myntassets.com/dpr_2,q_60,w_210...</td>\n",
       "    </tr>\n",
       "    <tr>\n",
       "      <th>4</th>\n",
       "      <td>Women Anarkali Kurta</td>\n",
       "      <td>KALINI</td>\n",
       "      <td>2399.0</td>\n",
       "      <td>767.0</td>\n",
       "      <td>4.2</td>\n",
       "      <td>1.2</td>\n",
       "      <td>XXL</td>\n",
       "      <td>https://www.myntra.com/kurtas/kalini/kalini-wo...</td>\n",
       "      <td>https://assets.myntassets.com/dpr_2,q_60,w_210...</td>\n",
       "    </tr>\n",
       "  </tbody>\n",
       "</table>\n",
       "</div>"
      ],
      "text/plain": [
       "                          prod_name        brand_name  marked_price  \\\n",
       "0             Slim Fit Casual Shirt             WROGN        2399.0   \n",
       "1  Women Skinny Fit High-Rise Jeans       Kraus Jeans        1995.0   \n",
       "2           Men Handcrafted Sandals  House of Pataudi        2499.0   \n",
       "3            Hyaluron Shampoo-180ml            LOreal         209.0   \n",
       "4              Women Anarkali Kurta            KALINI        2399.0   \n",
       "\n",
       "   discounted_price  rating  rating_count        size  \\\n",
       "0            1439.0     4.2          54.0          39   \n",
       "1            1795.0     4.4           6.0          28   \n",
       "2            1199.0     4.1           5.0         UK8   \n",
       "3             177.0     4.5           2.2  150-180 ML   \n",
       "4             767.0     4.2           1.2         XXL   \n",
       "\n",
       "                                        product_link  \\\n",
       "0  https://www.myntra.com/shirts/wrogn/wrogn-men-...   \n",
       "1  https://www.myntra.com/jeans/kraus-jeans/kraus...   \n",
       "2  https://www.myntra.com/sandals/house-of-pataud...   \n",
       "3  https://www.myntra.com/shampoo-and-conditioner...   \n",
       "4  https://www.myntra.com/kurtas/kalini/kalini-wo...   \n",
       "\n",
       "                                            img_link  \n",
       "0  https://assets.myntassets.com/dpr_2,q_60,w_210...  \n",
       "1  https://assets.myntassets.com/dpr_2,q_60,w_210...  \n",
       "2  https://assets.myntassets.com/dpr_2,q_60,w_210...  \n",
       "3  https://assets.myntassets.com/dpr_2,q_60,w_210...  \n",
       "4  https://assets.myntassets.com/dpr_2,q_60,w_210...  "
      ]
     },
     "execution_count": 1,
     "metadata": {},
     "output_type": "execute_result"
    }
   ],
   "source": [
    "import pandas as pd \n",
    "df = pd.read_csv('data.csv')\n",
    "df.head()"
   ]
  },
  {
   "cell_type": "code",
   "execution_count": 2,
   "id": "f0d29011",
   "metadata": {},
   "outputs": [],
   "source": [
    "# checking the null values"
   ]
  },
  {
   "cell_type": "code",
   "execution_count": 4,
   "id": "0f59ccd3",
   "metadata": {},
   "outputs": [
    {
     "data": {
      "text/plain": [
       "prod_name              0\n",
       "brand_name             0\n",
       "marked_price         403\n",
       "discounted_price     403\n",
       "rating                 0\n",
       "rating_count         151\n",
       "size                   0\n",
       "product_link           0\n",
       "img_link            1170\n",
       "dtype: int64"
      ]
     },
     "execution_count": 4,
     "metadata": {},
     "output_type": "execute_result"
    }
   ],
   "source": [
    "df.isnull().sum()"
   ]
  },
  {
   "cell_type": "code",
   "execution_count": 5,
   "id": "bcba8890",
   "metadata": {},
   "outputs": [],
   "source": [
    "# drop the null values"
   ]
  },
  {
   "cell_type": "code",
   "execution_count": 6,
   "id": "8fcefd97",
   "metadata": {},
   "outputs": [
    {
     "data": {
      "text/plain": [
       "prod_name           0\n",
       "brand_name          0\n",
       "marked_price        0\n",
       "discounted_price    0\n",
       "rating              0\n",
       "rating_count        0\n",
       "size                0\n",
       "product_link        0\n",
       "img_link            0\n",
       "dtype: int64"
      ]
     },
     "execution_count": 6,
     "metadata": {},
     "output_type": "execute_result"
    }
   ],
   "source": [
    "df = df.dropna()\n",
    "df.isnull().sum()"
   ]
  },
  {
   "cell_type": "code",
   "execution_count": 7,
   "id": "e166009b",
   "metadata": {},
   "outputs": [
    {
     "data": {
      "text/plain": [
       "(3383, 9)"
      ]
     },
     "execution_count": 7,
     "metadata": {},
     "output_type": "execute_result"
    }
   ],
   "source": [
    "df.shape"
   ]
  },
  {
   "cell_type": "code",
   "execution_count": 8,
   "id": "d3ba462b",
   "metadata": {},
   "outputs": [],
   "source": [
    "# preprocessing the rating count"
   ]
  },
  {
   "cell_type": "code",
   "execution_count": null,
   "id": "909f9e2a",
   "metadata": {},
   "outputs": [],
   "source": []
  },
  {
   "cell_type": "code",
   "execution_count": null,
   "id": "fa2f74f5",
   "metadata": {},
   "outputs": [],
   "source": [
    "# dealing with marked price"
   ]
  },
  {
   "cell_type": "code",
   "execution_count": null,
   "id": "206ca86d",
   "metadata": {},
   "outputs": [],
   "source": []
  },
  {
   "cell_type": "code",
   "execution_count": null,
   "id": "01f6e717",
   "metadata": {},
   "outputs": [],
   "source": [
    "# dealing with discounted price"
   ]
  },
  {
   "cell_type": "code",
   "execution_count": null,
   "id": "98310fcd",
   "metadata": {},
   "outputs": [],
   "source": []
  },
  {
   "cell_type": "code",
   "execution_count": null,
   "id": "11f2c49b",
   "metadata": {},
   "outputs": [],
   "source": [
    "# data exploration \n",
    "#### how many brands we are having in the dataset\n",
    "#### what is the maximum marked price of the product\n",
    "#### what is the maximum discounted price of the product\n",
    "#### name the product with maximum marked price\n",
    "#### name the product with maximum discounted price\n"
   ]
  },
  {
   "cell_type": "code",
   "execution_count": null,
   "id": "4a15e206",
   "metadata": {},
   "outputs": [],
   "source": []
  },
  {
   "cell_type": "code",
   "execution_count": null,
   "id": "999ce2f8",
   "metadata": {},
   "outputs": [],
   "source": [
    "# addding the discount column \n",
    "#### adding discount percentage column \n"
   ]
  },
  {
   "cell_type": "code",
   "execution_count": null,
   "id": "f6af0bd8",
   "metadata": {},
   "outputs": [],
   "source": []
  },
  {
   "cell_type": "code",
   "execution_count": 13,
   "id": "70831726",
   "metadata": {},
   "outputs": [
    {
     "data": {
      "text/plain": [
       "36"
      ]
     },
     "execution_count": 13,
     "metadata": {},
     "output_type": "execute_result"
    }
   ],
   "source": [
    "int((listedPrice-sellingPrice)/listedPrice*100)    # discount formula"
   ]
  },
  {
   "cell_type": "code",
   "execution_count": null,
   "id": "76ed5db2",
   "metadata": {},
   "outputs": [],
   "source": [
    "# product with maximum discount\n",
    "##### maximum discount price\n",
    "##### maximum discount percentage"
   ]
  },
  {
   "cell_type": "code",
   "execution_count": null,
   "id": "ab4737b6",
   "metadata": {},
   "outputs": [],
   "source": []
  },
  {
   "cell_type": "code",
   "execution_count": null,
   "id": "d8fb4b53",
   "metadata": {},
   "outputs": [],
   "source": [
    "# finding the cheapest product on myntra\n",
    "##### product based on marked price"
   ]
  },
  {
   "cell_type": "code",
   "execution_count": null,
   "id": "cf8d90ac",
   "metadata": {},
   "outputs": [],
   "source": []
  },
  {
   "cell_type": "code",
   "execution_count": null,
   "id": "367e3498",
   "metadata": {},
   "outputs": [],
   "source": [
    "#### product based on discounted price"
   ]
  },
  {
   "cell_type": "code",
   "execution_count": null,
   "id": "c8a66a6f",
   "metadata": {},
   "outputs": [],
   "source": []
  },
  {
   "cell_type": "code",
   "execution_count": null,
   "id": "9efb8604",
   "metadata": {},
   "outputs": [],
   "source": [
    "# saving the data"
   ]
  },
  {
   "cell_type": "code",
   "execution_count": null,
   "id": "ab7aecc6",
   "metadata": {},
   "outputs": [],
   "source": []
  }
 ],
 "metadata": {
  "kernelspec": {
   "display_name": "Python 3 (ipykernel)",
   "language": "python",
   "name": "python3"
  },
  "language_info": {
   "codemirror_mode": {
    "name": "ipython",
    "version": 3
   },
   "file_extension": ".py",
   "mimetype": "text/x-python",
   "name": "python",
   "nbconvert_exporter": "python",
   "pygments_lexer": "ipython3",
   "version": "3.10.6"
  }
 },
 "nbformat": 4,
 "nbformat_minor": 5
}

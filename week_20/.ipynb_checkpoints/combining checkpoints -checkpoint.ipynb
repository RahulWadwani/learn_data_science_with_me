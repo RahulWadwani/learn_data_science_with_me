{
 "cells": [
  {
   "cell_type": "code",
   "execution_count": 2,
   "id": "254d8a1f",
   "metadata": {},
   "outputs": [],
   "source": [
    "import os \n",
    "import numpy as np \n",
    "import pandas as pd "
   ]
  },
  {
   "cell_type": "code",
   "execution_count": null,
   "id": "eb65237f",
   "metadata": {},
   "outputs": [],
   "source": [
    "# Merging the dataset "
   ]
  },
  {
   "cell_type": "code",
   "execution_count": 7,
   "id": "6d821797",
   "metadata": {},
   "outputs": [],
   "source": [
    "df = pd.DataFrame()\n",
    "for file_name in os.listdir('checkpoints/'):\n",
    "    file_path = 'checkpoints/' + file_name\n",
    "    df_ = pd.read_csv(file_path)\n",
    "    df = pd.concat([df,df_])\n",
    "df.to_csv('data.csv',index= False) "
   ]
  },
  {
   "cell_type": "code",
   "execution_count": null,
   "id": "deb118f1",
   "metadata": {},
   "outputs": [],
   "source": [
    "# dealing with the null values "
   ]
  },
  {
   "cell_type": "code",
   "execution_count": 11,
   "id": "303c931a",
   "metadata": {},
   "outputs": [
    {
     "data": {
      "text/plain": [
       "['60.csv',\n",
       " '10.csv',\n",
       " '70.csv',\n",
       " '30.csv',\n",
       " '90.csv',\n",
       " '40.csv',\n",
       " '50.csv',\n",
       " '80.csv',\n",
       " '100.csv',\n",
       " '20.csv']"
      ]
     },
     "execution_count": 11,
     "metadata": {},
     "output_type": "execute_result"
    }
   ],
   "source": [
    "df = pd.read_csv('data.csv')\n",
    "# df.isnull().sum()\n",
    "os.listdir('checkpoints/')"
   ]
  },
  {
   "cell_type": "code",
   "execution_count": 9,
   "id": "cdf8754d",
   "metadata": {},
   "outputs": [
    {
     "data": {
      "text/html": [
       "<div>\n",
       "<style scoped>\n",
       "    .dataframe tbody tr th:only-of-type {\n",
       "        vertical-align: middle;\n",
       "    }\n",
       "\n",
       "    .dataframe tbody tr th {\n",
       "        vertical-align: top;\n",
       "    }\n",
       "\n",
       "    .dataframe thead th {\n",
       "        text-align: right;\n",
       "    }\n",
       "</style>\n",
       "<table border=\"1\" class=\"dataframe\">\n",
       "  <thead>\n",
       "    <tr style=\"text-align: right;\">\n",
       "      <th></th>\n",
       "      <th>marked_price</th>\n",
       "      <th>discounted_price</th>\n",
       "      <th>rating</th>\n",
       "      <th>rating_count</th>\n",
       "    </tr>\n",
       "  </thead>\n",
       "  <tbody>\n",
       "    <tr>\n",
       "      <th>count</th>\n",
       "      <td>4547.000000</td>\n",
       "      <td>4547.000000</td>\n",
       "      <td>4950.000000</td>\n",
       "      <td>4799.000000</td>\n",
       "    </tr>\n",
       "    <tr>\n",
       "      <th>mean</th>\n",
       "      <td>3113.535958</td>\n",
       "      <td>1508.075654</td>\n",
       "      <td>3.568586</td>\n",
       "      <td>17.337112</td>\n",
       "    </tr>\n",
       "    <tr>\n",
       "      <th>std</th>\n",
       "      <td>2679.077141</td>\n",
       "      <td>1736.817450</td>\n",
       "      <td>1.501783</td>\n",
       "      <td>23.991249</td>\n",
       "    </tr>\n",
       "    <tr>\n",
       "      <th>min</th>\n",
       "      <td>72.000000</td>\n",
       "      <td>63.000000</td>\n",
       "      <td>0.000000</td>\n",
       "      <td>0.000000</td>\n",
       "    </tr>\n",
       "    <tr>\n",
       "      <th>25%</th>\n",
       "      <td>1499.000000</td>\n",
       "      <td>675.000000</td>\n",
       "      <td>3.900000</td>\n",
       "      <td>1.500000</td>\n",
       "    </tr>\n",
       "    <tr>\n",
       "      <th>50%</th>\n",
       "      <td>2399.000000</td>\n",
       "      <td>993.000000</td>\n",
       "      <td>4.200000</td>\n",
       "      <td>5.100000</td>\n",
       "    </tr>\n",
       "    <tr>\n",
       "      <th>75%</th>\n",
       "      <td>3899.000000</td>\n",
       "      <td>1619.000000</td>\n",
       "      <td>4.300000</td>\n",
       "      <td>24.000000</td>\n",
       "    </tr>\n",
       "    <tr>\n",
       "      <th>max</th>\n",
       "      <td>29999.000000</td>\n",
       "      <td>21999.000000</td>\n",
       "      <td>5.000000</td>\n",
       "      <td>99.000000</td>\n",
       "    </tr>\n",
       "  </tbody>\n",
       "</table>\n",
       "</div>"
      ],
      "text/plain": [
       "       marked_price  discounted_price       rating  rating_count\n",
       "count   4547.000000       4547.000000  4950.000000   4799.000000\n",
       "mean    3113.535958       1508.075654     3.568586     17.337112\n",
       "std     2679.077141       1736.817450     1.501783     23.991249\n",
       "min       72.000000         63.000000     0.000000      0.000000\n",
       "25%     1499.000000        675.000000     3.900000      1.500000\n",
       "50%     2399.000000        993.000000     4.200000      5.100000\n",
       "75%     3899.000000       1619.000000     4.300000     24.000000\n",
       "max    29999.000000      21999.000000     5.000000     99.000000"
      ]
     },
     "execution_count": 9,
     "metadata": {},
     "output_type": "execute_result"
    }
   ],
   "source": [
    "df.describe()"
   ]
  },
  {
   "cell_type": "code",
   "execution_count": 31,
   "id": "b4f0e3f8",
   "metadata": {},
   "outputs": [
    {
     "name": "stdout",
     "output_type": "stream",
     "text": [
      "<class 'pandas.core.frame.DataFrame'>\n",
      "RangeIndex: 150 entries, 0 to 149\n",
      "Data columns (total 9 columns):\n",
      " #   Column            Non-Null Count  Dtype  \n",
      "---  ------            --------------  -----  \n",
      " 0   prod_name         150 non-null    object \n",
      " 1   brand_name        150 non-null    object \n",
      " 2   marked_price      145 non-null    float64\n",
      " 3   discounted_price  145 non-null    float64\n",
      " 4   rating            150 non-null    float64\n",
      " 5   rating_count      143 non-null    float64\n",
      " 6   size              150 non-null    object \n",
      " 7   product_link      150 non-null    object \n",
      " 8   img_link          150 non-null    object \n",
      "dtypes: float64(4), object(5)\n",
      "memory usage: 10.7+ KB\n"
     ]
    }
   ],
   "source": [
    "df.info()"
   ]
  },
  {
   "cell_type": "code",
   "execution_count": 10,
   "id": "cd5dd0be",
   "metadata": {},
   "outputs": [
    {
     "data": {
      "text/plain": [
       "(4950, 9)"
      ]
     },
     "execution_count": 10,
     "metadata": {},
     "output_type": "execute_result"
    }
   ],
   "source": [
    "# "
   ]
  },
  {
   "cell_type": "code",
   "execution_count": null,
   "id": "b34654d9",
   "metadata": {},
   "outputs": [],
   "source": []
  },
  {
   "cell_type": "code",
   "execution_count": 12,
   "id": "2a37cf91",
   "metadata": {},
   "outputs": [
    {
     "data": {
      "text/plain": [
       "5000"
      ]
     },
     "execution_count": 12,
     "metadata": {},
     "output_type": "execute_result"
    }
   ],
   "source": []
  }
 ],
 "metadata": {
  "kernelspec": {
   "display_name": "Python 3 (ipykernel)",
   "language": "python",
   "name": "python3"
  },
  "language_info": {
   "codemirror_mode": {
    "name": "ipython",
    "version": 3
   },
   "file_extension": ".py",
   "mimetype": "text/x-python",
   "name": "python",
   "nbconvert_exporter": "python",
   "pygments_lexer": "ipython3",
   "version": "3.10.6"
  }
 },
 "nbformat": 4,
 "nbformat_minor": 5
}

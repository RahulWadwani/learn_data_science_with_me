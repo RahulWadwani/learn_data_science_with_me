{
 "cells": [
  {
   "cell_type": "code",
   "execution_count": 13,
   "id": "69029ded",
   "metadata": {},
   "outputs": [],
   "source": [
    "import requests \n",
    "import pandas as pd\n",
    "from selenium import webdriver\n",
    "from webdriver_manager.chrome import ChromeDriverManager\n",
    "from bs4 import BeautifulSoup\n",
    "import time"
   ]
  },
  {
   "cell_type": "code",
   "execution_count": 2,
   "id": "3b2fc403",
   "metadata": {},
   "outputs": [
    {
     "data": {
      "text/html": [
       "<div>\n",
       "<style scoped>\n",
       "    .dataframe tbody tr th:only-of-type {\n",
       "        vertical-align: middle;\n",
       "    }\n",
       "\n",
       "    .dataframe tbody tr th {\n",
       "        vertical-align: top;\n",
       "    }\n",
       "\n",
       "    .dataframe thead th {\n",
       "        text-align: right;\n",
       "    }\n",
       "</style>\n",
       "<table border=\"1\" class=\"dataframe\">\n",
       "  <thead>\n",
       "    <tr style=\"text-align: right;\">\n",
       "      <th></th>\n",
       "      <th>prod_name</th>\n",
       "      <th>brand_name</th>\n",
       "      <th>marked_price</th>\n",
       "      <th>discounted_price</th>\n",
       "      <th>rating</th>\n",
       "      <th>rating_count</th>\n",
       "      <th>size</th>\n",
       "      <th>product_link</th>\n",
       "      <th>img_link</th>\n",
       "    </tr>\n",
       "  </thead>\n",
       "  <tbody>\n",
       "    <tr>\n",
       "      <th>0</th>\n",
       "      <td>Slim Fit Casual Shirt</td>\n",
       "      <td>WROGN</td>\n",
       "      <td>2399.0</td>\n",
       "      <td>1439.0</td>\n",
       "      <td>4.2</td>\n",
       "      <td>54.0</td>\n",
       "      <td>39</td>\n",
       "      <td>https://www.myntra.com/shirts/wrogn/wrogn-men-...</td>\n",
       "      <td>https://assets.myntassets.com/dpr_2,q_60,w_210...</td>\n",
       "    </tr>\n",
       "    <tr>\n",
       "      <th>1</th>\n",
       "      <td>Women Skinny Fit High-Rise Jeans</td>\n",
       "      <td>Kraus Jeans</td>\n",
       "      <td>1995.0</td>\n",
       "      <td>1795.0</td>\n",
       "      <td>4.4</td>\n",
       "      <td>6.0</td>\n",
       "      <td>28</td>\n",
       "      <td>https://www.myntra.com/jeans/kraus-jeans/kraus...</td>\n",
       "      <td>https://assets.myntassets.com/dpr_2,q_60,w_210...</td>\n",
       "    </tr>\n",
       "    <tr>\n",
       "      <th>2</th>\n",
       "      <td>Men Handcrafted Sandals</td>\n",
       "      <td>House of Pataudi</td>\n",
       "      <td>2499.0</td>\n",
       "      <td>1199.0</td>\n",
       "      <td>4.1</td>\n",
       "      <td>5.0</td>\n",
       "      <td>UK8</td>\n",
       "      <td>https://www.myntra.com/sandals/house-of-pataud...</td>\n",
       "      <td>https://assets.myntassets.com/dpr_2,q_60,w_210...</td>\n",
       "    </tr>\n",
       "    <tr>\n",
       "      <th>3</th>\n",
       "      <td>Hyaluron Shampoo-180ml</td>\n",
       "      <td>LOreal</td>\n",
       "      <td>209.0</td>\n",
       "      <td>177.0</td>\n",
       "      <td>4.5</td>\n",
       "      <td>2.2</td>\n",
       "      <td>150-180 ML</td>\n",
       "      <td>https://www.myntra.com/shampoo-and-conditioner...</td>\n",
       "      <td>https://assets.myntassets.com/dpr_2,q_60,w_210...</td>\n",
       "    </tr>\n",
       "    <tr>\n",
       "      <th>4</th>\n",
       "      <td>Women Anarkali Kurta</td>\n",
       "      <td>KALINI</td>\n",
       "      <td>2399.0</td>\n",
       "      <td>767.0</td>\n",
       "      <td>4.2</td>\n",
       "      <td>1.2</td>\n",
       "      <td>XXL</td>\n",
       "      <td>https://www.myntra.com/kurtas/kalini/kalini-wo...</td>\n",
       "      <td>https://assets.myntassets.com/dpr_2,q_60,w_210...</td>\n",
       "    </tr>\n",
       "  </tbody>\n",
       "</table>\n",
       "</div>"
      ],
      "text/plain": [
       "                          prod_name        brand_name  marked_price  \\\n",
       "0             Slim Fit Casual Shirt             WROGN        2399.0   \n",
       "1  Women Skinny Fit High-Rise Jeans       Kraus Jeans        1995.0   \n",
       "2           Men Handcrafted Sandals  House of Pataudi        2499.0   \n",
       "3            Hyaluron Shampoo-180ml            LOreal         209.0   \n",
       "4              Women Anarkali Kurta            KALINI        2399.0   \n",
       "\n",
       "   discounted_price  rating  rating_count        size  \\\n",
       "0            1439.0     4.2          54.0          39   \n",
       "1            1795.0     4.4           6.0          28   \n",
       "2            1199.0     4.1           5.0         UK8   \n",
       "3             177.0     4.5           2.2  150-180 ML   \n",
       "4             767.0     4.2           1.2         XXL   \n",
       "\n",
       "                                        product_link  \\\n",
       "0  https://www.myntra.com/shirts/wrogn/wrogn-men-...   \n",
       "1  https://www.myntra.com/jeans/kraus-jeans/kraus...   \n",
       "2  https://www.myntra.com/sandals/house-of-pataud...   \n",
       "3  https://www.myntra.com/shampoo-and-conditioner...   \n",
       "4  https://www.myntra.com/kurtas/kalini/kalini-wo...   \n",
       "\n",
       "                                            img_link  \n",
       "0  https://assets.myntassets.com/dpr_2,q_60,w_210...  \n",
       "1  https://assets.myntassets.com/dpr_2,q_60,w_210...  \n",
       "2  https://assets.myntassets.com/dpr_2,q_60,w_210...  \n",
       "3  https://assets.myntassets.com/dpr_2,q_60,w_210...  \n",
       "4  https://assets.myntassets.com/dpr_2,q_60,w_210...  "
      ]
     },
     "execution_count": 2,
     "metadata": {},
     "output_type": "execute_result"
    }
   ],
   "source": [
    "df = pd.read_csv('data.csv')\n",
    "df.head()"
   ]
  },
  {
   "cell_type": "code",
   "execution_count": 4,
   "id": "b207b46b",
   "metadata": {},
   "outputs": [],
   "source": [
    "df = df.dropna()"
   ]
  },
  {
   "cell_type": "code",
   "execution_count": 14,
   "id": "88fbecab",
   "metadata": {},
   "outputs": [
    {
     "name": "stderr",
     "output_type": "stream",
     "text": [
      "[WDM] - Downloading: 100%|██████████████████| 7.05M/7.05M [00:45<00:00, 161kB/s]\n",
      "/tmp/ipykernel_8292/893479022.py:1: DeprecationWarning: executable_path has been deprecated, please pass in a Service object\n",
      "  browser = webdriver.Chrome(ChromeDriverManager().install())\n"
     ]
    }
   ],
   "source": [
    "browser = webdriver.Chrome(ChromeDriverManager().install())"
   ]
  },
  {
   "cell_type": "code",
   "execution_count": 18,
   "id": "7fd8cbb5",
   "metadata": {},
   "outputs": [
    {
     "name": "stdout",
     "output_type": "stream",
     "text": [
      "[<meta content=\"#fffff\" name=\"theme-color\"/>, <meta content=\"width=device-width, initial-scale=1.0, user-scalable=no\" name=\"viewport\"/>, <meta content=\"787245060481-4padi0c9g2l1pnbie52fmpfdpo43209i.apps.googleusercontent.com\" name=\"google-signin-client_id\"/>, <meta content=\"single_host_origin\" name=\"google-signin-cookiepolicy\"/>, <meta content=\"profile email\" name=\"google-signin-scope\"/>, <meta content=\"-eak5o6MaC8dcrUhendmbMxTX-Q7FRNdoXiHJpGY1es\" name=\"google-site-verification\"/>, <meta content=\"B39BEC92EDF5329220F6E707D7950DB8\" name=\"msvalidate.01\"/>, <meta content=\"https://assets.myntassets.com/h_200,w_200,c_fill,g_auto/h_1440,q_100,w_1080/v1/assets/images/11361238/2020/3/2/222159a5-b372-422e-aa2c-8607cb7402241583139478545-WROGN-Men-Shirts-3941583139476492-1.jpg\" itemprop=\"image\"/>, <meta content=\"WROGN Men Charcoal Grey Slim Fit Striped Casual Shirt,  WROGN, Shirts, Topwear, Apparel, Apparel for Men, Buy WROGN Men Charcoal Grey Slim Fit Striped Casual Shirt Online in India, Buy Shirts at best price\" name=\"keywords\"/>, <meta content=\"Buy WROGN Men Charcoal Grey Slim Fit Striped Casual Shirt - Shirts for Men from WROGN at Rs. 1679. Style ID: 11361238\" name=\"description\"/>, <meta content=\"app-id=com.myntra.android\" name=\"google-play-app\"/>, <meta content=\"520074227\" property=\"fb:admins\"/>, <meta content=\"182424375109898\" property=\"fb:app_id\"/>, <meta content=\"\" name=\"twitter:card\"/>, <meta content=\"@myntra\" name=\"twitter:site\"/>, <meta content=\"Buy WROGN Men Charcoal Grey Slim Fit Striped Casual Shirt  - Apparel for Men\" name=\"twitter:title\"/>, <meta content=\"Buy WROGN Men Charcoal Grey Slim Fit Striped Casual Shirt - Apparel for Men from WROGN at Rs. 1679\" name=\"twitter:description\"/>, <meta content=\"https://assets.myntassets.com/h_200,w_200,c_fill,g_auto/h_1440,q_100,w_1080/v1/assets/images/11361238/2020/3/2/222159a5-b372-422e-aa2c-8607cb7402241583139478545-WROGN-Men-Shirts-3941583139476492-1.jpg\" name=\"twitter:image\"/>, <meta content=\"IN\" name=\"twitter:app:country\"/>, <meta content=\"Myntra\" name=\"twitter:app:name:iphone\"/>, <meta content=\"907394059\" name=\"twitter:app:id:iphone\"/>, <meta content=\"https://www.myntra.com/shirts/wrogn/wrogn-men-charcoal-grey-slim-fit-striped-casual-shirt/11361238/buy\" name=\"twitter:app:url:iphone\"/>, <meta content=\"Myntra\" name=\"twitter:app:name:googleplay\"/>, <meta content=\"com.myntra.android\" name=\"twitter:app:id:googleplay\"/>, <meta content=\"https://www.myntra.com/shirts/wrogn/wrogn-men-charcoal-grey-slim-fit-striped-casual-shirt/11361238/buy\" name=\"twitter:app:url:googleplay\"/>, <meta content=\"Buy WROGN Men Charcoal Grey Slim Fit Striped Casual Shirt -  - Apparel for Men\" property=\"og:title\"/>, <meta content=\"website\" property=\"og:type\"/>, <meta content=\"https://www.myntra.com/shirts/wrogn/wrogn-men-charcoal-grey-slim-fit-striped-casual-shirt/11361238/buy\" property=\"og:url\"/>, <meta content=\"https://assets.myntassets.com/h_200,w_200,c_fill,g_auto/h_1440,q_100,w_1080/v1/assets/images/11361238/2020/3/2/222159a5-b372-422e-aa2c-8607cb7402241583139478545-WROGN-Men-Shirts-3941583139476492-1.jpg\" property=\"og:image\"/>, <meta content=\"200\" property=\"og:image:width\"/>, <meta content=\"200\" property=\"og:image:height\"/>, <meta content=\"Buy WROGN Men Charcoal Grey Slim Fit Striped Casual Shirt -  - Apparel for Men from WROGN at Rs. 1679\" property=\"og:description\"/>, <meta content=\"Myntra\" property=\"og:site_name\"/>, <meta content=\"787245060481-4padi0c9g2l1pnbie52fmpfdpo43209i.apps.googleusercontent.com\" name=\"google-signin-clientid\"/>, <meta content=\"single_host_origin\" name=\"google-signin-cookiepolicy\"/>, <meta content=\"https://www.googleapis.com/auth/plus.me email\" name=\"google-signin-scope\"/>, <meta content=\"https://www.myntra.com/shirts/wrogn/wrogn-men-charcoal-grey-slim-fit-striped-casual-shirt/11361238/buy\" property=\"al:ios:url\"/>, <meta content=\"907394059\" property=\"al:ios:app_store_id\"/>, <meta content=\"Myntra Fashion Shopping App\" property=\"al:ios:app_name\"/>, <meta content=\"https://www.myntra.com/shirts/wrogn/wrogn-men-charcoal-grey-slim-fit-striped-casual-shirt/11361238/buy\" property=\"al:android:url\"/>, <meta content=\"com.myntra.android\" property=\"al:android:package\"/>, <meta content=\"Myntra Fashion Shopping App\" property=\"al:android:app_name\"/>, <meta content=\"true\" property=\"al:web:should_fallback\"/>, <meta content=\"app-id=907394059, app-argument=https://www.myntra.com/shirts/wrogn/wrogn-men-charcoal-grey-slim-fit-striped-casual-shirt/11361238/buy\" name=\"apple-itunes-app\"/>, <meta content=\"A751Xsk4ZW3DVQ8WZng2Dk5s3YzAyqncTzgv+VaE6wavgTY0QHkDvUTET1o7HanhuJO8lgv1Vvc88Ij78W1FIAAAAAB7eyJvcmlnaW4iOiJodHRwczovL3d3dy5nb29nbGV0YWdtYW5hZ2VyLmNvbTo0NDMiLCJmZWF0dXJlIjoiUHJpdmFjeVNhbmRib3hBZHNBUElzIiwiZXhwaXJ5IjoxNjgwNjUyNzk5LCJpc1RoaXJkUGFydHkiOnRydWV9\" http-equiv=\"origin-trial\"/>, <meta content=\"A9+ldib+sKhGj2FcIjq5GnvBZFuIiXID0+NkE6k7cEk71MhaHFGqo3wUlUFmZ6d9w0KPwx9UxGiCTYWtRnTGDQkAAACAeyJvcmlnaW4iOiJodHRwczovL2NyaXRlby5uZXQ6NDQzIiwiZmVhdHVyZSI6IlByaXZhY3lTYW5kYm94QWRzQVBJcyIsImV4cGlyeSI6MTY4MDY1Mjc5OSwiaXNTdWJkb21haW4iOnRydWUsImlzVGhpcmRQYXJ0eSI6dHJ1ZX0=\" http-equiv=\"origin-trial\"/>, <meta content=\"AzLNuh8GFzfIOcwvhEg7Ymr7YCzlYVTKeD7i2iETABbRf+sL2FAx+r+HlTtxSi1zgUFxBlJVoxgLjuhqiwTjAw4AAACAeyJvcmlnaW4iOiJodHRwczovL2NyaXRlby5jb206NDQzIiwiZmVhdHVyZSI6IlByaXZhY3lTYW5kYm94QWRzQVBJcyIsImV4cGlyeSI6MTY4MDY1Mjc5OSwiaXNTdWJkb21haW4iOnRydWUsImlzVGhpcmRQYXJ0eSI6dHJ1ZX0=\" http-equiv=\"origin-trial\"/>, <meta content=\"A751Xsk4ZW3DVQ8WZng2Dk5s3YzAyqncTzgv+VaE6wavgTY0QHkDvUTET1o7HanhuJO8lgv1Vvc88Ij78W1FIAAAAAB7eyJvcmlnaW4iOiJodHRwczovL3d3dy5nb29nbGV0YWdtYW5hZ2VyLmNvbTo0NDMiLCJmZWF0dXJlIjoiUHJpdmFjeVNhbmRib3hBZHNBUElzIiwiZXhwaXJ5IjoxNjgwNjUyNzk5LCJpc1RoaXJkUGFydHkiOnRydWV9\" http-equiv=\"origin-trial\"/>, <meta content=\"A751Xsk4ZW3DVQ8WZng2Dk5s3YzAyqncTzgv+VaE6wavgTY0QHkDvUTET1o7HanhuJO8lgv1Vvc88Ij78W1FIAAAAAB7eyJvcmlnaW4iOiJodHRwczovL3d3dy5nb29nbGV0YWdtYW5hZ2VyLmNvbTo0NDMiLCJmZWF0dXJlIjoiUHJpdmFjeVNhbmRib3hBZHNBUElzIiwiZXhwaXJ5IjoxNjgwNjUyNzk5LCJpc1RoaXJkUGFydHkiOnRydWV9\" http-equiv=\"origin-trial\"/>]\n"
     ]
    }
   ],
   "source": [
    "for link in df['product_link']:\n",
    "    browser.get(link)\n",
    "#     time.sleep(1)\n",
    "    soup  = BeautifulSoup(browser.page_source,'html.parser')\n",
    "    print(soup.find_all('meta'))\n",
    "    break"
   ]
  },
  {
   "cell_type": "code",
   "execution_count": 22,
   "id": "54cde41e",
   "metadata": {},
   "outputs": [
    {
     "data": {
      "text/plain": [
       "[]"
      ]
     },
     "execution_count": 22,
     "metadata": {},
     "output_type": "execute_result"
    }
   ],
   "source": [
    "for meta in soup.find_all('meta'):\n",
    "\n",
    "# soup.find('meta',name ='description')\n",
    "    "
   ]
  },
  {
   "cell_type": "code",
   "execution_count": null,
   "id": "803d2cb6",
   "metadata": {},
   "outputs": [],
   "source": []
  },
  {
   "cell_type": "code",
   "execution_count": null,
   "id": "8af0774d",
   "metadata": {},
   "outputs": [],
   "source": []
  },
  {
   "cell_type": "code",
   "execution_count": null,
   "id": "051030f6",
   "metadata": {},
   "outputs": [],
   "source": []
  },
  {
   "cell_type": "code",
   "execution_count": null,
   "id": "079b38f7",
   "metadata": {},
   "outputs": [],
   "source": []
  },
  {
   "cell_type": "code",
   "execution_count": null,
   "id": "76f3f3b8",
   "metadata": {},
   "outputs": [],
   "source": []
  },
  {
   "cell_type": "code",
   "execution_count": null,
   "id": "5f503696",
   "metadata": {},
   "outputs": [],
   "source": []
  },
  {
   "cell_type": "code",
   "execution_count": null,
   "id": "257aef77",
   "metadata": {},
   "outputs": [],
   "source": []
  },
  {
   "cell_type": "code",
   "execution_count": null,
   "id": "8ff207c5",
   "metadata": {},
   "outputs": [],
   "source": []
  },
  {
   "cell_type": "code",
   "execution_count": null,
   "id": "9e35b03b",
   "metadata": {},
   "outputs": [],
   "source": []
  },
  {
   "cell_type": "code",
   "execution_count": null,
   "id": "73e99c60",
   "metadata": {},
   "outputs": [],
   "source": []
  },
  {
   "cell_type": "code",
   "execution_count": null,
   "id": "20ad8e52",
   "metadata": {},
   "outputs": [],
   "source": []
  },
  {
   "cell_type": "code",
   "execution_count": null,
   "id": "7f81d39a",
   "metadata": {},
   "outputs": [],
   "source": []
  },
  {
   "cell_type": "code",
   "execution_count": null,
   "id": "a06f9df6",
   "metadata": {},
   "outputs": [],
   "source": []
  },
  {
   "cell_type": "code",
   "execution_count": null,
   "id": "4eeb5458",
   "metadata": {},
   "outputs": [],
   "source": []
  },
  {
   "cell_type": "code",
   "execution_count": null,
   "id": "a8491d48",
   "metadata": {},
   "outputs": [],
   "source": []
  },
  {
   "cell_type": "code",
   "execution_count": null,
   "id": "7406d86c",
   "metadata": {},
   "outputs": [],
   "source": []
  },
  {
   "cell_type": "code",
   "execution_count": null,
   "id": "c4792c10",
   "metadata": {},
   "outputs": [],
   "source": []
  },
  {
   "cell_type": "code",
   "execution_count": null,
   "id": "1666cb7f",
   "metadata": {},
   "outputs": [],
   "source": []
  },
  {
   "cell_type": "code",
   "execution_count": null,
   "id": "3d5f0549",
   "metadata": {},
   "outputs": [],
   "source": []
  },
  {
   "cell_type": "code",
   "execution_count": null,
   "id": "9930528b",
   "metadata": {},
   "outputs": [],
   "source": []
  },
  {
   "cell_type": "code",
   "execution_count": null,
   "id": "e237a7bb",
   "metadata": {},
   "outputs": [],
   "source": []
  },
  {
   "cell_type": "code",
   "execution_count": null,
   "id": "13d8fb1a",
   "metadata": {},
   "outputs": [],
   "source": []
  }
 ],
 "metadata": {
  "kernelspec": {
   "display_name": "Python 3 (ipykernel)",
   "language": "python",
   "name": "python3"
  },
  "language_info": {
   "codemirror_mode": {
    "name": "ipython",
    "version": 3
   },
   "file_extension": ".py",
   "mimetype": "text/x-python",
   "name": "python",
   "nbconvert_exporter": "python",
   "pygments_lexer": "ipython3",
   "version": "3.10.6"
  }
 },
 "nbformat": 4,
 "nbformat_minor": 5
}

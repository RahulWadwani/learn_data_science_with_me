{
 "cells": [
  {
   "cell_type": "code",
   "execution_count": 1,
   "id": "4590ccbc",
   "metadata": {},
   "outputs": [],
   "source": [
    "import requests\n",
    "import time \n",
    "import numpy as np \n",
    "import pandas as pd \n",
    "from bs4 import BeautifulSoup\n",
    "from tqdm import tqdm \n",
    "from selenium import webdriver\n",
    "from webdriver_manager.chrome import ChromeDriverManager"
   ]
  },
  {
   "cell_type": "code",
   "execution_count": 10,
   "id": "0cad4dfc",
   "metadata": {},
   "outputs": [
    {
     "name": "stderr",
     "output_type": "stream",
     "text": [
      "/tmp/ipykernel_19718/1557526612.py:2: DeprecationWarning: executable_path has been deprecated, please pass in a Service object\n",
      "  browser  = webdriver.Chrome(ChromeDriverManager().install())\n"
     ]
    }
   ],
   "source": [
    "link     = 'https://www.myntra.com/myntra-fashion-store?p='\n",
    "browser  = webdriver.Chrome(ChromeDriverManager().install())\n",
    "browser.get(link)"
   ]
  },
  {
   "cell_type": "code",
   "execution_count": 8,
   "id": "96ae662f",
   "metadata": {},
   "outputs": [],
   "source": [
    "def save_checkpoints(data,filename):\n",
    "    df = pd.DataFrame(data,columns =['prod_name' , 'brand_name' , 'marked_price' , 'discounted_price' , 'rating' , 'rating_count' , 'size' , 'product_link' , 'img_link'])\n",
    "    df.to_csv('checkpoints/'+filename,index= False)\n",
    "    print(filename + ' saved')"
   ]
  },
  {
   "cell_type": "code",
   "execution_count": null,
   "id": "b1956a51",
   "metadata": {},
   "outputs": [
    {
     "name": "stderr",
     "output_type": "stream",
     "text": [
      "  9%|███▊                                       | 9/100 [00:53<08:16,  5.45s/it]"
     ]
    },
    {
     "name": "stdout",
     "output_type": "stream",
     "text": [
      "10.csv saved\n"
     ]
    },
    {
     "name": "stderr",
     "output_type": "stream",
     "text": [
      " 19%|███████▉                                  | 19/100 [01:45<06:44,  5.00s/it]"
     ]
    },
    {
     "name": "stdout",
     "output_type": "stream",
     "text": [
      "20.csv saved\n"
     ]
    },
    {
     "name": "stderr",
     "output_type": "stream",
     "text": [
      " 29%|████████████▏                             | 29/100 [02:33<05:41,  4.81s/it]"
     ]
    },
    {
     "name": "stdout",
     "output_type": "stream",
     "text": [
      "30.csv saved\n"
     ]
    },
    {
     "name": "stderr",
     "output_type": "stream",
     "text": [
      " 39%|████████████████▍                         | 39/100 [03:30<05:27,  5.37s/it]"
     ]
    },
    {
     "name": "stdout",
     "output_type": "stream",
     "text": [
      "40.csv saved\n"
     ]
    },
    {
     "name": "stderr",
     "output_type": "stream",
     "text": [
      " 49%|████████████████████▌                     | 49/100 [04:18<04:22,  5.15s/it]"
     ]
    },
    {
     "name": "stdout",
     "output_type": "stream",
     "text": [
      "50.csv saved\n"
     ]
    },
    {
     "name": "stderr",
     "output_type": "stream",
     "text": [
      " 59%|████████████████████████▊                 | 59/100 [05:13<03:39,  5.36s/it]"
     ]
    },
    {
     "name": "stdout",
     "output_type": "stream",
     "text": [
      "60.csv saved\n"
     ]
    },
    {
     "name": "stderr",
     "output_type": "stream",
     "text": [
      " 69%|████████████████████████████▉             | 69/100 [06:02<02:28,  4.81s/it]"
     ]
    },
    {
     "name": "stdout",
     "output_type": "stream",
     "text": [
      "70.csv saved\n"
     ]
    },
    {
     "name": "stderr",
     "output_type": "stream",
     "text": [
      " 79%|█████████████████████████████████▏        | 79/100 [06:51<01:42,  4.90s/it]"
     ]
    },
    {
     "name": "stdout",
     "output_type": "stream",
     "text": [
      "80.csv saved\n"
     ]
    },
    {
     "name": "stderr",
     "output_type": "stream",
     "text": [
      " 87%|████████████████████████████████████▌     | 87/100 [07:34<01:11,  5.51s/it]"
     ]
    }
   ],
   "source": [
    "data = []\n",
    "link = 'https://www.myntra.com/myntra-fashion-store?p='\n",
    "for pages in tqdm(range(1,101)):\n",
    "    page_link = link+str(pages)\n",
    "    \n",
    "    browser.get(page_link)\n",
    "    \n",
    "    time.sleep(1)\n",
    "    browser.execute_script(\"window.scrollTo(0,2000)\")\n",
    "    time.sleep(1)\n",
    "\n",
    "    if (pages % 10) == 0 :\n",
    "        filename = str(pages) + '.csv'\n",
    "        save_checkpoints(data,filename)\n",
    "        data = []\n",
    "    \n",
    "    try:\n",
    "        soup = BeautifulSoup(browser.page_source,'html.parser')\n",
    "        for prod in soup.find('ul',class_ = 'results-base').find_all('li',class_ = 'product-base'):\n",
    "\n",
    "            # rating\n",
    "            try:\n",
    "                rating        = prod.find('div',class_ ='product-ratingsContainer').find('span').text\n",
    "            except:\n",
    "                rating        = 0\n",
    "                \n",
    "            # rating count\n",
    "            try:\n",
    "                rating_count  = prod.find('div',class_ ='product-ratingsContainer').find('div').text[1:-1]\n",
    "            except:\n",
    "                rating_count  = 0\n",
    "                \n",
    "            # product_link\n",
    "            try:\n",
    "                product_link  = 'https://www.myntra.com/' + prod.find('a',target = '_blank').get('href').strip()\n",
    "            except:\n",
    "                product_link  = np.nan\n",
    "                \n",
    "            # size \n",
    "            try:\n",
    "                size          = ','.join([sizes.text for sizes in prod.find('div',class_ = 'product-sizeButtonsContaier').find_all('button')])\n",
    "            except:\n",
    "                size          = np.nan\n",
    "                \n",
    "            # image link \n",
    "            try:\n",
    "                img_link     = prod.find('img').get('src').strip()\n",
    "            except:\n",
    "                img_link     = np.nan\n",
    "                \n",
    "            # brand name \n",
    "            try:\n",
    "                brand_name   = prod.find('h3').text.strip()\n",
    "            except:\n",
    "                brand_name   = np.nan\n",
    "                \n",
    "            # product name \n",
    "            try:\n",
    "                prod_name   = prod.find('h4').text.strip()\n",
    "            except:\n",
    "                prod_name   = np.nan\n",
    "\n",
    "            # product price if we are having different tags discounted rate and marked rate \n",
    "            try:\n",
    "                if (len(prod.find('div',class_ = 'product-price').find('span')) == 1):\n",
    "                    discounted_price  = prod.find('div',class_ = 'product-price').find('span').text.strip()[4:]\n",
    "                    marked_price      = prod.find('div',class_ = 'product-price').find('span').text.strip()[4:]\n",
    "                else:\n",
    "                    discounted_price  = prod.find('div',class_ = 'product-price').find('span',class_ = 'product-discountedPrice').text.strip()[4:]\n",
    "                    marked_price      = prod.find('div',class_ = 'product-price').find('span',class_ = 'product-strike').text.strip()[4:]\n",
    "            except:\n",
    "                discounted_price      = np.nan\n",
    "                marked_price          = np.nan\n",
    "\n",
    "            data.append([prod_name , brand_name , marked_price , discounted_price , rating , rating_count , size , product_link , img_link])\n",
    "    except:\n",
    "        pass\n"
   ]
  },
  {
   "cell_type": "code",
   "execution_count": 21,
   "id": "87ff50d8",
   "metadata": {},
   "outputs": [],
   "source": [
    "df.to_csv('myntra.csv',index = False)"
   ]
  },
  {
   "cell_type": "code",
   "execution_count": null,
   "id": "6ca9ecd1",
   "metadata": {},
   "outputs": [],
   "source": []
  },
  {
   "cell_type": "code",
   "execution_count": null,
   "id": "c4747911",
   "metadata": {},
   "outputs": [],
   "source": []
  }
 ],
 "metadata": {
  "kernelspec": {
   "display_name": "Python 3 (ipykernel)",
   "language": "python",
   "name": "python3"
  },
  "language_info": {
   "codemirror_mode": {
    "name": "ipython",
    "version": 3
   },
   "file_extension": ".py",
   "mimetype": "text/x-python",
   "name": "python",
   "nbconvert_exporter": "python",
   "pygments_lexer": "ipython3",
   "version": "3.10.6"
  }
 },
 "nbformat": 4,
 "nbformat_minor": 5
}

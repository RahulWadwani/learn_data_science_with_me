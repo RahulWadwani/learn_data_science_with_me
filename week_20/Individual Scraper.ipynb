{
 "cells": [
  {
   "cell_type": "code",
   "execution_count": 2,
   "id": "3a33cbae",
   "metadata": {},
   "outputs": [],
   "source": [
    "import requests \n",
    "import pandas as pd\n",
    "from selenium import webdriver\n",
    "from webdriver_manager.chrome import ChromeDriverManager\n",
    "from bs4 import BeautifulSoup\n",
    "import time"
   ]
  },
  {
   "cell_type": "code",
   "execution_count": 3,
   "id": "fbaf88b3",
   "metadata": {
    "scrolled": true
   },
   "outputs": [
    {
     "data": {
      "text/html": [
       "<div>\n",
       "<style scoped>\n",
       "    .dataframe tbody tr th:only-of-type {\n",
       "        vertical-align: middle;\n",
       "    }\n",
       "\n",
       "    .dataframe tbody tr th {\n",
       "        vertical-align: top;\n",
       "    }\n",
       "\n",
       "    .dataframe thead th {\n",
       "        text-align: right;\n",
       "    }\n",
       "</style>\n",
       "<table border=\"1\" class=\"dataframe\">\n",
       "  <thead>\n",
       "    <tr style=\"text-align: right;\">\n",
       "      <th></th>\n",
       "      <th>prod_name</th>\n",
       "      <th>brand_name</th>\n",
       "      <th>marked_price</th>\n",
       "      <th>discounted_price</th>\n",
       "      <th>rating</th>\n",
       "      <th>rating_count</th>\n",
       "      <th>size</th>\n",
       "      <th>product_link</th>\n",
       "      <th>img_link</th>\n",
       "    </tr>\n",
       "  </thead>\n",
       "  <tbody>\n",
       "    <tr>\n",
       "      <th>0</th>\n",
       "      <td>Slim Fit Casual Shirt</td>\n",
       "      <td>WROGN</td>\n",
       "      <td>2399.0</td>\n",
       "      <td>1439.0</td>\n",
       "      <td>4.2</td>\n",
       "      <td>54.0</td>\n",
       "      <td>39</td>\n",
       "      <td>https://www.myntra.com/shirts/wrogn/wrogn-men-...</td>\n",
       "      <td>https://assets.myntassets.com/dpr_2,q_60,w_210...</td>\n",
       "    </tr>\n",
       "    <tr>\n",
       "      <th>1</th>\n",
       "      <td>Women Skinny Fit High-Rise Jeans</td>\n",
       "      <td>Kraus Jeans</td>\n",
       "      <td>1995.0</td>\n",
       "      <td>1795.0</td>\n",
       "      <td>4.4</td>\n",
       "      <td>6.0</td>\n",
       "      <td>28</td>\n",
       "      <td>https://www.myntra.com/jeans/kraus-jeans/kraus...</td>\n",
       "      <td>https://assets.myntassets.com/dpr_2,q_60,w_210...</td>\n",
       "    </tr>\n",
       "    <tr>\n",
       "      <th>2</th>\n",
       "      <td>Men Handcrafted Sandals</td>\n",
       "      <td>House of Pataudi</td>\n",
       "      <td>2499.0</td>\n",
       "      <td>1199.0</td>\n",
       "      <td>4.1</td>\n",
       "      <td>5.0</td>\n",
       "      <td>UK8</td>\n",
       "      <td>https://www.myntra.com/sandals/house-of-pataud...</td>\n",
       "      <td>https://assets.myntassets.com/dpr_2,q_60,w_210...</td>\n",
       "    </tr>\n",
       "    <tr>\n",
       "      <th>3</th>\n",
       "      <td>Hyaluron Shampoo-180ml</td>\n",
       "      <td>LOreal</td>\n",
       "      <td>209.0</td>\n",
       "      <td>177.0</td>\n",
       "      <td>4.5</td>\n",
       "      <td>2.2</td>\n",
       "      <td>150-180 ML</td>\n",
       "      <td>https://www.myntra.com/shampoo-and-conditioner...</td>\n",
       "      <td>https://assets.myntassets.com/dpr_2,q_60,w_210...</td>\n",
       "    </tr>\n",
       "    <tr>\n",
       "      <th>4</th>\n",
       "      <td>Women Anarkali Kurta</td>\n",
       "      <td>KALINI</td>\n",
       "      <td>2399.0</td>\n",
       "      <td>767.0</td>\n",
       "      <td>4.2</td>\n",
       "      <td>1.2</td>\n",
       "      <td>XXL</td>\n",
       "      <td>https://www.myntra.com/kurtas/kalini/kalini-wo...</td>\n",
       "      <td>https://assets.myntassets.com/dpr_2,q_60,w_210...</td>\n",
       "    </tr>\n",
       "  </tbody>\n",
       "</table>\n",
       "</div>"
      ],
      "text/plain": [
       "                          prod_name        brand_name  marked_price  \\\n",
       "0             Slim Fit Casual Shirt             WROGN        2399.0   \n",
       "1  Women Skinny Fit High-Rise Jeans       Kraus Jeans        1995.0   \n",
       "2           Men Handcrafted Sandals  House of Pataudi        2499.0   \n",
       "3            Hyaluron Shampoo-180ml            LOreal         209.0   \n",
       "4              Women Anarkali Kurta            KALINI        2399.0   \n",
       "\n",
       "   discounted_price  rating  rating_count        size  \\\n",
       "0            1439.0     4.2          54.0          39   \n",
       "1            1795.0     4.4           6.0          28   \n",
       "2            1199.0     4.1           5.0         UK8   \n",
       "3             177.0     4.5           2.2  150-180 ML   \n",
       "4             767.0     4.2           1.2         XXL   \n",
       "\n",
       "                                        product_link  \\\n",
       "0  https://www.myntra.com/shirts/wrogn/wrogn-men-...   \n",
       "1  https://www.myntra.com/jeans/kraus-jeans/kraus...   \n",
       "2  https://www.myntra.com/sandals/house-of-pataud...   \n",
       "3  https://www.myntra.com/shampoo-and-conditioner...   \n",
       "4  https://www.myntra.com/kurtas/kalini/kalini-wo...   \n",
       "\n",
       "                                            img_link  \n",
       "0  https://assets.myntassets.com/dpr_2,q_60,w_210...  \n",
       "1  https://assets.myntassets.com/dpr_2,q_60,w_210...  \n",
       "2  https://assets.myntassets.com/dpr_2,q_60,w_210...  \n",
       "3  https://assets.myntassets.com/dpr_2,q_60,w_210...  \n",
       "4  https://assets.myntassets.com/dpr_2,q_60,w_210...  "
      ]
     },
     "execution_count": 3,
     "metadata": {},
     "output_type": "execute_result"
    }
   ],
   "source": [
    "df = pd.read_csv('data.csv')\n",
    "df.head()"
   ]
  },
  {
   "cell_type": "code",
   "execution_count": 4,
   "id": "18759680",
   "metadata": {},
   "outputs": [],
   "source": [
    "df = df.dropna()"
   ]
  },
  {
   "cell_type": "code",
   "execution_count": 26,
   "id": "049c8785",
   "metadata": {},
   "outputs": [
    {
     "name": "stderr",
     "output_type": "stream",
     "text": [
      "/tmp/ipykernel_8192/893479022.py:1: DeprecationWarning: executable_path has been deprecated, please pass in a Service object\n",
      "  browser = webdriver.Chrome(ChromeDriverManager().install())\n"
     ]
    }
   ],
   "source": [
    "browser = webdriver.Chrome(ChromeDriverManager().install())"
   ]
  },
  {
   "cell_type": "code",
   "execution_count": 27,
   "id": "e757239e",
   "metadata": {},
   "outputs": [
    {
     "name": "stdout",
     "output_type": "stream",
     "text": [
      "\n",
      "\n",
      "WROGN Men Charcoal Grey Slim Fit Striped Casual Shirt,  WROGN, Shirts, Topwear, Apparel, Apparel for Men, Buy WROGN Men Charcoal Grey Slim Fit Striped Casual Shirt Online in India, Buy Shirts at best price\n",
      "Buy WROGN Men Charcoal Grey Slim Fit Striped Casual Shirt - Shirts for Men from WROGN at Rs. 1679. Style ID: 11361238\n",
      "['clothing', 'men-clothing', 'shirts', 'wrogn-shirts']\n",
      "\n",
      "\n"
     ]
    }
   ],
   "source": [
    "for link in df['product_link'][:10]:\n",
    "    browser.get(link)\n",
    "#     time.sleep(1)\n",
    "    soup  = BeautifulSoup(browser.page_source,'html.parser')\n",
    "    for meta in soup.find_all('meta'):\n",
    "        if 'keywords' in str(meta):\n",
    "            meta_content = (meta.get('content'))\n",
    "            print('\\n')\n",
    "        elif  'description' in str(meta):\n",
    "            meta_description = (meta.get('content'))\n",
    "\n",
    "            break\n",
    "    tags = [sp.get('href')[1:] for sp in soup.find('div',class_ = 'breadcrumbs-container').find_all('a')[1:-1]]\n",
    "    \n",
    "\n",
    "    print(meta_content)\n",
    "    print(meta_description)\n",
    "    print(tags)\n",
    "    print('\\n')\n",
    "    \n",
    "    break"
   ]
  },
  {
   "cell_type": "code",
   "execution_count": 32,
   "id": "f68f9a4d",
   "metadata": {},
   "outputs": [
    {
     "ename": "SyntaxError",
     "evalue": "positional argument follows keyword argument (1670038710.py, line 1)",
     "output_type": "error",
     "traceback": [
      "\u001b[0;36m  File \u001b[0;32m\"/tmp/ipykernel_8192/1670038710.py\"\u001b[0;36m, line \u001b[0;32m1\u001b[0m\n\u001b[0;31m    btn = browser.find_element(by='Classname','supplier-productSellerName')\u001b[0m\n\u001b[0m                                                                          ^\u001b[0m\n\u001b[0;31mSyntaxError\u001b[0m\u001b[0;31m:\u001b[0m positional argument follows keyword argument\n"
     ]
    }
   ],
   "source": [
    "btn = browser.find_element(by='Classname','supplier-productSellerName')\n",
    "btn.click()"
   ]
  },
  {
   "cell_type": "code",
   "execution_count": null,
   "id": "e16ecf41",
   "metadata": {},
   "outputs": [],
   "source": []
  },
  {
   "cell_type": "code",
   "execution_count": null,
   "id": "33adfe97",
   "metadata": {},
   "outputs": [],
   "source": []
  },
  {
   "cell_type": "code",
   "execution_count": null,
   "id": "dbac556f",
   "metadata": {},
   "outputs": [],
   "source": []
  },
  {
   "cell_type": "code",
   "execution_count": null,
   "id": "d620130d",
   "metadata": {},
   "outputs": [],
   "source": []
  },
  {
   "cell_type": "code",
   "execution_count": null,
   "id": "222d06ce",
   "metadata": {},
   "outputs": [],
   "source": []
  },
  {
   "cell_type": "code",
   "execution_count": null,
   "id": "5f658823",
   "metadata": {},
   "outputs": [],
   "source": []
  },
  {
   "cell_type": "code",
   "execution_count": null,
   "id": "304383bd",
   "metadata": {},
   "outputs": [],
   "source": []
  },
  {
   "cell_type": "code",
   "execution_count": null,
   "id": "a7f636f8",
   "metadata": {},
   "outputs": [],
   "source": []
  },
  {
   "cell_type": "code",
   "execution_count": null,
   "id": "a6747042",
   "metadata": {},
   "outputs": [],
   "source": []
  },
  {
   "cell_type": "code",
   "execution_count": null,
   "id": "490f30f5",
   "metadata": {},
   "outputs": [],
   "source": []
  },
  {
   "cell_type": "code",
   "execution_count": null,
   "id": "9b6e095a",
   "metadata": {},
   "outputs": [],
   "source": []
  },
  {
   "cell_type": "code",
   "execution_count": null,
   "id": "6d76fd49",
   "metadata": {},
   "outputs": [],
   "source": []
  },
  {
   "cell_type": "code",
   "execution_count": null,
   "id": "9f59bab0",
   "metadata": {},
   "outputs": [],
   "source": []
  },
  {
   "cell_type": "code",
   "execution_count": null,
   "id": "5919845a",
   "metadata": {},
   "outputs": [],
   "source": []
  },
  {
   "cell_type": "code",
   "execution_count": null,
   "id": "6621007b",
   "metadata": {},
   "outputs": [],
   "source": []
  },
  {
   "cell_type": "code",
   "execution_count": null,
   "id": "78034fb7",
   "metadata": {},
   "outputs": [],
   "source": []
  },
  {
   "cell_type": "code",
   "execution_count": null,
   "id": "78660268",
   "metadata": {},
   "outputs": [],
   "source": []
  },
  {
   "cell_type": "code",
   "execution_count": null,
   "id": "5e04a812",
   "metadata": {},
   "outputs": [],
   "source": []
  },
  {
   "cell_type": "code",
   "execution_count": null,
   "id": "11f34b0e",
   "metadata": {},
   "outputs": [],
   "source": []
  },
  {
   "cell_type": "code",
   "execution_count": null,
   "id": "1e857e44",
   "metadata": {},
   "outputs": [],
   "source": []
  }
 ],
 "metadata": {
  "kernelspec": {
   "display_name": "Python 3 (ipykernel)",
   "language": "python",
   "name": "python3"
  },
  "language_info": {
   "codemirror_mode": {
    "name": "ipython",
    "version": 3
   },
   "file_extension": ".py",
   "mimetype": "text/x-python",
   "name": "python",
   "nbconvert_exporter": "python",
   "pygments_lexer": "ipython3",
   "version": "3.10.6"
  }
 },
 "nbformat": 4,
 "nbformat_minor": 5
}
